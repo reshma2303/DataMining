{
 "cells": [
  {
   "cell_type": "markdown",
   "id": "9a682a5e",
   "metadata": {},
   "source": [
    "#### Section - A"
   ]
  },
  {
   "cell_type": "markdown",
   "id": "a84fcc02",
   "metadata": {},
   "source": [
    "In this project you will apply bagging to implement an ensemble learning approach for \n",
    "solving a (binary) classification problem. The training data set is given in Fig 3.36 (the \n",
    "table labeled “Training”) on page 189 of the textbook (2nd edition). The base classifier \n",
    "will be a decision tree. \n",
    "Determine the number of base classifiers (or bagging rounds) and show the result of \n",
    "each round (the records chosen at each round and the model (tree) obtained at each \n",
    "round). \n",
    "What is the result of running your ensemble classifier on the data set given in the \n",
    "second table (labeled “Validation”) in Fig 3.36 on page 189 of the textbook? "
   ]
  },
  {
   "cell_type": "code",
   "execution_count": 1,
   "id": "00642279",
   "metadata": {
    "scrolled": true
   },
   "outputs": [],
   "source": [
    "import pandas as pd\n",
    "import numpy as np"
   ]
  },
  {
   "cell_type": "markdown",
   "id": "de49b5c6",
   "metadata": {},
   "source": [
    "#### Section - A : 1. Load datasets"
   ]
  },
  {
   "cell_type": "code",
   "execution_count": 2,
   "id": "3b7c2d1d",
   "metadata": {
    "scrolled": true
   },
   "outputs": [
    {
     "data": {
      "text/html": [
       "<div>\n",
       "<style scoped>\n",
       "    .dataframe tbody tr th:only-of-type {\n",
       "        vertical-align: middle;\n",
       "    }\n",
       "\n",
       "    .dataframe tbody tr th {\n",
       "        vertical-align: top;\n",
       "    }\n",
       "\n",
       "    .dataframe thead th {\n",
       "        text-align: right;\n",
       "    }\n",
       "</style>\n",
       "<table border=\"1\" class=\"dataframe\">\n",
       "  <thead>\n",
       "    <tr style=\"text-align: right;\">\n",
       "      <th></th>\n",
       "      <th>A</th>\n",
       "      <th>B</th>\n",
       "      <th>C</th>\n",
       "      <th>Class</th>\n",
       "    </tr>\n",
       "  </thead>\n",
       "  <tbody>\n",
       "    <tr>\n",
       "      <th>0</th>\n",
       "      <td>0</td>\n",
       "      <td>0</td>\n",
       "      <td>0</td>\n",
       "      <td>+</td>\n",
       "    </tr>\n",
       "    <tr>\n",
       "      <th>1</th>\n",
       "      <td>0</td>\n",
       "      <td>0</td>\n",
       "      <td>1</td>\n",
       "      <td>+</td>\n",
       "    </tr>\n",
       "    <tr>\n",
       "      <th>2</th>\n",
       "      <td>0</td>\n",
       "      <td>1</td>\n",
       "      <td>0</td>\n",
       "      <td>+</td>\n",
       "    </tr>\n",
       "    <tr>\n",
       "      <th>3</th>\n",
       "      <td>0</td>\n",
       "      <td>1</td>\n",
       "      <td>1</td>\n",
       "      <td>-</td>\n",
       "    </tr>\n",
       "    <tr>\n",
       "      <th>4</th>\n",
       "      <td>1</td>\n",
       "      <td>0</td>\n",
       "      <td>0</td>\n",
       "      <td>+</td>\n",
       "    </tr>\n",
       "    <tr>\n",
       "      <th>5</th>\n",
       "      <td>1</td>\n",
       "      <td>0</td>\n",
       "      <td>0</td>\n",
       "      <td>+</td>\n",
       "    </tr>\n",
       "    <tr>\n",
       "      <th>6</th>\n",
       "      <td>1</td>\n",
       "      <td>1</td>\n",
       "      <td>0</td>\n",
       "      <td>-</td>\n",
       "    </tr>\n",
       "    <tr>\n",
       "      <th>7</th>\n",
       "      <td>1</td>\n",
       "      <td>0</td>\n",
       "      <td>1</td>\n",
       "      <td>+</td>\n",
       "    </tr>\n",
       "    <tr>\n",
       "      <th>8</th>\n",
       "      <td>1</td>\n",
       "      <td>1</td>\n",
       "      <td>0</td>\n",
       "      <td>-</td>\n",
       "    </tr>\n",
       "    <tr>\n",
       "      <th>9</th>\n",
       "      <td>1</td>\n",
       "      <td>1</td>\n",
       "      <td>0</td>\n",
       "      <td>-</td>\n",
       "    </tr>\n",
       "  </tbody>\n",
       "</table>\n",
       "</div>"
      ],
      "text/plain": [
       "   A  B  C Class\n",
       "0  0  0  0     +\n",
       "1  0  0  1     +\n",
       "2  0  1  0     +\n",
       "3  0  1  1     -\n",
       "4  1  0  0     +\n",
       "5  1  0  0     +\n",
       "6  1  1  0     -\n",
       "7  1  0  1     +\n",
       "8  1  1  0     -\n",
       "9  1  1  0     -"
      ]
     },
     "execution_count": 2,
     "metadata": {},
     "output_type": "execute_result"
    }
   ],
   "source": [
    "training_dataset_df = pd.read_csv(\"dataset_training_table_3.36.csv\", usecols=[\"A\", \"B\", \"C\", \"Class\"])\n",
    "training_dataset_df"
   ]
  },
  {
   "cell_type": "code",
   "execution_count": 3,
   "id": "0cc08c7e",
   "metadata": {
    "scrolled": true
   },
   "outputs": [
    {
     "data": {
      "text/html": [
       "<div>\n",
       "<style scoped>\n",
       "    .dataframe tbody tr th:only-of-type {\n",
       "        vertical-align: middle;\n",
       "    }\n",
       "\n",
       "    .dataframe tbody tr th {\n",
       "        vertical-align: top;\n",
       "    }\n",
       "\n",
       "    .dataframe thead th {\n",
       "        text-align: right;\n",
       "    }\n",
       "</style>\n",
       "<table border=\"1\" class=\"dataframe\">\n",
       "  <thead>\n",
       "    <tr style=\"text-align: right;\">\n",
       "      <th></th>\n",
       "      <th>A</th>\n",
       "      <th>B</th>\n",
       "      <th>C</th>\n",
       "      <th>Class</th>\n",
       "    </tr>\n",
       "  </thead>\n",
       "  <tbody>\n",
       "    <tr>\n",
       "      <th>0</th>\n",
       "      <td>0</td>\n",
       "      <td>0</td>\n",
       "      <td>0</td>\n",
       "      <td>+</td>\n",
       "    </tr>\n",
       "    <tr>\n",
       "      <th>1</th>\n",
       "      <td>0</td>\n",
       "      <td>1</td>\n",
       "      <td>1</td>\n",
       "      <td>+</td>\n",
       "    </tr>\n",
       "    <tr>\n",
       "      <th>2</th>\n",
       "      <td>1</td>\n",
       "      <td>1</td>\n",
       "      <td>0</td>\n",
       "      <td>+</td>\n",
       "    </tr>\n",
       "    <tr>\n",
       "      <th>3</th>\n",
       "      <td>1</td>\n",
       "      <td>0</td>\n",
       "      <td>1</td>\n",
       "      <td>-</td>\n",
       "    </tr>\n",
       "    <tr>\n",
       "      <th>4</th>\n",
       "      <td>1</td>\n",
       "      <td>0</td>\n",
       "      <td>0</td>\n",
       "      <td>+</td>\n",
       "    </tr>\n",
       "  </tbody>\n",
       "</table>\n",
       "</div>"
      ],
      "text/plain": [
       "   A  B  C Class\n",
       "0  0  0  0     +\n",
       "1  0  1  1     +\n",
       "2  1  1  0     +\n",
       "3  1  0  1     -\n",
       "4  1  0  0     +"
      ]
     },
     "execution_count": 3,
     "metadata": {},
     "output_type": "execute_result"
    }
   ],
   "source": [
    "validation_dataset_df = pd.read_csv(\"dataset_validation_table_3.36.csv\", usecols=[\"A\", \"B\", \"C\", \"Class\"])\n",
    "validation_dataset_df"
   ]
  },
  {
   "cell_type": "markdown",
   "id": "e3787956",
   "metadata": {},
   "source": [
    "##### Replace class labels \"+\" and \"-\" with 1 and 0"
   ]
  },
  {
   "cell_type": "code",
   "execution_count": 4,
   "id": "535ac2b0",
   "metadata": {
    "scrolled": true
   },
   "outputs": [
    {
     "data": {
      "text/html": [
       "<div>\n",
       "<style scoped>\n",
       "    .dataframe tbody tr th:only-of-type {\n",
       "        vertical-align: middle;\n",
       "    }\n",
       "\n",
       "    .dataframe tbody tr th {\n",
       "        vertical-align: top;\n",
       "    }\n",
       "\n",
       "    .dataframe thead th {\n",
       "        text-align: right;\n",
       "    }\n",
       "</style>\n",
       "<table border=\"1\" class=\"dataframe\">\n",
       "  <thead>\n",
       "    <tr style=\"text-align: right;\">\n",
       "      <th></th>\n",
       "      <th>A</th>\n",
       "      <th>B</th>\n",
       "      <th>C</th>\n",
       "      <th>Class</th>\n",
       "    </tr>\n",
       "  </thead>\n",
       "  <tbody>\n",
       "    <tr>\n",
       "      <th>0</th>\n",
       "      <td>0</td>\n",
       "      <td>0</td>\n",
       "      <td>0</td>\n",
       "      <td>1</td>\n",
       "    </tr>\n",
       "    <tr>\n",
       "      <th>1</th>\n",
       "      <td>0</td>\n",
       "      <td>0</td>\n",
       "      <td>1</td>\n",
       "      <td>1</td>\n",
       "    </tr>\n",
       "    <tr>\n",
       "      <th>2</th>\n",
       "      <td>0</td>\n",
       "      <td>1</td>\n",
       "      <td>0</td>\n",
       "      <td>1</td>\n",
       "    </tr>\n",
       "    <tr>\n",
       "      <th>3</th>\n",
       "      <td>0</td>\n",
       "      <td>1</td>\n",
       "      <td>1</td>\n",
       "      <td>0</td>\n",
       "    </tr>\n",
       "    <tr>\n",
       "      <th>4</th>\n",
       "      <td>1</td>\n",
       "      <td>0</td>\n",
       "      <td>0</td>\n",
       "      <td>1</td>\n",
       "    </tr>\n",
       "    <tr>\n",
       "      <th>5</th>\n",
       "      <td>1</td>\n",
       "      <td>0</td>\n",
       "      <td>0</td>\n",
       "      <td>1</td>\n",
       "    </tr>\n",
       "    <tr>\n",
       "      <th>6</th>\n",
       "      <td>1</td>\n",
       "      <td>1</td>\n",
       "      <td>0</td>\n",
       "      <td>0</td>\n",
       "    </tr>\n",
       "    <tr>\n",
       "      <th>7</th>\n",
       "      <td>1</td>\n",
       "      <td>0</td>\n",
       "      <td>1</td>\n",
       "      <td>1</td>\n",
       "    </tr>\n",
       "    <tr>\n",
       "      <th>8</th>\n",
       "      <td>1</td>\n",
       "      <td>1</td>\n",
       "      <td>0</td>\n",
       "      <td>0</td>\n",
       "    </tr>\n",
       "    <tr>\n",
       "      <th>9</th>\n",
       "      <td>1</td>\n",
       "      <td>1</td>\n",
       "      <td>0</td>\n",
       "      <td>0</td>\n",
       "    </tr>\n",
       "  </tbody>\n",
       "</table>\n",
       "</div>"
      ],
      "text/plain": [
       "   A  B  C  Class\n",
       "0  0  0  0      1\n",
       "1  0  0  1      1\n",
       "2  0  1  0      1\n",
       "3  0  1  1      0\n",
       "4  1  0  0      1\n",
       "5  1  0  0      1\n",
       "6  1  1  0      0\n",
       "7  1  0  1      1\n",
       "8  1  1  0      0\n",
       "9  1  1  0      0"
      ]
     },
     "execution_count": 4,
     "metadata": {},
     "output_type": "execute_result"
    }
   ],
   "source": [
    "training_dataset_df['Class'] = training_dataset_df['Class'].map({'+': 1, \"-\": 0})\n",
    "training_dataset_df"
   ]
  },
  {
   "cell_type": "code",
   "execution_count": 5,
   "id": "95f06add",
   "metadata": {
    "scrolled": true
   },
   "outputs": [
    {
     "data": {
      "text/html": [
       "<div>\n",
       "<style scoped>\n",
       "    .dataframe tbody tr th:only-of-type {\n",
       "        vertical-align: middle;\n",
       "    }\n",
       "\n",
       "    .dataframe tbody tr th {\n",
       "        vertical-align: top;\n",
       "    }\n",
       "\n",
       "    .dataframe thead th {\n",
       "        text-align: right;\n",
       "    }\n",
       "</style>\n",
       "<table border=\"1\" class=\"dataframe\">\n",
       "  <thead>\n",
       "    <tr style=\"text-align: right;\">\n",
       "      <th></th>\n",
       "      <th>A</th>\n",
       "      <th>B</th>\n",
       "      <th>C</th>\n",
       "      <th>Class</th>\n",
       "    </tr>\n",
       "  </thead>\n",
       "  <tbody>\n",
       "    <tr>\n",
       "      <th>0</th>\n",
       "      <td>0</td>\n",
       "      <td>0</td>\n",
       "      <td>0</td>\n",
       "      <td>1</td>\n",
       "    </tr>\n",
       "    <tr>\n",
       "      <th>1</th>\n",
       "      <td>0</td>\n",
       "      <td>1</td>\n",
       "      <td>1</td>\n",
       "      <td>1</td>\n",
       "    </tr>\n",
       "    <tr>\n",
       "      <th>2</th>\n",
       "      <td>1</td>\n",
       "      <td>1</td>\n",
       "      <td>0</td>\n",
       "      <td>1</td>\n",
       "    </tr>\n",
       "    <tr>\n",
       "      <th>3</th>\n",
       "      <td>1</td>\n",
       "      <td>0</td>\n",
       "      <td>1</td>\n",
       "      <td>0</td>\n",
       "    </tr>\n",
       "    <tr>\n",
       "      <th>4</th>\n",
       "      <td>1</td>\n",
       "      <td>0</td>\n",
       "      <td>0</td>\n",
       "      <td>1</td>\n",
       "    </tr>\n",
       "  </tbody>\n",
       "</table>\n",
       "</div>"
      ],
      "text/plain": [
       "   A  B  C  Class\n",
       "0  0  0  0      1\n",
       "1  0  1  1      1\n",
       "2  1  1  0      1\n",
       "3  1  0  1      0\n",
       "4  1  0  0      1"
      ]
     },
     "execution_count": 5,
     "metadata": {},
     "output_type": "execute_result"
    }
   ],
   "source": [
    "validation_dataset_df['Class'] = validation_dataset_df['Class'].map({'+': 1, \"-\": 0})\n",
    "validation_dataset_df"
   ]
  },
  {
   "cell_type": "markdown",
   "id": "16da46f9",
   "metadata": {},
   "source": [
    "#### Section A - 2. Task"
   ]
  },
  {
   "cell_type": "markdown",
   "id": "2c6d7216",
   "metadata": {},
   "source": [
    "- Determine the number of base classifiers (or bagging rounds) and \n",
    "- show the result of each round (the records chosen at each round and the model (tree) obtained at each \n",
    "round). \n",
    "- What is the result of running your ensemble classifier on the data set given in the \n",
    "second table (labeled “Validation”) in Fig 3.36 on page 189 of the textbook? "
   ]
  },
  {
   "cell_type": "markdown",
   "id": "d459630d",
   "metadata": {},
   "source": [
    "Bagging (Bootstrap Aggregation) is used when our goal is to reduce the variance of a decision tree. Here idea is to create several subsets of data from training sample chosen randomly with replacement. Now, each collection of subset data is used to train their decision trees. As a result, we end up with an ensemble of different models. Average of all the predictions from different trees are used which is more robust than a single decision tree"
   ]
  },
  {
   "cell_type": "markdown",
   "id": "d2d9d11f",
   "metadata": {},
   "source": [
    "**Algorithm from textbook:**\n",
    "    \n",
    "1.Let k be the number of bootstrap samples.\n",
    "\n",
    "2: fori=1 to k do\n",
    "\n",
    "    3: Create a bootstrap sample of size N, Dt.\n",
    "    \n",
    "    4: Train a base classifierCa on the bootstrap sample Di.\n",
    "    \n",
    "5: end for\n",
    "\n",
    "6: C. (r) : argmax1,6(Ct1r1 : y) . c\n",
    "\n",
    "{d(') : 1 if its argument is true and 0 otherwise}."
   ]
  },
  {
   "cell_type": "code",
   "execution_count": 6,
   "id": "3171b1b0",
   "metadata": {
    "scrolled": true
   },
   "outputs": [],
   "source": [
    "from sklearn.tree import DecisionTreeClassifier\n",
    "from sklearn import tree\n",
    "from matplotlib import pyplot as plt"
   ]
  },
  {
   "cell_type": "code",
   "execution_count": 7,
   "id": "91aa153a",
   "metadata": {},
   "outputs": [
    {
     "data": {
      "text/plain": [
       "['A', 'B', 'C']"
      ]
     },
     "execution_count": 7,
     "metadata": {},
     "output_type": "execute_result"
    }
   ],
   "source": [
    "features = list(training_dataset_df.columns)\n",
    "features.remove('Class')\n",
    "features"
   ]
  },
  {
   "cell_type": "code",
   "execution_count": 8,
   "id": "104f8a49",
   "metadata": {
    "scrolled": true
   },
   "outputs": [],
   "source": [
    "from collections import Counter\n",
    "np.random.seed(seed=0)\n",
    "def train_bagging(XTRAIN, YTRAIN, k_base_estimators):\n",
    "        \n",
    "    base_models = list()\n",
    "    records_chosen_at_each_round = list()\n",
    "    \n",
    "    for ith_estimator in range(k_base_estimators):\n",
    "        this_base_classifier = DecisionTreeClassifier()\n",
    "        bootstrap_sample = np.random.choice(np.arange(len(XTRAIN)),\n",
    "                                               size=len(XTRAIN),\n",
    "                                               replace=True)\n",
    "        print(\"\\nRound :\", ith_estimator + 1)\n",
    "        print(\"Records (Indexes) chosen in this round: \")\n",
    "        print(bootstrap_sample)\n",
    "        bootstrap_XTRAIN = XTRAIN[bootstrap_sample]\n",
    "        bootstrap_YTRAIN = YTRAIN[bootstrap_sample]\n",
    "        this_base_classifier.fit(bootstrap_XTRAIN, bootstrap_YTRAIN)\n",
    "        print(\"Plotting Decision Model Tree:\")\n",
    "        fig = plt.figure(figsize=(7,5))\n",
    "        tree.plot_tree(this_base_classifier, feature_names=features,class_names=[\"+\", \"-\"])\n",
    "        plt.title(f\"Round: {ith_estimator + 1}\")\n",
    "        base_models.append(this_base_classifier)\n",
    "    return base_models\n",
    "        \n",
    "        \n",
    "def predict_bagging(XTEST, base_models):\n",
    "    y_predictions = list()\n",
    "    for test_record in XTEST:\n",
    "        test_record = test_record.reshape(1,-1)\n",
    "        k_classifier_votes = []\n",
    "        for this_trained_model in base_models:\n",
    "            k_classifier_votes.append(this_trained_model.predict(test_record)[0])\n",
    "        #print(k_classifier_votes)\n",
    "        k_classifier_votes_counter = Counter(k_classifier_votes)\n",
    "        prediction = k_classifier_votes_counter.most_common(1)[0][0]\n",
    "        y_predictions.append(prediction)\n",
    "    return y_predictions"
   ]
  },
  {
   "cell_type": "code",
   "execution_count": 9,
   "id": "19f7c52c",
   "metadata": {
    "scrolled": true
   },
   "outputs": [],
   "source": [
    "XTRAIN_numpy = training_dataset_df.drop(columns=['Class']).to_numpy()\n",
    "YTRAIN_numpy = training_dataset_df['Class'].to_numpy()"
   ]
  },
  {
   "cell_type": "code",
   "execution_count": 10,
   "id": "2d02c524",
   "metadata": {
    "scrolled": true
   },
   "outputs": [
    {
     "data": {
      "text/plain": [
       "array([[0, 0, 0],\n",
       "       [0, 0, 1],\n",
       "       [0, 1, 0],\n",
       "       [0, 1, 1],\n",
       "       [1, 0, 0],\n",
       "       [1, 0, 0],\n",
       "       [1, 1, 0],\n",
       "       [1, 0, 1],\n",
       "       [1, 1, 0],\n",
       "       [1, 1, 0]])"
      ]
     },
     "execution_count": 10,
     "metadata": {},
     "output_type": "execute_result"
    }
   ],
   "source": [
    "XTRAIN_numpy"
   ]
  },
  {
   "cell_type": "code",
   "execution_count": 11,
   "id": "88dad276",
   "metadata": {
    "scrolled": true
   },
   "outputs": [
    {
     "data": {
      "text/plain": [
       "array([1, 1, 1, 0, 1, 1, 0, 1, 0, 0])"
      ]
     },
     "execution_count": 11,
     "metadata": {},
     "output_type": "execute_result"
    }
   ],
   "source": [
    "YTRAIN_numpy"
   ]
  },
  {
   "cell_type": "code",
   "execution_count": 12,
   "id": "3395f961",
   "metadata": {
    "scrolled": true
   },
   "outputs": [],
   "source": [
    "XVALIDATION_numpy = validation_dataset_df.drop(columns=['Class']).to_numpy()\n",
    "YVALIDATION_numpy = validation_dataset_df['Class'].to_numpy()"
   ]
  },
  {
   "cell_type": "code",
   "execution_count": 13,
   "id": "ac971aa1",
   "metadata": {
    "scrolled": true
   },
   "outputs": [
    {
     "data": {
      "text/plain": [
       "array([[0, 0, 0],\n",
       "       [0, 1, 1],\n",
       "       [1, 1, 0],\n",
       "       [1, 0, 1],\n",
       "       [1, 0, 0]])"
      ]
     },
     "execution_count": 13,
     "metadata": {},
     "output_type": "execute_result"
    }
   ],
   "source": [
    "XVALIDATION_numpy"
   ]
  },
  {
   "cell_type": "code",
   "execution_count": 14,
   "id": "5c7440eb",
   "metadata": {
    "scrolled": true
   },
   "outputs": [
    {
     "data": {
      "text/plain": [
       "array([1, 1, 1, 0, 1])"
      ]
     },
     "execution_count": 14,
     "metadata": {},
     "output_type": "execute_result"
    }
   ],
   "source": [
    "YVALIDATION_numpy"
   ]
  },
  {
   "cell_type": "code",
   "execution_count": 15,
   "id": "5b8cfde2",
   "metadata": {
    "scrolled": false
   },
   "outputs": [
    {
     "name": "stdout",
     "output_type": "stream",
     "text": [
      "\n",
      "Round : 1\n",
      "Records (Indexes) chosen in this round: \n",
      "[5 0 3 3 7 9 3 5 2 4]\n",
      "Plotting Decision Model Tree:\n",
      "\n",
      "Round : 2\n",
      "Records (Indexes) chosen in this round: \n",
      "[6 8 8 1 6 7 7 8 1 5]\n",
      "Plotting Decision Model Tree:\n",
      "\n",
      "Round : 3\n",
      "Records (Indexes) chosen in this round: \n",
      "[8 9 4 3 0 3 5 0 2 3]\n",
      "Plotting Decision Model Tree:\n",
      "\n",
      "Round : 4\n",
      "Records (Indexes) chosen in this round: \n",
      "[1 3 3 3 7 0 1 9 9 0]\n",
      "Plotting Decision Model Tree:\n",
      "\n",
      "Round : 5\n",
      "Records (Indexes) chosen in this round: \n",
      "[4 7 3 2 7 2 0 0 4 5]\n",
      "Plotting Decision Model Tree:\n"
     ]
    },
    {
     "data": {
      "image/png": "[encoded data removed]",
      "text/plain": [
       "<Figure size 504x360 with 1 Axes>"
      ]
     },
     "metadata": {
      "needs_background": "light"
     },
     "output_type": "display_data"
    },
    {
     "data": {
      "image/png": "[encoded data removed]",
      "text/plain": [
       "<Figure size 504x360 with 1 Axes>"
      ]
     },
     "metadata": {
      "needs_background": "light"
     },
     "output_type": "display_data"
    },
    {
     "data": {
      "image/png": "[encoded data removed]",
      "text/plain": [
       "<Figure size 504x360 with 1 Axes>"
      ]
     },
     "metadata": {
      "needs_background": "light"
     },
     "output_type": "display_data"
    },
    {
     "data": {
      "image/png": "[encoded data removed]",
      "text/plain": [
       "<Figure size 504x360 with 1 Axes>"
      ]
     },
     "metadata": {
      "needs_background": "light"
     },
     "output_type": "display_data"
    },
    {
     "data": {
      "image/png": "[encoded data removed]",
      "text/plain": [
       "<Figure size 504x360 with 1 Axes>"
      ]
     },
     "metadata": {
      "needs_background": "light"
     },
     "output_type": "display_data"
    }
   ],
   "source": [
    "base_models = train_bagging(XTRAIN_numpy, YTRAIN_numpy, 5)"
   ]
  },
  {
   "cell_type": "code",
   "execution_count": 18,
   "id": "c0ee15ec",
   "metadata": {
    "scrolled": true
   },
   "outputs": [
    {
     "data": {
      "text/plain": [
       "[1, 0, 0, 1, 1]"
      ]
     },
     "execution_count": 18,
     "metadata": {},
     "output_type": "execute_result"
    }
   ],
   "source": [
    "Y_PREDICTIONS = predict_bagging(XVALIDATION_numpy, base_models)\n",
    "Y_PREDICTIONS"
   ]
  },
  {
   "cell_type": "code",
   "execution_count": 17,
   "id": "d68d15b0",
   "metadata": {},
   "outputs": [
    {
     "data": {
      "text/plain": [
       "array(['+', '-', '-', '+', '+'], dtype='<U1')"
      ]
     },
     "execution_count": 17,
     "metadata": {},
     "output_type": "execute_result"
    }
   ],
   "source": [
    "# Replace predictions with actual class values\n",
    "np.where(np.array(Y_PREDICTIONS) > 0, '+' , '-' )"
   ]
  },
  {
   "cell_type": "code",
   "execution_count": null,
   "id": "5abd67fa",
   "metadata": {},
   "outputs": [],
   "source": []
  }
 ],
 "metadata": {
  "kernelspec": {
   "display_name": "Python 3",
   "language": "python",
   "name": "python3"
  },
  "language_info": {
   "codemirror_mode": {
    "name": "ipython",
    "version": 3
   },
   "file_extension": ".py",
   "mimetype": "text/x-python",
   "name": "python",
   "nbconvert_exporter": "python",
   "pygments_lexer": "ipython3",
   "version": "3.8.8"
  }
 },
 "nbformat": 4,
 "nbformat_minor": 5
}
