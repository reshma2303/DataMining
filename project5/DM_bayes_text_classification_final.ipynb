{
  "nbformat": 4,
  "nbformat_minor": 0,
  "metadata": {
    "colab": {
      "name": "DM_bayes_text_classification_final.ipynb",
      "provenance": [],
      "collapsed_sections": []
    },
    "kernelspec": {
      "name": "python3",
      "display_name": "Python 3"
    },
    "language_info": {
      "name": "python"
    },
    "widgets": {
      "application/vnd.jupyter.widget-state+json": {
        "ad7b301be24b434caec4da514686e112": {
          "model_module": "@jupyter-widgets/controls",
          "model_name": "HBoxModel",
          "model_module_version": "1.5.0",
          "state": {
            "_dom_classes": [],
            "_model_module": "@jupyter-widgets/controls",
            "_model_module_version": "1.5.0",
            "_model_name": "HBoxModel",
            "_view_count": null,
            "_view_module": "@jupyter-widgets/controls",
            "_view_module_version": "1.5.0",
            "_view_name": "HBoxView",
            "box_style": "",
            "children": [
              "IPY_MODEL_10c9750d97fc4d56b4192332023ea5d9",
              "IPY_MODEL_1d88287dcf5145979535d52c1ad6d475",
              "IPY_MODEL_dbe68c88136b43248b5f564f4b01eabb"
            ],
            "layout": "IPY_MODEL_e2cf24567a7c4f868d972eea79c40e1e"
          }
        },
        "10c9750d97fc4d56b4192332023ea5d9": {
          "model_module": "@jupyter-widgets/controls",
          "model_name": "HTMLModel",
          "model_module_version": "1.5.0",
          "state": {
            "_dom_classes": [],
            "_model_module": "@jupyter-widgets/controls",
            "_model_module_version": "1.5.0",
            "_model_name": "HTMLModel",
            "_view_count": null,
            "_view_module": "@jupyter-widgets/controls",
            "_view_module_version": "1.5.0",
            "_view_name": "HTMLView",
            "description": "",
            "description_tooltip": null,
            "layout": "IPY_MODEL_65d661ee35d64ccfb276bdfb62dbb8d7",
            "placeholder": "​",
            "style": "IPY_MODEL_9dc9baf199d14dcdafdf2220564c434a",
            "value": "Downloading: 100%"
          }
        },
        "1d88287dcf5145979535d52c1ad6d475": {
          "model_module": "@jupyter-widgets/controls",
          "model_name": "FloatProgressModel",
          "model_module_version": "1.5.0",
          "state": {
            "_dom_classes": [],
            "_model_module": "@jupyter-widgets/controls",
            "_model_module_version": "1.5.0",
            "_model_name": "FloatProgressModel",
            "_view_count": null,
            "_view_module": "@jupyter-widgets/controls",
            "_view_module_version": "1.5.0",
            "_view_name": "ProgressView",
            "bar_style": "success",
            "description": "",
            "description_tooltip": null,
            "layout": "IPY_MODEL_0a240c23b63d460099e1f853a0d9b950",
            "max": 1199,
            "min": 0,
            "orientation": "horizontal",
            "style": "IPY_MODEL_47ed8e1cda0f42ac9095123ca108b5b6",
            "value": 1199
          }
        },
        "dbe68c88136b43248b5f564f4b01eabb": {
          "model_module": "@jupyter-widgets/controls",
          "model_name": "HTMLModel",
          "model_module_version": "1.5.0",
          "state": {
            "_dom_classes": [],
            "_model_module": "@jupyter-widgets/controls",
            "_model_module_version": "1.5.0",
            "_model_name": "HTMLModel",
            "_view_count": null,
            "_view_module": "@jupyter-widgets/controls",
            "_view_module_version": "1.5.0",
            "_view_name": "HTMLView",
            "description": "",
            "description_tooltip": null,
            "layout": "IPY_MODEL_335e841a92a147858eb5cdc621e99064",
            "placeholder": "​",
            "style": "IPY_MODEL_e55343c29d7c46f9ba9d8231a8ab4c2d",
            "value": " 1.17k/1.17k [00:00&lt;00:00, 21.2kB/s]"
          }
        },
        "e2cf24567a7c4f868d972eea79c40e1e": {
          "model_module": "@jupyter-widgets/base",
          "model_name": "LayoutModel",
          "model_module_version": "1.2.0",
          "state": {
            "_model_module": "@jupyter-widgets/base",
            "_model_module_version": "1.2.0",
            "_model_name": "LayoutModel",
            "_view_count": null,
            "_view_module": "@jupyter-widgets/base",
            "_view_module_version": "1.2.0",
            "_view_name": "LayoutView",
            "align_content": null,
            "align_items": null,
            "align_self": null,
            "border": null,
            "bottom": null,
            "display": null,
            "flex": null,
            "flex_flow": null,
            "grid_area": null,
            "grid_auto_columns": null,
            "grid_auto_flow": null,
            "grid_auto_rows": null,
            "grid_column": null,
            "grid_gap": null,
            "grid_row": null,
            "grid_template_areas": null,
            "grid_template_columns": null,
            "grid_template_rows": null,
            "height": null,
            "justify_content": null,
            "justify_items": null,
            "left": null,
            "margin": null,
            "max_height": null,
            "max_width": null,
            "min_height": null,
            "min_width": null,
            "object_fit": null,
            "object_position": null,
            "order": null,
            "overflow": null,
            "overflow_x": null,
            "overflow_y": null,
            "padding": null,
            "right": null,
            "top": null,
            "visibility": null,
            "width": null
          }
        },
        "65d661ee35d64ccfb276bdfb62dbb8d7": {
          "model_module": "@jupyter-widgets/base",
          "model_name": "LayoutModel",
          "model_module_version": "1.2.0",
          "state": {
            "_model_module": "@jupyter-widgets/base",
            "_model_module_version": "1.2.0",
            "_model_name": "LayoutModel",
            "_view_count": null,
            "_view_module": "@jupyter-widgets/base",
            "_view_module_version": "1.2.0",
            "_view_name": "LayoutView",
            "align_content": null,
            "align_items": null,
            "align_self": null,
            "border": null,
            "bottom": null,
            "display": null,
            "flex": null,
            "flex_flow": null,
            "grid_area": null,
            "grid_auto_columns": null,
            "grid_auto_flow": null,
            "grid_auto_rows": null,
            "grid_column": null,
            "grid_gap": null,
            "grid_row": null,
            "grid_template_areas": null,
            "grid_template_columns": null,
            "grid_template_rows": null,
            "height": null,
            "justify_content": null,
            "justify_items": null,
            "left": null,
            "margin": null,
            "max_height": null,
            "max_width": null,
            "min_height": null,
            "min_width": null,
            "object_fit": null,
            "object_position": null,
            "order": null,
            "overflow": null,
            "overflow_x": null,
            "overflow_y": null,
            "padding": null,
            "right": null,
            "top": null,
            "visibility": null,
            "width": null
          }
        },
        "9dc9baf199d14dcdafdf2220564c434a": {
          "model_module": "@jupyter-widgets/controls",
          "model_name": "DescriptionStyleModel",
          "model_module_version": "1.5.0",
          "state": {
            "_model_module": "@jupyter-widgets/controls",
            "_model_module_version": "1.5.0",
            "_model_name": "DescriptionStyleModel",
            "_view_count": null,
            "_view_module": "@jupyter-widgets/base",
            "_view_module_version": "1.2.0",
            "_view_name": "StyleView",
            "description_width": ""
          }
        },
        "0a240c23b63d460099e1f853a0d9b950": {
          "model_module": "@jupyter-widgets/base",
          "model_name": "LayoutModel",
          "model_module_version": "1.2.0",
          "state": {
            "_model_module": "@jupyter-widgets/base",
            "_model_module_version": "1.2.0",
            "_model_name": "LayoutModel",
            "_view_count": null,
            "_view_module": "@jupyter-widgets/base",
            "_view_module_version": "1.2.0",
            "_view_name": "LayoutView",
            "align_content": null,
            "align_items": null,
            "align_self": null,
            "border": null,
            "bottom": null,
            "display": null,
            "flex": null,
            "flex_flow": null,
            "grid_area": null,
            "grid_auto_columns": null,
            "grid_auto_flow": null,
            "grid_auto_rows": null,
            "grid_column": null,
            "grid_gap": null,
            "grid_row": null,
            "grid_template_areas": null,
            "grid_template_columns": null,
            "grid_template_rows": null,
            "height": null,
            "justify_content": null,
            "justify_items": null,
            "left": null,
            "margin": null,
            "max_height": null,
            "max_width": null,
            "min_height": null,
            "min_width": null,
            "object_fit": null,
            "object_position": null,
            "order": null,
            "overflow": null,
            "overflow_x": null,
            "overflow_y": null,
            "padding": null,
            "right": null,
            "top": null,
            "visibility": null,
            "width": null
          }
        },
        "47ed8e1cda0f42ac9095123ca108b5b6": {
          "model_module": "@jupyter-widgets/controls",
          "model_name": "ProgressStyleModel",
          "model_module_version": "1.5.0",
          "state": {
            "_model_module": "@jupyter-widgets/controls",
            "_model_module_version": "1.5.0",
            "_model_name": "ProgressStyleModel",
            "_view_count": null,
            "_view_module": "@jupyter-widgets/base",
            "_view_module_version": "1.2.0",
            "_view_name": "StyleView",
            "bar_color": null,
            "description_width": ""
          }
        },
        "335e841a92a147858eb5cdc621e99064": {
          "model_module": "@jupyter-widgets/base",
          "model_name": "LayoutModel",
          "model_module_version": "1.2.0",
          "state": {
            "_model_module": "@jupyter-widgets/base",
            "_model_module_version": "1.2.0",
            "_model_name": "LayoutModel",
            "_view_count": null,
            "_view_module": "@jupyter-widgets/base",
            "_view_module_version": "1.2.0",
            "_view_name": "LayoutView",
            "align_content": null,
            "align_items": null,
            "align_self": null,
            "border": null,
            "bottom": null,
            "display": null,
            "flex": null,
            "flex_flow": null,
            "grid_area": null,
            "grid_auto_columns": null,
            "grid_auto_flow": null,
            "grid_auto_rows": null,
            "grid_column": null,
            "grid_gap": null,
            "grid_row": null,
            "grid_template_areas": null,
            "grid_template_columns": null,
            "grid_template_rows": null,
            "height": null,
            "justify_content": null,
            "justify_items": null,
            "left": null,
            "margin": null,
            "max_height": null,
            "max_width": null,
            "min_height": null,
            "min_width": null,
            "object_fit": null,
            "object_position": null,
            "order": null,
            "overflow": null,
            "overflow_x": null,
            "overflow_y": null,
            "padding": null,
            "right": null,
            "top": null,
            "visibility": null,
            "width": null
          }
        },
        "e55343c29d7c46f9ba9d8231a8ab4c2d": {
          "model_module": "@jupyter-widgets/controls",
          "model_name": "DescriptionStyleModel",
          "model_module_version": "1.5.0",
          "state": {
            "_model_module": "@jupyter-widgets/controls",
            "_model_module_version": "1.5.0",
            "_model_name": "DescriptionStyleModel",
            "_view_count": null,
            "_view_module": "@jupyter-widgets/base",
            "_view_module_version": "1.2.0",
            "_view_name": "StyleView",
            "description_width": ""
          }
        },
        "f8399dd8769d41e18f9a8c51b1a205d6": {
          "model_module": "@jupyter-widgets/controls",
          "model_name": "HBoxModel",
          "model_module_version": "1.5.0",
          "state": {
            "_dom_classes": [],
            "_model_module": "@jupyter-widgets/controls",
            "_model_module_version": "1.5.0",
            "_model_name": "HBoxModel",
            "_view_count": null,
            "_view_module": "@jupyter-widgets/controls",
            "_view_module_version": "1.5.0",
            "_view_name": "HBoxView",
            "box_style": "",
            "children": [
              "IPY_MODEL_66bb57575c144636b4df2cd4ac65ad77",
              "IPY_MODEL_824aed6fdf68443e97dd9e7ae8e65ced",
              "IPY_MODEL_4e64e17aa77b40e0b9a38361db15f624"
            ],
            "layout": "IPY_MODEL_bdc6e964c5bd4d71b2404032e12eeaee"
          }
        },
        "66bb57575c144636b4df2cd4ac65ad77": {
          "model_module": "@jupyter-widgets/controls",
          "model_name": "HTMLModel",
          "model_module_version": "1.5.0",
          "state": {
            "_dom_classes": [],
            "_model_module": "@jupyter-widgets/controls",
            "_model_module_version": "1.5.0",
            "_model_name": "HTMLModel",
            "_view_count": null,
            "_view_module": "@jupyter-widgets/controls",
            "_view_module_version": "1.5.0",
            "_view_name": "HTMLView",
            "description": "",
            "description_tooltip": null,
            "layout": "IPY_MODEL_3a4b1ed5097145388df411fb546a6d9c",
            "placeholder": "​",
            "style": "IPY_MODEL_b4b7d25ec147443fbd20d876c6f03149",
            "value": "Downloading: 100%"
          }
        },
        "824aed6fdf68443e97dd9e7ae8e65ced": {
          "model_module": "@jupyter-widgets/controls",
          "model_name": "FloatProgressModel",
          "model_module_version": "1.5.0",
          "state": {
            "_dom_classes": [],
            "_model_module": "@jupyter-widgets/controls",
            "_model_module_version": "1.5.0",
            "_model_name": "FloatProgressModel",
            "_view_count": null,
            "_view_module": "@jupyter-widgets/controls",
            "_view_module_version": "1.5.0",
            "_view_name": "ProgressView",
            "bar_style": "success",
            "description": "",
            "description_tooltip": null,
            "layout": "IPY_MODEL_6d9818207579412e8f5cbf45a4f829ce",
            "max": 1389353,
            "min": 0,
            "orientation": "horizontal",
            "style": "IPY_MODEL_4be6ef7382a64e5f8c01c2df1ae8bf91",
            "value": 1389353
          }
        },
        "4e64e17aa77b40e0b9a38361db15f624": {
          "model_module": "@jupyter-widgets/controls",
          "model_name": "HTMLModel",
          "model_module_version": "1.5.0",
          "state": {
            "_dom_classes": [],
            "_model_module": "@jupyter-widgets/controls",
            "_model_module_version": "1.5.0",
            "_model_name": "HTMLModel",
            "_view_count": null,
            "_view_module": "@jupyter-widgets/controls",
            "_view_module_version": "1.5.0",
            "_view_name": "HTMLView",
            "description": "",
            "description_tooltip": null,
            "layout": "IPY_MODEL_10175e10c893423e9369b5f036ebad02",
            "placeholder": "​",
            "style": "IPY_MODEL_faa8094f8d174ff9ad72aca3500d2ad0",
            "value": " 1.32M/1.32M [00:00&lt;00:00, 1.78MB/s]"
          }
        },
        "bdc6e964c5bd4d71b2404032e12eeaee": {
          "model_module": "@jupyter-widgets/base",
          "model_name": "LayoutModel",
          "model_module_version": "1.2.0",
          "state": {
            "_model_module": "@jupyter-widgets/base",
            "_model_module_version": "1.2.0",
            "_model_name": "LayoutModel",
            "_view_count": null,
            "_view_module": "@jupyter-widgets/base",
            "_view_module_version": "1.2.0",
            "_view_name": "LayoutView",
            "align_content": null,
            "align_items": null,
            "align_self": null,
            "border": null,
            "bottom": null,
            "display": null,
            "flex": null,
            "flex_flow": null,
            "grid_area": null,
            "grid_auto_columns": null,
            "grid_auto_flow": null,
            "grid_auto_rows": null,
            "grid_column": null,
            "grid_gap": null,
            "grid_row": null,
            "grid_template_areas": null,
            "grid_template_columns": null,
            "grid_template_rows": null,
            "height": null,
            "justify_content": null,
            "justify_items": null,
            "left": null,
            "margin": null,
            "max_height": null,
            "max_width": null,
            "min_height": null,
            "min_width": null,
            "object_fit": null,
            "object_position": null,
            "order": null,
            "overflow": null,
            "overflow_x": null,
            "overflow_y": null,
            "padding": null,
            "right": null,
            "top": null,
            "visibility": null,
            "width": null
          }
        },
        "3a4b1ed5097145388df411fb546a6d9c": {
          "model_module": "@jupyter-widgets/base",
          "model_name": "LayoutModel",
          "model_module_version": "1.2.0",
          "state": {
            "_model_module": "@jupyter-widgets/base",
            "_model_module_version": "1.2.0",
            "_model_name": "LayoutModel",
            "_view_count": null,
            "_view_module": "@jupyter-widgets/base",
            "_view_module_version": "1.2.0",
            "_view_name": "LayoutView",
            "align_content": null,
            "align_items": null,
            "align_self": null,
            "border": null,
            "bottom": null,
            "display": null,
            "flex": null,
            "flex_flow": null,
            "grid_area": null,
            "grid_auto_columns": null,
            "grid_auto_flow": null,
            "grid_auto_rows": null,
            "grid_column": null,
            "grid_gap": null,
            "grid_row": null,
            "grid_template_areas": null,
            "grid_template_columns": null,
            "grid_template_rows": null,
            "height": null,
            "justify_content": null,
            "justify_items": null,
            "left": null,
            "margin": null,
            "max_height": null,
            "max_width": null,
            "min_height": null,
            "min_width": null,
            "object_fit": null,
            "object_position": null,
            "order": null,
            "overflow": null,
            "overflow_x": null,
            "overflow_y": null,
            "padding": null,
            "right": null,
            "top": null,
            "visibility": null,
            "width": null
          }
        },
        "b4b7d25ec147443fbd20d876c6f03149": {
          "model_module": "@jupyter-widgets/controls",
          "model_name": "DescriptionStyleModel",
          "model_module_version": "1.5.0",
          "state": {
            "_model_module": "@jupyter-widgets/controls",
            "_model_module_version": "1.5.0",
            "_model_name": "DescriptionStyleModel",
            "_view_count": null,
            "_view_module": "@jupyter-widgets/base",
            "_view_module_version": "1.2.0",
            "_view_name": "StyleView",
            "description_width": ""
          }
        },
        "6d9818207579412e8f5cbf45a4f829ce": {
          "model_module": "@jupyter-widgets/base",
          "model_name": "LayoutModel",
          "model_module_version": "1.2.0",
          "state": {
            "_model_module": "@jupyter-widgets/base",
            "_model_module_version": "1.2.0",
            "_model_name": "LayoutModel",
            "_view_count": null,
            "_view_module": "@jupyter-widgets/base",
            "_view_module_version": "1.2.0",
            "_view_name": "LayoutView",
            "align_content": null,
            "align_items": null,
            "align_self": null,
            "border": null,
            "bottom": null,
            "display": null,
            "flex": null,
            "flex_flow": null,
            "grid_area": null,
            "grid_auto_columns": null,
            "grid_auto_flow": null,
            "grid_auto_rows": null,
            "grid_column": null,
            "grid_gap": null,
            "grid_row": null,
            "grid_template_areas": null,
            "grid_template_columns": null,
            "grid_template_rows": null,
            "height": null,
            "justify_content": null,
            "justify_items": null,
            "left": null,
            "margin": null,
            "max_height": null,
            "max_width": null,
            "min_height": null,
            "min_width": null,
            "object_fit": null,
            "object_position": null,
            "order": null,
            "overflow": null,
            "overflow_x": null,
            "overflow_y": null,
            "padding": null,
            "right": null,
            "top": null,
            "visibility": null,
            "width": null
          }
        },
        "4be6ef7382a64e5f8c01c2df1ae8bf91": {
          "model_module": "@jupyter-widgets/controls",
          "model_name": "ProgressStyleModel",
          "model_module_version": "1.5.0",
          "state": {
            "_model_module": "@jupyter-widgets/controls",
            "_model_module_version": "1.5.0",
            "_model_name": "ProgressStyleModel",
            "_view_count": null,
            "_view_module": "@jupyter-widgets/base",
            "_view_module_version": "1.2.0",
            "_view_name": "StyleView",
            "bar_color": null,
            "description_width": ""
          }
        },
        "10175e10c893423e9369b5f036ebad02": {
          "model_module": "@jupyter-widgets/base",
          "model_name": "LayoutModel",
          "model_module_version": "1.2.0",
          "state": {
            "_model_module": "@jupyter-widgets/base",
            "_model_module_version": "1.2.0",
            "_model_name": "LayoutModel",
            "_view_count": null,
            "_view_module": "@jupyter-widgets/base",
            "_view_module_version": "1.2.0",
            "_view_name": "LayoutView",
            "align_content": null,
            "align_items": null,
            "align_self": null,
            "border": null,
            "bottom": null,
            "display": null,
            "flex": null,
            "flex_flow": null,
            "grid_area": null,
            "grid_auto_columns": null,
            "grid_auto_flow": null,
            "grid_auto_rows": null,
            "grid_column": null,
            "grid_gap": null,
            "grid_row": null,
            "grid_template_areas": null,
            "grid_template_columns": null,
            "grid_template_rows": null,
            "height": null,
            "justify_content": null,
            "justify_items": null,
            "left": null,
            "margin": null,
            "max_height": null,
            "max_width": null,
            "min_height": null,
            "min_width": null,
            "object_fit": null,
            "object_position": null,
            "order": null,
            "overflow": null,
            "overflow_x": null,
            "overflow_y": null,
            "padding": null,
            "right": null,
            "top": null,
            "visibility": null,
            "width": null
          }
        },
        "faa8094f8d174ff9ad72aca3500d2ad0": {
          "model_module": "@jupyter-widgets/controls",
          "model_name": "DescriptionStyleModel",
          "model_module_version": "1.5.0",
          "state": {
            "_model_module": "@jupyter-widgets/controls",
            "_model_module_version": "1.5.0",
            "_model_name": "DescriptionStyleModel",
            "_view_count": null,
            "_view_module": "@jupyter-widgets/base",
            "_view_module_version": "1.2.0",
            "_view_name": "StyleView",
            "description_width": ""
          }
        },
        "3fa7b1e2e62d421784963ae29503a620": {
          "model_module": "@jupyter-widgets/controls",
          "model_name": "HBoxModel",
          "model_module_version": "1.5.0",
          "state": {
            "_dom_classes": [],
            "_model_module": "@jupyter-widgets/controls",
            "_model_module_version": "1.5.0",
            "_model_name": "HBoxModel",
            "_view_count": null,
            "_view_module": "@jupyter-widgets/controls",
            "_view_module_version": "1.5.0",
            "_view_name": "HBoxView",
            "box_style": "",
            "children": [
              "IPY_MODEL_140e536743fc4d6ca2086ec2afcb588a",
              "IPY_MODEL_692636c09fc846de9faa4356685c5656",
              "IPY_MODEL_358985c4b76f4fddb995d8cd8b0941c8"
            ],
            "layout": "IPY_MODEL_0de99d0f753f414480d29f327ac2c326"
          }
        },
        "140e536743fc4d6ca2086ec2afcb588a": {
          "model_module": "@jupyter-widgets/controls",
          "model_name": "HTMLModel",
          "model_module_version": "1.5.0",
          "state": {
            "_dom_classes": [],
            "_model_module": "@jupyter-widgets/controls",
            "_model_module_version": "1.5.0",
            "_model_name": "HTMLModel",
            "_view_count": null,
            "_view_module": "@jupyter-widgets/controls",
            "_view_module_version": "1.5.0",
            "_view_name": "HTMLView",
            "description": "",
            "description_tooltip": null,
            "layout": "IPY_MODEL_306366de93cc43d281b764a97636d24c",
            "placeholder": "​",
            "style": "IPY_MODEL_2873a3fd33dc43a3b05de2c3350ca5cf",
            "value": "Downloading: 100%"
          }
        },
        "692636c09fc846de9faa4356685c5656": {
          "model_module": "@jupyter-widgets/controls",
          "model_name": "FloatProgressModel",
          "model_module_version": "1.5.0",
          "state": {
            "_dom_classes": [],
            "_model_module": "@jupyter-widgets/controls",
            "_model_module_version": "1.5.0",
            "_model_name": "FloatProgressModel",
            "_view_count": null,
            "_view_module": "@jupyter-widgets/controls",
            "_view_module_version": "1.5.0",
            "_view_name": "ProgressView",
            "bar_style": "success",
            "description": "",
            "description_tooltip": null,
            "layout": "IPY_MODEL_44ae46e80b2c48e792df7ec58f83ebf0",
            "max": 891737400,
            "min": 0,
            "orientation": "horizontal",
            "style": "IPY_MODEL_a3b8151f5cd74ade8d38a7a1b00ea994",
            "value": 891737400
          }
        },
        "358985c4b76f4fddb995d8cd8b0941c8": {
          "model_module": "@jupyter-widgets/controls",
          "model_name": "HTMLModel",
          "model_module_version": "1.5.0",
          "state": {
            "_dom_classes": [],
            "_model_module": "@jupyter-widgets/controls",
            "_model_module_version": "1.5.0",
            "_model_name": "HTMLModel",
            "_view_count": null,
            "_view_module": "@jupyter-widgets/controls",
            "_view_module_version": "1.5.0",
            "_view_name": "HTMLView",
            "description": "",
            "description_tooltip": null,
            "layout": "IPY_MODEL_265c14ba9cd64c1cb8dd929916966943",
            "placeholder": "​",
            "style": "IPY_MODEL_260f744fc73142f0b92e485a01cd4193",
            "value": " 850M/850M [00:21&lt;00:00, 41.1MB/s]"
          }
        },
        "0de99d0f753f414480d29f327ac2c326": {
          "model_module": "@jupyter-widgets/base",
          "model_name": "LayoutModel",
          "model_module_version": "1.2.0",
          "state": {
            "_model_module": "@jupyter-widgets/base",
            "_model_module_version": "1.2.0",
            "_model_name": "LayoutModel",
            "_view_count": null,
            "_view_module": "@jupyter-widgets/base",
            "_view_module_version": "1.2.0",
            "_view_name": "LayoutView",
            "align_content": null,
            "align_items": null,
            "align_self": null,
            "border": null,
            "bottom": null,
            "display": null,
            "flex": null,
            "flex_flow": null,
            "grid_area": null,
            "grid_auto_columns": null,
            "grid_auto_flow": null,
            "grid_auto_rows": null,
            "grid_column": null,
            "grid_gap": null,
            "grid_row": null,
            "grid_template_areas": null,
            "grid_template_columns": null,
            "grid_template_rows": null,
            "height": null,
            "justify_content": null,
            "justify_items": null,
            "left": null,
            "margin": null,
            "max_height": null,
            "max_width": null,
            "min_height": null,
            "min_width": null,
            "object_fit": null,
            "object_position": null,
            "order": null,
            "overflow": null,
            "overflow_x": null,
            "overflow_y": null,
            "padding": null,
            "right": null,
            "top": null,
            "visibility": null,
            "width": null
          }
        },
        "306366de93cc43d281b764a97636d24c": {
          "model_module": "@jupyter-widgets/base",
          "model_name": "LayoutModel",
          "model_module_version": "1.2.0",
          "state": {
            "_model_module": "@jupyter-widgets/base",
            "_model_module_version": "1.2.0",
            "_model_name": "LayoutModel",
            "_view_count": null,
            "_view_module": "@jupyter-widgets/base",
            "_view_module_version": "1.2.0",
            "_view_name": "LayoutView",
            "align_content": null,
            "align_items": null,
            "align_self": null,
            "border": null,
            "bottom": null,
            "display": null,
            "flex": null,
            "flex_flow": null,
            "grid_area": null,
            "grid_auto_columns": null,
            "grid_auto_flow": null,
            "grid_auto_rows": null,
            "grid_column": null,
            "grid_gap": null,
            "grid_row": null,
            "grid_template_areas": null,
            "grid_template_columns": null,
            "grid_template_rows": null,
            "height": null,
            "justify_content": null,
            "justify_items": null,
            "left": null,
            "margin": null,
            "max_height": null,
            "max_width": null,
            "min_height": null,
            "min_width": null,
            "object_fit": null,
            "object_position": null,
            "order": null,
            "overflow": null,
            "overflow_x": null,
            "overflow_y": null,
            "padding": null,
            "right": null,
            "top": null,
            "visibility": null,
            "width": null
          }
        },
        "2873a3fd33dc43a3b05de2c3350ca5cf": {
          "model_module": "@jupyter-widgets/controls",
          "model_name": "DescriptionStyleModel",
          "model_module_version": "1.5.0",
          "state": {
            "_model_module": "@jupyter-widgets/controls",
            "_model_module_version": "1.5.0",
            "_model_name": "DescriptionStyleModel",
            "_view_count": null,
            "_view_module": "@jupyter-widgets/base",
            "_view_module_version": "1.2.0",
            "_view_name": "StyleView",
            "description_width": ""
          }
        },
        "44ae46e80b2c48e792df7ec58f83ebf0": {
          "model_module": "@jupyter-widgets/base",
          "model_name": "LayoutModel",
          "model_module_version": "1.2.0",
          "state": {
            "_model_module": "@jupyter-widgets/base",
            "_model_module_version": "1.2.0",
            "_model_name": "LayoutModel",
            "_view_count": null,
            "_view_module": "@jupyter-widgets/base",
            "_view_module_version": "1.2.0",
            "_view_name": "LayoutView",
            "align_content": null,
            "align_items": null,
            "align_self": null,
            "border": null,
            "bottom": null,
            "display": null,
            "flex": null,
            "flex_flow": null,
            "grid_area": null,
            "grid_auto_columns": null,
            "grid_auto_flow": null,
            "grid_auto_rows": null,
            "grid_column": null,
            "grid_gap": null,
            "grid_row": null,
            "grid_template_areas": null,
            "grid_template_columns": null,
            "grid_template_rows": null,
            "height": null,
            "justify_content": null,
            "justify_items": null,
            "left": null,
            "margin": null,
            "max_height": null,
            "max_width": null,
            "min_height": null,
            "min_width": null,
            "object_fit": null,
            "object_position": null,
            "order": null,
            "overflow": null,
            "overflow_x": null,
            "overflow_y": null,
            "padding": null,
            "right": null,
            "top": null,
            "visibility": null,
            "width": null
          }
        },
        "a3b8151f5cd74ade8d38a7a1b00ea994": {
          "model_module": "@jupyter-widgets/controls",
          "model_name": "ProgressStyleModel",
          "model_module_version": "1.5.0",
          "state": {
            "_model_module": "@jupyter-widgets/controls",
            "_model_module_version": "1.5.0",
            "_model_name": "ProgressStyleModel",
            "_view_count": null,
            "_view_module": "@jupyter-widgets/base",
            "_view_module_version": "1.2.0",
            "_view_name": "StyleView",
            "bar_color": null,
            "description_width": ""
          }
        },
        "265c14ba9cd64c1cb8dd929916966943": {
          "model_module": "@jupyter-widgets/base",
          "model_name": "LayoutModel",
          "model_module_version": "1.2.0",
          "state": {
            "_model_module": "@jupyter-widgets/base",
            "_model_module_version": "1.2.0",
            "_model_name": "LayoutModel",
            "_view_count": null,
            "_view_module": "@jupyter-widgets/base",
            "_view_module_version": "1.2.0",
            "_view_name": "LayoutView",
            "align_content": null,
            "align_items": null,
            "align_self": null,
            "border": null,
            "bottom": null,
            "display": null,
            "flex": null,
            "flex_flow": null,
            "grid_area": null,
            "grid_auto_columns": null,
            "grid_auto_flow": null,
            "grid_auto_rows": null,
            "grid_column": null,
            "grid_gap": null,
            "grid_row": null,
            "grid_template_areas": null,
            "grid_template_columns": null,
            "grid_template_rows": null,
            "height": null,
            "justify_content": null,
            "justify_items": null,
            "left": null,
            "margin": null,
            "max_height": null,
            "max_width": null,
            "min_height": null,
            "min_width": null,
            "object_fit": null,
            "object_position": null,
            "order": null,
            "overflow": null,
            "overflow_x": null,
            "overflow_y": null,
            "padding": null,
            "right": null,
            "top": null,
            "visibility": null,
            "width": null
          }
        },
        "260f744fc73142f0b92e485a01cd4193": {
          "model_module": "@jupyter-widgets/controls",
          "model_name": "DescriptionStyleModel",
          "model_module_version": "1.5.0",
          "state": {
            "_model_module": "@jupyter-widgets/controls",
            "_model_module_version": "1.5.0",
            "_model_name": "DescriptionStyleModel",
            "_view_count": null,
            "_view_module": "@jupyter-widgets/base",
            "_view_module_version": "1.2.0",
            "_view_name": "StyleView",
            "description_width": ""
          }
        }
      }
    }
  },
  "cells": [
    {
      "cell_type": "markdown",
      "source": [
        "**DataMining Project Given**\n",
        "\n",
        "In this project you will implement a solution to a text mining problem. The problem is to classify a \n",
        "document (that is, a given amount of text) as belonging to either computer science (CS) or non-CS. \n",
        "\n",
        "\n",
        "\n",
        "(This \n",
        "problem has applications in many areas, such as filtering email spam from non-spam.) For simplicity, our \n",
        "“document” for this project will consist of just a single sentence or part of a sentence (e.g., a phrase or a \n",
        "clause). \n",
        "\n",
        "\n",
        "1) Decide on a number of keywords in advance, and then represent a document as a vector of \n",
        "those keyword counts, where each component of the vector is integer-valued, representing the count \n",
        "(frequency) of the corresponding keyword in the document. Use a supervised learning scenario. You will \n",
        "create (choose) your own training and test data (creating the data is an important exercise). \n",
        "\n",
        "2) Create data \n",
        "by using randomly chosen sentences from, for example, your textbooks, works of fiction, or news. Use \n",
        "the Naïve Bayes approach.  \n",
        "\n",
        "Case I: The keyword counts in a document vector are each binary (1 or 0, representing the presence or \n",
        "absence of that keyword in the document). \n",
        "\n",
        "Case II: The keyword counts are positive integers (possibly including zero).    \n",
        "This project involves slightly extending one of the techniques discussed in class. Feel free to look up \n",
        "material on the Internet, but the final code should be your own work. \n",
        "\n",
        "Submit the source code, some (or all, if the training set is not huge) training data, five different test \n",
        "cases (sentences) and the corresponding classifications (CS or non-CS). Also, show the result \n",
        "(classifications) your algorithm produces when the training data (without the CS/non-CS label) are used \n",
        "as input (test data). \n",
        "All instructions on group work, acceptable formats for file upoad, use of packages, etc. are as in the \n",
        "previous projects. "
      ],
      "metadata": {
        "id": "eLsrRIz3SdXq"
      }
    },
    {
      "cell_type": "markdown",
      "source": [
        "### **Our Proposal: Project Solution Blueprint**"
      ],
      "metadata": {
        "id": "uEEC8RNMS6RL"
      }
    },
    {
      "cell_type": "markdown",
      "source": [
        "The solution involves below steps:\n",
        "  \n",
        "* Data Preparation\n",
        "    * Decide on keywords (Scope Vocabulary)\n",
        "    * Generate random sentences/phrases using subset of keywords and annotate them. Extract dataset summary\n",
        "    * Case 1: Text Representation in the form of keyword presence (binary 0 or 1)\n",
        "    * Case 2: Text Representation in the form of keyword coounts\n",
        "    * Generate training and test datasets\n",
        "*  Perform supervised classification on the dataset\n",
        "* Display results of 5 training sentences and test sentences and corresponding classifications results\n",
        "* Display the result of the algorithm when trained out with non-CS data but the test data has only non-CS data"
      ],
      "metadata": {
        "id": "fyvPssiKTG5N"
      }
    },
    {
      "cell_type": "markdown",
      "source": [
        "##**Step-1: Data Preparation**"
      ],
      "metadata": {
        "id": "aLWsaGpLWA-B"
      }
    },
    {
      "cell_type": "markdown",
      "source": [
        "#### Step 1.1. Decide on keywords (Scope Vocabulary)"
      ],
      "metadata": {
        "id": "_EWWuM53WLOy"
      }
    },
    {
      "cell_type": "markdown",
      "source": [
        "Let us make 100 keywords (that means vector size (features) will be 100). Out of which 50 are CS words and other 50 are non-CS words"
      ],
      "metadata": {
        "id": "ftTwdQgTZm73"
      }
    },
    {
      "cell_type": "markdown",
      "source": [
        "We have extracted few common Computer Science vocabulary from the webstie and captured here. Reference: http://marvin.cs.uidaho.edu/Teaching/CS112/terms.pdf"
      ],
      "metadata": {
        "id": "ZJthwYMTWYc9"
      }
    },
    {
      "cell_type": "code",
      "source": [
        "computer_science_key_words = ['Abstraction', 'Cache', 'algorithm', 'Assignment', 'Syntax', 'Program', 'Nano-', 'Error', 'Thread', 'Variable', 'File', \n",
        "                              'Supercomputer', 'UNIX', 'I/O', 'database', 'Unicode', 'Source', 'sharing', 'Analog', 'Southbridge', \n",
        "                              'Kilo-', 'Boot', 'drive', 'Operator', 'Disk', 'Motherboard', 'Peta-', 'Exception', 'Clock', \n",
        "                              'Emacs', 'RAM', 'Comment', 'Memory', 'Base', 'IT', 'Nest', 'Boolean', 'Machine', 'HW', 'Software', \n",
        "                              'Time', 'programming', 'Call', 'Two', 'intensive', 'Kilobyte', 'Drone', 'Telepresence', 'Chip', 'Computing']\n",
        "len(computer_science_key_words)"
      ],
      "metadata": {
        "colab": {
          "base_uri": "https://localhost:8080/"
        },
        "id": "gkoJ7vzjWm1D",
        "outputId": "420fe3af-45a5-45a4-8f51-cb7d64ac84da"
      },
      "execution_count": 346,
      "outputs": [
        {
          "output_type": "execute_result",
          "data": {
            "text/plain": [
              "50"
            ]
          },
          "metadata": {},
          "execution_count": 346
        }
      ]
    },
    {
      "cell_type": "code",
      "source": [
        "non_cs_keywords = [\"academe\",\t\"accused\",\t\"amazement\", \"Sachin\", \"Johnny\", \"Movie\", \"batman\", \"spiderman\", \"superman\", \"tendulkar\", \"william\", \"shaksphere\", \"playing\", \"smoking\", \"chicken\", \"elephant\",\n",
        "\"impartial\",\t\"invulnerable\",\t\"lackluster\", \"tiger\", \"lion\", \"parliment\", \"president\", \"minister\", \"dancing\", \"eating\", \"drinking\",\n",
        "\"laughable\",\t\"lonely\",\t\"lustrous\", \"batsman\", \"bowler\", \"umpire\", \"female\", \"male\", \"man\", \"woman\"\n",
        "\"madcap\",\"majestic\",\"mimic\", \"utah\", \"Colorado\", \"California\", \"Italy\", \"heaven\", \"france\", \"paris\", \"england\", \"football\"\n",
        "\"monumental\",\"moonbeam\",\"noiseless\"]\n",
        "len(non_cs_keywords)"
      ],
      "metadata": {
        "colab": {
          "base_uri": "https://localhost:8080/"
        },
        "id": "3kXqUZQYYFpe",
        "outputId": "a89dad4c-36d9-4d8d-9f54-9f9b48d12f5f"
      },
      "execution_count": 347,
      "outputs": [
        {
          "output_type": "execute_result",
          "data": {
            "text/plain": [
              "50"
            ]
          },
          "metadata": {},
          "execution_count": 347
        }
      ]
    },
    {
      "cell_type": "code",
      "source": [
        "all_key_words_vocabulary = computer_science_key_words + non_cs_keywords\n",
        "len(set(all_key_words_vocabulary)), len(all_key_words_vocabulary)"
      ],
      "metadata": {
        "colab": {
          "base_uri": "https://localhost:8080/"
        },
        "id": "FT5eHH9aZe_b",
        "outputId": "9baccfcd-9822-4dcd-e314-5047b77b030e"
      },
      "execution_count": 348,
      "outputs": [
        {
          "output_type": "execute_result",
          "data": {
            "text/plain": [
              "(100, 100)"
            ]
          },
          "metadata": {},
          "execution_count": 348
        }
      ]
    },
    {
      "cell_type": "markdown",
      "source": [
        "#### Step 1.2 Generate Random Sentences using these keywords and annotate them. Extract Summary"
      ],
      "metadata": {
        "id": "Wa9Wj71faVl6"
      }
    },
    {
      "cell_type": "markdown",
      "source": [
        "- For generating random sentences, we will be using neural network langauge models (BERT Transformers). We will be using existing library called 'keytotext' library.\n",
        "\n",
        "- We will be generating 200 sentences each for CS keywords and Non-CS keywords and label them as 'CS' and 'Non-CS'"
      ],
      "metadata": {
        "id": "3EE_xNZhaxR7"
      }
    },
    {
      "cell_type": "code",
      "source": [
        "# install keytotext  Reference: https://github.com/gagan3012/keytotext\n",
        "#!pip install keytotext"
      ],
      "metadata": {
        "id": "rhtLxXi9bSa3"
      },
      "execution_count": null,
      "outputs": []
    },
    {
      "cell_type": "code",
      "source": [
        "from keytotext import pipeline"
      ],
      "metadata": {
        "colab": {
          "base_uri": "https://localhost:8080/"
        },
        "id": "n0WDGoA_bjuC",
        "outputId": "b54eba0b-5f09-4392-b735-a5570f5b3d41"
      },
      "execution_count": null,
      "outputs": [
        {
          "output_type": "stream",
          "name": "stderr",
          "text": [
            "Global seed set to 42\n"
          ]
        }
      ]
    },
    {
      "cell_type": "code",
      "source": [
        "nlp = pipeline(\"k2t-base\")"
      ],
      "metadata": {
        "colab": {
          "base_uri": "https://localhost:8080/",
          "height": 113,
          "referenced_widgets": [
            "ad7b301be24b434caec4da514686e112",
            "10c9750d97fc4d56b4192332023ea5d9",
            "1d88287dcf5145979535d52c1ad6d475",
            "dbe68c88136b43248b5f564f4b01eabb",
            "e2cf24567a7c4f868d972eea79c40e1e",
            "65d661ee35d64ccfb276bdfb62dbb8d7",
            "9dc9baf199d14dcdafdf2220564c434a",
            "0a240c23b63d460099e1f853a0d9b950",
            "47ed8e1cda0f42ac9095123ca108b5b6",
            "335e841a92a147858eb5cdc621e99064",
            "e55343c29d7c46f9ba9d8231a8ab4c2d",
            "f8399dd8769d41e18f9a8c51b1a205d6",
            "66bb57575c144636b4df2cd4ac65ad77",
            "824aed6fdf68443e97dd9e7ae8e65ced",
            "4e64e17aa77b40e0b9a38361db15f624",
            "bdc6e964c5bd4d71b2404032e12eeaee",
            "3a4b1ed5097145388df411fb546a6d9c",
            "b4b7d25ec147443fbd20d876c6f03149",
            "6d9818207579412e8f5cbf45a4f829ce",
            "4be6ef7382a64e5f8c01c2df1ae8bf91",
            "10175e10c893423e9369b5f036ebad02",
            "faa8094f8d174ff9ad72aca3500d2ad0",
            "3fa7b1e2e62d421784963ae29503a620",
            "140e536743fc4d6ca2086ec2afcb588a",
            "692636c09fc846de9faa4356685c5656",
            "358985c4b76f4fddb995d8cd8b0941c8",
            "0de99d0f753f414480d29f327ac2c326",
            "306366de93cc43d281b764a97636d24c",
            "2873a3fd33dc43a3b05de2c3350ca5cf",
            "44ae46e80b2c48e792df7ec58f83ebf0",
            "a3b8151f5cd74ade8d38a7a1b00ea994",
            "265c14ba9cd64c1cb8dd929916966943",
            "260f744fc73142f0b92e485a01cd4193"
          ]
        },
        "id": "QDS0p0OublWF",
        "outputId": "6b7bd17e-473f-40df-af52-dd7abbdd8e85"
      },
      "execution_count": null,
      "outputs": [
        {
          "output_type": "display_data",
          "data": {
            "text/plain": [
              "Downloading:   0%|          | 0.00/1.17k [00:00<?, ?B/s]"
            ],
            "application/vnd.jupyter.widget-view+json": {
              "version_major": 2,
              "version_minor": 0,
              "model_id": "ad7b301be24b434caec4da514686e112"
            }
          },
          "metadata": {}
        },
        {
          "output_type": "display_data",
          "data": {
            "text/plain": [
              "Downloading:   0%|          | 0.00/1.32M [00:00<?, ?B/s]"
            ],
            "application/vnd.jupyter.widget-view+json": {
              "version_major": 2,
              "version_minor": 0,
              "model_id": "f8399dd8769d41e18f9a8c51b1a205d6"
            }
          },
          "metadata": {}
        },
        {
          "output_type": "display_data",
          "data": {
            "text/plain": [
              "Downloading:   0%|          | 0.00/850M [00:00<?, ?B/s]"
            ],
            "application/vnd.jupyter.widget-view+json": {
              "version_major": 2,
              "version_minor": 0,
              "model_id": "3fa7b1e2e62d421784963ae29503a620"
            }
          },
          "metadata": {}
        }
      ]
    },
    {
      "cell_type": "code",
      "source": [
        "params = {\"do_sample\":False, \"num_beams\":2, \"no_repeat_ngram_size\":1, \"early_stopping\":True}"
      ],
      "metadata": {
        "id": "3tdIb6d6ciYU"
      },
      "execution_count": null,
      "outputs": []
    },
    {
      "cell_type": "code",
      "source": [
        "import pandas as pd\n",
        "import random\n",
        "cs_df = pd.DataFrame(columns=['text', 'label'])\n",
        "non_cs_df = pd.DataFrame(columns=['text', 'label'])"
      ],
      "metadata": {
        "id": "eoTh6VhTcvJ0"
      },
      "execution_count": null,
      "outputs": []
    },
    {
      "cell_type": "markdown",
      "source": [
        "#### Step 1.3 Generate 200 CS Samples"
      ],
      "metadata": {
        "id": "9NmgRxV8l-ku"
      }
    },
    {
      "cell_type": "code",
      "source": [
        "# generate 200 CS samples\n",
        "for i in range(200):\n",
        "  # pick random 5 computer science words and make a sentence with it\n",
        "  target_words = random.sample(computer_science_key_words, 10)\n",
        "  text_i = nlp(target_words, **params).replace(\"|\", \" \").replace('[/<unk>\"', ' ')\n",
        "  cs_df.loc[i, 'text'] = text_i\n",
        "  cs_df.loc[i, 'label'] = 'CS'\n",
        "  if i!=0 and i%100 == 0:\n",
        "    print(f\"Generated {i} sentences\")"
      ],
      "metadata": {
        "colab": {
          "base_uri": "https://localhost:8080/"
        },
        "id": "DKYGX_n_clXf",
        "outputId": "b21428d4-5da6-4f49-a2fc-5e5cb75383ea"
      },
      "execution_count": null,
      "outputs": [
        {
          "output_type": "stream",
          "name": "stdout",
          "text": [
            "Generated 100 sentences\n"
          ]
        }
      ]
    },
    {
      "cell_type": "code",
      "source": [
        "cs_df.shape"
      ],
      "metadata": {
        "colab": {
          "base_uri": "https://localhost:8080/"
        },
        "id": "a7e2Wj3HgNJZ",
        "outputId": "8c91ed08-ba2a-4394-a822-1a9e66c3f22c"
      },
      "execution_count": null,
      "outputs": [
        {
          "output_type": "execute_result",
          "data": {
            "text/plain": [
              "(200, 2)"
            ]
          },
          "metadata": {},
          "execution_count": 59
        }
      ]
    },
    {
      "cell_type": "code",
      "source": [
        "cs_df.head()"
      ],
      "metadata": {
        "colab": {
          "base_uri": "https://localhost:8080/",
          "height": 206
        },
        "id": "sg3bFKh6cnob",
        "outputId": "1bac2c5f-0f79-4d24-a24b-079584f380ed"
      },
      "execution_count": 136,
      "outputs": [
        {
          "output_type": "execute_result",
          "data": {
            "text/plain": [
              "                                                               text label\n",
              "0  Analog I/O is assigned to the machine that uses a Kilo intensive    CS\n",
              "1                   The Ram s base is in the Township of Syntax HW.    CS\n",
              "2           Syntax is a two way video game with an algorithm of HW.    CS\n",
              "3       I/O is the source of a program called Machine Bowlean  that    CS\n",
              "4               The callsign Kilobyte  with the Unicode of  Shame      CS"
            ],
            "text/html": [
              "\n",
              "  <div id=\"df-a49720cf-2823-4ace-94c0-3598c47115d9\">\n",
              "    <div class=\"colab-df-container\">\n",
              "      <div>\n",
              "<style scoped>\n",
              "    .dataframe tbody tr th:only-of-type {\n",
              "        vertical-align: middle;\n",
              "    }\n",
              "\n",
              "    .dataframe tbody tr th {\n",
              "        vertical-align: top;\n",
              "    }\n",
              "\n",
              "    .dataframe thead th {\n",
              "        text-align: right;\n",
              "    }\n",
              "</style>\n",
              "<table border=\"1\" class=\"dataframe\">\n",
              "  <thead>\n",
              "    <tr style=\"text-align: right;\">\n",
              "      <th></th>\n",
              "      <th>text</th>\n",
              "      <th>label</th>\n",
              "    </tr>\n",
              "  </thead>\n",
              "  <tbody>\n",
              "    <tr>\n",
              "      <th>0</th>\n",
              "      <td>Analog I/O is assigned to the machine that uses a Kilo intensive</td>\n",
              "      <td>CS</td>\n",
              "    </tr>\n",
              "    <tr>\n",
              "      <th>1</th>\n",
              "      <td>The Ram s base is in the Township of Syntax HW.</td>\n",
              "      <td>CS</td>\n",
              "    </tr>\n",
              "    <tr>\n",
              "      <th>2</th>\n",
              "      <td>Syntax is a two way video game with an algorithm of HW.</td>\n",
              "      <td>CS</td>\n",
              "    </tr>\n",
              "    <tr>\n",
              "      <th>3</th>\n",
              "      <td>I/O is the source of a program called Machine Bowlean  that</td>\n",
              "      <td>CS</td>\n",
              "    </tr>\n",
              "    <tr>\n",
              "      <th>4</th>\n",
              "      <td>The callsign Kilobyte  with the Unicode of  Shame</td>\n",
              "      <td>CS</td>\n",
              "    </tr>\n",
              "  </tbody>\n",
              "</table>\n",
              "</div>\n",
              "      <button class=\"colab-df-convert\" onclick=\"convertToInteractive('df-a49720cf-2823-4ace-94c0-3598c47115d9')\"\n",
              "              title=\"Convert this dataframe to an interactive table.\"\n",
              "              style=\"display:none;\">\n",
              "        \n",
              "  <svg xmlns=\"http://www.w3.org/2000/svg\" height=\"24px\"viewBox=\"0 0 24 24\"\n",
              "       width=\"24px\">\n",
              "    <path d=\"M0 0h24v24H0V0z\" fill=\"none\"/>\n",
              "    <path d=\"M18.56 5.44l.94 2.06.94-2.06 2.06-.94-2.06-.94-.94-2.06-.94 2.06-2.06.94zm-11 1L8.5 8.5l.94-2.06 2.06-.94-2.06-.94L8.5 2.5l-.94 2.06-2.06.94zm10 10l.94 2.06.94-2.06 2.06-.94-2.06-.94-.94-2.06-.94 2.06-2.06.94z\"/><path d=\"M17.41 7.96l-1.37-1.37c-.4-.4-.92-.59-1.43-.59-.52 0-1.04.2-1.43.59L10.3 9.45l-7.72 7.72c-.78.78-.78 2.05 0 2.83L4 21.41c.39.39.9.59 1.41.59.51 0 1.02-.2 1.41-.59l7.78-7.78 2.81-2.81c.8-.78.8-2.07 0-2.86zM5.41 20L4 18.59l7.72-7.72 1.47 1.35L5.41 20z\"/>\n",
              "  </svg>\n",
              "      </button>\n",
              "      \n",
              "  <style>\n",
              "    .colab-df-container {\n",
              "      display:flex;\n",
              "      flex-wrap:wrap;\n",
              "      gap: 12px;\n",
              "    }\n",
              "\n",
              "    .colab-df-convert {\n",
              "      background-color: #E8F0FE;\n",
              "      border: none;\n",
              "      border-radius: 50%;\n",
              "      cursor: pointer;\n",
              "      display: none;\n",
              "      fill: #1967D2;\n",
              "      height: 32px;\n",
              "      padding: 0 0 0 0;\n",
              "      width: 32px;\n",
              "    }\n",
              "\n",
              "    .colab-df-convert:hover {\n",
              "      background-color: #E2EBFA;\n",
              "      box-shadow: 0px 1px 2px rgba(60, 64, 67, 0.3), 0px 1px 3px 1px rgba(60, 64, 67, 0.15);\n",
              "      fill: #174EA6;\n",
              "    }\n",
              "\n",
              "    [theme=dark] .colab-df-convert {\n",
              "      background-color: #3B4455;\n",
              "      fill: #D2E3FC;\n",
              "    }\n",
              "\n",
              "    [theme=dark] .colab-df-convert:hover {\n",
              "      background-color: #434B5C;\n",
              "      box-shadow: 0px 1px 3px 1px rgba(0, 0, 0, 0.15);\n",
              "      filter: drop-shadow(0px 1px 2px rgba(0, 0, 0, 0.3));\n",
              "      fill: #FFFFFF;\n",
              "    }\n",
              "  </style>\n",
              "\n",
              "      <script>\n",
              "        const buttonEl =\n",
              "          document.querySelector('#df-a49720cf-2823-4ace-94c0-3598c47115d9 button.colab-df-convert');\n",
              "        buttonEl.style.display =\n",
              "          google.colab.kernel.accessAllowed ? 'block' : 'none';\n",
              "\n",
              "        async function convertToInteractive(key) {\n",
              "          const element = document.querySelector('#df-a49720cf-2823-4ace-94c0-3598c47115d9');\n",
              "          const dataTable =\n",
              "            await google.colab.kernel.invokeFunction('convertToInteractive',\n",
              "                                                     [key], {});\n",
              "          if (!dataTable) return;\n",
              "\n",
              "          const docLinkHtml = 'Like what you see? Visit the ' +\n",
              "            '<a target=\"_blank\" href=https://colab.research.google.com/notebooks/data_table.ipynb>data table notebook</a>'\n",
              "            + ' to learn more about interactive tables.';\n",
              "          element.innerHTML = '';\n",
              "          dataTable['output_type'] = 'display_data';\n",
              "          await google.colab.output.renderOutput(dataTable, element);\n",
              "          const docLink = document.createElement('div');\n",
              "          docLink.innerHTML = docLinkHtml;\n",
              "          element.appendChild(docLink);\n",
              "        }\n",
              "      </script>\n",
              "    </div>\n",
              "  </div>\n",
              "  "
            ]
          },
          "metadata": {},
          "execution_count": 136
        }
      ]
    },
    {
      "cell_type": "markdown",
      "source": [
        "#### Step 1.4: Add some noise to the generated CS sentences to obtain some repetition as per our project use case\n"
      ],
      "metadata": {
        "id": "j2hEbjhUjxae"
      }
    },
    {
      "cell_type": "code",
      "source": [
        "import re\n",
        "for idx, row in cs_df.iterrows():\n",
        "  choices = [1,2,3, 4]\n",
        "  selected_choice = random.sample(choices, 1)[0]\n",
        "  if selected_choice == 1:\n",
        "    text_to_write = row['text'] + \" \" + row[\"text\"]\n",
        "  elif selected_choice == 2:\n",
        "    # add noise from non-CS keywords\n",
        "    text_to_write  = row['text'] + \" \" + \" \".join(random.sample(non_cs_keywords, 5))\n",
        "  elif selected_choice == 3:\n",
        "    text_to_write  = row['text'] + \" \" + row[\"text\"][:-20]\n",
        "  else:\n",
        "    #add noise from non-CS keywords\n",
        "    text_to_write  = \" \".join(random.sample(non_cs_keywords, 5)) + \" \" + row['text'] + \" \" + \" \".join(random.sample(computer_science_key_words, 5))\n",
        "  text_to_write = re.sub('[^a-zA-Z0-9 \\n\\.]', ' ',text_to_write)\n",
        "  text_to_write = text_to_write.replace(\"I O\", \"I/O\")\n",
        "  cs_df.loc[idx, 'text']  = text_to_write"
      ],
      "metadata": {
        "id": "QBIo0fjOho1z"
      },
      "execution_count": 243,
      "outputs": []
    },
    {
      "cell_type": "code",
      "source": [
        "cs_df[:5]['text'].tolist()"
      ],
      "metadata": {
        "colab": {
          "base_uri": "https://localhost:8080/"
        },
        "id": "Rp848GI-lhgg",
        "outputId": "5c661cdb-cc06-4350-a7de-67e546862868"
      },
      "execution_count": 244,
      "outputs": [
        {
          "output_type": "execute_result",
          "data": {
            "text/plain": [
              "['Clock Kilo  Kilobyte Abstraction Operator Analog I/O is assigned to the machine that uses a Kilo intensive IT Boot Abstraction Chip Exception Clock Kilo  Kilobyte Abstraction Operator Analog I/O is assigned to the machine that uses a Kilo intensive IT Boot Abstra',\n",
              " 'IT Call sharing Peta  Telepresence The Ram s base is in the Township of Syntax HW. Motherboard Unicode Nano  Peta  IT william majestic Johnny paris male',\n",
              " 'impartial superman heaven lackluster smoking Syntax is a two way video game with an algorithm of HW. Syntax is a two way video game with UNIX Supercomputer Clock Assignment Chip',\n",
              " 'Abstraction Boot Boolean Supercomputer Southbridge I/O is the source of a program called Machine Bowlean  that Time RAM Peta  Drone Assignment Abstraction Boot Boolean Supercomputer Southbridge I/O is the source of a program called Machine Bowlean  that Time RAM Peta  Drone Assignment',\n",
              " 'The callsign Kilobyte  with the Unicode of  Shame   The callsign Kilobyte  with the Unicode of  Shame   The callsign Kilobyte  with the Unicode of  Shame   The callsign Kilobyte  with the Unicode of  Shame  ']"
            ]
          },
          "metadata": {},
          "execution_count": 244
        }
      ]
    },
    {
      "cell_type": "code",
      "source": [
        "cs_df.to_csv(\"cs_df.csv\", index=False) # save to local drive"
      ],
      "metadata": {
        "id": "vVG5JHxQk-dF"
      },
      "execution_count": 342,
      "outputs": []
    },
    {
      "cell_type": "markdown",
      "source": [
        "#### Step 1.5 Generate Non-CS Samples"
      ],
      "metadata": {
        "id": "xfiXiKE0mC1b"
      }
    },
    {
      "cell_type": "code",
      "source": [
        "# generate 200 Non - CS samples\n",
        "for i in range(200):\n",
        "  # pick random 5 computer science words and make a sentence with it\n",
        "  target_words = random.sample(non_cs_keywords, 10)\n",
        "  text_i = nlp(target_words, **params).replace(\"|\", \" \").replace('[/<unk>\"', ' ')\n",
        "  non_cs_df.loc[i, 'text'] = text_i\n",
        "  non_cs_df.loc[i, 'label'] = 'Non-CS'\n",
        "  if i!=0 and i%100 == 0:\n",
        "    print(f\"Generated {i} sentences\")"
      ],
      "metadata": {
        "colab": {
          "base_uri": "https://localhost:8080/"
        },
        "id": "ayixCahsgPmA",
        "outputId": "f7236afc-a280-4cc9-f849-671f27c8d192"
      },
      "execution_count": null,
      "outputs": [
        {
          "output_type": "stream",
          "name": "stdout",
          "text": [
            "Generated 100 sentences\n"
          ]
        }
      ]
    },
    {
      "cell_type": "code",
      "source": [
        "non_cs_df.shape"
      ],
      "metadata": {
        "colab": {
          "base_uri": "https://localhost:8080/"
        },
        "id": "P_dzZSnklINR",
        "outputId": "6f95a663-642e-4dac-9b31-83315512e4c6"
      },
      "execution_count": null,
      "outputs": [
        {
          "output_type": "execute_result",
          "data": {
            "text/plain": [
              "(200, 2)"
            ]
          },
          "metadata": {},
          "execution_count": 63
        }
      ]
    },
    {
      "cell_type": "code",
      "source": [
        "non_cs_df[:5]['text'].tolist()"
      ],
      "metadata": {
        "colab": {
          "base_uri": "https://localhost:8080/"
        },
        "id": "OM91YZ7nlLAC",
        "outputId": "2610601e-7ec9-476f-c06f-a3b8084c8ed9"
      },
      "execution_count": 143,
      "outputs": [
        {
          "output_type": "execute_result",
          "data": {
            "text/plain": [
              "['The moonbeam is superman  while the lustrous and unrelated to it ',\n",
              " 'Invulnerable  lonely and shyly tendulkar is utah ',\n",
              " 'The bowler of the word  lustrous  is umpire and sheadcap',\n",
              " 'The bowler tiger  which has a tint of white and is otherwise known as',\n",
              " 'Sachin s footballmonumental has a lackluster in bowler  which is']"
            ]
          },
          "metadata": {},
          "execution_count": 143
        }
      ]
    },
    {
      "cell_type": "markdown",
      "source": [
        "####  Step 1.6: Add some noise to generate Non-CS sentences to match with our project requirement"
      ],
      "metadata": {
        "id": "7P6-U8K2mR_j"
      }
    },
    {
      "cell_type": "code",
      "source": [
        "import re\n",
        "for idx, row in non_cs_df.iterrows():\n",
        "  choices = [1,2,3, 4]\n",
        "  selected_choice = random.sample(choices, 1)[0]\n",
        "  if selected_choice == 1:\n",
        "    text_to_write = row['text'] + \" \" + row[\"text\"]\n",
        "  elif selected_choice == 2:\n",
        "    text_to_write  = row['text'] + \" \" + \" \".join(random.sample(computer_science_key_words, 5))\n",
        "  elif selected_choice == 3:\n",
        "    text_to_write  = row['text'] + \" \" + row[\"text\"][:-20]\n",
        "  else:\n",
        "    text_to_write  = \" \".join(random.sample(computer_science_key_words, 5)) + \" \" + row['text'] + \" \" + \" \".join(random.sample(non_cs_keywords, 5))\n",
        "  text_to_write = re.sub('[^a-zA-Z0-9 \\n\\.]', ' ',text_to_write)\n",
        "  text_to_write = text_to_write.replace(\"I O\", \"I/O\")\n",
        "  non_cs_df.loc[idx, 'text']  = text_to_write"
      ],
      "metadata": {
        "id": "wQnMowQfmMYA"
      },
      "execution_count": 245,
      "outputs": []
    },
    {
      "cell_type": "code",
      "source": [
        "non_cs_df[:5]['text'].tolist()"
      ],
      "metadata": {
        "colab": {
          "base_uri": "https://localhost:8080/"
        },
        "id": "j4Vkmww8mr3N",
        "outputId": "9eac1058-8b25-4563-90c5-f5538d148a52"
      },
      "execution_count": 246,
      "outputs": [
        {
          "output_type": "execute_result",
          "data": {
            "text/plain": [
              "['The moonbeam is superman  while the lustrous and unrelated to it  The moonbeam is superman  while the lustrous and unrelated to it  The moonbeam is superman  while the lustrous and unrelated to it  The moonbeam is superman  while the lustrous ',\n",
              " 'Invulnerable  lonely and shyly tendulkar is utah  Invulnerable  lonely and shyly tendulkar is utah  HW Drone drive Software Motherboard',\n",
              " 'The bowler of the word  lustrous  is umpire and sheadcap The bowler of the word  lustrous  is umpire and sheadcap The bowler of the word  lustrous  is umpire and sheadcap The bowler of the word  lustrous  is',\n",
              " 'The bowler tiger  which has a tint of white and is otherwise known as utah umpire playing lion California The bowler tiger  which has a tint of white and is otherwise known as utah umpire playing lion California',\n",
              " 'Sachin s footballmonumental has a lackluster in bowler  which is Sachin s footballmonumental has a lackluster in bowler  which is Sachin s footballmonumental has a lackluster in bowler  which is Sachin s footballmonumental has a lackluster in bowler  which is']"
            ]
          },
          "metadata": {},
          "execution_count": 246
        }
      ]
    },
    {
      "cell_type": "code",
      "source": [
        "non_cs_df.to_csv(\"non_cs_df.csv\", index=False)"
      ],
      "metadata": {
        "id": "hNbkqznZlNfh"
      },
      "execution_count": 343,
      "outputs": []
    },
    {
      "cell_type": "code",
      "source": [
        "# Concat (Merge) the CS records and Non-CS records\n",
        "dataset_df = pd.concat([cs_df, non_cs_df], ignore_index=True)\n",
        "dataset_df = dataset_df.sample(frac=1, random_state=42)\n",
        "dataset_df.reset_index(drop=True, inplace=True)\n",
        "print(dataset_df.shape)\n",
        "dataset_df.head()"
      ],
      "metadata": {
        "colab": {
          "base_uri": "https://localhost:8080/",
          "height": 320
        },
        "id": "ppWn14v2mWAP",
        "outputId": "5a3cc806-318c-4c22-d61b-de291b8f24cb"
      },
      "execution_count": 247,
      "outputs": [
        {
          "output_type": "stream",
          "name": "stdout",
          "text": [
            "(400, 2)\n"
          ]
        },
        {
          "output_type": "execute_result",
          "data": {
            "text/plain": [
              "                                                                                                                                                                                                                               text  \\\n",
              "0                                                             Umpire was amazed by the moonbeam. invulnerable noiseless amazement Movie elephant Umpire was amazed by the moonbeam. invulnerable noiseless amazement Movie elephant   \n",
              "1  database UNIX algorithm Error Kilobyte amazement parliment California england shaksphere The movie Utah  with the lackluster of  angry   is invul batsman heaven Sachin tendulkar impartial chicken Movie Sachin drinking batman   \n",
              "2                                                          elephant heaven utah majestic womanmadcap The Clock Unicoded for the program is part of Analog. The Clock Unicoded for the progra Software Drone Syntax Nest programming   \n",
              "3                               Emacs UNIX Base RAM Memory batman Johnny batsman female shaksphere A Tiger is a dish that can be found in the UTAh ut bowler majestic Sachin batman Johnny noiseless lackluster paris man parliment   \n",
              "4                       Emacs is a source of Syntax and the abbreviation  Abtraction Emacs is a source of Syntax and the abbr Emacs is a source of Syntax and the abbreviation  Abtraction Emacs is a source of Syntax and the abbr   \n",
              "\n",
              "    label  \n",
              "0  Non-CS  \n",
              "1  Non-CS  \n",
              "2      CS  \n",
              "3  Non-CS  \n",
              "4      CS  "
            ],
            "text/html": [
              "\n",
              "  <div id=\"df-f3f3d70a-2f88-43b7-a28e-e0eb15f9c729\">\n",
              "    <div class=\"colab-df-container\">\n",
              "      <div>\n",
              "<style scoped>\n",
              "    .dataframe tbody tr th:only-of-type {\n",
              "        vertical-align: middle;\n",
              "    }\n",
              "\n",
              "    .dataframe tbody tr th {\n",
              "        vertical-align: top;\n",
              "    }\n",
              "\n",
              "    .dataframe thead th {\n",
              "        text-align: right;\n",
              "    }\n",
              "</style>\n",
              "<table border=\"1\" class=\"dataframe\">\n",
              "  <thead>\n",
              "    <tr style=\"text-align: right;\">\n",
              "      <th></th>\n",
              "      <th>text</th>\n",
              "      <th>label</th>\n",
              "    </tr>\n",
              "  </thead>\n",
              "  <tbody>\n",
              "    <tr>\n",
              "      <th>0</th>\n",
              "      <td>Umpire was amazed by the moonbeam. invulnerable noiseless amazement Movie elephant Umpire was amazed by the moonbeam. invulnerable noiseless amazement Movie elephant</td>\n",
              "      <td>Non-CS</td>\n",
              "    </tr>\n",
              "    <tr>\n",
              "      <th>1</th>\n",
              "      <td>database UNIX algorithm Error Kilobyte amazement parliment California england shaksphere The movie Utah  with the lackluster of  angry   is invul batsman heaven Sachin tendulkar impartial chicken Movie Sachin drinking batman</td>\n",
              "      <td>Non-CS</td>\n",
              "    </tr>\n",
              "    <tr>\n",
              "      <th>2</th>\n",
              "      <td>elephant heaven utah majestic womanmadcap The Clock Unicoded for the program is part of Analog. The Clock Unicoded for the progra Software Drone Syntax Nest programming</td>\n",
              "      <td>CS</td>\n",
              "    </tr>\n",
              "    <tr>\n",
              "      <th>3</th>\n",
              "      <td>Emacs UNIX Base RAM Memory batman Johnny batsman female shaksphere A Tiger is a dish that can be found in the UTAh ut bowler majestic Sachin batman Johnny noiseless lackluster paris man parliment</td>\n",
              "      <td>Non-CS</td>\n",
              "    </tr>\n",
              "    <tr>\n",
              "      <th>4</th>\n",
              "      <td>Emacs is a source of Syntax and the abbreviation  Abtraction Emacs is a source of Syntax and the abbr Emacs is a source of Syntax and the abbreviation  Abtraction Emacs is a source of Syntax and the abbr</td>\n",
              "      <td>CS</td>\n",
              "    </tr>\n",
              "  </tbody>\n",
              "</table>\n",
              "</div>\n",
              "      <button class=\"colab-df-convert\" onclick=\"convertToInteractive('df-f3f3d70a-2f88-43b7-a28e-e0eb15f9c729')\"\n",
              "              title=\"Convert this dataframe to an interactive table.\"\n",
              "              style=\"display:none;\">\n",
              "        \n",
              "  <svg xmlns=\"http://www.w3.org/2000/svg\" height=\"24px\"viewBox=\"0 0 24 24\"\n",
              "       width=\"24px\">\n",
              "    <path d=\"M0 0h24v24H0V0z\" fill=\"none\"/>\n",
              "    <path d=\"M18.56 5.44l.94 2.06.94-2.06 2.06-.94-2.06-.94-.94-2.06-.94 2.06-2.06.94zm-11 1L8.5 8.5l.94-2.06 2.06-.94-2.06-.94L8.5 2.5l-.94 2.06-2.06.94zm10 10l.94 2.06.94-2.06 2.06-.94-2.06-.94-.94-2.06-.94 2.06-2.06.94z\"/><path d=\"M17.41 7.96l-1.37-1.37c-.4-.4-.92-.59-1.43-.59-.52 0-1.04.2-1.43.59L10.3 9.45l-7.72 7.72c-.78.78-.78 2.05 0 2.83L4 21.41c.39.39.9.59 1.41.59.51 0 1.02-.2 1.41-.59l7.78-7.78 2.81-2.81c.8-.78.8-2.07 0-2.86zM5.41 20L4 18.59l7.72-7.72 1.47 1.35L5.41 20z\"/>\n",
              "  </svg>\n",
              "      </button>\n",
              "      \n",
              "  <style>\n",
              "    .colab-df-container {\n",
              "      display:flex;\n",
              "      flex-wrap:wrap;\n",
              "      gap: 12px;\n",
              "    }\n",
              "\n",
              "    .colab-df-convert {\n",
              "      background-color: #E8F0FE;\n",
              "      border: none;\n",
              "      border-radius: 50%;\n",
              "      cursor: pointer;\n",
              "      display: none;\n",
              "      fill: #1967D2;\n",
              "      height: 32px;\n",
              "      padding: 0 0 0 0;\n",
              "      width: 32px;\n",
              "    }\n",
              "\n",
              "    .colab-df-convert:hover {\n",
              "      background-color: #E2EBFA;\n",
              "      box-shadow: 0px 1px 2px rgba(60, 64, 67, 0.3), 0px 1px 3px 1px rgba(60, 64, 67, 0.15);\n",
              "      fill: #174EA6;\n",
              "    }\n",
              "\n",
              "    [theme=dark] .colab-df-convert {\n",
              "      background-color: #3B4455;\n",
              "      fill: #D2E3FC;\n",
              "    }\n",
              "\n",
              "    [theme=dark] .colab-df-convert:hover {\n",
              "      background-color: #434B5C;\n",
              "      box-shadow: 0px 1px 3px 1px rgba(0, 0, 0, 0.15);\n",
              "      filter: drop-shadow(0px 1px 2px rgba(0, 0, 0, 0.3));\n",
              "      fill: #FFFFFF;\n",
              "    }\n",
              "  </style>\n",
              "\n",
              "      <script>\n",
              "        const buttonEl =\n",
              "          document.querySelector('#df-f3f3d70a-2f88-43b7-a28e-e0eb15f9c729 button.colab-df-convert');\n",
              "        buttonEl.style.display =\n",
              "          google.colab.kernel.accessAllowed ? 'block' : 'none';\n",
              "\n",
              "        async function convertToInteractive(key) {\n",
              "          const element = document.querySelector('#df-f3f3d70a-2f88-43b7-a28e-e0eb15f9c729');\n",
              "          const dataTable =\n",
              "            await google.colab.kernel.invokeFunction('convertToInteractive',\n",
              "                                                     [key], {});\n",
              "          if (!dataTable) return;\n",
              "\n",
              "          const docLinkHtml = 'Like what you see? Visit the ' +\n",
              "            '<a target=\"_blank\" href=https://colab.research.google.com/notebooks/data_table.ipynb>data table notebook</a>'\n",
              "            + ' to learn more about interactive tables.';\n",
              "          element.innerHTML = '';\n",
              "          dataTable['output_type'] = 'display_data';\n",
              "          await google.colab.output.renderOutput(dataTable, element);\n",
              "          const docLink = document.createElement('div');\n",
              "          docLink.innerHTML = docLinkHtml;\n",
              "          element.appendChild(docLink);\n",
              "        }\n",
              "      </script>\n",
              "    </div>\n",
              "  </div>\n",
              "  "
            ]
          },
          "metadata": {},
          "execution_count": 247
        }
      ]
    },
    {
      "cell_type": "code",
      "source": [
        "# validate distribution = Balanced dataset\n",
        "dataset_df.label.value_counts()"
      ],
      "metadata": {
        "colab": {
          "base_uri": "https://localhost:8080/"
        },
        "id": "dT5KCHz9nFFe",
        "outputId": "bc686912-6da4-4730-8f9a-8395a48ff6cd"
      },
      "execution_count": 248,
      "outputs": [
        {
          "output_type": "execute_result",
          "data": {
            "text/plain": [
              "Non-CS    200\n",
              "CS        200\n",
              "Name: label, dtype: int64"
            ]
          },
          "metadata": {},
          "execution_count": 248
        }
      ]
    },
    {
      "cell_type": "code",
      "source": [
        "dataset_df.to_csv(\"full_dataset.csv\", index=False)"
      ],
      "metadata": {
        "id": "PlbRiDdTmzD9"
      },
      "execution_count": 345,
      "outputs": []
    },
    {
      "cell_type": "markdown",
      "source": [
        "#### Step 1.7  **Prepare Keywords Vocabulary to be used in Vectorization**"
      ],
      "metadata": {
        "id": "o5GYoIKAoiXi"
      }
    },
    {
      "cell_type": "code",
      "source": [
        "# shuffle the vocabulary\n",
        "random.Random(42).shuffle(all_key_words_vocabulary)"
      ],
      "metadata": {
        "id": "vE08kDsUptKu"
      },
      "execution_count": 249,
      "outputs": []
    },
    {
      "cell_type": "code",
      "source": [
        "keywords_with_indices = {word: idx for idx, word in enumerate(all_key_words_vocabulary)}"
      ],
      "metadata": {
        "id": "AEoR-rm2opJC"
      },
      "execution_count": 250,
      "outputs": []
    },
    {
      "cell_type": "code",
      "source": [
        "# print 5 elements to check\n",
        "for idx, (key, val) in enumerate(keywords_with_indices.items()):\n",
        "  print(f\"{key}-{val}\")\n",
        "  if idx == 5:\n",
        "    break"
      ],
      "metadata": {
        "colab": {
          "base_uri": "https://localhost:8080/"
        },
        "id": "WHWOi36pZ9sQ",
        "outputId": "cc91fba6-f414-4a3f-dff1-7a0715723eed"
      },
      "execution_count": 251,
      "outputs": [
        {
          "output_type": "stream",
          "name": "stdout",
          "text": [
            "UNIX-0\n",
            "england-1\n",
            "batman-2\n",
            "male-3\n",
            "Machine-4\n",
            "bowler-5\n"
          ]
        }
      ]
    },
    {
      "cell_type": "markdown",
      "source": [
        "#### Step 1.8: **Split Train and Test set**"
      ],
      "metadata": {
        "id": "jCqHL65drH1h"
      }
    },
    {
      "cell_type": "code",
      "source": [
        "# let us do 80-20 train test split with equal distribution\n",
        "# let us do train test split with balanced distribution\n",
        "index_split = int(0.2 * 200)\n",
        "index_split"
      ],
      "metadata": {
        "id": "wU29GPSZrG32",
        "colab": {
          "base_uri": "https://localhost:8080/"
        },
        "outputId": "3f45489a-3341-4e94-b3f9-5ca4b61b0124"
      },
      "execution_count": 252,
      "outputs": [
        {
          "output_type": "execute_result",
          "data": {
            "text/plain": [
              "40"
            ]
          },
          "metadata": {},
          "execution_count": 252
        }
      ]
    },
    {
      "cell_type": "code",
      "source": [
        "train_cs_df = cs_df[index_split:]\n",
        "test_cs_df = cs_df[:index_split]\n",
        "print(train_cs_df.shape, test_cs_df.shape)"
      ],
      "metadata": {
        "id": "xW2bkRURrC2Q",
        "colab": {
          "base_uri": "https://localhost:8080/"
        },
        "outputId": "ec607159-0c0e-4e0a-ddbb-951e2bf8e659"
      },
      "execution_count": 253,
      "outputs": [
        {
          "output_type": "stream",
          "name": "stdout",
          "text": [
            "(160, 2) (40, 2)\n"
          ]
        }
      ]
    },
    {
      "cell_type": "code",
      "source": [
        "train_non_cs_df = non_cs_df[index_split:]\n",
        "test_non_cs_df = non_cs_df[:index_split]\n",
        "print(train_non_cs_df.shape, test_non_cs_df.shape)"
      ],
      "metadata": {
        "colab": {
          "base_uri": "https://localhost:8080/"
        },
        "id": "IxF4s9Rgc6T7",
        "outputId": "9e4b6809-01b8-4665-da8c-f5717701535b"
      },
      "execution_count": 254,
      "outputs": [
        {
          "output_type": "stream",
          "name": "stdout",
          "text": [
            "(160, 2) (40, 2)\n"
          ]
        }
      ]
    },
    {
      "cell_type": "code",
      "source": [
        "train_df = pd.concat([train_cs_df, train_non_cs_df], ignore_index=True).sample(frac=1, random_state=42)\n",
        "train_df.reset_index(drop=True, inplace=True)\n",
        "train_df.shape"
      ],
      "metadata": {
        "colab": {
          "base_uri": "https://localhost:8080/"
        },
        "id": "l1PC16rXc6lQ",
        "outputId": "d3ca0815-feea-46de-caf7-7fc9553f3550"
      },
      "execution_count": 255,
      "outputs": [
        {
          "output_type": "execute_result",
          "data": {
            "text/plain": [
              "(320, 2)"
            ]
          },
          "metadata": {},
          "execution_count": 255
        }
      ]
    },
    {
      "cell_type": "code",
      "source": [
        "train_df.label.value_counts()"
      ],
      "metadata": {
        "colab": {
          "base_uri": "https://localhost:8080/"
        },
        "id": "qXsziTnudrXp",
        "outputId": "4db1796e-5ae6-4747-c7cf-762505a53d8b"
      },
      "execution_count": 256,
      "outputs": [
        {
          "output_type": "execute_result",
          "data": {
            "text/plain": [
              "Non-CS    160\n",
              "CS        160\n",
              "Name: label, dtype: int64"
            ]
          },
          "metadata": {},
          "execution_count": 256
        }
      ]
    },
    {
      "cell_type": "code",
      "source": [
        "train_df.head()"
      ],
      "metadata": {
        "colab": {
          "base_uri": "https://localhost:8080/",
          "height": 302
        },
        "id": "0KBLRG4udiHW",
        "outputId": "d74e8b3b-4939-469c-ff2c-6e7d0a18e0c7"
      },
      "execution_count": 257,
      "outputs": [
        {
          "output_type": "execute_result",
          "data": {
            "text/plain": [
              "                                                                                                                                                                                                                                              text  \\\n",
              "0                                                                              The film  Swarah  accused  is from Italy s lustulkar impartial paris majestic tiger smoking The film  Swarah  accused  is from Italy s lustulkar impartial paris ma   \n",
              "1  The bowler of Colorado is male and has a variation known as superman. The bowler of Colorado is male and has a variatio The bowler of Colorado is male and has a variation known as superman. The bowler of Colorado is male and has a variatio   \n",
              "2                   heaven playing Colorado invulnerable utah The Unicode for the  United States unk   Supercomputer was used with an The Unicode for the  United States unk   Supercomputer was used with an Cache Machine Thread Program Boolean   \n",
              "3                                                                           The two years it was operated by the Network  Nano   Cache were The two years it was operated by the Network  Nano   Cache were utah drinking spiderman lonely batsman   \n",
              "4                                                California umpire academe smoking male Supercomputer Drone is part of the Emacs system  which has an Exception Supercomputer Drone is part of the Emacs system  wh Time Variable Nest Analog Disk   \n",
              "\n",
              "    label  \n",
              "0  Non-CS  \n",
              "1  Non-CS  \n",
              "2      CS  \n",
              "3      CS  \n",
              "4      CS  "
            ],
            "text/html": [
              "\n",
              "  <div id=\"df-99efd29e-42c6-4d72-9a8f-0f883d4989ba\">\n",
              "    <div class=\"colab-df-container\">\n",
              "      <div>\n",
              "<style scoped>\n",
              "    .dataframe tbody tr th:only-of-type {\n",
              "        vertical-align: middle;\n",
              "    }\n",
              "\n",
              "    .dataframe tbody tr th {\n",
              "        vertical-align: top;\n",
              "    }\n",
              "\n",
              "    .dataframe thead th {\n",
              "        text-align: right;\n",
              "    }\n",
              "</style>\n",
              "<table border=\"1\" class=\"dataframe\">\n",
              "  <thead>\n",
              "    <tr style=\"text-align: right;\">\n",
              "      <th></th>\n",
              "      <th>text</th>\n",
              "      <th>label</th>\n",
              "    </tr>\n",
              "  </thead>\n",
              "  <tbody>\n",
              "    <tr>\n",
              "      <th>0</th>\n",
              "      <td>The film  Swarah  accused  is from Italy s lustulkar impartial paris majestic tiger smoking The film  Swarah  accused  is from Italy s lustulkar impartial paris ma</td>\n",
              "      <td>Non-CS</td>\n",
              "    </tr>\n",
              "    <tr>\n",
              "      <th>1</th>\n",
              "      <td>The bowler of Colorado is male and has a variation known as superman. The bowler of Colorado is male and has a variatio The bowler of Colorado is male and has a variation known as superman. The bowler of Colorado is male and has a variatio</td>\n",
              "      <td>Non-CS</td>\n",
              "    </tr>\n",
              "    <tr>\n",
              "      <th>2</th>\n",
              "      <td>heaven playing Colorado invulnerable utah The Unicode for the  United States unk   Supercomputer was used with an The Unicode for the  United States unk   Supercomputer was used with an Cache Machine Thread Program Boolean</td>\n",
              "      <td>CS</td>\n",
              "    </tr>\n",
              "    <tr>\n",
              "      <th>3</th>\n",
              "      <td>The two years it was operated by the Network  Nano   Cache were The two years it was operated by the Network  Nano   Cache were utah drinking spiderman lonely batsman</td>\n",
              "      <td>CS</td>\n",
              "    </tr>\n",
              "    <tr>\n",
              "      <th>4</th>\n",
              "      <td>California umpire academe smoking male Supercomputer Drone is part of the Emacs system  which has an Exception Supercomputer Drone is part of the Emacs system  wh Time Variable Nest Analog Disk</td>\n",
              "      <td>CS</td>\n",
              "    </tr>\n",
              "  </tbody>\n",
              "</table>\n",
              "</div>\n",
              "      <button class=\"colab-df-convert\" onclick=\"convertToInteractive('df-99efd29e-42c6-4d72-9a8f-0f883d4989ba')\"\n",
              "              title=\"Convert this dataframe to an interactive table.\"\n",
              "              style=\"display:none;\">\n",
              "        \n",
              "  <svg xmlns=\"http://www.w3.org/2000/svg\" height=\"24px\"viewBox=\"0 0 24 24\"\n",
              "       width=\"24px\">\n",
              "    <path d=\"M0 0h24v24H0V0z\" fill=\"none\"/>\n",
              "    <path d=\"M18.56 5.44l.94 2.06.94-2.06 2.06-.94-2.06-.94-.94-2.06-.94 2.06-2.06.94zm-11 1L8.5 8.5l.94-2.06 2.06-.94-2.06-.94L8.5 2.5l-.94 2.06-2.06.94zm10 10l.94 2.06.94-2.06 2.06-.94-2.06-.94-.94-2.06-.94 2.06-2.06.94z\"/><path d=\"M17.41 7.96l-1.37-1.37c-.4-.4-.92-.59-1.43-.59-.52 0-1.04.2-1.43.59L10.3 9.45l-7.72 7.72c-.78.78-.78 2.05 0 2.83L4 21.41c.39.39.9.59 1.41.59.51 0 1.02-.2 1.41-.59l7.78-7.78 2.81-2.81c.8-.78.8-2.07 0-2.86zM5.41 20L4 18.59l7.72-7.72 1.47 1.35L5.41 20z\"/>\n",
              "  </svg>\n",
              "      </button>\n",
              "      \n",
              "  <style>\n",
              "    .colab-df-container {\n",
              "      display:flex;\n",
              "      flex-wrap:wrap;\n",
              "      gap: 12px;\n",
              "    }\n",
              "\n",
              "    .colab-df-convert {\n",
              "      background-color: #E8F0FE;\n",
              "      border: none;\n",
              "      border-radius: 50%;\n",
              "      cursor: pointer;\n",
              "      display: none;\n",
              "      fill: #1967D2;\n",
              "      height: 32px;\n",
              "      padding: 0 0 0 0;\n",
              "      width: 32px;\n",
              "    }\n",
              "\n",
              "    .colab-df-convert:hover {\n",
              "      background-color: #E2EBFA;\n",
              "      box-shadow: 0px 1px 2px rgba(60, 64, 67, 0.3), 0px 1px 3px 1px rgba(60, 64, 67, 0.15);\n",
              "      fill: #174EA6;\n",
              "    }\n",
              "\n",
              "    [theme=dark] .colab-df-convert {\n",
              "      background-color: #3B4455;\n",
              "      fill: #D2E3FC;\n",
              "    }\n",
              "\n",
              "    [theme=dark] .colab-df-convert:hover {\n",
              "      background-color: #434B5C;\n",
              "      box-shadow: 0px 1px 3px 1px rgba(0, 0, 0, 0.15);\n",
              "      filter: drop-shadow(0px 1px 2px rgba(0, 0, 0, 0.3));\n",
              "      fill: #FFFFFF;\n",
              "    }\n",
              "  </style>\n",
              "\n",
              "      <script>\n",
              "        const buttonEl =\n",
              "          document.querySelector('#df-99efd29e-42c6-4d72-9a8f-0f883d4989ba button.colab-df-convert');\n",
              "        buttonEl.style.display =\n",
              "          google.colab.kernel.accessAllowed ? 'block' : 'none';\n",
              "\n",
              "        async function convertToInteractive(key) {\n",
              "          const element = document.querySelector('#df-99efd29e-42c6-4d72-9a8f-0f883d4989ba');\n",
              "          const dataTable =\n",
              "            await google.colab.kernel.invokeFunction('convertToInteractive',\n",
              "                                                     [key], {});\n",
              "          if (!dataTable) return;\n",
              "\n",
              "          const docLinkHtml = 'Like what you see? Visit the ' +\n",
              "            '<a target=\"_blank\" href=https://colab.research.google.com/notebooks/data_table.ipynb>data table notebook</a>'\n",
              "            + ' to learn more about interactive tables.';\n",
              "          element.innerHTML = '';\n",
              "          dataTable['output_type'] = 'display_data';\n",
              "          await google.colab.output.renderOutput(dataTable, element);\n",
              "          const docLink = document.createElement('div');\n",
              "          docLink.innerHTML = docLinkHtml;\n",
              "          element.appendChild(docLink);\n",
              "        }\n",
              "      </script>\n",
              "    </div>\n",
              "  </div>\n",
              "  "
            ]
          },
          "metadata": {},
          "execution_count": 257
        }
      ]
    },
    {
      "cell_type": "code",
      "source": [
        "test_df = pd.concat([test_cs_df, test_non_cs_df], ignore_index=True).sample(frac=1, random_state=42)\n",
        "test_df.reset_index(drop=True, inplace=True)\n",
        "test_df.shape"
      ],
      "metadata": {
        "colab": {
          "base_uri": "https://localhost:8080/"
        },
        "id": "FvO696UZdzll",
        "outputId": "e08e39e6-c42b-4801-da9c-c466bd664920"
      },
      "execution_count": 258,
      "outputs": [
        {
          "output_type": "execute_result",
          "data": {
            "text/plain": [
              "(80, 2)"
            ]
          },
          "metadata": {},
          "execution_count": 258
        }
      ]
    },
    {
      "cell_type": "code",
      "source": [
        "test_df.label.value_counts()"
      ],
      "metadata": {
        "colab": {
          "base_uri": "https://localhost:8080/"
        },
        "id": "m8GZlcZ3d-vs",
        "outputId": "1909ab6c-83ea-4c23-cac2-d974c3e6e23b"
      },
      "execution_count": 259,
      "outputs": [
        {
          "output_type": "execute_result",
          "data": {
            "text/plain": [
              "CS        40\n",
              "Non-CS    40\n",
              "Name: label, dtype: int64"
            ]
          },
          "metadata": {},
          "execution_count": 259
        }
      ]
    },
    {
      "cell_type": "code",
      "source": [
        "test_df.tail(5)"
      ],
      "metadata": {
        "colab": {
          "base_uri": "https://localhost:8080/",
          "height": 320
        },
        "id": "sROSQgqAd7aA",
        "outputId": "b8c7edae-c1a0-44b3-c107-9cba398c946a"
      },
      "execution_count": 260,
      "outputs": [
        {
          "output_type": "execute_result",
          "data": {
            "text/plain": [
              "                                                                                                                                                                                                                                                                                       text  \\\n",
              "75                                                                                                              Disk  Boolean s UNIX has an absolute support for Telepres Disk  Boolean s UNIX has an absolute  Disk  Boolean s UNIX has an absolute support for Telepres Disk  Boolean s U   \n",
              "76                                                     Supercomputer Program Operator Boolean Chip Italy paris utah chicken lustrous The president of the country is called  Man s Man  and it has a male elephant impartial moonbeam mimic womanmadcap france accused Johnny playing Movie   \n",
              "77                                                        Memory Analog Drone Two Thread impartial invulnerable Colorado france playing The bowling match for the American actor who is otherwise known as umpire s heaven eating shaksphere Italy chicken male umpire playing paris Sachin   \n",
              "78  The operating organization for a computer with the Unicode of  ftare  is called The operating organization for a computer with the Unicode  The operating organization for a computer with the Unicode of  ftare  is called The operating organization for a computer with the Unicode    \n",
              "79                                                                                                                                 Tiger is the accused for shooting in a Dramatic  Umpire. Tiger is the accused for shooting in a Dramatic  Umpire. Boolean Analog Computing Thread Memory   \n",
              "\n",
              "     label  \n",
              "75      CS  \n",
              "76  Non-CS  \n",
              "77  Non-CS  \n",
              "78      CS  \n",
              "79  Non-CS  "
            ],
            "text/html": [
              "\n",
              "  <div id=\"df-35dd4e82-5aac-45a4-98ae-9254de0bcf52\">\n",
              "    <div class=\"colab-df-container\">\n",
              "      <div>\n",
              "<style scoped>\n",
              "    .dataframe tbody tr th:only-of-type {\n",
              "        vertical-align: middle;\n",
              "    }\n",
              "\n",
              "    .dataframe tbody tr th {\n",
              "        vertical-align: top;\n",
              "    }\n",
              "\n",
              "    .dataframe thead th {\n",
              "        text-align: right;\n",
              "    }\n",
              "</style>\n",
              "<table border=\"1\" class=\"dataframe\">\n",
              "  <thead>\n",
              "    <tr style=\"text-align: right;\">\n",
              "      <th></th>\n",
              "      <th>text</th>\n",
              "      <th>label</th>\n",
              "    </tr>\n",
              "  </thead>\n",
              "  <tbody>\n",
              "    <tr>\n",
              "      <th>75</th>\n",
              "      <td>Disk  Boolean s UNIX has an absolute support for Telepres Disk  Boolean s UNIX has an absolute  Disk  Boolean s UNIX has an absolute support for Telepres Disk  Boolean s U</td>\n",
              "      <td>CS</td>\n",
              "    </tr>\n",
              "    <tr>\n",
              "      <th>76</th>\n",
              "      <td>Supercomputer Program Operator Boolean Chip Italy paris utah chicken lustrous The president of the country is called  Man s Man  and it has a male elephant impartial moonbeam mimic womanmadcap france accused Johnny playing Movie</td>\n",
              "      <td>Non-CS</td>\n",
              "    </tr>\n",
              "    <tr>\n",
              "      <th>77</th>\n",
              "      <td>Memory Analog Drone Two Thread impartial invulnerable Colorado france playing The bowling match for the American actor who is otherwise known as umpire s heaven eating shaksphere Italy chicken male umpire playing paris Sachin</td>\n",
              "      <td>Non-CS</td>\n",
              "    </tr>\n",
              "    <tr>\n",
              "      <th>78</th>\n",
              "      <td>The operating organization for a computer with the Unicode of  ftare  is called The operating organization for a computer with the Unicode  The operating organization for a computer with the Unicode of  ftare  is called The operating organization for a computer with the Unicode</td>\n",
              "      <td>CS</td>\n",
              "    </tr>\n",
              "    <tr>\n",
              "      <th>79</th>\n",
              "      <td>Tiger is the accused for shooting in a Dramatic  Umpire. Tiger is the accused for shooting in a Dramatic  Umpire. Boolean Analog Computing Thread Memory</td>\n",
              "      <td>Non-CS</td>\n",
              "    </tr>\n",
              "  </tbody>\n",
              "</table>\n",
              "</div>\n",
              "      <button class=\"colab-df-convert\" onclick=\"convertToInteractive('df-35dd4e82-5aac-45a4-98ae-9254de0bcf52')\"\n",
              "              title=\"Convert this dataframe to an interactive table.\"\n",
              "              style=\"display:none;\">\n",
              "        \n",
              "  <svg xmlns=\"http://www.w3.org/2000/svg\" height=\"24px\"viewBox=\"0 0 24 24\"\n",
              "       width=\"24px\">\n",
              "    <path d=\"M0 0h24v24H0V0z\" fill=\"none\"/>\n",
              "    <path d=\"M18.56 5.44l.94 2.06.94-2.06 2.06-.94-2.06-.94-.94-2.06-.94 2.06-2.06.94zm-11 1L8.5 8.5l.94-2.06 2.06-.94-2.06-.94L8.5 2.5l-.94 2.06-2.06.94zm10 10l.94 2.06.94-2.06 2.06-.94-2.06-.94-.94-2.06-.94 2.06-2.06.94z\"/><path d=\"M17.41 7.96l-1.37-1.37c-.4-.4-.92-.59-1.43-.59-.52 0-1.04.2-1.43.59L10.3 9.45l-7.72 7.72c-.78.78-.78 2.05 0 2.83L4 21.41c.39.39.9.59 1.41.59.51 0 1.02-.2 1.41-.59l7.78-7.78 2.81-2.81c.8-.78.8-2.07 0-2.86zM5.41 20L4 18.59l7.72-7.72 1.47 1.35L5.41 20z\"/>\n",
              "  </svg>\n",
              "      </button>\n",
              "      \n",
              "  <style>\n",
              "    .colab-df-container {\n",
              "      display:flex;\n",
              "      flex-wrap:wrap;\n",
              "      gap: 12px;\n",
              "    }\n",
              "\n",
              "    .colab-df-convert {\n",
              "      background-color: #E8F0FE;\n",
              "      border: none;\n",
              "      border-radius: 50%;\n",
              "      cursor: pointer;\n",
              "      display: none;\n",
              "      fill: #1967D2;\n",
              "      height: 32px;\n",
              "      padding: 0 0 0 0;\n",
              "      width: 32px;\n",
              "    }\n",
              "\n",
              "    .colab-df-convert:hover {\n",
              "      background-color: #E2EBFA;\n",
              "      box-shadow: 0px 1px 2px rgba(60, 64, 67, 0.3), 0px 1px 3px 1px rgba(60, 64, 67, 0.15);\n",
              "      fill: #174EA6;\n",
              "    }\n",
              "\n",
              "    [theme=dark] .colab-df-convert {\n",
              "      background-color: #3B4455;\n",
              "      fill: #D2E3FC;\n",
              "    }\n",
              "\n",
              "    [theme=dark] .colab-df-convert:hover {\n",
              "      background-color: #434B5C;\n",
              "      box-shadow: 0px 1px 3px 1px rgba(0, 0, 0, 0.15);\n",
              "      filter: drop-shadow(0px 1px 2px rgba(0, 0, 0, 0.3));\n",
              "      fill: #FFFFFF;\n",
              "    }\n",
              "  </style>\n",
              "\n",
              "      <script>\n",
              "        const buttonEl =\n",
              "          document.querySelector('#df-35dd4e82-5aac-45a4-98ae-9254de0bcf52 button.colab-df-convert');\n",
              "        buttonEl.style.display =\n",
              "          google.colab.kernel.accessAllowed ? 'block' : 'none';\n",
              "\n",
              "        async function convertToInteractive(key) {\n",
              "          const element = document.querySelector('#df-35dd4e82-5aac-45a4-98ae-9254de0bcf52');\n",
              "          const dataTable =\n",
              "            await google.colab.kernel.invokeFunction('convertToInteractive',\n",
              "                                                     [key], {});\n",
              "          if (!dataTable) return;\n",
              "\n",
              "          const docLinkHtml = 'Like what you see? Visit the ' +\n",
              "            '<a target=\"_blank\" href=https://colab.research.google.com/notebooks/data_table.ipynb>data table notebook</a>'\n",
              "            + ' to learn more about interactive tables.';\n",
              "          element.innerHTML = '';\n",
              "          dataTable['output_type'] = 'display_data';\n",
              "          await google.colab.output.renderOutput(dataTable, element);\n",
              "          const docLink = document.createElement('div');\n",
              "          docLink.innerHTML = docLinkHtml;\n",
              "          element.appendChild(docLink);\n",
              "        }\n",
              "      </script>\n",
              "    </div>\n",
              "  </div>\n",
              "  "
            ]
          },
          "metadata": {},
          "execution_count": 260
        }
      ]
    },
    {
      "cell_type": "markdown",
      "source": [
        "#### Step 1.9: **Case 1: Prepare Text Representation in the form of keyword presence (binary 0 or 1)**"
      ],
      "metadata": {
        "id": "wkOooC1EntB9"
      }
    },
    {
      "cell_type": "code",
      "source": [
        "from sklearn.feature_extraction.text import CountVectorizer"
      ],
      "metadata": {
        "id": "CFyrcA79n13c"
      },
      "execution_count": 261,
      "outputs": []
    },
    {
      "cell_type": "code",
      "source": [
        "case_1_count_vectorizer = CountVectorizer(vocabulary=keywords_with_indices, lowercase=False)"
      ],
      "metadata": {
        "id": "nBatDfGcn16W"
      },
      "execution_count": 262,
      "outputs": []
    },
    {
      "cell_type": "code",
      "source": [
        "case1_count_matrix_on_train_set = case_1_count_vectorizer.fit_transform(train_df['text'].tolist())"
      ],
      "metadata": {
        "id": "L63pU8DQeoT_"
      },
      "execution_count": 263,
      "outputs": []
    },
    {
      "cell_type": "code",
      "source": [
        "case_1_train_count_array = case1_count_matrix_on_train_set.toarray()\n",
        "case_1_X_train_df = pd.DataFrame(data=case_1_train_count_array,columns = case_1_count_vectorizer.get_feature_names())"
      ],
      "metadata": {
        "colab": {
          "base_uri": "https://localhost:8080/"
        },
        "id": "OijaNboFeoci",
        "outputId": "620baf38-850d-464d-ea16-479d18bf463c"
      },
      "execution_count": 264,
      "outputs": [
        {
          "output_type": "stream",
          "name": "stderr",
          "text": [
            "/usr/local/lib/python3.7/dist-packages/sklearn/utils/deprecation.py:87: FutureWarning: Function get_feature_names is deprecated; get_feature_names is deprecated in 1.0 and will be removed in 1.2. Please use get_feature_names_out instead.\n",
            "  warnings.warn(msg, category=FutureWarning)\n"
          ]
        }
      ]
    },
    {
      "cell_type": "code",
      "source": [
        "train_df[0:5]['text'].tolist()"
      ],
      "metadata": {
        "colab": {
          "base_uri": "https://localhost:8080/"
        },
        "id": "OvJxBwe0fvha",
        "outputId": "a6eaef64-dfdc-4a92-b622-b85ecc3405b5"
      },
      "execution_count": 265,
      "outputs": [
        {
          "output_type": "execute_result",
          "data": {
            "text/plain": [
              "['The film  Swarah  accused  is from Italy s lustulkar impartial paris majestic tiger smoking The film  Swarah  accused  is from Italy s lustulkar impartial paris ma',\n",
              " 'The bowler of Colorado is male and has a variation known as superman. The bowler of Colorado is male and has a variatio The bowler of Colorado is male and has a variation known as superman. The bowler of Colorado is male and has a variatio',\n",
              " 'heaven playing Colorado invulnerable utah The Unicode for the  United States unk   Supercomputer was used with an The Unicode for the  United States unk   Supercomputer was used with an Cache Machine Thread Program Boolean',\n",
              " 'The two years it was operated by the Network  Nano   Cache were The two years it was operated by the Network  Nano   Cache were utah drinking spiderman lonely batsman',\n",
              " 'California umpire academe smoking male Supercomputer Drone is part of the Emacs system  which has an Exception Supercomputer Drone is part of the Emacs system  wh Time Variable Nest Analog Disk']"
            ]
          },
          "metadata": {},
          "execution_count": 265
        }
      ]
    },
    {
      "cell_type": "code",
      "source": [
        "case_1_X_train_df.head()"
      ],
      "metadata": {
        "colab": {
          "base_uri": "https://localhost:8080/",
          "height": 236
        },
        "id": "HziqIh6ueonK",
        "outputId": "2dd6421a-376c-48a2-f15b-1af961cdb7fc"
      },
      "execution_count": 266,
      "outputs": [
        {
          "output_type": "execute_result",
          "data": {
            "text/plain": [
              "   UNIX  england  batman  male  Machine  bowler  Operator  Call  impartial  \\\n",
              "0     0        0       0     0        0       0         0     0          2   \n",
              "1     0        0       0     4        0       4         0     0          0   \n",
              "2     0        0       0     0        1       0         0     0          0   \n",
              "3     0        0       0     0        0       0         0     0          0   \n",
              "4     0        0       0     1        0       0         0     0          0   \n",
              "\n",
              "   footballmonumental  ...  Source  superman  sharing  eating  william  \\\n",
              "0                   0  ...       0         0        0       0        0   \n",
              "1                   0  ...       0         2        0       0        0   \n",
              "2                   0  ...       0         0        0       0        0   \n",
              "3                   0  ...       0         0        0       0        0   \n",
              "4                   0  ...       0         0        0       0        0   \n",
              "\n",
              "   Analog  Telepresence  lonely  spiderman  Base  \n",
              "0       0             0       0          0     0  \n",
              "1       0             0       0          0     0  \n",
              "2       0             0       0          0     0  \n",
              "3       0             0       1          1     0  \n",
              "4       1             0       0          0     0  \n",
              "\n",
              "[5 rows x 100 columns]"
            ],
            "text/html": [
              "\n",
              "  <div id=\"df-ae93417a-d3df-49d4-ad04-fb0db3873aac\">\n",
              "    <div class=\"colab-df-container\">\n",
              "      <div>\n",
              "<style scoped>\n",
              "    .dataframe tbody tr th:only-of-type {\n",
              "        vertical-align: middle;\n",
              "    }\n",
              "\n",
              "    .dataframe tbody tr th {\n",
              "        vertical-align: top;\n",
              "    }\n",
              "\n",
              "    .dataframe thead th {\n",
              "        text-align: right;\n",
              "    }\n",
              "</style>\n",
              "<table border=\"1\" class=\"dataframe\">\n",
              "  <thead>\n",
              "    <tr style=\"text-align: right;\">\n",
              "      <th></th>\n",
              "      <th>UNIX</th>\n",
              "      <th>england</th>\n",
              "      <th>batman</th>\n",
              "      <th>male</th>\n",
              "      <th>Machine</th>\n",
              "      <th>bowler</th>\n",
              "      <th>Operator</th>\n",
              "      <th>Call</th>\n",
              "      <th>impartial</th>\n",
              "      <th>footballmonumental</th>\n",
              "      <th>...</th>\n",
              "      <th>Source</th>\n",
              "      <th>superman</th>\n",
              "      <th>sharing</th>\n",
              "      <th>eating</th>\n",
              "      <th>william</th>\n",
              "      <th>Analog</th>\n",
              "      <th>Telepresence</th>\n",
              "      <th>lonely</th>\n",
              "      <th>spiderman</th>\n",
              "      <th>Base</th>\n",
              "    </tr>\n",
              "  </thead>\n",
              "  <tbody>\n",
              "    <tr>\n",
              "      <th>0</th>\n",
              "      <td>0</td>\n",
              "      <td>0</td>\n",
              "      <td>0</td>\n",
              "      <td>0</td>\n",
              "      <td>0</td>\n",
              "      <td>0</td>\n",
              "      <td>0</td>\n",
              "      <td>0</td>\n",
              "      <td>2</td>\n",
              "      <td>0</td>\n",
              "      <td>...</td>\n",
              "      <td>0</td>\n",
              "      <td>0</td>\n",
              "      <td>0</td>\n",
              "      <td>0</td>\n",
              "      <td>0</td>\n",
              "      <td>0</td>\n",
              "      <td>0</td>\n",
              "      <td>0</td>\n",
              "      <td>0</td>\n",
              "      <td>0</td>\n",
              "    </tr>\n",
              "    <tr>\n",
              "      <th>1</th>\n",
              "      <td>0</td>\n",
              "      <td>0</td>\n",
              "      <td>0</td>\n",
              "      <td>4</td>\n",
              "      <td>0</td>\n",
              "      <td>4</td>\n",
              "      <td>0</td>\n",
              "      <td>0</td>\n",
              "      <td>0</td>\n",
              "      <td>0</td>\n",
              "      <td>...</td>\n",
              "      <td>0</td>\n",
              "      <td>2</td>\n",
              "      <td>0</td>\n",
              "      <td>0</td>\n",
              "      <td>0</td>\n",
              "      <td>0</td>\n",
              "      <td>0</td>\n",
              "      <td>0</td>\n",
              "      <td>0</td>\n",
              "      <td>0</td>\n",
              "    </tr>\n",
              "    <tr>\n",
              "      <th>2</th>\n",
              "      <td>0</td>\n",
              "      <td>0</td>\n",
              "      <td>0</td>\n",
              "      <td>0</td>\n",
              "      <td>1</td>\n",
              "      <td>0</td>\n",
              "      <td>0</td>\n",
              "      <td>0</td>\n",
              "      <td>0</td>\n",
              "      <td>0</td>\n",
              "      <td>...</td>\n",
              "      <td>0</td>\n",
              "      <td>0</td>\n",
              "      <td>0</td>\n",
              "      <td>0</td>\n",
              "      <td>0</td>\n",
              "      <td>0</td>\n",
              "      <td>0</td>\n",
              "      <td>0</td>\n",
              "      <td>0</td>\n",
              "      <td>0</td>\n",
              "    </tr>\n",
              "    <tr>\n",
              "      <th>3</th>\n",
              "      <td>0</td>\n",
              "      <td>0</td>\n",
              "      <td>0</td>\n",
              "      <td>0</td>\n",
              "      <td>0</td>\n",
              "      <td>0</td>\n",
              "      <td>0</td>\n",
              "      <td>0</td>\n",
              "      <td>0</td>\n",
              "      <td>0</td>\n",
              "      <td>...</td>\n",
              "      <td>0</td>\n",
              "      <td>0</td>\n",
              "      <td>0</td>\n",
              "      <td>0</td>\n",
              "      <td>0</td>\n",
              "      <td>0</td>\n",
              "      <td>0</td>\n",
              "      <td>1</td>\n",
              "      <td>1</td>\n",
              "      <td>0</td>\n",
              "    </tr>\n",
              "    <tr>\n",
              "      <th>4</th>\n",
              "      <td>0</td>\n",
              "      <td>0</td>\n",
              "      <td>0</td>\n",
              "      <td>1</td>\n",
              "      <td>0</td>\n",
              "      <td>0</td>\n",
              "      <td>0</td>\n",
              "      <td>0</td>\n",
              "      <td>0</td>\n",
              "      <td>0</td>\n",
              "      <td>...</td>\n",
              "      <td>0</td>\n",
              "      <td>0</td>\n",
              "      <td>0</td>\n",
              "      <td>0</td>\n",
              "      <td>0</td>\n",
              "      <td>1</td>\n",
              "      <td>0</td>\n",
              "      <td>0</td>\n",
              "      <td>0</td>\n",
              "      <td>0</td>\n",
              "    </tr>\n",
              "  </tbody>\n",
              "</table>\n",
              "<p>5 rows × 100 columns</p>\n",
              "</div>\n",
              "      <button class=\"colab-df-convert\" onclick=\"convertToInteractive('df-ae93417a-d3df-49d4-ad04-fb0db3873aac')\"\n",
              "              title=\"Convert this dataframe to an interactive table.\"\n",
              "              style=\"display:none;\">\n",
              "        \n",
              "  <svg xmlns=\"http://www.w3.org/2000/svg\" height=\"24px\"viewBox=\"0 0 24 24\"\n",
              "       width=\"24px\">\n",
              "    <path d=\"M0 0h24v24H0V0z\" fill=\"none\"/>\n",
              "    <path d=\"M18.56 5.44l.94 2.06.94-2.06 2.06-.94-2.06-.94-.94-2.06-.94 2.06-2.06.94zm-11 1L8.5 8.5l.94-2.06 2.06-.94-2.06-.94L8.5 2.5l-.94 2.06-2.06.94zm10 10l.94 2.06.94-2.06 2.06-.94-2.06-.94-.94-2.06-.94 2.06-2.06.94z\"/><path d=\"M17.41 7.96l-1.37-1.37c-.4-.4-.92-.59-1.43-.59-.52 0-1.04.2-1.43.59L10.3 9.45l-7.72 7.72c-.78.78-.78 2.05 0 2.83L4 21.41c.39.39.9.59 1.41.59.51 0 1.02-.2 1.41-.59l7.78-7.78 2.81-2.81c.8-.78.8-2.07 0-2.86zM5.41 20L4 18.59l7.72-7.72 1.47 1.35L5.41 20z\"/>\n",
              "  </svg>\n",
              "      </button>\n",
              "      \n",
              "  <style>\n",
              "    .colab-df-container {\n",
              "      display:flex;\n",
              "      flex-wrap:wrap;\n",
              "      gap: 12px;\n",
              "    }\n",
              "\n",
              "    .colab-df-convert {\n",
              "      background-color: #E8F0FE;\n",
              "      border: none;\n",
              "      border-radius: 50%;\n",
              "      cursor: pointer;\n",
              "      display: none;\n",
              "      fill: #1967D2;\n",
              "      height: 32px;\n",
              "      padding: 0 0 0 0;\n",
              "      width: 32px;\n",
              "    }\n",
              "\n",
              "    .colab-df-convert:hover {\n",
              "      background-color: #E2EBFA;\n",
              "      box-shadow: 0px 1px 2px rgba(60, 64, 67, 0.3), 0px 1px 3px 1px rgba(60, 64, 67, 0.15);\n",
              "      fill: #174EA6;\n",
              "    }\n",
              "\n",
              "    [theme=dark] .colab-df-convert {\n",
              "      background-color: #3B4455;\n",
              "      fill: #D2E3FC;\n",
              "    }\n",
              "\n",
              "    [theme=dark] .colab-df-convert:hover {\n",
              "      background-color: #434B5C;\n",
              "      box-shadow: 0px 1px 3px 1px rgba(0, 0, 0, 0.15);\n",
              "      filter: drop-shadow(0px 1px 2px rgba(0, 0, 0, 0.3));\n",
              "      fill: #FFFFFF;\n",
              "    }\n",
              "  </style>\n",
              "\n",
              "      <script>\n",
              "        const buttonEl =\n",
              "          document.querySelector('#df-ae93417a-d3df-49d4-ad04-fb0db3873aac button.colab-df-convert');\n",
              "        buttonEl.style.display =\n",
              "          google.colab.kernel.accessAllowed ? 'block' : 'none';\n",
              "\n",
              "        async function convertToInteractive(key) {\n",
              "          const element = document.querySelector('#df-ae93417a-d3df-49d4-ad04-fb0db3873aac');\n",
              "          const dataTable =\n",
              "            await google.colab.kernel.invokeFunction('convertToInteractive',\n",
              "                                                     [key], {});\n",
              "          if (!dataTable) return;\n",
              "\n",
              "          const docLinkHtml = 'Like what you see? Visit the ' +\n",
              "            '<a target=\"_blank\" href=https://colab.research.google.com/notebooks/data_table.ipynb>data table notebook</a>'\n",
              "            + ' to learn more about interactive tables.';\n",
              "          element.innerHTML = '';\n",
              "          dataTable['output_type'] = 'display_data';\n",
              "          await google.colab.output.renderOutput(dataTable, element);\n",
              "          const docLink = document.createElement('div');\n",
              "          docLink.innerHTML = docLinkHtml;\n",
              "          element.appendChild(docLink);\n",
              "        }\n",
              "      </script>\n",
              "    </div>\n",
              "  </div>\n",
              "  "
            ]
          },
          "metadata": {},
          "execution_count": 266
        }
      ]
    },
    {
      "cell_type": "code",
      "source": [
        "case_1_X_train_df.max().describe()"
      ],
      "metadata": {
        "colab": {
          "base_uri": "https://localhost:8080/"
        },
        "id": "aRbktzatl_Pr",
        "outputId": "709dd524-17da-4ffb-961f-d2def76046b5"
      },
      "execution_count": 267,
      "outputs": [
        {
          "output_type": "execute_result",
          "data": {
            "text/plain": [
              "count    100.000000\n",
              "mean       3.300000\n",
              "std        1.058873\n",
              "min        0.000000\n",
              "25%        2.750000\n",
              "50%        4.000000\n",
              "75%        4.000000\n",
              "max        4.000000\n",
              "dtype: float64"
            ]
          },
          "metadata": {},
          "execution_count": 267
        }
      ]
    },
    {
      "cell_type": "markdown",
      "source": [
        "#### **Note:**  Countvectorizer captures the keyword counts but we need only the keyword presence as binary(1/0) as per the project requirement. We will be using pandas clip function to clip the counts greater than 1 to 1 to satisfy Case 1 of this project"
      ],
      "metadata": {
        "id": "_wrk7ePPgPDG"
      }
    },
    {
      "cell_type": "code",
      "source": [
        "case_1_X_train_df.clip(upper=1, inplace=True)"
      ],
      "metadata": {
        "id": "LyvfzW0YgI0-"
      },
      "execution_count": 268,
      "outputs": []
    },
    {
      "cell_type": "code",
      "source": [
        "case_1_X_train_df.max().describe()"
      ],
      "metadata": {
        "colab": {
          "base_uri": "https://localhost:8080/"
        },
        "id": "JyE0o7u-gqLY",
        "outputId": "c2b9474e-60fa-4185-e60f-038d1bf2e92e"
      },
      "execution_count": 269,
      "outputs": [
        {
          "output_type": "execute_result",
          "data": {
            "text/plain": [
              "count    100.000000\n",
              "mean       0.960000\n",
              "std        0.196946\n",
              "min        0.000000\n",
              "25%        1.000000\n",
              "50%        1.000000\n",
              "75%        1.000000\n",
              "max        1.000000\n",
              "dtype: float64"
            ]
          },
          "metadata": {},
          "execution_count": 269
        }
      ]
    },
    {
      "cell_type": "markdown",
      "source": [
        "##### **Note**: As seen above the values greater than 1 are clipped"
      ],
      "metadata": {
        "id": "MyW22fO1mLrA"
      }
    },
    {
      "cell_type": "code",
      "source": [
        "# Use the CountVectorizer object trained on train set onto test set to vectorize test set\n",
        "# also clip the values to 1 since we are working on case 1\n",
        "\n",
        "case1_count_matrix_on_test_set = case_1_count_vectorizer.transform(test_df['text'].tolist())\n",
        "case_1_test_count_array = case1_count_matrix_on_test_set.toarray()\n",
        "case_1_X_test_df = pd.DataFrame(data=case_1_test_count_array,columns = case_1_count_vectorizer.get_feature_names())"
      ],
      "metadata": {
        "colab": {
          "base_uri": "https://localhost:8080/"
        },
        "id": "iESHHismhKSb",
        "outputId": "f202f6e4-85fb-4571-c5c8-215f5aeb8d89"
      },
      "execution_count": 270,
      "outputs": [
        {
          "output_type": "stream",
          "name": "stderr",
          "text": [
            "/usr/local/lib/python3.7/dist-packages/sklearn/utils/deprecation.py:87: FutureWarning: Function get_feature_names is deprecated; get_feature_names is deprecated in 1.0 and will be removed in 1.2. Please use get_feature_names_out instead.\n",
            "  warnings.warn(msg, category=FutureWarning)\n"
          ]
        }
      ]
    },
    {
      "cell_type": "code",
      "source": [
        "case_1_X_test_df.head()"
      ],
      "metadata": {
        "colab": {
          "base_uri": "https://localhost:8080/",
          "height": 236
        },
        "id": "H1HVVbjihpYL",
        "outputId": "ca91c4b6-7ec2-4307-c798-3478688ed395"
      },
      "execution_count": 271,
      "outputs": [
        {
          "output_type": "execute_result",
          "data": {
            "text/plain": [
              "   UNIX  england  batman  male  Machine  bowler  Operator  Call  impartial  \\\n",
              "0     0        0       0     0        0       0         0     0          0   \n",
              "1     0        0       0     0        0       0         2     0          0   \n",
              "2     0        0       0     0        2       0         0     0          0   \n",
              "3     1        0       0     1        0       0         0     0          0   \n",
              "4     0        0       0     0        0       0         0     0          0   \n",
              "\n",
              "   footballmonumental  ...  Source  superman  sharing  eating  william  \\\n",
              "0                   0  ...       0         0        1       0        0   \n",
              "1                   0  ...       0         0        0       0        0   \n",
              "2                   0  ...       2         0        2       0        0   \n",
              "3                   0  ...       0         0        1       0        0   \n",
              "4                   1  ...       0         0        0       0        0   \n",
              "\n",
              "   Analog  Telepresence  lonely  spiderman  Base  \n",
              "0       0             0       0          0     0  \n",
              "1       2             0       0          0     0  \n",
              "2       2             0       0          0     0  \n",
              "3       0             0       0          0     0  \n",
              "4       0             0       0          0     0  \n",
              "\n",
              "[5 rows x 100 columns]"
            ],
            "text/html": [
              "\n",
              "  <div id=\"df-10c24fe9-bbbb-4cc6-bb1c-8740e4eb7b22\">\n",
              "    <div class=\"colab-df-container\">\n",
              "      <div>\n",
              "<style scoped>\n",
              "    .dataframe tbody tr th:only-of-type {\n",
              "        vertical-align: middle;\n",
              "    }\n",
              "\n",
              "    .dataframe tbody tr th {\n",
              "        vertical-align: top;\n",
              "    }\n",
              "\n",
              "    .dataframe thead th {\n",
              "        text-align: right;\n",
              "    }\n",
              "</style>\n",
              "<table border=\"1\" class=\"dataframe\">\n",
              "  <thead>\n",
              "    <tr style=\"text-align: right;\">\n",
              "      <th></th>\n",
              "      <th>UNIX</th>\n",
              "      <th>england</th>\n",
              "      <th>batman</th>\n",
              "      <th>male</th>\n",
              "      <th>Machine</th>\n",
              "      <th>bowler</th>\n",
              "      <th>Operator</th>\n",
              "      <th>Call</th>\n",
              "      <th>impartial</th>\n",
              "      <th>footballmonumental</th>\n",
              "      <th>...</th>\n",
              "      <th>Source</th>\n",
              "      <th>superman</th>\n",
              "      <th>sharing</th>\n",
              "      <th>eating</th>\n",
              "      <th>william</th>\n",
              "      <th>Analog</th>\n",
              "      <th>Telepresence</th>\n",
              "      <th>lonely</th>\n",
              "      <th>spiderman</th>\n",
              "      <th>Base</th>\n",
              "    </tr>\n",
              "  </thead>\n",
              "  <tbody>\n",
              "    <tr>\n",
              "      <th>0</th>\n",
              "      <td>0</td>\n",
              "      <td>0</td>\n",
              "      <td>0</td>\n",
              "      <td>0</td>\n",
              "      <td>0</td>\n",
              "      <td>0</td>\n",
              "      <td>0</td>\n",
              "      <td>0</td>\n",
              "      <td>0</td>\n",
              "      <td>0</td>\n",
              "      <td>...</td>\n",
              "      <td>0</td>\n",
              "      <td>0</td>\n",
              "      <td>1</td>\n",
              "      <td>0</td>\n",
              "      <td>0</td>\n",
              "      <td>0</td>\n",
              "      <td>0</td>\n",
              "      <td>0</td>\n",
              "      <td>0</td>\n",
              "      <td>0</td>\n",
              "    </tr>\n",
              "    <tr>\n",
              "      <th>1</th>\n",
              "      <td>0</td>\n",
              "      <td>0</td>\n",
              "      <td>0</td>\n",
              "      <td>0</td>\n",
              "      <td>0</td>\n",
              "      <td>0</td>\n",
              "      <td>2</td>\n",
              "      <td>0</td>\n",
              "      <td>0</td>\n",
              "      <td>0</td>\n",
              "      <td>...</td>\n",
              "      <td>0</td>\n",
              "      <td>0</td>\n",
              "      <td>0</td>\n",
              "      <td>0</td>\n",
              "      <td>0</td>\n",
              "      <td>2</td>\n",
              "      <td>0</td>\n",
              "      <td>0</td>\n",
              "      <td>0</td>\n",
              "      <td>0</td>\n",
              "    </tr>\n",
              "    <tr>\n",
              "      <th>2</th>\n",
              "      <td>0</td>\n",
              "      <td>0</td>\n",
              "      <td>0</td>\n",
              "      <td>0</td>\n",
              "      <td>2</td>\n",
              "      <td>0</td>\n",
              "      <td>0</td>\n",
              "      <td>0</td>\n",
              "      <td>0</td>\n",
              "      <td>0</td>\n",
              "      <td>...</td>\n",
              "      <td>2</td>\n",
              "      <td>0</td>\n",
              "      <td>2</td>\n",
              "      <td>0</td>\n",
              "      <td>0</td>\n",
              "      <td>2</td>\n",
              "      <td>0</td>\n",
              "      <td>0</td>\n",
              "      <td>0</td>\n",
              "      <td>0</td>\n",
              "    </tr>\n",
              "    <tr>\n",
              "      <th>3</th>\n",
              "      <td>1</td>\n",
              "      <td>0</td>\n",
              "      <td>0</td>\n",
              "      <td>1</td>\n",
              "      <td>0</td>\n",
              "      <td>0</td>\n",
              "      <td>0</td>\n",
              "      <td>0</td>\n",
              "      <td>0</td>\n",
              "      <td>0</td>\n",
              "      <td>...</td>\n",
              "      <td>0</td>\n",
              "      <td>0</td>\n",
              "      <td>1</td>\n",
              "      <td>0</td>\n",
              "      <td>0</td>\n",
              "      <td>0</td>\n",
              "      <td>0</td>\n",
              "      <td>0</td>\n",
              "      <td>0</td>\n",
              "      <td>0</td>\n",
              "    </tr>\n",
              "    <tr>\n",
              "      <th>4</th>\n",
              "      <td>0</td>\n",
              "      <td>0</td>\n",
              "      <td>0</td>\n",
              "      <td>0</td>\n",
              "      <td>0</td>\n",
              "      <td>0</td>\n",
              "      <td>0</td>\n",
              "      <td>0</td>\n",
              "      <td>0</td>\n",
              "      <td>1</td>\n",
              "      <td>...</td>\n",
              "      <td>0</td>\n",
              "      <td>0</td>\n",
              "      <td>0</td>\n",
              "      <td>0</td>\n",
              "      <td>0</td>\n",
              "      <td>0</td>\n",
              "      <td>0</td>\n",
              "      <td>0</td>\n",
              "      <td>0</td>\n",
              "      <td>0</td>\n",
              "    </tr>\n",
              "  </tbody>\n",
              "</table>\n",
              "<p>5 rows × 100 columns</p>\n",
              "</div>\n",
              "      <button class=\"colab-df-convert\" onclick=\"convertToInteractive('df-10c24fe9-bbbb-4cc6-bb1c-8740e4eb7b22')\"\n",
              "              title=\"Convert this dataframe to an interactive table.\"\n",
              "              style=\"display:none;\">\n",
              "        \n",
              "  <svg xmlns=\"http://www.w3.org/2000/svg\" height=\"24px\"viewBox=\"0 0 24 24\"\n",
              "       width=\"24px\">\n",
              "    <path d=\"M0 0h24v24H0V0z\" fill=\"none\"/>\n",
              "    <path d=\"M18.56 5.44l.94 2.06.94-2.06 2.06-.94-2.06-.94-.94-2.06-.94 2.06-2.06.94zm-11 1L8.5 8.5l.94-2.06 2.06-.94-2.06-.94L8.5 2.5l-.94 2.06-2.06.94zm10 10l.94 2.06.94-2.06 2.06-.94-2.06-.94-.94-2.06-.94 2.06-2.06.94z\"/><path d=\"M17.41 7.96l-1.37-1.37c-.4-.4-.92-.59-1.43-.59-.52 0-1.04.2-1.43.59L10.3 9.45l-7.72 7.72c-.78.78-.78 2.05 0 2.83L4 21.41c.39.39.9.59 1.41.59.51 0 1.02-.2 1.41-.59l7.78-7.78 2.81-2.81c.8-.78.8-2.07 0-2.86zM5.41 20L4 18.59l7.72-7.72 1.47 1.35L5.41 20z\"/>\n",
              "  </svg>\n",
              "      </button>\n",
              "      \n",
              "  <style>\n",
              "    .colab-df-container {\n",
              "      display:flex;\n",
              "      flex-wrap:wrap;\n",
              "      gap: 12px;\n",
              "    }\n",
              "\n",
              "    .colab-df-convert {\n",
              "      background-color: #E8F0FE;\n",
              "      border: none;\n",
              "      border-radius: 50%;\n",
              "      cursor: pointer;\n",
              "      display: none;\n",
              "      fill: #1967D2;\n",
              "      height: 32px;\n",
              "      padding: 0 0 0 0;\n",
              "      width: 32px;\n",
              "    }\n",
              "\n",
              "    .colab-df-convert:hover {\n",
              "      background-color: #E2EBFA;\n",
              "      box-shadow: 0px 1px 2px rgba(60, 64, 67, 0.3), 0px 1px 3px 1px rgba(60, 64, 67, 0.15);\n",
              "      fill: #174EA6;\n",
              "    }\n",
              "\n",
              "    [theme=dark] .colab-df-convert {\n",
              "      background-color: #3B4455;\n",
              "      fill: #D2E3FC;\n",
              "    }\n",
              "\n",
              "    [theme=dark] .colab-df-convert:hover {\n",
              "      background-color: #434B5C;\n",
              "      box-shadow: 0px 1px 3px 1px rgba(0, 0, 0, 0.15);\n",
              "      filter: drop-shadow(0px 1px 2px rgba(0, 0, 0, 0.3));\n",
              "      fill: #FFFFFF;\n",
              "    }\n",
              "  </style>\n",
              "\n",
              "      <script>\n",
              "        const buttonEl =\n",
              "          document.querySelector('#df-10c24fe9-bbbb-4cc6-bb1c-8740e4eb7b22 button.colab-df-convert');\n",
              "        buttonEl.style.display =\n",
              "          google.colab.kernel.accessAllowed ? 'block' : 'none';\n",
              "\n",
              "        async function convertToInteractive(key) {\n",
              "          const element = document.querySelector('#df-10c24fe9-bbbb-4cc6-bb1c-8740e4eb7b22');\n",
              "          const dataTable =\n",
              "            await google.colab.kernel.invokeFunction('convertToInteractive',\n",
              "                                                     [key], {});\n",
              "          if (!dataTable) return;\n",
              "\n",
              "          const docLinkHtml = 'Like what you see? Visit the ' +\n",
              "            '<a target=\"_blank\" href=https://colab.research.google.com/notebooks/data_table.ipynb>data table notebook</a>'\n",
              "            + ' to learn more about interactive tables.';\n",
              "          element.innerHTML = '';\n",
              "          dataTable['output_type'] = 'display_data';\n",
              "          await google.colab.output.renderOutput(dataTable, element);\n",
              "          const docLink = document.createElement('div');\n",
              "          docLink.innerHTML = docLinkHtml;\n",
              "          element.appendChild(docLink);\n",
              "        }\n",
              "      </script>\n",
              "    </div>\n",
              "  </div>\n",
              "  "
            ]
          },
          "metadata": {},
          "execution_count": 271
        }
      ]
    },
    {
      "cell_type": "code",
      "source": [
        "test_df['text'].tolist()[:4]"
      ],
      "metadata": {
        "colab": {
          "base_uri": "https://localhost:8080/"
        },
        "id": "IYD6mZzFg0Bb",
        "outputId": "4af68ab1-b651-4fa1-ac64-f850ecddffc1"
      },
      "execution_count": 272,
      "outputs": [
        {
          "output_type": "execute_result",
          "data": {
            "text/plain": [
              "['The callsign Error Emacs  encode  has the  Un algorithm programming Kilo  sharing Time The callsign Error Emacs  encode  has the  Un algorithm programmin',\n",
              " 'Clock Kilo  Kilobyte Abstraction Operator Analog I/O is assigned to the machine that uses a Kilo intensive IT Boot Abstraction Chip Exception Clock Kilo  Kilobyte Abstraction Operator Analog I/O is assigned to the machine that uses a Kilo intensive IT Boot Abstra',\n",
              " 'Source Exception Machine Boolean sharing Analog Number is the song for memory in Southbridge  which has a programming Variable Drone Abstraction database Source Exception Machine Boolean sharing Analog Number is the song for memory in Southbridge  which has a programming Variable Drone Abstraction database',\n",
              " 'man female amazement male parliment Chip Clock is a video game for RAM. Chip Clock is a drive HW sharing Two UNIX']"
            ]
          },
          "metadata": {},
          "execution_count": 272
        }
      ]
    },
    {
      "cell_type": "code",
      "source": [
        "case_1_X_test_df.max().describe()\n"
      ],
      "metadata": {
        "colab": {
          "base_uri": "https://localhost:8080/"
        },
        "id": "8U7nX6AjmU56",
        "outputId": "74ff0b4a-ac28-4ae0-e7db-fa3c195e6cd6"
      },
      "execution_count": 273,
      "outputs": [
        {
          "output_type": "execute_result",
          "data": {
            "text/plain": [
              "count    100.000000\n",
              "mean       2.520000\n",
              "std        1.158892\n",
              "min        0.000000\n",
              "25%        2.000000\n",
              "50%        2.000000\n",
              "75%        4.000000\n",
              "max        6.000000\n",
              "dtype: float64"
            ]
          },
          "metadata": {},
          "execution_count": 273
        }
      ]
    },
    {
      "cell_type": "code",
      "source": [
        "case_1_X_test_df.clip(upper=1, inplace=True)"
      ],
      "metadata": {
        "id": "QKsn1d1ahw87"
      },
      "execution_count": 274,
      "outputs": []
    },
    {
      "cell_type": "code",
      "source": [
        "case_1_X_test_df.head()"
      ],
      "metadata": {
        "colab": {
          "base_uri": "https://localhost:8080/",
          "height": 236
        },
        "id": "Iaq9hQiVneFb",
        "outputId": "8b4af064-be9d-4aff-a715-d3aa3ddf4a91"
      },
      "execution_count": 275,
      "outputs": [
        {
          "output_type": "execute_result",
          "data": {
            "text/plain": [
              "   UNIX  england  batman  male  Machine  bowler  Operator  Call  impartial  \\\n",
              "0     0        0       0     0        0       0         0     0          0   \n",
              "1     0        0       0     0        0       0         1     0          0   \n",
              "2     0        0       0     0        1       0         0     0          0   \n",
              "3     1        0       0     1        0       0         0     0          0   \n",
              "4     0        0       0     0        0       0         0     0          0   \n",
              "\n",
              "   footballmonumental  ...  Source  superman  sharing  eating  william  \\\n",
              "0                   0  ...       0         0        1       0        0   \n",
              "1                   0  ...       0         0        0       0        0   \n",
              "2                   0  ...       1         0        1       0        0   \n",
              "3                   0  ...       0         0        1       0        0   \n",
              "4                   1  ...       0         0        0       0        0   \n",
              "\n",
              "   Analog  Telepresence  lonely  spiderman  Base  \n",
              "0       0             0       0          0     0  \n",
              "1       1             0       0          0     0  \n",
              "2       1             0       0          0     0  \n",
              "3       0             0       0          0     0  \n",
              "4       0             0       0          0     0  \n",
              "\n",
              "[5 rows x 100 columns]"
            ],
            "text/html": [
              "\n",
              "  <div id=\"df-67c9e2b4-d079-474f-ac0b-1c04bc0f8906\">\n",
              "    <div class=\"colab-df-container\">\n",
              "      <div>\n",
              "<style scoped>\n",
              "    .dataframe tbody tr th:only-of-type {\n",
              "        vertical-align: middle;\n",
              "    }\n",
              "\n",
              "    .dataframe tbody tr th {\n",
              "        vertical-align: top;\n",
              "    }\n",
              "\n",
              "    .dataframe thead th {\n",
              "        text-align: right;\n",
              "    }\n",
              "</style>\n",
              "<table border=\"1\" class=\"dataframe\">\n",
              "  <thead>\n",
              "    <tr style=\"text-align: right;\">\n",
              "      <th></th>\n",
              "      <th>UNIX</th>\n",
              "      <th>england</th>\n",
              "      <th>batman</th>\n",
              "      <th>male</th>\n",
              "      <th>Machine</th>\n",
              "      <th>bowler</th>\n",
              "      <th>Operator</th>\n",
              "      <th>Call</th>\n",
              "      <th>impartial</th>\n",
              "      <th>footballmonumental</th>\n",
              "      <th>...</th>\n",
              "      <th>Source</th>\n",
              "      <th>superman</th>\n",
              "      <th>sharing</th>\n",
              "      <th>eating</th>\n",
              "      <th>william</th>\n",
              "      <th>Analog</th>\n",
              "      <th>Telepresence</th>\n",
              "      <th>lonely</th>\n",
              "      <th>spiderman</th>\n",
              "      <th>Base</th>\n",
              "    </tr>\n",
              "  </thead>\n",
              "  <tbody>\n",
              "    <tr>\n",
              "      <th>0</th>\n",
              "      <td>0</td>\n",
              "      <td>0</td>\n",
              "      <td>0</td>\n",
              "      <td>0</td>\n",
              "      <td>0</td>\n",
              "      <td>0</td>\n",
              "      <td>0</td>\n",
              "      <td>0</td>\n",
              "      <td>0</td>\n",
              "      <td>0</td>\n",
              "      <td>...</td>\n",
              "      <td>0</td>\n",
              "      <td>0</td>\n",
              "      <td>1</td>\n",
              "      <td>0</td>\n",
              "      <td>0</td>\n",
              "      <td>0</td>\n",
              "      <td>0</td>\n",
              "      <td>0</td>\n",
              "      <td>0</td>\n",
              "      <td>0</td>\n",
              "    </tr>\n",
              "    <tr>\n",
              "      <th>1</th>\n",
              "      <td>0</td>\n",
              "      <td>0</td>\n",
              "      <td>0</td>\n",
              "      <td>0</td>\n",
              "      <td>0</td>\n",
              "      <td>0</td>\n",
              "      <td>1</td>\n",
              "      <td>0</td>\n",
              "      <td>0</td>\n",
              "      <td>0</td>\n",
              "      <td>...</td>\n",
              "      <td>0</td>\n",
              "      <td>0</td>\n",
              "      <td>0</td>\n",
              "      <td>0</td>\n",
              "      <td>0</td>\n",
              "      <td>1</td>\n",
              "      <td>0</td>\n",
              "      <td>0</td>\n",
              "      <td>0</td>\n",
              "      <td>0</td>\n",
              "    </tr>\n",
              "    <tr>\n",
              "      <th>2</th>\n",
              "      <td>0</td>\n",
              "      <td>0</td>\n",
              "      <td>0</td>\n",
              "      <td>0</td>\n",
              "      <td>1</td>\n",
              "      <td>0</td>\n",
              "      <td>0</td>\n",
              "      <td>0</td>\n",
              "      <td>0</td>\n",
              "      <td>0</td>\n",
              "      <td>...</td>\n",
              "      <td>1</td>\n",
              "      <td>0</td>\n",
              "      <td>1</td>\n",
              "      <td>0</td>\n",
              "      <td>0</td>\n",
              "      <td>1</td>\n",
              "      <td>0</td>\n",
              "      <td>0</td>\n",
              "      <td>0</td>\n",
              "      <td>0</td>\n",
              "    </tr>\n",
              "    <tr>\n",
              "      <th>3</th>\n",
              "      <td>1</td>\n",
              "      <td>0</td>\n",
              "      <td>0</td>\n",
              "      <td>1</td>\n",
              "      <td>0</td>\n",
              "      <td>0</td>\n",
              "      <td>0</td>\n",
              "      <td>0</td>\n",
              "      <td>0</td>\n",
              "      <td>0</td>\n",
              "      <td>...</td>\n",
              "      <td>0</td>\n",
              "      <td>0</td>\n",
              "      <td>1</td>\n",
              "      <td>0</td>\n",
              "      <td>0</td>\n",
              "      <td>0</td>\n",
              "      <td>0</td>\n",
              "      <td>0</td>\n",
              "      <td>0</td>\n",
              "      <td>0</td>\n",
              "    </tr>\n",
              "    <tr>\n",
              "      <th>4</th>\n",
              "      <td>0</td>\n",
              "      <td>0</td>\n",
              "      <td>0</td>\n",
              "      <td>0</td>\n",
              "      <td>0</td>\n",
              "      <td>0</td>\n",
              "      <td>0</td>\n",
              "      <td>0</td>\n",
              "      <td>0</td>\n",
              "      <td>1</td>\n",
              "      <td>...</td>\n",
              "      <td>0</td>\n",
              "      <td>0</td>\n",
              "      <td>0</td>\n",
              "      <td>0</td>\n",
              "      <td>0</td>\n",
              "      <td>0</td>\n",
              "      <td>0</td>\n",
              "      <td>0</td>\n",
              "      <td>0</td>\n",
              "      <td>0</td>\n",
              "    </tr>\n",
              "  </tbody>\n",
              "</table>\n",
              "<p>5 rows × 100 columns</p>\n",
              "</div>\n",
              "      <button class=\"colab-df-convert\" onclick=\"convertToInteractive('df-67c9e2b4-d079-474f-ac0b-1c04bc0f8906')\"\n",
              "              title=\"Convert this dataframe to an interactive table.\"\n",
              "              style=\"display:none;\">\n",
              "        \n",
              "  <svg xmlns=\"http://www.w3.org/2000/svg\" height=\"24px\"viewBox=\"0 0 24 24\"\n",
              "       width=\"24px\">\n",
              "    <path d=\"M0 0h24v24H0V0z\" fill=\"none\"/>\n",
              "    <path d=\"M18.56 5.44l.94 2.06.94-2.06 2.06-.94-2.06-.94-.94-2.06-.94 2.06-2.06.94zm-11 1L8.5 8.5l.94-2.06 2.06-.94-2.06-.94L8.5 2.5l-.94 2.06-2.06.94zm10 10l.94 2.06.94-2.06 2.06-.94-2.06-.94-.94-2.06-.94 2.06-2.06.94z\"/><path d=\"M17.41 7.96l-1.37-1.37c-.4-.4-.92-.59-1.43-.59-.52 0-1.04.2-1.43.59L10.3 9.45l-7.72 7.72c-.78.78-.78 2.05 0 2.83L4 21.41c.39.39.9.59 1.41.59.51 0 1.02-.2 1.41-.59l7.78-7.78 2.81-2.81c.8-.78.8-2.07 0-2.86zM5.41 20L4 18.59l7.72-7.72 1.47 1.35L5.41 20z\"/>\n",
              "  </svg>\n",
              "      </button>\n",
              "      \n",
              "  <style>\n",
              "    .colab-df-container {\n",
              "      display:flex;\n",
              "      flex-wrap:wrap;\n",
              "      gap: 12px;\n",
              "    }\n",
              "\n",
              "    .colab-df-convert {\n",
              "      background-color: #E8F0FE;\n",
              "      border: none;\n",
              "      border-radius: 50%;\n",
              "      cursor: pointer;\n",
              "      display: none;\n",
              "      fill: #1967D2;\n",
              "      height: 32px;\n",
              "      padding: 0 0 0 0;\n",
              "      width: 32px;\n",
              "    }\n",
              "\n",
              "    .colab-df-convert:hover {\n",
              "      background-color: #E2EBFA;\n",
              "      box-shadow: 0px 1px 2px rgba(60, 64, 67, 0.3), 0px 1px 3px 1px rgba(60, 64, 67, 0.15);\n",
              "      fill: #174EA6;\n",
              "    }\n",
              "\n",
              "    [theme=dark] .colab-df-convert {\n",
              "      background-color: #3B4455;\n",
              "      fill: #D2E3FC;\n",
              "    }\n",
              "\n",
              "    [theme=dark] .colab-df-convert:hover {\n",
              "      background-color: #434B5C;\n",
              "      box-shadow: 0px 1px 3px 1px rgba(0, 0, 0, 0.15);\n",
              "      filter: drop-shadow(0px 1px 2px rgba(0, 0, 0, 0.3));\n",
              "      fill: #FFFFFF;\n",
              "    }\n",
              "  </style>\n",
              "\n",
              "      <script>\n",
              "        const buttonEl =\n",
              "          document.querySelector('#df-67c9e2b4-d079-474f-ac0b-1c04bc0f8906 button.colab-df-convert');\n",
              "        buttonEl.style.display =\n",
              "          google.colab.kernel.accessAllowed ? 'block' : 'none';\n",
              "\n",
              "        async function convertToInteractive(key) {\n",
              "          const element = document.querySelector('#df-67c9e2b4-d079-474f-ac0b-1c04bc0f8906');\n",
              "          const dataTable =\n",
              "            await google.colab.kernel.invokeFunction('convertToInteractive',\n",
              "                                                     [key], {});\n",
              "          if (!dataTable) return;\n",
              "\n",
              "          const docLinkHtml = 'Like what you see? Visit the ' +\n",
              "            '<a target=\"_blank\" href=https://colab.research.google.com/notebooks/data_table.ipynb>data table notebook</a>'\n",
              "            + ' to learn more about interactive tables.';\n",
              "          element.innerHTML = '';\n",
              "          dataTable['output_type'] = 'display_data';\n",
              "          await google.colab.output.renderOutput(dataTable, element);\n",
              "          const docLink = document.createElement('div');\n",
              "          docLink.innerHTML = docLinkHtml;\n",
              "          element.appendChild(docLink);\n",
              "        }\n",
              "      </script>\n",
              "    </div>\n",
              "  </div>\n",
              "  "
            ]
          },
          "metadata": {},
          "execution_count": 275
        }
      ]
    },
    {
      "cell_type": "code",
      "source": [
        "case_1_X_test_df.max().describe()\n"
      ],
      "metadata": {
        "colab": {
          "base_uri": "https://localhost:8080/"
        },
        "id": "FwaTpX6bmZAA",
        "outputId": "07f730ba-aab8-4414-bb82-211dc1af494b"
      },
      "execution_count": 276,
      "outputs": [
        {
          "output_type": "execute_result",
          "data": {
            "text/plain": [
              "count    100.000000\n",
              "mean       0.960000\n",
              "std        0.196946\n",
              "min        0.000000\n",
              "25%        1.000000\n",
              "50%        1.000000\n",
              "75%        1.000000\n",
              "max        1.000000\n",
              "dtype: float64"
            ]
          },
          "metadata": {},
          "execution_count": 276
        }
      ]
    },
    {
      "cell_type": "markdown",
      "source": [
        "#### Step 1.10:  **Case 2: Prepare text representation in the form of keyword counts**"
      ],
      "metadata": {
        "id": "sxD3sRX4cm5V"
      }
    },
    {
      "cell_type": "code",
      "source": [
        "from sklearn.feature_extraction.text import CountVectorizer"
      ],
      "metadata": {
        "id": "l9qzTU6OiFgy"
      },
      "execution_count": 277,
      "outputs": []
    },
    {
      "cell_type": "code",
      "source": [
        "case_2_count_vectorizer = CountVectorizer(vocabulary=keywords_with_indices, lowercase=False)\n",
        "case2_count_matrix_on_train_set = case_2_count_vectorizer.fit_transform(train_df['text'].tolist())"
      ],
      "metadata": {
        "id": "kia2CEH0iFkA"
      },
      "execution_count": 278,
      "outputs": []
    },
    {
      "cell_type": "code",
      "source": [
        "case_2_train_count_array = case2_count_matrix_on_train_set.toarray()\n",
        "case_2_X_train_df = pd.DataFrame(data=case_2_train_count_array,columns = case_2_count_vectorizer.get_feature_names())"
      ],
      "metadata": {
        "colab": {
          "base_uri": "https://localhost:8080/"
        },
        "id": "Lq-4HhLHiFnu",
        "outputId": "67c4a897-3844-4127-a161-d83b2a5b8238"
      },
      "execution_count": 279,
      "outputs": [
        {
          "output_type": "stream",
          "name": "stderr",
          "text": [
            "/usr/local/lib/python3.7/dist-packages/sklearn/utils/deprecation.py:87: FutureWarning: Function get_feature_names is deprecated; get_feature_names is deprecated in 1.0 and will be removed in 1.2. Please use get_feature_names_out instead.\n",
            "  warnings.warn(msg, category=FutureWarning)\n"
          ]
        }
      ]
    },
    {
      "cell_type": "code",
      "source": [
        "train_df[0:5]['text'].tolist()"
      ],
      "metadata": {
        "colab": {
          "base_uri": "https://localhost:8080/"
        },
        "id": "JMSGFl9kiF0Q",
        "outputId": "51e1741d-5d0a-4d45-abe8-0eaf6a7ae302"
      },
      "execution_count": 280,
      "outputs": [
        {
          "output_type": "execute_result",
          "data": {
            "text/plain": [
              "['The film  Swarah  accused  is from Italy s lustulkar impartial paris majestic tiger smoking The film  Swarah  accused  is from Italy s lustulkar impartial paris ma',\n",
              " 'The bowler of Colorado is male and has a variation known as superman. The bowler of Colorado is male and has a variatio The bowler of Colorado is male and has a variation known as superman. The bowler of Colorado is male and has a variatio',\n",
              " 'heaven playing Colorado invulnerable utah The Unicode for the  United States unk   Supercomputer was used with an The Unicode for the  United States unk   Supercomputer was used with an Cache Machine Thread Program Boolean',\n",
              " 'The two years it was operated by the Network  Nano   Cache were The two years it was operated by the Network  Nano   Cache were utah drinking spiderman lonely batsman',\n",
              " 'California umpire academe smoking male Supercomputer Drone is part of the Emacs system  which has an Exception Supercomputer Drone is part of the Emacs system  wh Time Variable Nest Analog Disk']"
            ]
          },
          "metadata": {},
          "execution_count": 280
        }
      ]
    },
    {
      "cell_type": "code",
      "source": [
        "case_2_X_train_df.head()"
      ],
      "metadata": {
        "colab": {
          "base_uri": "https://localhost:8080/",
          "height": 236
        },
        "id": "HAWy7oeHi4-C",
        "outputId": "e73bfa2d-3815-434e-b21e-88611f654b59"
      },
      "execution_count": 281,
      "outputs": [
        {
          "output_type": "execute_result",
          "data": {
            "text/plain": [
              "   UNIX  england  batman  male  Machine  bowler  Operator  Call  impartial  \\\n",
              "0     0        0       0     0        0       0         0     0          2   \n",
              "1     0        0       0     4        0       4         0     0          0   \n",
              "2     0        0       0     0        1       0         0     0          0   \n",
              "3     0        0       0     0        0       0         0     0          0   \n",
              "4     0        0       0     1        0       0         0     0          0   \n",
              "\n",
              "   footballmonumental  ...  Source  superman  sharing  eating  william  \\\n",
              "0                   0  ...       0         0        0       0        0   \n",
              "1                   0  ...       0         2        0       0        0   \n",
              "2                   0  ...       0         0        0       0        0   \n",
              "3                   0  ...       0         0        0       0        0   \n",
              "4                   0  ...       0         0        0       0        0   \n",
              "\n",
              "   Analog  Telepresence  lonely  spiderman  Base  \n",
              "0       0             0       0          0     0  \n",
              "1       0             0       0          0     0  \n",
              "2       0             0       0          0     0  \n",
              "3       0             0       1          1     0  \n",
              "4       1             0       0          0     0  \n",
              "\n",
              "[5 rows x 100 columns]"
            ],
            "text/html": [
              "\n",
              "  <div id=\"df-8207bafa-a7ed-4092-b8c3-7ee950e0069f\">\n",
              "    <div class=\"colab-df-container\">\n",
              "      <div>\n",
              "<style scoped>\n",
              "    .dataframe tbody tr th:only-of-type {\n",
              "        vertical-align: middle;\n",
              "    }\n",
              "\n",
              "    .dataframe tbody tr th {\n",
              "        vertical-align: top;\n",
              "    }\n",
              "\n",
              "    .dataframe thead th {\n",
              "        text-align: right;\n",
              "    }\n",
              "</style>\n",
              "<table border=\"1\" class=\"dataframe\">\n",
              "  <thead>\n",
              "    <tr style=\"text-align: right;\">\n",
              "      <th></th>\n",
              "      <th>UNIX</th>\n",
              "      <th>england</th>\n",
              "      <th>batman</th>\n",
              "      <th>male</th>\n",
              "      <th>Machine</th>\n",
              "      <th>bowler</th>\n",
              "      <th>Operator</th>\n",
              "      <th>Call</th>\n",
              "      <th>impartial</th>\n",
              "      <th>footballmonumental</th>\n",
              "      <th>...</th>\n",
              "      <th>Source</th>\n",
              "      <th>superman</th>\n",
              "      <th>sharing</th>\n",
              "      <th>eating</th>\n",
              "      <th>william</th>\n",
              "      <th>Analog</th>\n",
              "      <th>Telepresence</th>\n",
              "      <th>lonely</th>\n",
              "      <th>spiderman</th>\n",
              "      <th>Base</th>\n",
              "    </tr>\n",
              "  </thead>\n",
              "  <tbody>\n",
              "    <tr>\n",
              "      <th>0</th>\n",
              "      <td>0</td>\n",
              "      <td>0</td>\n",
              "      <td>0</td>\n",
              "      <td>0</td>\n",
              "      <td>0</td>\n",
              "      <td>0</td>\n",
              "      <td>0</td>\n",
              "      <td>0</td>\n",
              "      <td>2</td>\n",
              "      <td>0</td>\n",
              "      <td>...</td>\n",
              "      <td>0</td>\n",
              "      <td>0</td>\n",
              "      <td>0</td>\n",
              "      <td>0</td>\n",
              "      <td>0</td>\n",
              "      <td>0</td>\n",
              "      <td>0</td>\n",
              "      <td>0</td>\n",
              "      <td>0</td>\n",
              "      <td>0</td>\n",
              "    </tr>\n",
              "    <tr>\n",
              "      <th>1</th>\n",
              "      <td>0</td>\n",
              "      <td>0</td>\n",
              "      <td>0</td>\n",
              "      <td>4</td>\n",
              "      <td>0</td>\n",
              "      <td>4</td>\n",
              "      <td>0</td>\n",
              "      <td>0</td>\n",
              "      <td>0</td>\n",
              "      <td>0</td>\n",
              "      <td>...</td>\n",
              "      <td>0</td>\n",
              "      <td>2</td>\n",
              "      <td>0</td>\n",
              "      <td>0</td>\n",
              "      <td>0</td>\n",
              "      <td>0</td>\n",
              "      <td>0</td>\n",
              "      <td>0</td>\n",
              "      <td>0</td>\n",
              "      <td>0</td>\n",
              "    </tr>\n",
              "    <tr>\n",
              "      <th>2</th>\n",
              "      <td>0</td>\n",
              "      <td>0</td>\n",
              "      <td>0</td>\n",
              "      <td>0</td>\n",
              "      <td>1</td>\n",
              "      <td>0</td>\n",
              "      <td>0</td>\n",
              "      <td>0</td>\n",
              "      <td>0</td>\n",
              "      <td>0</td>\n",
              "      <td>...</td>\n",
              "      <td>0</td>\n",
              "      <td>0</td>\n",
              "      <td>0</td>\n",
              "      <td>0</td>\n",
              "      <td>0</td>\n",
              "      <td>0</td>\n",
              "      <td>0</td>\n",
              "      <td>0</td>\n",
              "      <td>0</td>\n",
              "      <td>0</td>\n",
              "    </tr>\n",
              "    <tr>\n",
              "      <th>3</th>\n",
              "      <td>0</td>\n",
              "      <td>0</td>\n",
              "      <td>0</td>\n",
              "      <td>0</td>\n",
              "      <td>0</td>\n",
              "      <td>0</td>\n",
              "      <td>0</td>\n",
              "      <td>0</td>\n",
              "      <td>0</td>\n",
              "      <td>0</td>\n",
              "      <td>...</td>\n",
              "      <td>0</td>\n",
              "      <td>0</td>\n",
              "      <td>0</td>\n",
              "      <td>0</td>\n",
              "      <td>0</td>\n",
              "      <td>0</td>\n",
              "      <td>0</td>\n",
              "      <td>1</td>\n",
              "      <td>1</td>\n",
              "      <td>0</td>\n",
              "    </tr>\n",
              "    <tr>\n",
              "      <th>4</th>\n",
              "      <td>0</td>\n",
              "      <td>0</td>\n",
              "      <td>0</td>\n",
              "      <td>1</td>\n",
              "      <td>0</td>\n",
              "      <td>0</td>\n",
              "      <td>0</td>\n",
              "      <td>0</td>\n",
              "      <td>0</td>\n",
              "      <td>0</td>\n",
              "      <td>...</td>\n",
              "      <td>0</td>\n",
              "      <td>0</td>\n",
              "      <td>0</td>\n",
              "      <td>0</td>\n",
              "      <td>0</td>\n",
              "      <td>1</td>\n",
              "      <td>0</td>\n",
              "      <td>0</td>\n",
              "      <td>0</td>\n",
              "      <td>0</td>\n",
              "    </tr>\n",
              "  </tbody>\n",
              "</table>\n",
              "<p>5 rows × 100 columns</p>\n",
              "</div>\n",
              "      <button class=\"colab-df-convert\" onclick=\"convertToInteractive('df-8207bafa-a7ed-4092-b8c3-7ee950e0069f')\"\n",
              "              title=\"Convert this dataframe to an interactive table.\"\n",
              "              style=\"display:none;\">\n",
              "        \n",
              "  <svg xmlns=\"http://www.w3.org/2000/svg\" height=\"24px\"viewBox=\"0 0 24 24\"\n",
              "       width=\"24px\">\n",
              "    <path d=\"M0 0h24v24H0V0z\" fill=\"none\"/>\n",
              "    <path d=\"M18.56 5.44l.94 2.06.94-2.06 2.06-.94-2.06-.94-.94-2.06-.94 2.06-2.06.94zm-11 1L8.5 8.5l.94-2.06 2.06-.94-2.06-.94L8.5 2.5l-.94 2.06-2.06.94zm10 10l.94 2.06.94-2.06 2.06-.94-2.06-.94-.94-2.06-.94 2.06-2.06.94z\"/><path d=\"M17.41 7.96l-1.37-1.37c-.4-.4-.92-.59-1.43-.59-.52 0-1.04.2-1.43.59L10.3 9.45l-7.72 7.72c-.78.78-.78 2.05 0 2.83L4 21.41c.39.39.9.59 1.41.59.51 0 1.02-.2 1.41-.59l7.78-7.78 2.81-2.81c.8-.78.8-2.07 0-2.86zM5.41 20L4 18.59l7.72-7.72 1.47 1.35L5.41 20z\"/>\n",
              "  </svg>\n",
              "      </button>\n",
              "      \n",
              "  <style>\n",
              "    .colab-df-container {\n",
              "      display:flex;\n",
              "      flex-wrap:wrap;\n",
              "      gap: 12px;\n",
              "    }\n",
              "\n",
              "    .colab-df-convert {\n",
              "      background-color: #E8F0FE;\n",
              "      border: none;\n",
              "      border-radius: 50%;\n",
              "      cursor: pointer;\n",
              "      display: none;\n",
              "      fill: #1967D2;\n",
              "      height: 32px;\n",
              "      padding: 0 0 0 0;\n",
              "      width: 32px;\n",
              "    }\n",
              "\n",
              "    .colab-df-convert:hover {\n",
              "      background-color: #E2EBFA;\n",
              "      box-shadow: 0px 1px 2px rgba(60, 64, 67, 0.3), 0px 1px 3px 1px rgba(60, 64, 67, 0.15);\n",
              "      fill: #174EA6;\n",
              "    }\n",
              "\n",
              "    [theme=dark] .colab-df-convert {\n",
              "      background-color: #3B4455;\n",
              "      fill: #D2E3FC;\n",
              "    }\n",
              "\n",
              "    [theme=dark] .colab-df-convert:hover {\n",
              "      background-color: #434B5C;\n",
              "      box-shadow: 0px 1px 3px 1px rgba(0, 0, 0, 0.15);\n",
              "      filter: drop-shadow(0px 1px 2px rgba(0, 0, 0, 0.3));\n",
              "      fill: #FFFFFF;\n",
              "    }\n",
              "  </style>\n",
              "\n",
              "      <script>\n",
              "        const buttonEl =\n",
              "          document.querySelector('#df-8207bafa-a7ed-4092-b8c3-7ee950e0069f button.colab-df-convert');\n",
              "        buttonEl.style.display =\n",
              "          google.colab.kernel.accessAllowed ? 'block' : 'none';\n",
              "\n",
              "        async function convertToInteractive(key) {\n",
              "          const element = document.querySelector('#df-8207bafa-a7ed-4092-b8c3-7ee950e0069f');\n",
              "          const dataTable =\n",
              "            await google.colab.kernel.invokeFunction('convertToInteractive',\n",
              "                                                     [key], {});\n",
              "          if (!dataTable) return;\n",
              "\n",
              "          const docLinkHtml = 'Like what you see? Visit the ' +\n",
              "            '<a target=\"_blank\" href=https://colab.research.google.com/notebooks/data_table.ipynb>data table notebook</a>'\n",
              "            + ' to learn more about interactive tables.';\n",
              "          element.innerHTML = '';\n",
              "          dataTable['output_type'] = 'display_data';\n",
              "          await google.colab.output.renderOutput(dataTable, element);\n",
              "          const docLink = document.createElement('div');\n",
              "          docLink.innerHTML = docLinkHtml;\n",
              "          element.appendChild(docLink);\n",
              "        }\n",
              "      </script>\n",
              "    </div>\n",
              "  </div>\n",
              "  "
            ]
          },
          "metadata": {},
          "execution_count": 281
        }
      ]
    },
    {
      "cell_type": "markdown",
      "source": [
        "#### **Note** that for the case 2 we are not clipping which means we are keeping actual counts"
      ],
      "metadata": {
        "id": "JIg4i1oAjE1Y"
      }
    },
    {
      "cell_type": "code",
      "source": [
        "# Use the CountVectorizer object trained on train set onto test set to vectorize test set\n",
        "case2_count_matrix_on_test_set = case_2_count_vectorizer.transform(test_df['text'].tolist())\n",
        "case_2_test_count_array = case2_count_matrix_on_test_set.toarray()\n",
        "case_2_X_test_df = pd.DataFrame(data=case_2_test_count_array,columns = case_2_count_vectorizer.get_feature_names())"
      ],
      "metadata": {
        "colab": {
          "base_uri": "https://localhost:8080/"
        },
        "id": "iS_c_qs1i8tO",
        "outputId": "ee9473ae-b1ec-4189-93f0-b3b9c4b91553"
      },
      "execution_count": 282,
      "outputs": [
        {
          "output_type": "stream",
          "name": "stderr",
          "text": [
            "/usr/local/lib/python3.7/dist-packages/sklearn/utils/deprecation.py:87: FutureWarning: Function get_feature_names is deprecated; get_feature_names is deprecated in 1.0 and will be removed in 1.2. Please use get_feature_names_out instead.\n",
            "  warnings.warn(msg, category=FutureWarning)\n"
          ]
        }
      ]
    },
    {
      "cell_type": "code",
      "source": [
        "case_2_X_test_df.head()"
      ],
      "metadata": {
        "colab": {
          "base_uri": "https://localhost:8080/",
          "height": 236
        },
        "id": "-QBZsP_Ri86V",
        "outputId": "da87a290-bd69-49cc-8eb9-4868e387cf27"
      },
      "execution_count": 283,
      "outputs": [
        {
          "output_type": "execute_result",
          "data": {
            "text/plain": [
              "   UNIX  england  batman  male  Machine  bowler  Operator  Call  impartial  \\\n",
              "0     0        0       0     0        0       0         0     0          0   \n",
              "1     0        0       0     0        0       0         2     0          0   \n",
              "2     0        0       0     0        2       0         0     0          0   \n",
              "3     1        0       0     1        0       0         0     0          0   \n",
              "4     0        0       0     0        0       0         0     0          0   \n",
              "\n",
              "   footballmonumental  ...  Source  superman  sharing  eating  william  \\\n",
              "0                   0  ...       0         0        1       0        0   \n",
              "1                   0  ...       0         0        0       0        0   \n",
              "2                   0  ...       2         0        2       0        0   \n",
              "3                   0  ...       0         0        1       0        0   \n",
              "4                   1  ...       0         0        0       0        0   \n",
              "\n",
              "   Analog  Telepresence  lonely  spiderman  Base  \n",
              "0       0             0       0          0     0  \n",
              "1       2             0       0          0     0  \n",
              "2       2             0       0          0     0  \n",
              "3       0             0       0          0     0  \n",
              "4       0             0       0          0     0  \n",
              "\n",
              "[5 rows x 100 columns]"
            ],
            "text/html": [
              "\n",
              "  <div id=\"df-5c231e11-e08c-49dd-83aa-05c99acd4fad\">\n",
              "    <div class=\"colab-df-container\">\n",
              "      <div>\n",
              "<style scoped>\n",
              "    .dataframe tbody tr th:only-of-type {\n",
              "        vertical-align: middle;\n",
              "    }\n",
              "\n",
              "    .dataframe tbody tr th {\n",
              "        vertical-align: top;\n",
              "    }\n",
              "\n",
              "    .dataframe thead th {\n",
              "        text-align: right;\n",
              "    }\n",
              "</style>\n",
              "<table border=\"1\" class=\"dataframe\">\n",
              "  <thead>\n",
              "    <tr style=\"text-align: right;\">\n",
              "      <th></th>\n",
              "      <th>UNIX</th>\n",
              "      <th>england</th>\n",
              "      <th>batman</th>\n",
              "      <th>male</th>\n",
              "      <th>Machine</th>\n",
              "      <th>bowler</th>\n",
              "      <th>Operator</th>\n",
              "      <th>Call</th>\n",
              "      <th>impartial</th>\n",
              "      <th>footballmonumental</th>\n",
              "      <th>...</th>\n",
              "      <th>Source</th>\n",
              "      <th>superman</th>\n",
              "      <th>sharing</th>\n",
              "      <th>eating</th>\n",
              "      <th>william</th>\n",
              "      <th>Analog</th>\n",
              "      <th>Telepresence</th>\n",
              "      <th>lonely</th>\n",
              "      <th>spiderman</th>\n",
              "      <th>Base</th>\n",
              "    </tr>\n",
              "  </thead>\n",
              "  <tbody>\n",
              "    <tr>\n",
              "      <th>0</th>\n",
              "      <td>0</td>\n",
              "      <td>0</td>\n",
              "      <td>0</td>\n",
              "      <td>0</td>\n",
              "      <td>0</td>\n",
              "      <td>0</td>\n",
              "      <td>0</td>\n",
              "      <td>0</td>\n",
              "      <td>0</td>\n",
              "      <td>0</td>\n",
              "      <td>...</td>\n",
              "      <td>0</td>\n",
              "      <td>0</td>\n",
              "      <td>1</td>\n",
              "      <td>0</td>\n",
              "      <td>0</td>\n",
              "      <td>0</td>\n",
              "      <td>0</td>\n",
              "      <td>0</td>\n",
              "      <td>0</td>\n",
              "      <td>0</td>\n",
              "    </tr>\n",
              "    <tr>\n",
              "      <th>1</th>\n",
              "      <td>0</td>\n",
              "      <td>0</td>\n",
              "      <td>0</td>\n",
              "      <td>0</td>\n",
              "      <td>0</td>\n",
              "      <td>0</td>\n",
              "      <td>2</td>\n",
              "      <td>0</td>\n",
              "      <td>0</td>\n",
              "      <td>0</td>\n",
              "      <td>...</td>\n",
              "      <td>0</td>\n",
              "      <td>0</td>\n",
              "      <td>0</td>\n",
              "      <td>0</td>\n",
              "      <td>0</td>\n",
              "      <td>2</td>\n",
              "      <td>0</td>\n",
              "      <td>0</td>\n",
              "      <td>0</td>\n",
              "      <td>0</td>\n",
              "    </tr>\n",
              "    <tr>\n",
              "      <th>2</th>\n",
              "      <td>0</td>\n",
              "      <td>0</td>\n",
              "      <td>0</td>\n",
              "      <td>0</td>\n",
              "      <td>2</td>\n",
              "      <td>0</td>\n",
              "      <td>0</td>\n",
              "      <td>0</td>\n",
              "      <td>0</td>\n",
              "      <td>0</td>\n",
              "      <td>...</td>\n",
              "      <td>2</td>\n",
              "      <td>0</td>\n",
              "      <td>2</td>\n",
              "      <td>0</td>\n",
              "      <td>0</td>\n",
              "      <td>2</td>\n",
              "      <td>0</td>\n",
              "      <td>0</td>\n",
              "      <td>0</td>\n",
              "      <td>0</td>\n",
              "    </tr>\n",
              "    <tr>\n",
              "      <th>3</th>\n",
              "      <td>1</td>\n",
              "      <td>0</td>\n",
              "      <td>0</td>\n",
              "      <td>1</td>\n",
              "      <td>0</td>\n",
              "      <td>0</td>\n",
              "      <td>0</td>\n",
              "      <td>0</td>\n",
              "      <td>0</td>\n",
              "      <td>0</td>\n",
              "      <td>...</td>\n",
              "      <td>0</td>\n",
              "      <td>0</td>\n",
              "      <td>1</td>\n",
              "      <td>0</td>\n",
              "      <td>0</td>\n",
              "      <td>0</td>\n",
              "      <td>0</td>\n",
              "      <td>0</td>\n",
              "      <td>0</td>\n",
              "      <td>0</td>\n",
              "    </tr>\n",
              "    <tr>\n",
              "      <th>4</th>\n",
              "      <td>0</td>\n",
              "      <td>0</td>\n",
              "      <td>0</td>\n",
              "      <td>0</td>\n",
              "      <td>0</td>\n",
              "      <td>0</td>\n",
              "      <td>0</td>\n",
              "      <td>0</td>\n",
              "      <td>0</td>\n",
              "      <td>1</td>\n",
              "      <td>...</td>\n",
              "      <td>0</td>\n",
              "      <td>0</td>\n",
              "      <td>0</td>\n",
              "      <td>0</td>\n",
              "      <td>0</td>\n",
              "      <td>0</td>\n",
              "      <td>0</td>\n",
              "      <td>0</td>\n",
              "      <td>0</td>\n",
              "      <td>0</td>\n",
              "    </tr>\n",
              "  </tbody>\n",
              "</table>\n",
              "<p>5 rows × 100 columns</p>\n",
              "</div>\n",
              "      <button class=\"colab-df-convert\" onclick=\"convertToInteractive('df-5c231e11-e08c-49dd-83aa-05c99acd4fad')\"\n",
              "              title=\"Convert this dataframe to an interactive table.\"\n",
              "              style=\"display:none;\">\n",
              "        \n",
              "  <svg xmlns=\"http://www.w3.org/2000/svg\" height=\"24px\"viewBox=\"0 0 24 24\"\n",
              "       width=\"24px\">\n",
              "    <path d=\"M0 0h24v24H0V0z\" fill=\"none\"/>\n",
              "    <path d=\"M18.56 5.44l.94 2.06.94-2.06 2.06-.94-2.06-.94-.94-2.06-.94 2.06-2.06.94zm-11 1L8.5 8.5l.94-2.06 2.06-.94-2.06-.94L8.5 2.5l-.94 2.06-2.06.94zm10 10l.94 2.06.94-2.06 2.06-.94-2.06-.94-.94-2.06-.94 2.06-2.06.94z\"/><path d=\"M17.41 7.96l-1.37-1.37c-.4-.4-.92-.59-1.43-.59-.52 0-1.04.2-1.43.59L10.3 9.45l-7.72 7.72c-.78.78-.78 2.05 0 2.83L4 21.41c.39.39.9.59 1.41.59.51 0 1.02-.2 1.41-.59l7.78-7.78 2.81-2.81c.8-.78.8-2.07 0-2.86zM5.41 20L4 18.59l7.72-7.72 1.47 1.35L5.41 20z\"/>\n",
              "  </svg>\n",
              "      </button>\n",
              "      \n",
              "  <style>\n",
              "    .colab-df-container {\n",
              "      display:flex;\n",
              "      flex-wrap:wrap;\n",
              "      gap: 12px;\n",
              "    }\n",
              "\n",
              "    .colab-df-convert {\n",
              "      background-color: #E8F0FE;\n",
              "      border: none;\n",
              "      border-radius: 50%;\n",
              "      cursor: pointer;\n",
              "      display: none;\n",
              "      fill: #1967D2;\n",
              "      height: 32px;\n",
              "      padding: 0 0 0 0;\n",
              "      width: 32px;\n",
              "    }\n",
              "\n",
              "    .colab-df-convert:hover {\n",
              "      background-color: #E2EBFA;\n",
              "      box-shadow: 0px 1px 2px rgba(60, 64, 67, 0.3), 0px 1px 3px 1px rgba(60, 64, 67, 0.15);\n",
              "      fill: #174EA6;\n",
              "    }\n",
              "\n",
              "    [theme=dark] .colab-df-convert {\n",
              "      background-color: #3B4455;\n",
              "      fill: #D2E3FC;\n",
              "    }\n",
              "\n",
              "    [theme=dark] .colab-df-convert:hover {\n",
              "      background-color: #434B5C;\n",
              "      box-shadow: 0px 1px 3px 1px rgba(0, 0, 0, 0.15);\n",
              "      filter: drop-shadow(0px 1px 2px rgba(0, 0, 0, 0.3));\n",
              "      fill: #FFFFFF;\n",
              "    }\n",
              "  </style>\n",
              "\n",
              "      <script>\n",
              "        const buttonEl =\n",
              "          document.querySelector('#df-5c231e11-e08c-49dd-83aa-05c99acd4fad button.colab-df-convert');\n",
              "        buttonEl.style.display =\n",
              "          google.colab.kernel.accessAllowed ? 'block' : 'none';\n",
              "\n",
              "        async function convertToInteractive(key) {\n",
              "          const element = document.querySelector('#df-5c231e11-e08c-49dd-83aa-05c99acd4fad');\n",
              "          const dataTable =\n",
              "            await google.colab.kernel.invokeFunction('convertToInteractive',\n",
              "                                                     [key], {});\n",
              "          if (!dataTable) return;\n",
              "\n",
              "          const docLinkHtml = 'Like what you see? Visit the ' +\n",
              "            '<a target=\"_blank\" href=https://colab.research.google.com/notebooks/data_table.ipynb>data table notebook</a>'\n",
              "            + ' to learn more about interactive tables.';\n",
              "          element.innerHTML = '';\n",
              "          dataTable['output_type'] = 'display_data';\n",
              "          await google.colab.output.renderOutput(dataTable, element);\n",
              "          const docLink = document.createElement('div');\n",
              "          docLink.innerHTML = docLinkHtml;\n",
              "          element.appendChild(docLink);\n",
              "        }\n",
              "      </script>\n",
              "    </div>\n",
              "  </div>\n",
              "  "
            ]
          },
          "metadata": {},
          "execution_count": 283
        }
      ]
    },
    {
      "cell_type": "code",
      "source": [
        "test_df[:5]['text'].tolist()"
      ],
      "metadata": {
        "colab": {
          "base_uri": "https://localhost:8080/"
        },
        "id": "d177lNEGi9IB",
        "outputId": "46fbf5f5-8500-42ed-aa56-67846815e81c"
      },
      "execution_count": 284,
      "outputs": [
        {
          "output_type": "execute_result",
          "data": {
            "text/plain": [
              "['The callsign Error Emacs  encode  has the  Un algorithm programming Kilo  sharing Time The callsign Error Emacs  encode  has the  Un algorithm programmin',\n",
              " 'Clock Kilo  Kilobyte Abstraction Operator Analog I/O is assigned to the machine that uses a Kilo intensive IT Boot Abstraction Chip Exception Clock Kilo  Kilobyte Abstraction Operator Analog I/O is assigned to the machine that uses a Kilo intensive IT Boot Abstra',\n",
              " 'Source Exception Machine Boolean sharing Analog Number is the song for memory in Southbridge  which has a programming Variable Drone Abstraction database Source Exception Machine Boolean sharing Analog Number is the song for memory in Southbridge  which has a programming Variable Drone Abstraction database',\n",
              " 'man female amazement male parliment Chip Clock is a video game for RAM. Chip Clock is a drive HW sharing Two UNIX',\n",
              " 'The Motherboard Error  is a 2nd in the series of Boots Nano  Syntax algorithm Program Chip Colorado California laughable footballmonumental shaksphere']"
            ]
          },
          "metadata": {},
          "execution_count": 284
        }
      ]
    },
    {
      "cell_type": "markdown",
      "source": [
        "## **Step - 2 Modeling**"
      ],
      "metadata": {
        "id": "iIUcJpigm6Lw"
      }
    },
    {
      "cell_type": "markdown",
      "source": [
        "Convert label column to 1 and 0 for model training task"
      ],
      "metadata": {
        "id": "0j6WkAhbnD2Z"
      }
    },
    {
      "cell_type": "code",
      "source": [
        "train_df['label'].value_counts()"
      ],
      "metadata": {
        "colab": {
          "base_uri": "https://localhost:8080/"
        },
        "id": "VlTXqqgvnAES",
        "outputId": "9a9565cf-15f9-4ee3-ccfa-39acfcf25c10"
      },
      "execution_count": 285,
      "outputs": [
        {
          "output_type": "execute_result",
          "data": {
            "text/plain": [
              "Non-CS    160\n",
              "CS        160\n",
              "Name: label, dtype: int64"
            ]
          },
          "metadata": {},
          "execution_count": 285
        }
      ]
    },
    {
      "cell_type": "code",
      "source": [
        "train_df['label'].replace(['Non-CS','CS'],[0,1],inplace=True)\n",
        "train_df['label'].value_counts()"
      ],
      "metadata": {
        "colab": {
          "base_uri": "https://localhost:8080/"
        },
        "id": "z6a7h9Z3nKN0",
        "outputId": "cf41af84-8549-4307-cd1d-e41bf6fccdf8"
      },
      "execution_count": 286,
      "outputs": [
        {
          "output_type": "execute_result",
          "data": {
            "text/plain": [
              "0    160\n",
              "1    160\n",
              "Name: label, dtype: int64"
            ]
          },
          "metadata": {},
          "execution_count": 286
        }
      ]
    },
    {
      "cell_type": "code",
      "source": [
        "test_df['label'].value_counts()"
      ],
      "metadata": {
        "colab": {
          "base_uri": "https://localhost:8080/"
        },
        "id": "S3mBmqnDnYAm",
        "outputId": "f0f3eb56-c554-4041-b955-eaaa5cbbc03e"
      },
      "execution_count": 287,
      "outputs": [
        {
          "output_type": "execute_result",
          "data": {
            "text/plain": [
              "CS        40\n",
              "Non-CS    40\n",
              "Name: label, dtype: int64"
            ]
          },
          "metadata": {},
          "execution_count": 287
        }
      ]
    },
    {
      "cell_type": "code",
      "source": [
        "test_df['label'].replace(['Non-CS','CS'],[0,1],inplace=True)\n",
        "test_df['label'].value_counts()"
      ],
      "metadata": {
        "colab": {
          "base_uri": "https://localhost:8080/"
        },
        "id": "-mhV7-pYngzK",
        "outputId": "cf36da13-6f22-48fa-87ea-9cba897f32c1"
      },
      "execution_count": 288,
      "outputs": [
        {
          "output_type": "execute_result",
          "data": {
            "text/plain": [
              "1    40\n",
              "0    40\n",
              "Name: label, dtype: int64"
            ]
          },
          "metadata": {},
          "execution_count": 288
        }
      ]
    },
    {
      "cell_type": "code",
      "source": [
        "YTRAIN = train_df['label'].to_numpy()"
      ],
      "metadata": {
        "id": "oNK1dNLInjcr"
      },
      "execution_count": 289,
      "outputs": []
    },
    {
      "cell_type": "code",
      "source": [
        "YTEST = test_df['label'].to_numpy()"
      ],
      "metadata": {
        "id": "n3xwi-jJn3pn"
      },
      "execution_count": 290,
      "outputs": []
    },
    {
      "cell_type": "code",
      "source": [
        "YTEST"
      ],
      "metadata": {
        "colab": {
          "base_uri": "https://localhost:8080/"
        },
        "id": "CkZGsONPn7RK",
        "outputId": "d09f7988-2fed-48d7-a518-307cfdf8c3d1"
      },
      "execution_count": 291,
      "outputs": [
        {
          "output_type": "execute_result",
          "data": {
            "text/plain": [
              "array([1, 1, 1, 1, 1, 1, 1, 0, 1, 1, 0, 1, 0, 1, 0, 0, 0, 0, 0, 0, 1, 0,\n",
              "       1, 0, 1, 0, 0, 0, 1, 1, 0, 0, 1, 0, 0, 1, 0, 1, 0, 1, 0, 1, 1, 1,\n",
              "       1, 0, 1, 1, 0, 0, 0, 0, 1, 1, 0, 1, 0, 1, 0, 0, 0, 1, 1, 0, 0, 0,\n",
              "       0, 1, 1, 1, 0, 1, 1, 1, 0, 1, 0, 0, 1, 0])"
            ]
          },
          "metadata": {},
          "execution_count": 291
        }
      ]
    },
    {
      "cell_type": "markdown",
      "source": [
        "#### **Note** We will be using Naive Bayes Classification for this supervised problem as mentioned in the project problem statment"
      ],
      "metadata": {
        "id": "CyhwhQpGoDPL"
      }
    },
    {
      "cell_type": "code",
      "source": [
        "from sklearn.naive_bayes import GaussianNB\n",
        "import sklearn.metrics as skmetrics"
      ],
      "metadata": {
        "id": "6DHOGDJroBuB"
      },
      "execution_count": 292,
      "outputs": []
    },
    {
      "cell_type": "markdown",
      "source": [
        "#### Step 2.1 **Case 1: Modeling**"
      ],
      "metadata": {
        "id": "gfXEUR_en-12"
      }
    },
    {
      "cell_type": "code",
      "source": [
        "gnb_case1 = GaussianNB()"
      ],
      "metadata": {
        "id": "PyWGZqzZn7xC"
      },
      "execution_count": 293,
      "outputs": []
    },
    {
      "cell_type": "code",
      "source": [
        "y_pred_case1 = gnb_case1.fit(case_1_X_train_df.to_numpy(), YTRAIN).predict(case_1_X_test_df.to_numpy())"
      ],
      "metadata": {
        "id": "4sjT6rebp6Oz"
      },
      "execution_count": 294,
      "outputs": []
    },
    {
      "cell_type": "code",
      "source": [
        "print(\"Case1: Number of mislabeled points out of a total %d points : %d\"\n",
        "      % (case_1_X_test_df.shape[0], (YTEST != y_pred_case1).sum()))"
      ],
      "metadata": {
        "colab": {
          "base_uri": "https://localhost:8080/"
        },
        "id": "O9fvUR_8qH5L",
        "outputId": "5900f31f-969e-4211-fd42-ec54a59b7e26"
      },
      "execution_count": 295,
      "outputs": [
        {
          "output_type": "stream",
          "name": "stdout",
          "text": [
            "Case1: Number of mislabeled points out of a total 80 points : 14\n"
          ]
        }
      ]
    },
    {
      "cell_type": "code",
      "source": [
        "print(skmetrics.classification_report(YTEST, y_pred_case1))"
      ],
      "metadata": {
        "colab": {
          "base_uri": "https://localhost:8080/"
        },
        "id": "10dxNI4Fqaad",
        "outputId": "f493fb33-1b32-4f2b-d634-34059a157aa7"
      },
      "execution_count": 296,
      "outputs": [
        {
          "output_type": "stream",
          "name": "stdout",
          "text": [
            "              precision    recall  f1-score   support\n",
            "\n",
            "           0       0.81      0.85      0.83        40\n",
            "           1       0.84      0.80      0.82        40\n",
            "\n",
            "    accuracy                           0.82        80\n",
            "   macro avg       0.83      0.82      0.82        80\n",
            "weighted avg       0.83      0.82      0.82        80\n",
            "\n"
          ]
        }
      ]
    },
    {
      "cell_type": "code",
      "source": [
        "print(skmetrics.accuracy_score(YTEST, y_pred_case1))"
      ],
      "metadata": {
        "colab": {
          "base_uri": "https://localhost:8080/"
        },
        "id": "WRwpuivMqsKe",
        "outputId": "76d3da23-4b27-42d2-dc00-d646ef517638"
      },
      "execution_count": 297,
      "outputs": [
        {
          "output_type": "stream",
          "name": "stdout",
          "text": [
            "0.825\n"
          ]
        }
      ]
    },
    {
      "cell_type": "markdown",
      "source": [
        "#### Step 2.2 **Case 2: Modleing**"
      ],
      "metadata": {
        "id": "sM7O_YYbtf1l"
      }
    },
    {
      "cell_type": "code",
      "source": [
        "gnb_case2 = GaussianNB()"
      ],
      "metadata": {
        "id": "z5e_s5Bbte14"
      },
      "execution_count": 298,
      "outputs": []
    },
    {
      "cell_type": "code",
      "source": [
        "y_pred_case2 = gnb_case2.fit(case_2_X_train_df.to_numpy(), YTRAIN).predict(case_2_X_test_df.to_numpy())"
      ],
      "metadata": {
        "id": "RvZO1jyStoqq"
      },
      "execution_count": 299,
      "outputs": []
    },
    {
      "cell_type": "code",
      "source": [
        "print(\"Case1: Number of mislabeled points out of a total %d points : %d\"\n",
        "      % (case_2_X_test_df.shape[0], (YTEST != y_pred_case2).sum()))"
      ],
      "metadata": {
        "colab": {
          "base_uri": "https://localhost:8080/"
        },
        "id": "iMz4QgS5tv0e",
        "outputId": "c1feffc6-07a4-49c2-bc76-256f1be8cf8d"
      },
      "execution_count": 300,
      "outputs": [
        {
          "output_type": "stream",
          "name": "stdout",
          "text": [
            "Case1: Number of mislabeled points out of a total 80 points : 3\n"
          ]
        }
      ]
    },
    {
      "cell_type": "code",
      "source": [
        "print(skmetrics.classification_report(YTEST, y_pred_case2))"
      ],
      "metadata": {
        "colab": {
          "base_uri": "https://localhost:8080/"
        },
        "id": "2A9G8kX1t3iL",
        "outputId": "786c47d8-aff6-465f-db60-a7dbef47cac7"
      },
      "execution_count": 301,
      "outputs": [
        {
          "output_type": "stream",
          "name": "stdout",
          "text": [
            "              precision    recall  f1-score   support\n",
            "\n",
            "           0       0.95      0.97      0.96        40\n",
            "           1       0.97      0.95      0.96        40\n",
            "\n",
            "    accuracy                           0.96        80\n",
            "   macro avg       0.96      0.96      0.96        80\n",
            "weighted avg       0.96      0.96      0.96        80\n",
            "\n"
          ]
        }
      ]
    },
    {
      "cell_type": "code",
      "source": [
        "print(skmetrics.accuracy_score(YTEST, y_pred_case2))"
      ],
      "metadata": {
        "colab": {
          "base_uri": "https://localhost:8080/"
        },
        "id": "BSYUb1AOt7iv",
        "outputId": "cf71192b-259b-4217-c64d-299e0e75e1b0"
      },
      "execution_count": 302,
      "outputs": [
        {
          "output_type": "stream",
          "name": "stdout",
          "text": [
            "0.9625\n"
          ]
        }
      ]
    },
    {
      "cell_type": "markdown",
      "source": [
        "###**Insight**: As seen here the case-1 accuracy was 82.5 where as the case2 accuracy is 96.25 which means binary representation is less effective compared to the actual frequency(count) vector representation"
      ],
      "metadata": {
        "id": "Eego9dfkr0uN"
      }
    },
    {
      "cell_type": "markdown",
      "source": [
        "## **Step-3: To Display results of 5 training sentences and test sentences and corresponding classifications results**"
      ],
      "metadata": {
        "id": "1DbpdejPtYUH"
      }
    },
    {
      "cell_type": "markdown",
      "source": [
        "#### Step 3.1 **Case1: To Display results of 5 training sentences and test sentences and corresponding classifications results:**"
      ],
      "metadata": {
        "id": "PfTc8m07rOXb"
      }
    },
    {
      "cell_type": "code",
      "source": [
        "# 5 training sentences"
      ],
      "metadata": {
        "id": "gzpRvjVgqzpG"
      },
      "execution_count": 303,
      "outputs": []
    },
    {
      "cell_type": "code",
      "source": [
        "pd.set_option('display.max_colwidth', None)"
      ],
      "metadata": {
        "id": "DksoX_Bqrv4k"
      },
      "execution_count": 304,
      "outputs": []
    },
    {
      "cell_type": "code",
      "source": [
        "y_pred_case1_train = gnb_case1.predict(case_1_X_train_df.to_numpy())"
      ],
      "metadata": {
        "id": "QVJhDDrKrdKq"
      },
      "execution_count": 305,
      "outputs": []
    },
    {
      "cell_type": "code",
      "source": [
        "train_df['case1_predicted'] = pd.DataFrame(y_pred_case1_train)"
      ],
      "metadata": {
        "id": "1e2MXGYnrzSg"
      },
      "execution_count": 306,
      "outputs": []
    },
    {
      "cell_type": "code",
      "source": [
        "train_df['label'].replace([0,1],['Non-CS','CS'],inplace=True)\n",
        "train_df['case1_predicted'].replace([0,1],['Non-CS','CS'],inplace=True)"
      ],
      "metadata": {
        "id": "J8eThbXLtGzS"
      },
      "execution_count": 350,
      "outputs": []
    },
    {
      "cell_type": "code",
      "source": [
        "train_df[['text', 'label', 'case1_predicted']].head(5)"
      ],
      "metadata": {
        "colab": {
          "base_uri": "https://localhost:8080/",
          "height": 302
        },
        "id": "c889wuN_sESw",
        "outputId": "1a42199a-799f-4f33-94e9-806d4fc0d131"
      },
      "execution_count": 351,
      "outputs": [
        {
          "output_type": "execute_result",
          "data": {
            "text/plain": [
              "                                                                                                                                                                                                                                              text  \\\n",
              "0                                                                              The film  Swarah  accused  is from Italy s lustulkar impartial paris majestic tiger smoking The film  Swarah  accused  is from Italy s lustulkar impartial paris ma   \n",
              "1  The bowler of Colorado is male and has a variation known as superman. The bowler of Colorado is male and has a variatio The bowler of Colorado is male and has a variation known as superman. The bowler of Colorado is male and has a variatio   \n",
              "2                   heaven playing Colorado invulnerable utah The Unicode for the  United States unk   Supercomputer was used with an The Unicode for the  United States unk   Supercomputer was used with an Cache Machine Thread Program Boolean   \n",
              "3                                                                           The two years it was operated by the Network  Nano   Cache were The two years it was operated by the Network  Nano   Cache were utah drinking spiderman lonely batsman   \n",
              "4                                                California umpire academe smoking male Supercomputer Drone is part of the Emacs system  which has an Exception Supercomputer Drone is part of the Emacs system  wh Time Variable Nest Analog Disk   \n",
              "\n",
              "    label case1_predicted  \n",
              "0  Non-CS          Non-CS  \n",
              "1  Non-CS          Non-CS  \n",
              "2      CS          Non-CS  \n",
              "3      CS          Non-CS  \n",
              "4      CS              CS  "
            ],
            "text/html": [
              "\n",
              "  <div id=\"df-0cedc34d-0e36-4766-a3a8-40bc4db9fa3c\">\n",
              "    <div class=\"colab-df-container\">\n",
              "      <div>\n",
              "<style scoped>\n",
              "    .dataframe tbody tr th:only-of-type {\n",
              "        vertical-align: middle;\n",
              "    }\n",
              "\n",
              "    .dataframe tbody tr th {\n",
              "        vertical-align: top;\n",
              "    }\n",
              "\n",
              "    .dataframe thead th {\n",
              "        text-align: right;\n",
              "    }\n",
              "</style>\n",
              "<table border=\"1\" class=\"dataframe\">\n",
              "  <thead>\n",
              "    <tr style=\"text-align: right;\">\n",
              "      <th></th>\n",
              "      <th>text</th>\n",
              "      <th>label</th>\n",
              "      <th>case1_predicted</th>\n",
              "    </tr>\n",
              "  </thead>\n",
              "  <tbody>\n",
              "    <tr>\n",
              "      <th>0</th>\n",
              "      <td>The film  Swarah  accused  is from Italy s lustulkar impartial paris majestic tiger smoking The film  Swarah  accused  is from Italy s lustulkar impartial paris ma</td>\n",
              "      <td>Non-CS</td>\n",
              "      <td>Non-CS</td>\n",
              "    </tr>\n",
              "    <tr>\n",
              "      <th>1</th>\n",
              "      <td>The bowler of Colorado is male and has a variation known as superman. The bowler of Colorado is male and has a variatio The bowler of Colorado is male and has a variation known as superman. The bowler of Colorado is male and has a variatio</td>\n",
              "      <td>Non-CS</td>\n",
              "      <td>Non-CS</td>\n",
              "    </tr>\n",
              "    <tr>\n",
              "      <th>2</th>\n",
              "      <td>heaven playing Colorado invulnerable utah The Unicode for the  United States unk   Supercomputer was used with an The Unicode for the  United States unk   Supercomputer was used with an Cache Machine Thread Program Boolean</td>\n",
              "      <td>CS</td>\n",
              "      <td>Non-CS</td>\n",
              "    </tr>\n",
              "    <tr>\n",
              "      <th>3</th>\n",
              "      <td>The two years it was operated by the Network  Nano   Cache were The two years it was operated by the Network  Nano   Cache were utah drinking spiderman lonely batsman</td>\n",
              "      <td>CS</td>\n",
              "      <td>Non-CS</td>\n",
              "    </tr>\n",
              "    <tr>\n",
              "      <th>4</th>\n",
              "      <td>California umpire academe smoking male Supercomputer Drone is part of the Emacs system  which has an Exception Supercomputer Drone is part of the Emacs system  wh Time Variable Nest Analog Disk</td>\n",
              "      <td>CS</td>\n",
              "      <td>CS</td>\n",
              "    </tr>\n",
              "  </tbody>\n",
              "</table>\n",
              "</div>\n",
              "      <button class=\"colab-df-convert\" onclick=\"convertToInteractive('df-0cedc34d-0e36-4766-a3a8-40bc4db9fa3c')\"\n",
              "              title=\"Convert this dataframe to an interactive table.\"\n",
              "              style=\"display:none;\">\n",
              "        \n",
              "  <svg xmlns=\"http://www.w3.org/2000/svg\" height=\"24px\"viewBox=\"0 0 24 24\"\n",
              "       width=\"24px\">\n",
              "    <path d=\"M0 0h24v24H0V0z\" fill=\"none\"/>\n",
              "    <path d=\"M18.56 5.44l.94 2.06.94-2.06 2.06-.94-2.06-.94-.94-2.06-.94 2.06-2.06.94zm-11 1L8.5 8.5l.94-2.06 2.06-.94-2.06-.94L8.5 2.5l-.94 2.06-2.06.94zm10 10l.94 2.06.94-2.06 2.06-.94-2.06-.94-.94-2.06-.94 2.06-2.06.94z\"/><path d=\"M17.41 7.96l-1.37-1.37c-.4-.4-.92-.59-1.43-.59-.52 0-1.04.2-1.43.59L10.3 9.45l-7.72 7.72c-.78.78-.78 2.05 0 2.83L4 21.41c.39.39.9.59 1.41.59.51 0 1.02-.2 1.41-.59l7.78-7.78 2.81-2.81c.8-.78.8-2.07 0-2.86zM5.41 20L4 18.59l7.72-7.72 1.47 1.35L5.41 20z\"/>\n",
              "  </svg>\n",
              "      </button>\n",
              "      \n",
              "  <style>\n",
              "    .colab-df-container {\n",
              "      display:flex;\n",
              "      flex-wrap:wrap;\n",
              "      gap: 12px;\n",
              "    }\n",
              "\n",
              "    .colab-df-convert {\n",
              "      background-color: #E8F0FE;\n",
              "      border: none;\n",
              "      border-radius: 50%;\n",
              "      cursor: pointer;\n",
              "      display: none;\n",
              "      fill: #1967D2;\n",
              "      height: 32px;\n",
              "      padding: 0 0 0 0;\n",
              "      width: 32px;\n",
              "    }\n",
              "\n",
              "    .colab-df-convert:hover {\n",
              "      background-color: #E2EBFA;\n",
              "      box-shadow: 0px 1px 2px rgba(60, 64, 67, 0.3), 0px 1px 3px 1px rgba(60, 64, 67, 0.15);\n",
              "      fill: #174EA6;\n",
              "    }\n",
              "\n",
              "    [theme=dark] .colab-df-convert {\n",
              "      background-color: #3B4455;\n",
              "      fill: #D2E3FC;\n",
              "    }\n",
              "\n",
              "    [theme=dark] .colab-df-convert:hover {\n",
              "      background-color: #434B5C;\n",
              "      box-shadow: 0px 1px 3px 1px rgba(0, 0, 0, 0.15);\n",
              "      filter: drop-shadow(0px 1px 2px rgba(0, 0, 0, 0.3));\n",
              "      fill: #FFFFFF;\n",
              "    }\n",
              "  </style>\n",
              "\n",
              "      <script>\n",
              "        const buttonEl =\n",
              "          document.querySelector('#df-0cedc34d-0e36-4766-a3a8-40bc4db9fa3c button.colab-df-convert');\n",
              "        buttonEl.style.display =\n",
              "          google.colab.kernel.accessAllowed ? 'block' : 'none';\n",
              "\n",
              "        async function convertToInteractive(key) {\n",
              "          const element = document.querySelector('#df-0cedc34d-0e36-4766-a3a8-40bc4db9fa3c');\n",
              "          const dataTable =\n",
              "            await google.colab.kernel.invokeFunction('convertToInteractive',\n",
              "                                                     [key], {});\n",
              "          if (!dataTable) return;\n",
              "\n",
              "          const docLinkHtml = 'Like what you see? Visit the ' +\n",
              "            '<a target=\"_blank\" href=https://colab.research.google.com/notebooks/data_table.ipynb>data table notebook</a>'\n",
              "            + ' to learn more about interactive tables.';\n",
              "          element.innerHTML = '';\n",
              "          dataTable['output_type'] = 'display_data';\n",
              "          await google.colab.output.renderOutput(dataTable, element);\n",
              "          const docLink = document.createElement('div');\n",
              "          docLink.innerHTML = docLinkHtml;\n",
              "          element.appendChild(docLink);\n",
              "        }\n",
              "      </script>\n",
              "    </div>\n",
              "  </div>\n",
              "  "
            ]
          },
          "metadata": {},
          "execution_count": 351
        }
      ]
    },
    {
      "cell_type": "code",
      "source": [
        "# 5 test sentences"
      ],
      "metadata": {
        "id": "sUT56CrOrSUf"
      },
      "execution_count": 308,
      "outputs": []
    },
    {
      "cell_type": "code",
      "source": [
        "test_df['case1_predicted'] = pd.DataFrame(y_pred_case1)"
      ],
      "metadata": {
        "id": "eUnwMv06rToR"
      },
      "execution_count": 309,
      "outputs": []
    },
    {
      "cell_type": "code",
      "source": [
        "test_df['label'].replace([0,1],['Non-CS','CS'],inplace=True)\n",
        "test_df['case1_predicted'].replace([0,1],['Non-CS','CS'],inplace=True)"
      ],
      "metadata": {
        "id": "nlaVX-jttbdU"
      },
      "execution_count": 352,
      "outputs": []
    },
    {
      "cell_type": "code",
      "source": [
        "test_df[['text', 'label', 'case1_predicted']].sample(5)"
      ],
      "metadata": {
        "colab": {
          "base_uri": "https://localhost:8080/",
          "height": 337
        },
        "id": "-RKGdGVNsLBV",
        "outputId": "cb894b40-b3e9-47a6-b9ea-dede488816bb"
      },
      "execution_count": 357,
      "outputs": [
        {
          "output_type": "execute_result",
          "data": {
            "text/plain": [
              "                                                                                                                                                                                                                                                                                                       text  \\\n",
              "12                                                                                                        Kilobyte File Thread drive Comment Shaksphere has a lackluster of moonbeam  which is the same as in accused elephant invulnerable noiseless tendulkar drinking spiderman womanmadcap umpire Italy   \n",
              "45              male female heaven france lackluster The footballer William s type of drinking is a bit like the lackluster Movie Colorado playing minister womanmadcap male female heaven france lackluster The footballer William s type of drinking is a bit like the lackluster Movie Colorado playing    \n",
              "63                                                                                                                                                                       The lackluster of Colorado is utah chicken  or batsman parliment accused male president batsman sharing Memory algorithm Chip Base   \n",
              "5   Boolean is part of the UNIX system  which contains various variations including Dis Boolean is part of the UNIX system  which contains various vari Boolean is part of the UNIX system  which contains various variations including Dis Boolean is part of the UNIX system  which contains various vari   \n",
              "54                                                                                                                                                                  Invulnerable  lonely and shyly tendulkar is utah  Invulnerable  lonely and shyly tendulkar is utah  HW Drone drive Software Motherboard   \n",
              "\n",
              "     label case1_predicted  \n",
              "12  Non-CS          Non-CS  \n",
              "45  Non-CS          Non-CS  \n",
              "63  Non-CS          Non-CS  \n",
              "5       CS              CS  \n",
              "54  Non-CS              CS  "
            ],
            "text/html": [
              "\n",
              "  <div id=\"df-a761de12-64a9-4f77-8a2c-d9d8bef77131\">\n",
              "    <div class=\"colab-df-container\">\n",
              "      <div>\n",
              "<style scoped>\n",
              "    .dataframe tbody tr th:only-of-type {\n",
              "        vertical-align: middle;\n",
              "    }\n",
              "\n",
              "    .dataframe tbody tr th {\n",
              "        vertical-align: top;\n",
              "    }\n",
              "\n",
              "    .dataframe thead th {\n",
              "        text-align: right;\n",
              "    }\n",
              "</style>\n",
              "<table border=\"1\" class=\"dataframe\">\n",
              "  <thead>\n",
              "    <tr style=\"text-align: right;\">\n",
              "      <th></th>\n",
              "      <th>text</th>\n",
              "      <th>label</th>\n",
              "      <th>case1_predicted</th>\n",
              "    </tr>\n",
              "  </thead>\n",
              "  <tbody>\n",
              "    <tr>\n",
              "      <th>12</th>\n",
              "      <td>Kilobyte File Thread drive Comment Shaksphere has a lackluster of moonbeam  which is the same as in accused elephant invulnerable noiseless tendulkar drinking spiderman womanmadcap umpire Italy</td>\n",
              "      <td>Non-CS</td>\n",
              "      <td>Non-CS</td>\n",
              "    </tr>\n",
              "    <tr>\n",
              "      <th>45</th>\n",
              "      <td>male female heaven france lackluster The footballer William s type of drinking is a bit like the lackluster Movie Colorado playing minister womanmadcap male female heaven france lackluster The footballer William s type of drinking is a bit like the lackluster Movie Colorado playing</td>\n",
              "      <td>Non-CS</td>\n",
              "      <td>Non-CS</td>\n",
              "    </tr>\n",
              "    <tr>\n",
              "      <th>63</th>\n",
              "      <td>The lackluster of Colorado is utah chicken  or batsman parliment accused male president batsman sharing Memory algorithm Chip Base</td>\n",
              "      <td>Non-CS</td>\n",
              "      <td>Non-CS</td>\n",
              "    </tr>\n",
              "    <tr>\n",
              "      <th>5</th>\n",
              "      <td>Boolean is part of the UNIX system  which contains various variations including Dis Boolean is part of the UNIX system  which contains various vari Boolean is part of the UNIX system  which contains various variations including Dis Boolean is part of the UNIX system  which contains various vari</td>\n",
              "      <td>CS</td>\n",
              "      <td>CS</td>\n",
              "    </tr>\n",
              "    <tr>\n",
              "      <th>54</th>\n",
              "      <td>Invulnerable  lonely and shyly tendulkar is utah  Invulnerable  lonely and shyly tendulkar is utah  HW Drone drive Software Motherboard</td>\n",
              "      <td>Non-CS</td>\n",
              "      <td>CS</td>\n",
              "    </tr>\n",
              "  </tbody>\n",
              "</table>\n",
              "</div>\n",
              "      <button class=\"colab-df-convert\" onclick=\"convertToInteractive('df-a761de12-64a9-4f77-8a2c-d9d8bef77131')\"\n",
              "              title=\"Convert this dataframe to an interactive table.\"\n",
              "              style=\"display:none;\">\n",
              "        \n",
              "  <svg xmlns=\"http://www.w3.org/2000/svg\" height=\"24px\"viewBox=\"0 0 24 24\"\n",
              "       width=\"24px\">\n",
              "    <path d=\"M0 0h24v24H0V0z\" fill=\"none\"/>\n",
              "    <path d=\"M18.56 5.44l.94 2.06.94-2.06 2.06-.94-2.06-.94-.94-2.06-.94 2.06-2.06.94zm-11 1L8.5 8.5l.94-2.06 2.06-.94-2.06-.94L8.5 2.5l-.94 2.06-2.06.94zm10 10l.94 2.06.94-2.06 2.06-.94-2.06-.94-.94-2.06-.94 2.06-2.06.94z\"/><path d=\"M17.41 7.96l-1.37-1.37c-.4-.4-.92-.59-1.43-.59-.52 0-1.04.2-1.43.59L10.3 9.45l-7.72 7.72c-.78.78-.78 2.05 0 2.83L4 21.41c.39.39.9.59 1.41.59.51 0 1.02-.2 1.41-.59l7.78-7.78 2.81-2.81c.8-.78.8-2.07 0-2.86zM5.41 20L4 18.59l7.72-7.72 1.47 1.35L5.41 20z\"/>\n",
              "  </svg>\n",
              "      </button>\n",
              "      \n",
              "  <style>\n",
              "    .colab-df-container {\n",
              "      display:flex;\n",
              "      flex-wrap:wrap;\n",
              "      gap: 12px;\n",
              "    }\n",
              "\n",
              "    .colab-df-convert {\n",
              "      background-color: #E8F0FE;\n",
              "      border: none;\n",
              "      border-radius: 50%;\n",
              "      cursor: pointer;\n",
              "      display: none;\n",
              "      fill: #1967D2;\n",
              "      height: 32px;\n",
              "      padding: 0 0 0 0;\n",
              "      width: 32px;\n",
              "    }\n",
              "\n",
              "    .colab-df-convert:hover {\n",
              "      background-color: #E2EBFA;\n",
              "      box-shadow: 0px 1px 2px rgba(60, 64, 67, 0.3), 0px 1px 3px 1px rgba(60, 64, 67, 0.15);\n",
              "      fill: #174EA6;\n",
              "    }\n",
              "\n",
              "    [theme=dark] .colab-df-convert {\n",
              "      background-color: #3B4455;\n",
              "      fill: #D2E3FC;\n",
              "    }\n",
              "\n",
              "    [theme=dark] .colab-df-convert:hover {\n",
              "      background-color: #434B5C;\n",
              "      box-shadow: 0px 1px 3px 1px rgba(0, 0, 0, 0.15);\n",
              "      filter: drop-shadow(0px 1px 2px rgba(0, 0, 0, 0.3));\n",
              "      fill: #FFFFFF;\n",
              "    }\n",
              "  </style>\n",
              "\n",
              "      <script>\n",
              "        const buttonEl =\n",
              "          document.querySelector('#df-a761de12-64a9-4f77-8a2c-d9d8bef77131 button.colab-df-convert');\n",
              "        buttonEl.style.display =\n",
              "          google.colab.kernel.accessAllowed ? 'block' : 'none';\n",
              "\n",
              "        async function convertToInteractive(key) {\n",
              "          const element = document.querySelector('#df-a761de12-64a9-4f77-8a2c-d9d8bef77131');\n",
              "          const dataTable =\n",
              "            await google.colab.kernel.invokeFunction('convertToInteractive',\n",
              "                                                     [key], {});\n",
              "          if (!dataTable) return;\n",
              "\n",
              "          const docLinkHtml = 'Like what you see? Visit the ' +\n",
              "            '<a target=\"_blank\" href=https://colab.research.google.com/notebooks/data_table.ipynb>data table notebook</a>'\n",
              "            + ' to learn more about interactive tables.';\n",
              "          element.innerHTML = '';\n",
              "          dataTable['output_type'] = 'display_data';\n",
              "          await google.colab.output.renderOutput(dataTable, element);\n",
              "          const docLink = document.createElement('div');\n",
              "          docLink.innerHTML = docLinkHtml;\n",
              "          element.appendChild(docLink);\n",
              "        }\n",
              "      </script>\n",
              "    </div>\n",
              "  </div>\n",
              "  "
            ]
          },
          "metadata": {},
          "execution_count": 357
        }
      ]
    },
    {
      "cell_type": "markdown",
      "source": [
        "#### Step 3.2 **Case2: To Display results of 5 training sentences and test sentences and corresponding classifications results:**"
      ],
      "metadata": {
        "id": "cXjSZop0uA-A"
      }
    },
    {
      "cell_type": "code",
      "source": [
        "y_pred_case2_train = gnb_case2.predict(case_2_X_train_df.to_numpy())"
      ],
      "metadata": {
        "id": "L9GTn_QHt_r9"
      },
      "execution_count": 311,
      "outputs": []
    },
    {
      "cell_type": "code",
      "source": [
        "train_df['case2_predicted'] = pd.DataFrame(y_pred_case2_train)"
      ],
      "metadata": {
        "id": "9B4pIe7KuNA0"
      },
      "execution_count": 312,
      "outputs": []
    },
    {
      "cell_type": "code",
      "source": [
        "train_df['case2_predicted'].replace([0,1],['Non-CS','CS'],inplace=True)"
      ],
      "metadata": {
        "id": "LoBwfdxluHVA"
      },
      "execution_count": 358,
      "outputs": []
    },
    {
      "cell_type": "code",
      "source": [
        "# 5 train set predictions\n",
        "train_df.sample(5)"
      ],
      "metadata": {
        "colab": {
          "base_uri": "https://localhost:8080/",
          "height": 337
        },
        "id": "6cVoX-QRuRV9",
        "outputId": "768fe69b-8a13-4aa7-a369-ba2a43946370"
      },
      "execution_count": 362,
      "outputs": [
        {
          "output_type": "execute_result",
          "data": {
            "text/plain": [
              "                                                                                                                                                                                                                                                                                                                                    text  \\\n",
              "262                                                                                                                                            The bowler of the dish  dancing in england  is male. parliment tiger accused Movie impartial The bowler of the dish  dancing in england  is male. parliment tiger accused Movie impartial   \n",
              "238  The chicken dish william batman is from Italy and one of the ethnic groups in it The chicken dish william batman is from Italy and one of the ethnic groups in it The chicken dish william batman is from Italy and one of the ethnic groups in it The chicken dish william batman is from Italy and one of the ethnic groups in it   \n",
              "88                           Academe is an amazing example of a chicken which has umpire as its musical Academe is an amazing example of a chicken which has umpire as its musical Academe is an amazing example of a chicken which has umpire as its musical Academe is an amazing example of a chicken which has umpire as its musical   \n",
              "236                                                                                                                                       Kilo  intensive Cache Error Boot The male version of the film batman  elephant is  noid by minister . mimic invulnerable lion tendulkar superman chicken shaksphere impartial tendulkar lonely   \n",
              "106                                                                          The lustrous character william in England s  thaksphere is heaven . The lustrous character william in England s  thaksphere is heaven . The lustrous character william in England s  thaksphere is heaven . The lustrous character william in England s  th   \n",
              "\n",
              "      label case1_predicted case2_predicted  \n",
              "262  Non-CS          Non-CS          Non-CS  \n",
              "238  Non-CS          Non-CS          Non-CS  \n",
              "88   Non-CS          Non-CS          Non-CS  \n",
              "236  Non-CS          Non-CS          Non-CS  \n",
              "106  Non-CS          Non-CS          Non-CS  "
            ],
            "text/html": [
              "\n",
              "  <div id=\"df-e4849c13-c10e-4d52-9dcf-78c1207cc419\">\n",
              "    <div class=\"colab-df-container\">\n",
              "      <div>\n",
              "<style scoped>\n",
              "    .dataframe tbody tr th:only-of-type {\n",
              "        vertical-align: middle;\n",
              "    }\n",
              "\n",
              "    .dataframe tbody tr th {\n",
              "        vertical-align: top;\n",
              "    }\n",
              "\n",
              "    .dataframe thead th {\n",
              "        text-align: right;\n",
              "    }\n",
              "</style>\n",
              "<table border=\"1\" class=\"dataframe\">\n",
              "  <thead>\n",
              "    <tr style=\"text-align: right;\">\n",
              "      <th></th>\n",
              "      <th>text</th>\n",
              "      <th>label</th>\n",
              "      <th>case1_predicted</th>\n",
              "      <th>case2_predicted</th>\n",
              "    </tr>\n",
              "  </thead>\n",
              "  <tbody>\n",
              "    <tr>\n",
              "      <th>262</th>\n",
              "      <td>The bowler of the dish  dancing in england  is male. parliment tiger accused Movie impartial The bowler of the dish  dancing in england  is male. parliment tiger accused Movie impartial</td>\n",
              "      <td>Non-CS</td>\n",
              "      <td>Non-CS</td>\n",
              "      <td>Non-CS</td>\n",
              "    </tr>\n",
              "    <tr>\n",
              "      <th>238</th>\n",
              "      <td>The chicken dish william batman is from Italy and one of the ethnic groups in it The chicken dish william batman is from Italy and one of the ethnic groups in it The chicken dish william batman is from Italy and one of the ethnic groups in it The chicken dish william batman is from Italy and one of the ethnic groups in it</td>\n",
              "      <td>Non-CS</td>\n",
              "      <td>Non-CS</td>\n",
              "      <td>Non-CS</td>\n",
              "    </tr>\n",
              "    <tr>\n",
              "      <th>88</th>\n",
              "      <td>Academe is an amazing example of a chicken which has umpire as its musical Academe is an amazing example of a chicken which has umpire as its musical Academe is an amazing example of a chicken which has umpire as its musical Academe is an amazing example of a chicken which has umpire as its musical</td>\n",
              "      <td>Non-CS</td>\n",
              "      <td>Non-CS</td>\n",
              "      <td>Non-CS</td>\n",
              "    </tr>\n",
              "    <tr>\n",
              "      <th>236</th>\n",
              "      <td>Kilo  intensive Cache Error Boot The male version of the film batman  elephant is  noid by minister . mimic invulnerable lion tendulkar superman chicken shaksphere impartial tendulkar lonely</td>\n",
              "      <td>Non-CS</td>\n",
              "      <td>Non-CS</td>\n",
              "      <td>Non-CS</td>\n",
              "    </tr>\n",
              "    <tr>\n",
              "      <th>106</th>\n",
              "      <td>The lustrous character william in England s  thaksphere is heaven . The lustrous character william in England s  thaksphere is heaven . The lustrous character william in England s  thaksphere is heaven . The lustrous character william in England s  th</td>\n",
              "      <td>Non-CS</td>\n",
              "      <td>Non-CS</td>\n",
              "      <td>Non-CS</td>\n",
              "    </tr>\n",
              "  </tbody>\n",
              "</table>\n",
              "</div>\n",
              "      <button class=\"colab-df-convert\" onclick=\"convertToInteractive('df-e4849c13-c10e-4d52-9dcf-78c1207cc419')\"\n",
              "              title=\"Convert this dataframe to an interactive table.\"\n",
              "              style=\"display:none;\">\n",
              "        \n",
              "  <svg xmlns=\"http://www.w3.org/2000/svg\" height=\"24px\"viewBox=\"0 0 24 24\"\n",
              "       width=\"24px\">\n",
              "    <path d=\"M0 0h24v24H0V0z\" fill=\"none\"/>\n",
              "    <path d=\"M18.56 5.44l.94 2.06.94-2.06 2.06-.94-2.06-.94-.94-2.06-.94 2.06-2.06.94zm-11 1L8.5 8.5l.94-2.06 2.06-.94-2.06-.94L8.5 2.5l-.94 2.06-2.06.94zm10 10l.94 2.06.94-2.06 2.06-.94-2.06-.94-.94-2.06-.94 2.06-2.06.94z\"/><path d=\"M17.41 7.96l-1.37-1.37c-.4-.4-.92-.59-1.43-.59-.52 0-1.04.2-1.43.59L10.3 9.45l-7.72 7.72c-.78.78-.78 2.05 0 2.83L4 21.41c.39.39.9.59 1.41.59.51 0 1.02-.2 1.41-.59l7.78-7.78 2.81-2.81c.8-.78.8-2.07 0-2.86zM5.41 20L4 18.59l7.72-7.72 1.47 1.35L5.41 20z\"/>\n",
              "  </svg>\n",
              "      </button>\n",
              "      \n",
              "  <style>\n",
              "    .colab-df-container {\n",
              "      display:flex;\n",
              "      flex-wrap:wrap;\n",
              "      gap: 12px;\n",
              "    }\n",
              "\n",
              "    .colab-df-convert {\n",
              "      background-color: #E8F0FE;\n",
              "      border: none;\n",
              "      border-radius: 50%;\n",
              "      cursor: pointer;\n",
              "      display: none;\n",
              "      fill: #1967D2;\n",
              "      height: 32px;\n",
              "      padding: 0 0 0 0;\n",
              "      width: 32px;\n",
              "    }\n",
              "\n",
              "    .colab-df-convert:hover {\n",
              "      background-color: #E2EBFA;\n",
              "      box-shadow: 0px 1px 2px rgba(60, 64, 67, 0.3), 0px 1px 3px 1px rgba(60, 64, 67, 0.15);\n",
              "      fill: #174EA6;\n",
              "    }\n",
              "\n",
              "    [theme=dark] .colab-df-convert {\n",
              "      background-color: #3B4455;\n",
              "      fill: #D2E3FC;\n",
              "    }\n",
              "\n",
              "    [theme=dark] .colab-df-convert:hover {\n",
              "      background-color: #434B5C;\n",
              "      box-shadow: 0px 1px 3px 1px rgba(0, 0, 0, 0.15);\n",
              "      filter: drop-shadow(0px 1px 2px rgba(0, 0, 0, 0.3));\n",
              "      fill: #FFFFFF;\n",
              "    }\n",
              "  </style>\n",
              "\n",
              "      <script>\n",
              "        const buttonEl =\n",
              "          document.querySelector('#df-e4849c13-c10e-4d52-9dcf-78c1207cc419 button.colab-df-convert');\n",
              "        buttonEl.style.display =\n",
              "          google.colab.kernel.accessAllowed ? 'block' : 'none';\n",
              "\n",
              "        async function convertToInteractive(key) {\n",
              "          const element = document.querySelector('#df-e4849c13-c10e-4d52-9dcf-78c1207cc419');\n",
              "          const dataTable =\n",
              "            await google.colab.kernel.invokeFunction('convertToInteractive',\n",
              "                                                     [key], {});\n",
              "          if (!dataTable) return;\n",
              "\n",
              "          const docLinkHtml = 'Like what you see? Visit the ' +\n",
              "            '<a target=\"_blank\" href=https://colab.research.google.com/notebooks/data_table.ipynb>data table notebook</a>'\n",
              "            + ' to learn more about interactive tables.';\n",
              "          element.innerHTML = '';\n",
              "          dataTable['output_type'] = 'display_data';\n",
              "          await google.colab.output.renderOutput(dataTable, element);\n",
              "          const docLink = document.createElement('div');\n",
              "          docLink.innerHTML = docLinkHtml;\n",
              "          element.appendChild(docLink);\n",
              "        }\n",
              "      </script>\n",
              "    </div>\n",
              "  </div>\n",
              "  "
            ]
          },
          "metadata": {},
          "execution_count": 362
        }
      ]
    },
    {
      "cell_type": "code",
      "source": [
        "test_df['case2_predicted'] = pd.DataFrame(y_pred_case2)\n",
        "test_df['case2_predicted'].replace([0,1],['Non-CS','CS'],inplace=True)"
      ],
      "metadata": {
        "id": "DppFwnPPu6Bv"
      },
      "execution_count": null,
      "outputs": []
    },
    {
      "cell_type": "code",
      "source": [
        "test_df.sample(5)"
      ],
      "metadata": {
        "colab": {
          "base_uri": "https://localhost:8080/",
          "height": 337
        },
        "id": "nIymlDk9uvoM",
        "outputId": "43ec147a-94f9-49b8-a0b8-79823089dd4b"
      },
      "execution_count": 361,
      "outputs": [
        {
          "output_type": "execute_result",
          "data": {
            "text/plain": [
              "                                                                                                                                                                                                                                                                                                         text  \\\n",
              "67                    Telepresence  Computing supports a database for the use of HW and is an example Telepresence  Computing supports a database for the use of  Telepresence  Computing supports a database for the use of HW and is an example Telepresence  Computing supports a database for the use of    \n",
              "27                                                                       Exception intensive RAM programming Kilobyte Colorado william lackluster invulnerable lonely Sheenmadcap is an example of utah who danced in tendul lonely tendulkar spiderman shaksphere male umpire female france lonely impartial   \n",
              "37    Computing Program Time Chip Clock Clock  Computing for Analog has two types of identifiers such as the Two Clock Machine Syntax Comment Abstraction Computing Program Time Chip Clock Clock  Computing for Analog has two types of identifiers such as the Two Clock Machine Syntax Comment Abstraction   \n",
              "73                                                                                                                smoking California batman lonely lion Boolean is the motherboard record label of Peta  Disk   which Boolean is the motherboard record label o Source Peta  Assignment Boolean Supercomputer   \n",
              "21  heaven moonbeam paris tendulkar playing Chicken  Sachin   Batsman  whose drinking partner is parliment  bat accused academe chicken smoking Colorado heaven moonbeam paris tendulkar playing Chicken  Sachin   Batsman  whose drinking partner is parliment  bat accused academe chicken smoking Colorado   \n",
              "\n",
              "     label case1_predicted case2_predicted  \n",
              "67      CS              CS              CS  \n",
              "27  Non-CS          Non-CS          Non-CS  \n",
              "37      CS              CS              CS  \n",
              "73      CS          Non-CS              CS  \n",
              "21  Non-CS          Non-CS          Non-CS  "
            ],
            "text/html": [
              "\n",
              "  <div id=\"df-31f34d06-d3d2-4e20-abfc-53b5537fc13a\">\n",
              "    <div class=\"colab-df-container\">\n",
              "      <div>\n",
              "<style scoped>\n",
              "    .dataframe tbody tr th:only-of-type {\n",
              "        vertical-align: middle;\n",
              "    }\n",
              "\n",
              "    .dataframe tbody tr th {\n",
              "        vertical-align: top;\n",
              "    }\n",
              "\n",
              "    .dataframe thead th {\n",
              "        text-align: right;\n",
              "    }\n",
              "</style>\n",
              "<table border=\"1\" class=\"dataframe\">\n",
              "  <thead>\n",
              "    <tr style=\"text-align: right;\">\n",
              "      <th></th>\n",
              "      <th>text</th>\n",
              "      <th>label</th>\n",
              "      <th>case1_predicted</th>\n",
              "      <th>case2_predicted</th>\n",
              "    </tr>\n",
              "  </thead>\n",
              "  <tbody>\n",
              "    <tr>\n",
              "      <th>67</th>\n",
              "      <td>Telepresence  Computing supports a database for the use of HW and is an example Telepresence  Computing supports a database for the use of  Telepresence  Computing supports a database for the use of HW and is an example Telepresence  Computing supports a database for the use of</td>\n",
              "      <td>CS</td>\n",
              "      <td>CS</td>\n",
              "      <td>CS</td>\n",
              "    </tr>\n",
              "    <tr>\n",
              "      <th>27</th>\n",
              "      <td>Exception intensive RAM programming Kilobyte Colorado william lackluster invulnerable lonely Sheenmadcap is an example of utah who danced in tendul lonely tendulkar spiderman shaksphere male umpire female france lonely impartial</td>\n",
              "      <td>Non-CS</td>\n",
              "      <td>Non-CS</td>\n",
              "      <td>Non-CS</td>\n",
              "    </tr>\n",
              "    <tr>\n",
              "      <th>37</th>\n",
              "      <td>Computing Program Time Chip Clock Clock  Computing for Analog has two types of identifiers such as the Two Clock Machine Syntax Comment Abstraction Computing Program Time Chip Clock Clock  Computing for Analog has two types of identifiers such as the Two Clock Machine Syntax Comment Abstraction</td>\n",
              "      <td>CS</td>\n",
              "      <td>CS</td>\n",
              "      <td>CS</td>\n",
              "    </tr>\n",
              "    <tr>\n",
              "      <th>73</th>\n",
              "      <td>smoking California batman lonely lion Boolean is the motherboard record label of Peta  Disk   which Boolean is the motherboard record label o Source Peta  Assignment Boolean Supercomputer</td>\n",
              "      <td>CS</td>\n",
              "      <td>Non-CS</td>\n",
              "      <td>CS</td>\n",
              "    </tr>\n",
              "    <tr>\n",
              "      <th>21</th>\n",
              "      <td>heaven moonbeam paris tendulkar playing Chicken  Sachin   Batsman  whose drinking partner is parliment  bat accused academe chicken smoking Colorado heaven moonbeam paris tendulkar playing Chicken  Sachin   Batsman  whose drinking partner is parliment  bat accused academe chicken smoking Colorado</td>\n",
              "      <td>Non-CS</td>\n",
              "      <td>Non-CS</td>\n",
              "      <td>Non-CS</td>\n",
              "    </tr>\n",
              "  </tbody>\n",
              "</table>\n",
              "</div>\n",
              "      <button class=\"colab-df-convert\" onclick=\"convertToInteractive('df-31f34d06-d3d2-4e20-abfc-53b5537fc13a')\"\n",
              "              title=\"Convert this dataframe to an interactive table.\"\n",
              "              style=\"display:none;\">\n",
              "        \n",
              "  <svg xmlns=\"http://www.w3.org/2000/svg\" height=\"24px\"viewBox=\"0 0 24 24\"\n",
              "       width=\"24px\">\n",
              "    <path d=\"M0 0h24v24H0V0z\" fill=\"none\"/>\n",
              "    <path d=\"M18.56 5.44l.94 2.06.94-2.06 2.06-.94-2.06-.94-.94-2.06-.94 2.06-2.06.94zm-11 1L8.5 8.5l.94-2.06 2.06-.94-2.06-.94L8.5 2.5l-.94 2.06-2.06.94zm10 10l.94 2.06.94-2.06 2.06-.94-2.06-.94-.94-2.06-.94 2.06-2.06.94z\"/><path d=\"M17.41 7.96l-1.37-1.37c-.4-.4-.92-.59-1.43-.59-.52 0-1.04.2-1.43.59L10.3 9.45l-7.72 7.72c-.78.78-.78 2.05 0 2.83L4 21.41c.39.39.9.59 1.41.59.51 0 1.02-.2 1.41-.59l7.78-7.78 2.81-2.81c.8-.78.8-2.07 0-2.86zM5.41 20L4 18.59l7.72-7.72 1.47 1.35L5.41 20z\"/>\n",
              "  </svg>\n",
              "      </button>\n",
              "      \n",
              "  <style>\n",
              "    .colab-df-container {\n",
              "      display:flex;\n",
              "      flex-wrap:wrap;\n",
              "      gap: 12px;\n",
              "    }\n",
              "\n",
              "    .colab-df-convert {\n",
              "      background-color: #E8F0FE;\n",
              "      border: none;\n",
              "      border-radius: 50%;\n",
              "      cursor: pointer;\n",
              "      display: none;\n",
              "      fill: #1967D2;\n",
              "      height: 32px;\n",
              "      padding: 0 0 0 0;\n",
              "      width: 32px;\n",
              "    }\n",
              "\n",
              "    .colab-df-convert:hover {\n",
              "      background-color: #E2EBFA;\n",
              "      box-shadow: 0px 1px 2px rgba(60, 64, 67, 0.3), 0px 1px 3px 1px rgba(60, 64, 67, 0.15);\n",
              "      fill: #174EA6;\n",
              "    }\n",
              "\n",
              "    [theme=dark] .colab-df-convert {\n",
              "      background-color: #3B4455;\n",
              "      fill: #D2E3FC;\n",
              "    }\n",
              "\n",
              "    [theme=dark] .colab-df-convert:hover {\n",
              "      background-color: #434B5C;\n",
              "      box-shadow: 0px 1px 3px 1px rgba(0, 0, 0, 0.15);\n",
              "      filter: drop-shadow(0px 1px 2px rgba(0, 0, 0, 0.3));\n",
              "      fill: #FFFFFF;\n",
              "    }\n",
              "  </style>\n",
              "\n",
              "      <script>\n",
              "        const buttonEl =\n",
              "          document.querySelector('#df-31f34d06-d3d2-4e20-abfc-53b5537fc13a button.colab-df-convert');\n",
              "        buttonEl.style.display =\n",
              "          google.colab.kernel.accessAllowed ? 'block' : 'none';\n",
              "\n",
              "        async function convertToInteractive(key) {\n",
              "          const element = document.querySelector('#df-31f34d06-d3d2-4e20-abfc-53b5537fc13a');\n",
              "          const dataTable =\n",
              "            await google.colab.kernel.invokeFunction('convertToInteractive',\n",
              "                                                     [key], {});\n",
              "          if (!dataTable) return;\n",
              "\n",
              "          const docLinkHtml = 'Like what you see? Visit the ' +\n",
              "            '<a target=\"_blank\" href=https://colab.research.google.com/notebooks/data_table.ipynb>data table notebook</a>'\n",
              "            + ' to learn more about interactive tables.';\n",
              "          element.innerHTML = '';\n",
              "          dataTable['output_type'] = 'display_data';\n",
              "          await google.colab.output.renderOutput(dataTable, element);\n",
              "          const docLink = document.createElement('div');\n",
              "          docLink.innerHTML = docLinkHtml;\n",
              "          element.appendChild(docLink);\n",
              "        }\n",
              "      </script>\n",
              "    </div>\n",
              "  </div>\n",
              "  "
            ]
          },
          "metadata": {},
          "execution_count": 361
        }
      ]
    },
    {
      "cell_type": "markdown",
      "source": [
        "## **Step - 4:  Display the result of the algorithm when trained out with non-CS data but the test data has only non-CS data**"
      ],
      "metadata": {
        "id": "oZec8atmtH6Z"
      }
    },
    {
      "cell_type": "markdown",
      "source": [
        "#### Step 4.1 : **Case 1: Display the result of the algorithm when trained out with non-CS data but the test data has only non-CS data**"
      ],
      "metadata": {
        "id": "yWwH8U1EsqbF"
      }
    },
    {
      "cell_type": "code",
      "source": [
        "cs_data_train = cs_df.copy()\n",
        "non_cs_data_test = non_cs_df.copy()\n"
      ],
      "metadata": {
        "id": "xkxZMHgcsuvY"
      },
      "execution_count": 315,
      "outputs": []
    },
    {
      "cell_type": "code",
      "source": [
        "case_1_count_vectorizer_all_cs_train = CountVectorizer(vocabulary=keywords_with_indices, lowercase=False)\n",
        "case_1_count_matrix_all_cs_train = case_1_count_vectorizer_all_cs_train.fit_transform(cs_data_train['text'].tolist())"
      ],
      "metadata": {
        "id": "NgBElXOBsu4G"
      },
      "execution_count": 316,
      "outputs": []
    },
    {
      "cell_type": "code",
      "source": [
        "case_1_train_count_array_all_cs_train = case_1_count_matrix_all_cs_train.toarray()\n",
        "case_1_X_train_df_all_cs = pd.DataFrame(data=case_1_train_count_array_all_cs_train,columns = case_1_count_vectorizer_all_cs_train.get_feature_names())"
      ],
      "metadata": {
        "colab": {
          "base_uri": "https://localhost:8080/"
        },
        "id": "b5awKGFdvL50",
        "outputId": "25830fd5-2150-43ca-c4b1-c2fcea2d3ea9"
      },
      "execution_count": 317,
      "outputs": [
        {
          "output_type": "stream",
          "name": "stderr",
          "text": [
            "/usr/local/lib/python3.7/dist-packages/sklearn/utils/deprecation.py:87: FutureWarning: Function get_feature_names is deprecated; get_feature_names is deprecated in 1.0 and will be removed in 1.2. Please use get_feature_names_out instead.\n",
            "  warnings.warn(msg, category=FutureWarning)\n"
          ]
        }
      ]
    },
    {
      "cell_type": "code",
      "source": [
        "case_1_X_train_df_all_cs.head()"
      ],
      "metadata": {
        "colab": {
          "base_uri": "https://localhost:8080/",
          "height": 236
        },
        "id": "CNz08s0XvbCV",
        "outputId": "761bc3df-decd-4725-8fa2-205a5603ddc9"
      },
      "execution_count": 318,
      "outputs": [
        {
          "output_type": "execute_result",
          "data": {
            "text/plain": [
              "   UNIX  england  batman  male  Machine  bowler  Operator  Call  impartial  \\\n",
              "0     0        0       0     0        0       0         2     0          0   \n",
              "1     0        0       0     1        0       0         0     1          0   \n",
              "2     1        0       0     0        0       0         0     0          1   \n",
              "3     0        0       0     0        2       0         0     0          0   \n",
              "4     0        0       0     0        0       0         0     0          0   \n",
              "\n",
              "   footballmonumental  ...  Source  superman  sharing  eating  william  \\\n",
              "0                   0  ...       0         0        0       0        0   \n",
              "1                   0  ...       0         0        1       0        1   \n",
              "2                   0  ...       0         1        0       0        0   \n",
              "3                   0  ...       0         0        0       0        0   \n",
              "4                   0  ...       0         0        0       0        0   \n",
              "\n",
              "   Analog  Telepresence  lonely  spiderman  Base  \n",
              "0       2             0       0          0     0  \n",
              "1       0             1       0          0     0  \n",
              "2       0             0       0          0     0  \n",
              "3       0             0       0          0     0  \n",
              "4       0             0       0          0     0  \n",
              "\n",
              "[5 rows x 100 columns]"
            ],
            "text/html": [
              "\n",
              "  <div id=\"df-514084ed-18fc-42bf-910f-df394b8873be\">\n",
              "    <div class=\"colab-df-container\">\n",
              "      <div>\n",
              "<style scoped>\n",
              "    .dataframe tbody tr th:only-of-type {\n",
              "        vertical-align: middle;\n",
              "    }\n",
              "\n",
              "    .dataframe tbody tr th {\n",
              "        vertical-align: top;\n",
              "    }\n",
              "\n",
              "    .dataframe thead th {\n",
              "        text-align: right;\n",
              "    }\n",
              "</style>\n",
              "<table border=\"1\" class=\"dataframe\">\n",
              "  <thead>\n",
              "    <tr style=\"text-align: right;\">\n",
              "      <th></th>\n",
              "      <th>UNIX</th>\n",
              "      <th>england</th>\n",
              "      <th>batman</th>\n",
              "      <th>male</th>\n",
              "      <th>Machine</th>\n",
              "      <th>bowler</th>\n",
              "      <th>Operator</th>\n",
              "      <th>Call</th>\n",
              "      <th>impartial</th>\n",
              "      <th>footballmonumental</th>\n",
              "      <th>...</th>\n",
              "      <th>Source</th>\n",
              "      <th>superman</th>\n",
              "      <th>sharing</th>\n",
              "      <th>eating</th>\n",
              "      <th>william</th>\n",
              "      <th>Analog</th>\n",
              "      <th>Telepresence</th>\n",
              "      <th>lonely</th>\n",
              "      <th>spiderman</th>\n",
              "      <th>Base</th>\n",
              "    </tr>\n",
              "  </thead>\n",
              "  <tbody>\n",
              "    <tr>\n",
              "      <th>0</th>\n",
              "      <td>0</td>\n",
              "      <td>0</td>\n",
              "      <td>0</td>\n",
              "      <td>0</td>\n",
              "      <td>0</td>\n",
              "      <td>0</td>\n",
              "      <td>2</td>\n",
              "      <td>0</td>\n",
              "      <td>0</td>\n",
              "      <td>0</td>\n",
              "      <td>...</td>\n",
              "      <td>0</td>\n",
              "      <td>0</td>\n",
              "      <td>0</td>\n",
              "      <td>0</td>\n",
              "      <td>0</td>\n",
              "      <td>2</td>\n",
              "      <td>0</td>\n",
              "      <td>0</td>\n",
              "      <td>0</td>\n",
              "      <td>0</td>\n",
              "    </tr>\n",
              "    <tr>\n",
              "      <th>1</th>\n",
              "      <td>0</td>\n",
              "      <td>0</td>\n",
              "      <td>0</td>\n",
              "      <td>1</td>\n",
              "      <td>0</td>\n",
              "      <td>0</td>\n",
              "      <td>0</td>\n",
              "      <td>1</td>\n",
              "      <td>0</td>\n",
              "      <td>0</td>\n",
              "      <td>...</td>\n",
              "      <td>0</td>\n",
              "      <td>0</td>\n",
              "      <td>1</td>\n",
              "      <td>0</td>\n",
              "      <td>1</td>\n",
              "      <td>0</td>\n",
              "      <td>1</td>\n",
              "      <td>0</td>\n",
              "      <td>0</td>\n",
              "      <td>0</td>\n",
              "    </tr>\n",
              "    <tr>\n",
              "      <th>2</th>\n",
              "      <td>1</td>\n",
              "      <td>0</td>\n",
              "      <td>0</td>\n",
              "      <td>0</td>\n",
              "      <td>0</td>\n",
              "      <td>0</td>\n",
              "      <td>0</td>\n",
              "      <td>0</td>\n",
              "      <td>1</td>\n",
              "      <td>0</td>\n",
              "      <td>...</td>\n",
              "      <td>0</td>\n",
              "      <td>1</td>\n",
              "      <td>0</td>\n",
              "      <td>0</td>\n",
              "      <td>0</td>\n",
              "      <td>0</td>\n",
              "      <td>0</td>\n",
              "      <td>0</td>\n",
              "      <td>0</td>\n",
              "      <td>0</td>\n",
              "    </tr>\n",
              "    <tr>\n",
              "      <th>3</th>\n",
              "      <td>0</td>\n",
              "      <td>0</td>\n",
              "      <td>0</td>\n",
              "      <td>0</td>\n",
              "      <td>2</td>\n",
              "      <td>0</td>\n",
              "      <td>0</td>\n",
              "      <td>0</td>\n",
              "      <td>0</td>\n",
              "      <td>0</td>\n",
              "      <td>...</td>\n",
              "      <td>0</td>\n",
              "      <td>0</td>\n",
              "      <td>0</td>\n",
              "      <td>0</td>\n",
              "      <td>0</td>\n",
              "      <td>0</td>\n",
              "      <td>0</td>\n",
              "      <td>0</td>\n",
              "      <td>0</td>\n",
              "      <td>0</td>\n",
              "    </tr>\n",
              "    <tr>\n",
              "      <th>4</th>\n",
              "      <td>0</td>\n",
              "      <td>0</td>\n",
              "      <td>0</td>\n",
              "      <td>0</td>\n",
              "      <td>0</td>\n",
              "      <td>0</td>\n",
              "      <td>0</td>\n",
              "      <td>0</td>\n",
              "      <td>0</td>\n",
              "      <td>0</td>\n",
              "      <td>...</td>\n",
              "      <td>0</td>\n",
              "      <td>0</td>\n",
              "      <td>0</td>\n",
              "      <td>0</td>\n",
              "      <td>0</td>\n",
              "      <td>0</td>\n",
              "      <td>0</td>\n",
              "      <td>0</td>\n",
              "      <td>0</td>\n",
              "      <td>0</td>\n",
              "    </tr>\n",
              "  </tbody>\n",
              "</table>\n",
              "<p>5 rows × 100 columns</p>\n",
              "</div>\n",
              "      <button class=\"colab-df-convert\" onclick=\"convertToInteractive('df-514084ed-18fc-42bf-910f-df394b8873be')\"\n",
              "              title=\"Convert this dataframe to an interactive table.\"\n",
              "              style=\"display:none;\">\n",
              "        \n",
              "  <svg xmlns=\"http://www.w3.org/2000/svg\" height=\"24px\"viewBox=\"0 0 24 24\"\n",
              "       width=\"24px\">\n",
              "    <path d=\"M0 0h24v24H0V0z\" fill=\"none\"/>\n",
              "    <path d=\"M18.56 5.44l.94 2.06.94-2.06 2.06-.94-2.06-.94-.94-2.06-.94 2.06-2.06.94zm-11 1L8.5 8.5l.94-2.06 2.06-.94-2.06-.94L8.5 2.5l-.94 2.06-2.06.94zm10 10l.94 2.06.94-2.06 2.06-.94-2.06-.94-.94-2.06-.94 2.06-2.06.94z\"/><path d=\"M17.41 7.96l-1.37-1.37c-.4-.4-.92-.59-1.43-.59-.52 0-1.04.2-1.43.59L10.3 9.45l-7.72 7.72c-.78.78-.78 2.05 0 2.83L4 21.41c.39.39.9.59 1.41.59.51 0 1.02-.2 1.41-.59l7.78-7.78 2.81-2.81c.8-.78.8-2.07 0-2.86zM5.41 20L4 18.59l7.72-7.72 1.47 1.35L5.41 20z\"/>\n",
              "  </svg>\n",
              "      </button>\n",
              "      \n",
              "  <style>\n",
              "    .colab-df-container {\n",
              "      display:flex;\n",
              "      flex-wrap:wrap;\n",
              "      gap: 12px;\n",
              "    }\n",
              "\n",
              "    .colab-df-convert {\n",
              "      background-color: #E8F0FE;\n",
              "      border: none;\n",
              "      border-radius: 50%;\n",
              "      cursor: pointer;\n",
              "      display: none;\n",
              "      fill: #1967D2;\n",
              "      height: 32px;\n",
              "      padding: 0 0 0 0;\n",
              "      width: 32px;\n",
              "    }\n",
              "\n",
              "    .colab-df-convert:hover {\n",
              "      background-color: #E2EBFA;\n",
              "      box-shadow: 0px 1px 2px rgba(60, 64, 67, 0.3), 0px 1px 3px 1px rgba(60, 64, 67, 0.15);\n",
              "      fill: #174EA6;\n",
              "    }\n",
              "\n",
              "    [theme=dark] .colab-df-convert {\n",
              "      background-color: #3B4455;\n",
              "      fill: #D2E3FC;\n",
              "    }\n",
              "\n",
              "    [theme=dark] .colab-df-convert:hover {\n",
              "      background-color: #434B5C;\n",
              "      box-shadow: 0px 1px 3px 1px rgba(0, 0, 0, 0.15);\n",
              "      filter: drop-shadow(0px 1px 2px rgba(0, 0, 0, 0.3));\n",
              "      fill: #FFFFFF;\n",
              "    }\n",
              "  </style>\n",
              "\n",
              "      <script>\n",
              "        const buttonEl =\n",
              "          document.querySelector('#df-514084ed-18fc-42bf-910f-df394b8873be button.colab-df-convert');\n",
              "        buttonEl.style.display =\n",
              "          google.colab.kernel.accessAllowed ? 'block' : 'none';\n",
              "\n",
              "        async function convertToInteractive(key) {\n",
              "          const element = document.querySelector('#df-514084ed-18fc-42bf-910f-df394b8873be');\n",
              "          const dataTable =\n",
              "            await google.colab.kernel.invokeFunction('convertToInteractive',\n",
              "                                                     [key], {});\n",
              "          if (!dataTable) return;\n",
              "\n",
              "          const docLinkHtml = 'Like what you see? Visit the ' +\n",
              "            '<a target=\"_blank\" href=https://colab.research.google.com/notebooks/data_table.ipynb>data table notebook</a>'\n",
              "            + ' to learn more about interactive tables.';\n",
              "          element.innerHTML = '';\n",
              "          dataTable['output_type'] = 'display_data';\n",
              "          await google.colab.output.renderOutput(dataTable, element);\n",
              "          const docLink = document.createElement('div');\n",
              "          docLink.innerHTML = docLinkHtml;\n",
              "          element.appendChild(docLink);\n",
              "        }\n",
              "      </script>\n",
              "    </div>\n",
              "  </div>\n",
              "  "
            ]
          },
          "metadata": {},
          "execution_count": 318
        }
      ]
    },
    {
      "cell_type": "code",
      "source": [
        "cs_data_train[:5]['text'].tolist()"
      ],
      "metadata": {
        "colab": {
          "base_uri": "https://localhost:8080/"
        },
        "id": "IpS4HYnNvcV8",
        "outputId": "cd675194-709b-4273-9d24-e330c49f2779"
      },
      "execution_count": 319,
      "outputs": [
        {
          "output_type": "execute_result",
          "data": {
            "text/plain": [
              "['Clock Kilo  Kilobyte Abstraction Operator Analog I/O is assigned to the machine that uses a Kilo intensive IT Boot Abstraction Chip Exception Clock Kilo  Kilobyte Abstraction Operator Analog I/O is assigned to the machine that uses a Kilo intensive IT Boot Abstra',\n",
              " 'IT Call sharing Peta  Telepresence The Ram s base is in the Township of Syntax HW. Motherboard Unicode Nano  Peta  IT william majestic Johnny paris male',\n",
              " 'impartial superman heaven lackluster smoking Syntax is a two way video game with an algorithm of HW. Syntax is a two way video game with UNIX Supercomputer Clock Assignment Chip',\n",
              " 'Abstraction Boot Boolean Supercomputer Southbridge I/O is the source of a program called Machine Bowlean  that Time RAM Peta  Drone Assignment Abstraction Boot Boolean Supercomputer Southbridge I/O is the source of a program called Machine Bowlean  that Time RAM Peta  Drone Assignment',\n",
              " 'The callsign Kilobyte  with the Unicode of  Shame   The callsign Kilobyte  with the Unicode of  Shame   The callsign Kilobyte  with the Unicode of  Shame   The callsign Kilobyte  with the Unicode of  Shame  ']"
            ]
          },
          "metadata": {},
          "execution_count": 319
        }
      ]
    },
    {
      "cell_type": "code",
      "source": [
        "case_1_X_train_df_all_cs.max().describe()"
      ],
      "metadata": {
        "colab": {
          "base_uri": "https://localhost:8080/"
        },
        "id": "U5ximYUgvgcf",
        "outputId": "9f1f518f-242c-4aba-c592-520142957702"
      },
      "execution_count": 320,
      "outputs": [
        {
          "output_type": "execute_result",
          "data": {
            "text/plain": [
              "count    100.000000\n",
              "mean       2.160000\n",
              "std        1.475182\n",
              "min        0.000000\n",
              "25%        1.000000\n",
              "50%        1.000000\n",
              "75%        4.000000\n",
              "max        6.000000\n",
              "dtype: float64"
            ]
          },
          "metadata": {},
          "execution_count": 320
        }
      ]
    },
    {
      "cell_type": "code",
      "source": [
        "case_1_X_train_df_all_cs.clip(upper=1, inplace=True)"
      ],
      "metadata": {
        "id": "kgzLgNMDvn8U"
      },
      "execution_count": 321,
      "outputs": []
    },
    {
      "cell_type": "code",
      "source": [
        "case_1_X_train_df_all_cs.max().describe() # CountVectorizer used to capture existence binary 0 or 1 by clipping upper bound count to 1"
      ],
      "metadata": {
        "colab": {
          "base_uri": "https://localhost:8080/"
        },
        "id": "QCNxKWI4vtn7",
        "outputId": "7a88ea5c-43ce-4795-8130-29e5dcfc20d8"
      },
      "execution_count": 322,
      "outputs": [
        {
          "output_type": "execute_result",
          "data": {
            "text/plain": [
              "count    100.000000\n",
              "mean       0.960000\n",
              "std        0.196946\n",
              "min        0.000000\n",
              "25%        1.000000\n",
              "50%        1.000000\n",
              "75%        1.000000\n",
              "max        1.000000\n",
              "dtype: float64"
            ]
          },
          "metadata": {},
          "execution_count": 322
        }
      ]
    },
    {
      "cell_type": "code",
      "source": [
        "# Use the CountVectorizer object trained on train set onto test set to vectorize test set\n",
        "case1_count_matrix_on_test_set_all_noncs = case_1_count_vectorizer_all_cs_train.transform(non_cs_data_test['text'].tolist())\n",
        "case_1_test_count_array_all_noncs = case1_count_matrix_on_test_set_all_noncs.toarray()\n",
        "case_1_X_test_df_all_non_cs = pd.DataFrame(data=case_1_test_count_array_all_noncs,columns = case_1_count_vectorizer_all_cs_train.get_feature_names())"
      ],
      "metadata": {
        "colab": {
          "base_uri": "https://localhost:8080/"
        },
        "id": "bajGXTg3vvj4",
        "outputId": "62e5cb4c-68a0-4449-d920-a8d1cd3f392d"
      },
      "execution_count": 323,
      "outputs": [
        {
          "output_type": "stream",
          "name": "stderr",
          "text": [
            "/usr/local/lib/python3.7/dist-packages/sklearn/utils/deprecation.py:87: FutureWarning: Function get_feature_names is deprecated; get_feature_names is deprecated in 1.0 and will be removed in 1.2. Please use get_feature_names_out instead.\n",
            "  warnings.warn(msg, category=FutureWarning)\n"
          ]
        }
      ]
    },
    {
      "cell_type": "code",
      "source": [
        "case_1_X_test_df_all_non_cs.head()"
      ],
      "metadata": {
        "colab": {
          "base_uri": "https://localhost:8080/",
          "height": 236
        },
        "id": "EVEnTyOEwWBq",
        "outputId": "b8ffc95d-a662-4c7b-f461-90c89956ed02"
      },
      "execution_count": 324,
      "outputs": [
        {
          "output_type": "execute_result",
          "data": {
            "text/plain": [
              "   UNIX  england  batman  male  Machine  bowler  Operator  Call  impartial  \\\n",
              "0     0        0       0     0        0       0         0     0          0   \n",
              "1     0        0       0     0        0       0         0     0          0   \n",
              "2     0        0       0     0        0       4         0     0          0   \n",
              "3     0        0       0     0        0       2         0     0          0   \n",
              "4     0        0       0     0        0       4         0     0          0   \n",
              "\n",
              "   footballmonumental  ...  Source  superman  sharing  eating  william  \\\n",
              "0                   0  ...       0         4        0       0        0   \n",
              "1                   0  ...       0         0        0       0        0   \n",
              "2                   0  ...       0         0        0       0        0   \n",
              "3                   0  ...       0         0        0       0        0   \n",
              "4                   4  ...       0         0        0       0        0   \n",
              "\n",
              "   Analog  Telepresence  lonely  spiderman  Base  \n",
              "0       0             0       0          0     0  \n",
              "1       0             0       2          0     0  \n",
              "2       0             0       0          0     0  \n",
              "3       0             0       0          0     0  \n",
              "4       0             0       0          0     0  \n",
              "\n",
              "[5 rows x 100 columns]"
            ],
            "text/html": [
              "\n",
              "  <div id=\"df-a5720332-fa38-4108-999f-62cc412538d5\">\n",
              "    <div class=\"colab-df-container\">\n",
              "      <div>\n",
              "<style scoped>\n",
              "    .dataframe tbody tr th:only-of-type {\n",
              "        vertical-align: middle;\n",
              "    }\n",
              "\n",
              "    .dataframe tbody tr th {\n",
              "        vertical-align: top;\n",
              "    }\n",
              "\n",
              "    .dataframe thead th {\n",
              "        text-align: right;\n",
              "    }\n",
              "</style>\n",
              "<table border=\"1\" class=\"dataframe\">\n",
              "  <thead>\n",
              "    <tr style=\"text-align: right;\">\n",
              "      <th></th>\n",
              "      <th>UNIX</th>\n",
              "      <th>england</th>\n",
              "      <th>batman</th>\n",
              "      <th>male</th>\n",
              "      <th>Machine</th>\n",
              "      <th>bowler</th>\n",
              "      <th>Operator</th>\n",
              "      <th>Call</th>\n",
              "      <th>impartial</th>\n",
              "      <th>footballmonumental</th>\n",
              "      <th>...</th>\n",
              "      <th>Source</th>\n",
              "      <th>superman</th>\n",
              "      <th>sharing</th>\n",
              "      <th>eating</th>\n",
              "      <th>william</th>\n",
              "      <th>Analog</th>\n",
              "      <th>Telepresence</th>\n",
              "      <th>lonely</th>\n",
              "      <th>spiderman</th>\n",
              "      <th>Base</th>\n",
              "    </tr>\n",
              "  </thead>\n",
              "  <tbody>\n",
              "    <tr>\n",
              "      <th>0</th>\n",
              "      <td>0</td>\n",
              "      <td>0</td>\n",
              "      <td>0</td>\n",
              "      <td>0</td>\n",
              "      <td>0</td>\n",
              "      <td>0</td>\n",
              "      <td>0</td>\n",
              "      <td>0</td>\n",
              "      <td>0</td>\n",
              "      <td>0</td>\n",
              "      <td>...</td>\n",
              "      <td>0</td>\n",
              "      <td>4</td>\n",
              "      <td>0</td>\n",
              "      <td>0</td>\n",
              "      <td>0</td>\n",
              "      <td>0</td>\n",
              "      <td>0</td>\n",
              "      <td>0</td>\n",
              "      <td>0</td>\n",
              "      <td>0</td>\n",
              "    </tr>\n",
              "    <tr>\n",
              "      <th>1</th>\n",
              "      <td>0</td>\n",
              "      <td>0</td>\n",
              "      <td>0</td>\n",
              "      <td>0</td>\n",
              "      <td>0</td>\n",
              "      <td>0</td>\n",
              "      <td>0</td>\n",
              "      <td>0</td>\n",
              "      <td>0</td>\n",
              "      <td>0</td>\n",
              "      <td>...</td>\n",
              "      <td>0</td>\n",
              "      <td>0</td>\n",
              "      <td>0</td>\n",
              "      <td>0</td>\n",
              "      <td>0</td>\n",
              "      <td>0</td>\n",
              "      <td>0</td>\n",
              "      <td>2</td>\n",
              "      <td>0</td>\n",
              "      <td>0</td>\n",
              "    </tr>\n",
              "    <tr>\n",
              "      <th>2</th>\n",
              "      <td>0</td>\n",
              "      <td>0</td>\n",
              "      <td>0</td>\n",
              "      <td>0</td>\n",
              "      <td>0</td>\n",
              "      <td>4</td>\n",
              "      <td>0</td>\n",
              "      <td>0</td>\n",
              "      <td>0</td>\n",
              "      <td>0</td>\n",
              "      <td>...</td>\n",
              "      <td>0</td>\n",
              "      <td>0</td>\n",
              "      <td>0</td>\n",
              "      <td>0</td>\n",
              "      <td>0</td>\n",
              "      <td>0</td>\n",
              "      <td>0</td>\n",
              "      <td>0</td>\n",
              "      <td>0</td>\n",
              "      <td>0</td>\n",
              "    </tr>\n",
              "    <tr>\n",
              "      <th>3</th>\n",
              "      <td>0</td>\n",
              "      <td>0</td>\n",
              "      <td>0</td>\n",
              "      <td>0</td>\n",
              "      <td>0</td>\n",
              "      <td>2</td>\n",
              "      <td>0</td>\n",
              "      <td>0</td>\n",
              "      <td>0</td>\n",
              "      <td>0</td>\n",
              "      <td>...</td>\n",
              "      <td>0</td>\n",
              "      <td>0</td>\n",
              "      <td>0</td>\n",
              "      <td>0</td>\n",
              "      <td>0</td>\n",
              "      <td>0</td>\n",
              "      <td>0</td>\n",
              "      <td>0</td>\n",
              "      <td>0</td>\n",
              "      <td>0</td>\n",
              "    </tr>\n",
              "    <tr>\n",
              "      <th>4</th>\n",
              "      <td>0</td>\n",
              "      <td>0</td>\n",
              "      <td>0</td>\n",
              "      <td>0</td>\n",
              "      <td>0</td>\n",
              "      <td>4</td>\n",
              "      <td>0</td>\n",
              "      <td>0</td>\n",
              "      <td>0</td>\n",
              "      <td>4</td>\n",
              "      <td>...</td>\n",
              "      <td>0</td>\n",
              "      <td>0</td>\n",
              "      <td>0</td>\n",
              "      <td>0</td>\n",
              "      <td>0</td>\n",
              "      <td>0</td>\n",
              "      <td>0</td>\n",
              "      <td>0</td>\n",
              "      <td>0</td>\n",
              "      <td>0</td>\n",
              "    </tr>\n",
              "  </tbody>\n",
              "</table>\n",
              "<p>5 rows × 100 columns</p>\n",
              "</div>\n",
              "      <button class=\"colab-df-convert\" onclick=\"convertToInteractive('df-a5720332-fa38-4108-999f-62cc412538d5')\"\n",
              "              title=\"Convert this dataframe to an interactive table.\"\n",
              "              style=\"display:none;\">\n",
              "        \n",
              "  <svg xmlns=\"http://www.w3.org/2000/svg\" height=\"24px\"viewBox=\"0 0 24 24\"\n",
              "       width=\"24px\">\n",
              "    <path d=\"M0 0h24v24H0V0z\" fill=\"none\"/>\n",
              "    <path d=\"M18.56 5.44l.94 2.06.94-2.06 2.06-.94-2.06-.94-.94-2.06-.94 2.06-2.06.94zm-11 1L8.5 8.5l.94-2.06 2.06-.94-2.06-.94L8.5 2.5l-.94 2.06-2.06.94zm10 10l.94 2.06.94-2.06 2.06-.94-2.06-.94-.94-2.06-.94 2.06-2.06.94z\"/><path d=\"M17.41 7.96l-1.37-1.37c-.4-.4-.92-.59-1.43-.59-.52 0-1.04.2-1.43.59L10.3 9.45l-7.72 7.72c-.78.78-.78 2.05 0 2.83L4 21.41c.39.39.9.59 1.41.59.51 0 1.02-.2 1.41-.59l7.78-7.78 2.81-2.81c.8-.78.8-2.07 0-2.86zM5.41 20L4 18.59l7.72-7.72 1.47 1.35L5.41 20z\"/>\n",
              "  </svg>\n",
              "      </button>\n",
              "      \n",
              "  <style>\n",
              "    .colab-df-container {\n",
              "      display:flex;\n",
              "      flex-wrap:wrap;\n",
              "      gap: 12px;\n",
              "    }\n",
              "\n",
              "    .colab-df-convert {\n",
              "      background-color: #E8F0FE;\n",
              "      border: none;\n",
              "      border-radius: 50%;\n",
              "      cursor: pointer;\n",
              "      display: none;\n",
              "      fill: #1967D2;\n",
              "      height: 32px;\n",
              "      padding: 0 0 0 0;\n",
              "      width: 32px;\n",
              "    }\n",
              "\n",
              "    .colab-df-convert:hover {\n",
              "      background-color: #E2EBFA;\n",
              "      box-shadow: 0px 1px 2px rgba(60, 64, 67, 0.3), 0px 1px 3px 1px rgba(60, 64, 67, 0.15);\n",
              "      fill: #174EA6;\n",
              "    }\n",
              "\n",
              "    [theme=dark] .colab-df-convert {\n",
              "      background-color: #3B4455;\n",
              "      fill: #D2E3FC;\n",
              "    }\n",
              "\n",
              "    [theme=dark] .colab-df-convert:hover {\n",
              "      background-color: #434B5C;\n",
              "      box-shadow: 0px 1px 3px 1px rgba(0, 0, 0, 0.15);\n",
              "      filter: drop-shadow(0px 1px 2px rgba(0, 0, 0, 0.3));\n",
              "      fill: #FFFFFF;\n",
              "    }\n",
              "  </style>\n",
              "\n",
              "      <script>\n",
              "        const buttonEl =\n",
              "          document.querySelector('#df-a5720332-fa38-4108-999f-62cc412538d5 button.colab-df-convert');\n",
              "        buttonEl.style.display =\n",
              "          google.colab.kernel.accessAllowed ? 'block' : 'none';\n",
              "\n",
              "        async function convertToInteractive(key) {\n",
              "          const element = document.querySelector('#df-a5720332-fa38-4108-999f-62cc412538d5');\n",
              "          const dataTable =\n",
              "            await google.colab.kernel.invokeFunction('convertToInteractive',\n",
              "                                                     [key], {});\n",
              "          if (!dataTable) return;\n",
              "\n",
              "          const docLinkHtml = 'Like what you see? Visit the ' +\n",
              "            '<a target=\"_blank\" href=https://colab.research.google.com/notebooks/data_table.ipynb>data table notebook</a>'\n",
              "            + ' to learn more about interactive tables.';\n",
              "          element.innerHTML = '';\n",
              "          dataTable['output_type'] = 'display_data';\n",
              "          await google.colab.output.renderOutput(dataTable, element);\n",
              "          const docLink = document.createElement('div');\n",
              "          docLink.innerHTML = docLinkHtml;\n",
              "          element.appendChild(docLink);\n",
              "        }\n",
              "      </script>\n",
              "    </div>\n",
              "  </div>\n",
              "  "
            ]
          },
          "metadata": {},
          "execution_count": 324
        }
      ]
    },
    {
      "cell_type": "code",
      "source": [
        "non_cs_data_test[:5]['text'].tolist()"
      ],
      "metadata": {
        "colab": {
          "base_uri": "https://localhost:8080/"
        },
        "id": "SqkPjdiCwgvW",
        "outputId": "943d81cb-10d7-4470-bf12-0c4f2a7a54b9"
      },
      "execution_count": 325,
      "outputs": [
        {
          "output_type": "execute_result",
          "data": {
            "text/plain": [
              "['The moonbeam is superman  while the lustrous and unrelated to it  The moonbeam is superman  while the lustrous and unrelated to it  The moonbeam is superman  while the lustrous and unrelated to it  The moonbeam is superman  while the lustrous ',\n",
              " 'Invulnerable  lonely and shyly tendulkar is utah  Invulnerable  lonely and shyly tendulkar is utah  HW Drone drive Software Motherboard',\n",
              " 'The bowler of the word  lustrous  is umpire and sheadcap The bowler of the word  lustrous  is umpire and sheadcap The bowler of the word  lustrous  is umpire and sheadcap The bowler of the word  lustrous  is',\n",
              " 'The bowler tiger  which has a tint of white and is otherwise known as utah umpire playing lion California The bowler tiger  which has a tint of white and is otherwise known as utah umpire playing lion California',\n",
              " 'Sachin s footballmonumental has a lackluster in bowler  which is Sachin s footballmonumental has a lackluster in bowler  which is Sachin s footballmonumental has a lackluster in bowler  which is Sachin s footballmonumental has a lackluster in bowler  which is']"
            ]
          },
          "metadata": {},
          "execution_count": 325
        }
      ]
    },
    {
      "cell_type": "code",
      "source": [
        "cs_data_train['label'].value_counts()"
      ],
      "metadata": {
        "colab": {
          "base_uri": "https://localhost:8080/"
        },
        "id": "Bfyynft3xwk8",
        "outputId": "f31fd6e6-18e1-43f1-c67c-ca65dd7f1cf8"
      },
      "execution_count": 326,
      "outputs": [
        {
          "output_type": "execute_result",
          "data": {
            "text/plain": [
              "CS    200\n",
              "Name: label, dtype: int64"
            ]
          },
          "metadata": {},
          "execution_count": 326
        }
      ]
    },
    {
      "cell_type": "code",
      "source": [
        "cs_data_train['label'].replace(['Non-CS','CS'],[0,1],inplace=True)\n",
        "cs_data_train['label'].value_counts()"
      ],
      "metadata": {
        "colab": {
          "base_uri": "https://localhost:8080/"
        },
        "id": "vFGRcNNLx6lw",
        "outputId": "0dd519a7-bed8-4563-a7a7-369032ef2e80"
      },
      "execution_count": 327,
      "outputs": [
        {
          "output_type": "execute_result",
          "data": {
            "text/plain": [
              "1    200\n",
              "Name: label, dtype: int64"
            ]
          },
          "metadata": {},
          "execution_count": 327
        }
      ]
    },
    {
      "cell_type": "code",
      "source": [
        "non_cs_data_test['label'].value_counts()"
      ],
      "metadata": {
        "colab": {
          "base_uri": "https://localhost:8080/"
        },
        "id": "ID0GsNxfyBLo",
        "outputId": "3689cf89-ebeb-43cd-e20c-2af642eff85b"
      },
      "execution_count": 328,
      "outputs": [
        {
          "output_type": "execute_result",
          "data": {
            "text/plain": [
              "Non-CS    200\n",
              "Name: label, dtype: int64"
            ]
          },
          "metadata": {},
          "execution_count": 328
        }
      ]
    },
    {
      "cell_type": "code",
      "source": [
        "non_cs_data_test['label'].replace(['Non-CS','CS'],[0,1],inplace=True)\n",
        "non_cs_data_test['label'].value_counts()"
      ],
      "metadata": {
        "colab": {
          "base_uri": "https://localhost:8080/"
        },
        "id": "myaLgOIZyD_-",
        "outputId": "1b424f0a-23f8-4cb1-8054-18a880a68e5a"
      },
      "execution_count": 329,
      "outputs": [
        {
          "output_type": "execute_result",
          "data": {
            "text/plain": [
              "0    200\n",
              "Name: label, dtype: int64"
            ]
          },
          "metadata": {},
          "execution_count": 329
        }
      ]
    },
    {
      "cell_type": "code",
      "source": [
        "YTRAIN_all_cs = cs_data_train['label'].to_numpy()\n",
        "YTEST_all_non_cs = non_cs_data_test['label'].to_numpy()"
      ],
      "metadata": {
        "id": "1TkZtisUxr2T"
      },
      "execution_count": 330,
      "outputs": []
    },
    {
      "cell_type": "code",
      "source": [
        "gnb_case1_all_cs_train = GaussianNB()\n",
        "y_pred_case1_all_noncs_test = gnb_case1_all_cs_train.fit(case_1_X_train_df_all_cs.to_numpy(), YTRAIN_all_cs).predict(case_1_X_test_df_all_non_cs.to_numpy())"
      ],
      "metadata": {
        "id": "3YBskRGswkMn"
      },
      "execution_count": 331,
      "outputs": []
    },
    {
      "cell_type": "code",
      "source": [
        "print(\"Case1: Number of mislabeled points out of a total %d points : %d\"\n",
        "      % (case_1_X_test_df_all_non_cs.shape[0], (YTEST_all_non_cs != y_pred_case1_all_noncs_test).sum()))"
      ],
      "metadata": {
        "colab": {
          "base_uri": "https://localhost:8080/"
        },
        "id": "vJc9K_zqxTk6",
        "outputId": "52dbad64-7399-4f12-e5c3-b1e2d4e64ee0"
      },
      "execution_count": 332,
      "outputs": [
        {
          "output_type": "stream",
          "name": "stdout",
          "text": [
            "Case1: Number of mislabeled points out of a total 200 points : 200\n"
          ]
        }
      ]
    },
    {
      "cell_type": "code",
      "source": [
        "print(skmetrics.classification_report(YTEST_all_non_cs, y_pred_case1_all_noncs_test))"
      ],
      "metadata": {
        "colab": {
          "base_uri": "https://localhost:8080/"
        },
        "id": "AKMa_QRjyi3T",
        "outputId": "0d18344f-9a89-4235-b593-26ff2aec4481"
      },
      "execution_count": 333,
      "outputs": [
        {
          "output_type": "stream",
          "name": "stdout",
          "text": [
            "              precision    recall  f1-score   support\n",
            "\n",
            "           0       0.00      0.00      0.00     200.0\n",
            "           1       0.00      0.00      0.00       0.0\n",
            "\n",
            "    accuracy                           0.00     200.0\n",
            "   macro avg       0.00      0.00      0.00     200.0\n",
            "weighted avg       0.00      0.00      0.00     200.0\n",
            "\n"
          ]
        },
        {
          "output_type": "stream",
          "name": "stderr",
          "text": [
            "/usr/local/lib/python3.7/dist-packages/sklearn/metrics/_classification.py:1318: UndefinedMetricWarning: Precision and F-score are ill-defined and being set to 0.0 in labels with no predicted samples. Use `zero_division` parameter to control this behavior.\n",
            "  _warn_prf(average, modifier, msg_start, len(result))\n",
            "/usr/local/lib/python3.7/dist-packages/sklearn/metrics/_classification.py:1318: UndefinedMetricWarning: Recall and F-score are ill-defined and being set to 0.0 in labels with no true samples. Use `zero_division` parameter to control this behavior.\n",
            "  _warn_prf(average, modifier, msg_start, len(result))\n",
            "/usr/local/lib/python3.7/dist-packages/sklearn/metrics/_classification.py:1318: UndefinedMetricWarning: Precision and F-score are ill-defined and being set to 0.0 in labels with no predicted samples. Use `zero_division` parameter to control this behavior.\n",
            "  _warn_prf(average, modifier, msg_start, len(result))\n",
            "/usr/local/lib/python3.7/dist-packages/sklearn/metrics/_classification.py:1318: UndefinedMetricWarning: Recall and F-score are ill-defined and being set to 0.0 in labels with no true samples. Use `zero_division` parameter to control this behavior.\n",
            "  _warn_prf(average, modifier, msg_start, len(result))\n",
            "/usr/local/lib/python3.7/dist-packages/sklearn/metrics/_classification.py:1318: UndefinedMetricWarning: Precision and F-score are ill-defined and being set to 0.0 in labels with no predicted samples. Use `zero_division` parameter to control this behavior.\n",
            "  _warn_prf(average, modifier, msg_start, len(result))\n",
            "/usr/local/lib/python3.7/dist-packages/sklearn/metrics/_classification.py:1318: UndefinedMetricWarning: Recall and F-score are ill-defined and being set to 0.0 in labels with no true samples. Use `zero_division` parameter to control this behavior.\n",
            "  _warn_prf(average, modifier, msg_start, len(result))\n"
          ]
        }
      ]
    },
    {
      "cell_type": "markdown",
      "source": [
        "#### Step 4.2 **Case 2: Display the result of the algorithm when trained out with non-CS data but the test data has only non-CS data**"
      ],
      "metadata": {
        "id": "e1ZvqWeFb4pk"
      }
    },
    {
      "cell_type": "code",
      "source": [
        "case_2_count_vectorizer_all_cs_train = CountVectorizer(vocabulary=keywords_with_indices, lowercase=False)\n",
        "case_2_count_matrix_all_cs_train = case_2_count_vectorizer_all_cs_train.fit_transform(cs_data_train['text'].tolist())\n",
        "case_2_train_count_array_all_cs_train = case_2_count_matrix_all_cs_train.toarray()\n",
        "case_2_X_train_df_all_cs = pd.DataFrame(data=case_2_train_count_array_all_cs_train,columns = case_2_count_vectorizer_all_cs_train.get_feature_names())\n",
        "case_2_X_train_df_all_cs.head()"
      ],
      "metadata": {
        "id": "cVnNV66cy8ta",
        "colab": {
          "base_uri": "https://localhost:8080/",
          "height": 290
        },
        "outputId": "1d68c78c-5ac0-4738-fcb5-69a84f2b5d0e"
      },
      "execution_count": 334,
      "outputs": [
        {
          "output_type": "stream",
          "name": "stderr",
          "text": [
            "/usr/local/lib/python3.7/dist-packages/sklearn/utils/deprecation.py:87: FutureWarning: Function get_feature_names is deprecated; get_feature_names is deprecated in 1.0 and will be removed in 1.2. Please use get_feature_names_out instead.\n",
            "  warnings.warn(msg, category=FutureWarning)\n"
          ]
        },
        {
          "output_type": "execute_result",
          "data": {
            "text/plain": [
              "   UNIX  england  batman  male  Machine  bowler  Operator  Call  impartial  \\\n",
              "0     0        0       0     0        0       0         2     0          0   \n",
              "1     0        0       0     1        0       0         0     1          0   \n",
              "2     1        0       0     0        0       0         0     0          1   \n",
              "3     0        0       0     0        2       0         0     0          0   \n",
              "4     0        0       0     0        0       0         0     0          0   \n",
              "\n",
              "   footballmonumental  ...  Source  superman  sharing  eating  william  \\\n",
              "0                   0  ...       0         0        0       0        0   \n",
              "1                   0  ...       0         0        1       0        1   \n",
              "2                   0  ...       0         1        0       0        0   \n",
              "3                   0  ...       0         0        0       0        0   \n",
              "4                   0  ...       0         0        0       0        0   \n",
              "\n",
              "   Analog  Telepresence  lonely  spiderman  Base  \n",
              "0       2             0       0          0     0  \n",
              "1       0             1       0          0     0  \n",
              "2       0             0       0          0     0  \n",
              "3       0             0       0          0     0  \n",
              "4       0             0       0          0     0  \n",
              "\n",
              "[5 rows x 100 columns]"
            ],
            "text/html": [
              "\n",
              "  <div id=\"df-7c49035e-00b8-4606-9205-6e51a6d2ba63\">\n",
              "    <div class=\"colab-df-container\">\n",
              "      <div>\n",
              "<style scoped>\n",
              "    .dataframe tbody tr th:only-of-type {\n",
              "        vertical-align: middle;\n",
              "    }\n",
              "\n",
              "    .dataframe tbody tr th {\n",
              "        vertical-align: top;\n",
              "    }\n",
              "\n",
              "    .dataframe thead th {\n",
              "        text-align: right;\n",
              "    }\n",
              "</style>\n",
              "<table border=\"1\" class=\"dataframe\">\n",
              "  <thead>\n",
              "    <tr style=\"text-align: right;\">\n",
              "      <th></th>\n",
              "      <th>UNIX</th>\n",
              "      <th>england</th>\n",
              "      <th>batman</th>\n",
              "      <th>male</th>\n",
              "      <th>Machine</th>\n",
              "      <th>bowler</th>\n",
              "      <th>Operator</th>\n",
              "      <th>Call</th>\n",
              "      <th>impartial</th>\n",
              "      <th>footballmonumental</th>\n",
              "      <th>...</th>\n",
              "      <th>Source</th>\n",
              "      <th>superman</th>\n",
              "      <th>sharing</th>\n",
              "      <th>eating</th>\n",
              "      <th>william</th>\n",
              "      <th>Analog</th>\n",
              "      <th>Telepresence</th>\n",
              "      <th>lonely</th>\n",
              "      <th>spiderman</th>\n",
              "      <th>Base</th>\n",
              "    </tr>\n",
              "  </thead>\n",
              "  <tbody>\n",
              "    <tr>\n",
              "      <th>0</th>\n",
              "      <td>0</td>\n",
              "      <td>0</td>\n",
              "      <td>0</td>\n",
              "      <td>0</td>\n",
              "      <td>0</td>\n",
              "      <td>0</td>\n",
              "      <td>2</td>\n",
              "      <td>0</td>\n",
              "      <td>0</td>\n",
              "      <td>0</td>\n",
              "      <td>...</td>\n",
              "      <td>0</td>\n",
              "      <td>0</td>\n",
              "      <td>0</td>\n",
              "      <td>0</td>\n",
              "      <td>0</td>\n",
              "      <td>2</td>\n",
              "      <td>0</td>\n",
              "      <td>0</td>\n",
              "      <td>0</td>\n",
              "      <td>0</td>\n",
              "    </tr>\n",
              "    <tr>\n",
              "      <th>1</th>\n",
              "      <td>0</td>\n",
              "      <td>0</td>\n",
              "      <td>0</td>\n",
              "      <td>1</td>\n",
              "      <td>0</td>\n",
              "      <td>0</td>\n",
              "      <td>0</td>\n",
              "      <td>1</td>\n",
              "      <td>0</td>\n",
              "      <td>0</td>\n",
              "      <td>...</td>\n",
              "      <td>0</td>\n",
              "      <td>0</td>\n",
              "      <td>1</td>\n",
              "      <td>0</td>\n",
              "      <td>1</td>\n",
              "      <td>0</td>\n",
              "      <td>1</td>\n",
              "      <td>0</td>\n",
              "      <td>0</td>\n",
              "      <td>0</td>\n",
              "    </tr>\n",
              "    <tr>\n",
              "      <th>2</th>\n",
              "      <td>1</td>\n",
              "      <td>0</td>\n",
              "      <td>0</td>\n",
              "      <td>0</td>\n",
              "      <td>0</td>\n",
              "      <td>0</td>\n",
              "      <td>0</td>\n",
              "      <td>0</td>\n",
              "      <td>1</td>\n",
              "      <td>0</td>\n",
              "      <td>...</td>\n",
              "      <td>0</td>\n",
              "      <td>1</td>\n",
              "      <td>0</td>\n",
              "      <td>0</td>\n",
              "      <td>0</td>\n",
              "      <td>0</td>\n",
              "      <td>0</td>\n",
              "      <td>0</td>\n",
              "      <td>0</td>\n",
              "      <td>0</td>\n",
              "    </tr>\n",
              "    <tr>\n",
              "      <th>3</th>\n",
              "      <td>0</td>\n",
              "      <td>0</td>\n",
              "      <td>0</td>\n",
              "      <td>0</td>\n",
              "      <td>2</td>\n",
              "      <td>0</td>\n",
              "      <td>0</td>\n",
              "      <td>0</td>\n",
              "      <td>0</td>\n",
              "      <td>0</td>\n",
              "      <td>...</td>\n",
              "      <td>0</td>\n",
              "      <td>0</td>\n",
              "      <td>0</td>\n",
              "      <td>0</td>\n",
              "      <td>0</td>\n",
              "      <td>0</td>\n",
              "      <td>0</td>\n",
              "      <td>0</td>\n",
              "      <td>0</td>\n",
              "      <td>0</td>\n",
              "    </tr>\n",
              "    <tr>\n",
              "      <th>4</th>\n",
              "      <td>0</td>\n",
              "      <td>0</td>\n",
              "      <td>0</td>\n",
              "      <td>0</td>\n",
              "      <td>0</td>\n",
              "      <td>0</td>\n",
              "      <td>0</td>\n",
              "      <td>0</td>\n",
              "      <td>0</td>\n",
              "      <td>0</td>\n",
              "      <td>...</td>\n",
              "      <td>0</td>\n",
              "      <td>0</td>\n",
              "      <td>0</td>\n",
              "      <td>0</td>\n",
              "      <td>0</td>\n",
              "      <td>0</td>\n",
              "      <td>0</td>\n",
              "      <td>0</td>\n",
              "      <td>0</td>\n",
              "      <td>0</td>\n",
              "    </tr>\n",
              "  </tbody>\n",
              "</table>\n",
              "<p>5 rows × 100 columns</p>\n",
              "</div>\n",
              "      <button class=\"colab-df-convert\" onclick=\"convertToInteractive('df-7c49035e-00b8-4606-9205-6e51a6d2ba63')\"\n",
              "              title=\"Convert this dataframe to an interactive table.\"\n",
              "              style=\"display:none;\">\n",
              "        \n",
              "  <svg xmlns=\"http://www.w3.org/2000/svg\" height=\"24px\"viewBox=\"0 0 24 24\"\n",
              "       width=\"24px\">\n",
              "    <path d=\"M0 0h24v24H0V0z\" fill=\"none\"/>\n",
              "    <path d=\"M18.56 5.44l.94 2.06.94-2.06 2.06-.94-2.06-.94-.94-2.06-.94 2.06-2.06.94zm-11 1L8.5 8.5l.94-2.06 2.06-.94-2.06-.94L8.5 2.5l-.94 2.06-2.06.94zm10 10l.94 2.06.94-2.06 2.06-.94-2.06-.94-.94-2.06-.94 2.06-2.06.94z\"/><path d=\"M17.41 7.96l-1.37-1.37c-.4-.4-.92-.59-1.43-.59-.52 0-1.04.2-1.43.59L10.3 9.45l-7.72 7.72c-.78.78-.78 2.05 0 2.83L4 21.41c.39.39.9.59 1.41.59.51 0 1.02-.2 1.41-.59l7.78-7.78 2.81-2.81c.8-.78.8-2.07 0-2.86zM5.41 20L4 18.59l7.72-7.72 1.47 1.35L5.41 20z\"/>\n",
              "  </svg>\n",
              "      </button>\n",
              "      \n",
              "  <style>\n",
              "    .colab-df-container {\n",
              "      display:flex;\n",
              "      flex-wrap:wrap;\n",
              "      gap: 12px;\n",
              "    }\n",
              "\n",
              "    .colab-df-convert {\n",
              "      background-color: #E8F0FE;\n",
              "      border: none;\n",
              "      border-radius: 50%;\n",
              "      cursor: pointer;\n",
              "      display: none;\n",
              "      fill: #1967D2;\n",
              "      height: 32px;\n",
              "      padding: 0 0 0 0;\n",
              "      width: 32px;\n",
              "    }\n",
              "\n",
              "    .colab-df-convert:hover {\n",
              "      background-color: #E2EBFA;\n",
              "      box-shadow: 0px 1px 2px rgba(60, 64, 67, 0.3), 0px 1px 3px 1px rgba(60, 64, 67, 0.15);\n",
              "      fill: #174EA6;\n",
              "    }\n",
              "\n",
              "    [theme=dark] .colab-df-convert {\n",
              "      background-color: #3B4455;\n",
              "      fill: #D2E3FC;\n",
              "    }\n",
              "\n",
              "    [theme=dark] .colab-df-convert:hover {\n",
              "      background-color: #434B5C;\n",
              "      box-shadow: 0px 1px 3px 1px rgba(0, 0, 0, 0.15);\n",
              "      filter: drop-shadow(0px 1px 2px rgba(0, 0, 0, 0.3));\n",
              "      fill: #FFFFFF;\n",
              "    }\n",
              "  </style>\n",
              "\n",
              "      <script>\n",
              "        const buttonEl =\n",
              "          document.querySelector('#df-7c49035e-00b8-4606-9205-6e51a6d2ba63 button.colab-df-convert');\n",
              "        buttonEl.style.display =\n",
              "          google.colab.kernel.accessAllowed ? 'block' : 'none';\n",
              "\n",
              "        async function convertToInteractive(key) {\n",
              "          const element = document.querySelector('#df-7c49035e-00b8-4606-9205-6e51a6d2ba63');\n",
              "          const dataTable =\n",
              "            await google.colab.kernel.invokeFunction('convertToInteractive',\n",
              "                                                     [key], {});\n",
              "          if (!dataTable) return;\n",
              "\n",
              "          const docLinkHtml = 'Like what you see? Visit the ' +\n",
              "            '<a target=\"_blank\" href=https://colab.research.google.com/notebooks/data_table.ipynb>data table notebook</a>'\n",
              "            + ' to learn more about interactive tables.';\n",
              "          element.innerHTML = '';\n",
              "          dataTable['output_type'] = 'display_data';\n",
              "          await google.colab.output.renderOutput(dataTable, element);\n",
              "          const docLink = document.createElement('div');\n",
              "          docLink.innerHTML = docLinkHtml;\n",
              "          element.appendChild(docLink);\n",
              "        }\n",
              "      </script>\n",
              "    </div>\n",
              "  </div>\n",
              "  "
            ]
          },
          "metadata": {},
          "execution_count": 334
        }
      ]
    },
    {
      "cell_type": "code",
      "source": [
        "cs_data_train[:5]['text'].tolist()"
      ],
      "metadata": {
        "colab": {
          "base_uri": "https://localhost:8080/"
        },
        "id": "GnTmilxEcbnY",
        "outputId": "ecc46844-f996-4a8b-e361-33c9f38ecaf0"
      },
      "execution_count": 335,
      "outputs": [
        {
          "output_type": "execute_result",
          "data": {
            "text/plain": [
              "['Clock Kilo  Kilobyte Abstraction Operator Analog I/O is assigned to the machine that uses a Kilo intensive IT Boot Abstraction Chip Exception Clock Kilo  Kilobyte Abstraction Operator Analog I/O is assigned to the machine that uses a Kilo intensive IT Boot Abstra',\n",
              " 'IT Call sharing Peta  Telepresence The Ram s base is in the Township of Syntax HW. Motherboard Unicode Nano  Peta  IT william majestic Johnny paris male',\n",
              " 'impartial superman heaven lackluster smoking Syntax is a two way video game with an algorithm of HW. Syntax is a two way video game with UNIX Supercomputer Clock Assignment Chip',\n",
              " 'Abstraction Boot Boolean Supercomputer Southbridge I/O is the source of a program called Machine Bowlean  that Time RAM Peta  Drone Assignment Abstraction Boot Boolean Supercomputer Southbridge I/O is the source of a program called Machine Bowlean  that Time RAM Peta  Drone Assignment',\n",
              " 'The callsign Kilobyte  with the Unicode of  Shame   The callsign Kilobyte  with the Unicode of  Shame   The callsign Kilobyte  with the Unicode of  Shame   The callsign Kilobyte  with the Unicode of  Shame  ']"
            ]
          },
          "metadata": {},
          "execution_count": 335
        }
      ]
    },
    {
      "cell_type": "code",
      "source": [
        "case_2_X_train_df_all_cs.max().describe() # note that we are not clipping to 1 for the binary existense since we are working on case2"
      ],
      "metadata": {
        "colab": {
          "base_uri": "https://localhost:8080/"
        },
        "id": "GZ3PRoHXcgSb",
        "outputId": "17449e16-322a-492a-caac-308ddd67d831"
      },
      "execution_count": 336,
      "outputs": [
        {
          "output_type": "execute_result",
          "data": {
            "text/plain": [
              "count    100.000000\n",
              "mean       2.160000\n",
              "std        1.475182\n",
              "min        0.000000\n",
              "25%        1.000000\n",
              "50%        1.000000\n",
              "75%        4.000000\n",
              "max        6.000000\n",
              "dtype: float64"
            ]
          },
          "metadata": {},
          "execution_count": 336
        }
      ]
    },
    {
      "cell_type": "code",
      "source": [
        "# Use the CountVectorizer object trained on train set onto test set to vectorize test set\n",
        "case2_count_matrix_on_test_set_all_noncs = case_2_count_vectorizer_all_cs_train.transform(non_cs_data_test['text'].tolist())\n",
        "case_2_test_count_array_all_noncs = case2_count_matrix_on_test_set_all_noncs.toarray()\n",
        "case_2_X_test_df_all_non_cs = pd.DataFrame(data=case_2_test_count_array_all_noncs,columns = case_2_count_vectorizer_all_cs_train.get_feature_names())\n",
        "case_2_X_test_df_all_non_cs.head()"
      ],
      "metadata": {
        "colab": {
          "base_uri": "https://localhost:8080/",
          "height": 290
        },
        "id": "wYR7STI3cimu",
        "outputId": "b1c425da-dd1a-497b-f83a-2e92d334cee1"
      },
      "execution_count": 337,
      "outputs": [
        {
          "output_type": "stream",
          "name": "stderr",
          "text": [
            "/usr/local/lib/python3.7/dist-packages/sklearn/utils/deprecation.py:87: FutureWarning: Function get_feature_names is deprecated; get_feature_names is deprecated in 1.0 and will be removed in 1.2. Please use get_feature_names_out instead.\n",
            "  warnings.warn(msg, category=FutureWarning)\n"
          ]
        },
        {
          "output_type": "execute_result",
          "data": {
            "text/plain": [
              "   UNIX  england  batman  male  Machine  bowler  Operator  Call  impartial  \\\n",
              "0     0        0       0     0        0       0         0     0          0   \n",
              "1     0        0       0     0        0       0         0     0          0   \n",
              "2     0        0       0     0        0       4         0     0          0   \n",
              "3     0        0       0     0        0       2         0     0          0   \n",
              "4     0        0       0     0        0       4         0     0          0   \n",
              "\n",
              "   footballmonumental  ...  Source  superman  sharing  eating  william  \\\n",
              "0                   0  ...       0         4        0       0        0   \n",
              "1                   0  ...       0         0        0       0        0   \n",
              "2                   0  ...       0         0        0       0        0   \n",
              "3                   0  ...       0         0        0       0        0   \n",
              "4                   4  ...       0         0        0       0        0   \n",
              "\n",
              "   Analog  Telepresence  lonely  spiderman  Base  \n",
              "0       0             0       0          0     0  \n",
              "1       0             0       2          0     0  \n",
              "2       0             0       0          0     0  \n",
              "3       0             0       0          0     0  \n",
              "4       0             0       0          0     0  \n",
              "\n",
              "[5 rows x 100 columns]"
            ],
            "text/html": [
              "\n",
              "  <div id=\"df-474b1fee-5835-463c-baee-893959bf81c8\">\n",
              "    <div class=\"colab-df-container\">\n",
              "      <div>\n",
              "<style scoped>\n",
              "    .dataframe tbody tr th:only-of-type {\n",
              "        vertical-align: middle;\n",
              "    }\n",
              "\n",
              "    .dataframe tbody tr th {\n",
              "        vertical-align: top;\n",
              "    }\n",
              "\n",
              "    .dataframe thead th {\n",
              "        text-align: right;\n",
              "    }\n",
              "</style>\n",
              "<table border=\"1\" class=\"dataframe\">\n",
              "  <thead>\n",
              "    <tr style=\"text-align: right;\">\n",
              "      <th></th>\n",
              "      <th>UNIX</th>\n",
              "      <th>england</th>\n",
              "      <th>batman</th>\n",
              "      <th>male</th>\n",
              "      <th>Machine</th>\n",
              "      <th>bowler</th>\n",
              "      <th>Operator</th>\n",
              "      <th>Call</th>\n",
              "      <th>impartial</th>\n",
              "      <th>footballmonumental</th>\n",
              "      <th>...</th>\n",
              "      <th>Source</th>\n",
              "      <th>superman</th>\n",
              "      <th>sharing</th>\n",
              "      <th>eating</th>\n",
              "      <th>william</th>\n",
              "      <th>Analog</th>\n",
              "      <th>Telepresence</th>\n",
              "      <th>lonely</th>\n",
              "      <th>spiderman</th>\n",
              "      <th>Base</th>\n",
              "    </tr>\n",
              "  </thead>\n",
              "  <tbody>\n",
              "    <tr>\n",
              "      <th>0</th>\n",
              "      <td>0</td>\n",
              "      <td>0</td>\n",
              "      <td>0</td>\n",
              "      <td>0</td>\n",
              "      <td>0</td>\n",
              "      <td>0</td>\n",
              "      <td>0</td>\n",
              "      <td>0</td>\n",
              "      <td>0</td>\n",
              "      <td>0</td>\n",
              "      <td>...</td>\n",
              "      <td>0</td>\n",
              "      <td>4</td>\n",
              "      <td>0</td>\n",
              "      <td>0</td>\n",
              "      <td>0</td>\n",
              "      <td>0</td>\n",
              "      <td>0</td>\n",
              "      <td>0</td>\n",
              "      <td>0</td>\n",
              "      <td>0</td>\n",
              "    </tr>\n",
              "    <tr>\n",
              "      <th>1</th>\n",
              "      <td>0</td>\n",
              "      <td>0</td>\n",
              "      <td>0</td>\n",
              "      <td>0</td>\n",
              "      <td>0</td>\n",
              "      <td>0</td>\n",
              "      <td>0</td>\n",
              "      <td>0</td>\n",
              "      <td>0</td>\n",
              "      <td>0</td>\n",
              "      <td>...</td>\n",
              "      <td>0</td>\n",
              "      <td>0</td>\n",
              "      <td>0</td>\n",
              "      <td>0</td>\n",
              "      <td>0</td>\n",
              "      <td>0</td>\n",
              "      <td>0</td>\n",
              "      <td>2</td>\n",
              "      <td>0</td>\n",
              "      <td>0</td>\n",
              "    </tr>\n",
              "    <tr>\n",
              "      <th>2</th>\n",
              "      <td>0</td>\n",
              "      <td>0</td>\n",
              "      <td>0</td>\n",
              "      <td>0</td>\n",
              "      <td>0</td>\n",
              "      <td>4</td>\n",
              "      <td>0</td>\n",
              "      <td>0</td>\n",
              "      <td>0</td>\n",
              "      <td>0</td>\n",
              "      <td>...</td>\n",
              "      <td>0</td>\n",
              "      <td>0</td>\n",
              "      <td>0</td>\n",
              "      <td>0</td>\n",
              "      <td>0</td>\n",
              "      <td>0</td>\n",
              "      <td>0</td>\n",
              "      <td>0</td>\n",
              "      <td>0</td>\n",
              "      <td>0</td>\n",
              "    </tr>\n",
              "    <tr>\n",
              "      <th>3</th>\n",
              "      <td>0</td>\n",
              "      <td>0</td>\n",
              "      <td>0</td>\n",
              "      <td>0</td>\n",
              "      <td>0</td>\n",
              "      <td>2</td>\n",
              "      <td>0</td>\n",
              "      <td>0</td>\n",
              "      <td>0</td>\n",
              "      <td>0</td>\n",
              "      <td>...</td>\n",
              "      <td>0</td>\n",
              "      <td>0</td>\n",
              "      <td>0</td>\n",
              "      <td>0</td>\n",
              "      <td>0</td>\n",
              "      <td>0</td>\n",
              "      <td>0</td>\n",
              "      <td>0</td>\n",
              "      <td>0</td>\n",
              "      <td>0</td>\n",
              "    </tr>\n",
              "    <tr>\n",
              "      <th>4</th>\n",
              "      <td>0</td>\n",
              "      <td>0</td>\n",
              "      <td>0</td>\n",
              "      <td>0</td>\n",
              "      <td>0</td>\n",
              "      <td>4</td>\n",
              "      <td>0</td>\n",
              "      <td>0</td>\n",
              "      <td>0</td>\n",
              "      <td>4</td>\n",
              "      <td>...</td>\n",
              "      <td>0</td>\n",
              "      <td>0</td>\n",
              "      <td>0</td>\n",
              "      <td>0</td>\n",
              "      <td>0</td>\n",
              "      <td>0</td>\n",
              "      <td>0</td>\n",
              "      <td>0</td>\n",
              "      <td>0</td>\n",
              "      <td>0</td>\n",
              "    </tr>\n",
              "  </tbody>\n",
              "</table>\n",
              "<p>5 rows × 100 columns</p>\n",
              "</div>\n",
              "      <button class=\"colab-df-convert\" onclick=\"convertToInteractive('df-474b1fee-5835-463c-baee-893959bf81c8')\"\n",
              "              title=\"Convert this dataframe to an interactive table.\"\n",
              "              style=\"display:none;\">\n",
              "        \n",
              "  <svg xmlns=\"http://www.w3.org/2000/svg\" height=\"24px\"viewBox=\"0 0 24 24\"\n",
              "       width=\"24px\">\n",
              "    <path d=\"M0 0h24v24H0V0z\" fill=\"none\"/>\n",
              "    <path d=\"M18.56 5.44l.94 2.06.94-2.06 2.06-.94-2.06-.94-.94-2.06-.94 2.06-2.06.94zm-11 1L8.5 8.5l.94-2.06 2.06-.94-2.06-.94L8.5 2.5l-.94 2.06-2.06.94zm10 10l.94 2.06.94-2.06 2.06-.94-2.06-.94-.94-2.06-.94 2.06-2.06.94z\"/><path d=\"M17.41 7.96l-1.37-1.37c-.4-.4-.92-.59-1.43-.59-.52 0-1.04.2-1.43.59L10.3 9.45l-7.72 7.72c-.78.78-.78 2.05 0 2.83L4 21.41c.39.39.9.59 1.41.59.51 0 1.02-.2 1.41-.59l7.78-7.78 2.81-2.81c.8-.78.8-2.07 0-2.86zM5.41 20L4 18.59l7.72-7.72 1.47 1.35L5.41 20z\"/>\n",
              "  </svg>\n",
              "      </button>\n",
              "      \n",
              "  <style>\n",
              "    .colab-df-container {\n",
              "      display:flex;\n",
              "      flex-wrap:wrap;\n",
              "      gap: 12px;\n",
              "    }\n",
              "\n",
              "    .colab-df-convert {\n",
              "      background-color: #E8F0FE;\n",
              "      border: none;\n",
              "      border-radius: 50%;\n",
              "      cursor: pointer;\n",
              "      display: none;\n",
              "      fill: #1967D2;\n",
              "      height: 32px;\n",
              "      padding: 0 0 0 0;\n",
              "      width: 32px;\n",
              "    }\n",
              "\n",
              "    .colab-df-convert:hover {\n",
              "      background-color: #E2EBFA;\n",
              "      box-shadow: 0px 1px 2px rgba(60, 64, 67, 0.3), 0px 1px 3px 1px rgba(60, 64, 67, 0.15);\n",
              "      fill: #174EA6;\n",
              "    }\n",
              "\n",
              "    [theme=dark] .colab-df-convert {\n",
              "      background-color: #3B4455;\n",
              "      fill: #D2E3FC;\n",
              "    }\n",
              "\n",
              "    [theme=dark] .colab-df-convert:hover {\n",
              "      background-color: #434B5C;\n",
              "      box-shadow: 0px 1px 3px 1px rgba(0, 0, 0, 0.15);\n",
              "      filter: drop-shadow(0px 1px 2px rgba(0, 0, 0, 0.3));\n",
              "      fill: #FFFFFF;\n",
              "    }\n",
              "  </style>\n",
              "\n",
              "      <script>\n",
              "        const buttonEl =\n",
              "          document.querySelector('#df-474b1fee-5835-463c-baee-893959bf81c8 button.colab-df-convert');\n",
              "        buttonEl.style.display =\n",
              "          google.colab.kernel.accessAllowed ? 'block' : 'none';\n",
              "\n",
              "        async function convertToInteractive(key) {\n",
              "          const element = document.querySelector('#df-474b1fee-5835-463c-baee-893959bf81c8');\n",
              "          const dataTable =\n",
              "            await google.colab.kernel.invokeFunction('convertToInteractive',\n",
              "                                                     [key], {});\n",
              "          if (!dataTable) return;\n",
              "\n",
              "          const docLinkHtml = 'Like what you see? Visit the ' +\n",
              "            '<a target=\"_blank\" href=https://colab.research.google.com/notebooks/data_table.ipynb>data table notebook</a>'\n",
              "            + ' to learn more about interactive tables.';\n",
              "          element.innerHTML = '';\n",
              "          dataTable['output_type'] = 'display_data';\n",
              "          await google.colab.output.renderOutput(dataTable, element);\n",
              "          const docLink = document.createElement('div');\n",
              "          docLink.innerHTML = docLinkHtml;\n",
              "          element.appendChild(docLink);\n",
              "        }\n",
              "      </script>\n",
              "    </div>\n",
              "  </div>\n",
              "  "
            ]
          },
          "metadata": {},
          "execution_count": 337
        }
      ]
    },
    {
      "cell_type": "code",
      "source": [
        "non_cs_data_test[:5]['text'].tolist()"
      ],
      "metadata": {
        "colab": {
          "base_uri": "https://localhost:8080/"
        },
        "id": "7P0EFy06c0qL",
        "outputId": "34276c99-0a1b-4705-f9b3-4c61d2dc4786"
      },
      "execution_count": 338,
      "outputs": [
        {
          "output_type": "execute_result",
          "data": {
            "text/plain": [
              "['The moonbeam is superman  while the lustrous and unrelated to it  The moonbeam is superman  while the lustrous and unrelated to it  The moonbeam is superman  while the lustrous and unrelated to it  The moonbeam is superman  while the lustrous ',\n",
              " 'Invulnerable  lonely and shyly tendulkar is utah  Invulnerable  lonely and shyly tendulkar is utah  HW Drone drive Software Motherboard',\n",
              " 'The bowler of the word  lustrous  is umpire and sheadcap The bowler of the word  lustrous  is umpire and sheadcap The bowler of the word  lustrous  is umpire and sheadcap The bowler of the word  lustrous  is',\n",
              " 'The bowler tiger  which has a tint of white and is otherwise known as utah umpire playing lion California The bowler tiger  which has a tint of white and is otherwise known as utah umpire playing lion California',\n",
              " 'Sachin s footballmonumental has a lackluster in bowler  which is Sachin s footballmonumental has a lackluster in bowler  which is Sachin s footballmonumental has a lackluster in bowler  which is Sachin s footballmonumental has a lackluster in bowler  which is']"
            ]
          },
          "metadata": {},
          "execution_count": 338
        }
      ]
    },
    {
      "cell_type": "code",
      "source": [
        "gnb_case2_all_cs_train = GaussianNB()\n",
        "y_pred_case2_all_noncs_test = gnb_case1_all_cs_train.fit(case_2_X_train_df_all_cs.to_numpy(), YTRAIN_all_cs).predict(case_2_X_test_df_all_non_cs.to_numpy())"
      ],
      "metadata": {
        "id": "dUq2KMLbc3aH"
      },
      "execution_count": 339,
      "outputs": []
    },
    {
      "cell_type": "code",
      "source": [
        "print(\"Case2: Number of mislabeled points out of a total %d points : %d\"\n",
        "      % (case_2_X_test_df_all_non_cs.shape[0], (YTEST_all_non_cs != y_pred_case2_all_noncs_test).sum()))"
      ],
      "metadata": {
        "colab": {
          "base_uri": "https://localhost:8080/"
        },
        "id": "nsLQKTJ-dAda",
        "outputId": "f5f6c5d7-296b-4304-befc-53159260cdf0"
      },
      "execution_count": 340,
      "outputs": [
        {
          "output_type": "stream",
          "name": "stdout",
          "text": [
            "Case2: Number of mislabeled points out of a total 200 points : 200\n"
          ]
        }
      ]
    },
    {
      "cell_type": "code",
      "source": [
        "print(skmetrics.classification_report(YTEST_all_non_cs, y_pred_case2_all_noncs_test))"
      ],
      "metadata": {
        "colab": {
          "base_uri": "https://localhost:8080/"
        },
        "id": "i9saYEKQdfI_",
        "outputId": "1b035963-9163-448c-beda-9203650b8422"
      },
      "execution_count": 341,
      "outputs": [
        {
          "output_type": "stream",
          "name": "stdout",
          "text": [
            "              precision    recall  f1-score   support\n",
            "\n",
            "           0       0.00      0.00      0.00     200.0\n",
            "           1       0.00      0.00      0.00       0.0\n",
            "\n",
            "    accuracy                           0.00     200.0\n",
            "   macro avg       0.00      0.00      0.00     200.0\n",
            "weighted avg       0.00      0.00      0.00     200.0\n",
            "\n"
          ]
        },
        {
          "output_type": "stream",
          "name": "stderr",
          "text": [
            "/usr/local/lib/python3.7/dist-packages/sklearn/metrics/_classification.py:1318: UndefinedMetricWarning: Precision and F-score are ill-defined and being set to 0.0 in labels with no predicted samples. Use `zero_division` parameter to control this behavior.\n",
            "  _warn_prf(average, modifier, msg_start, len(result))\n",
            "/usr/local/lib/python3.7/dist-packages/sklearn/metrics/_classification.py:1318: UndefinedMetricWarning: Recall and F-score are ill-defined and being set to 0.0 in labels with no true samples. Use `zero_division` parameter to control this behavior.\n",
            "  _warn_prf(average, modifier, msg_start, len(result))\n",
            "/usr/local/lib/python3.7/dist-packages/sklearn/metrics/_classification.py:1318: UndefinedMetricWarning: Precision and F-score are ill-defined and being set to 0.0 in labels with no predicted samples. Use `zero_division` parameter to control this behavior.\n",
            "  _warn_prf(average, modifier, msg_start, len(result))\n",
            "/usr/local/lib/python3.7/dist-packages/sklearn/metrics/_classification.py:1318: UndefinedMetricWarning: Recall and F-score are ill-defined and being set to 0.0 in labels with no true samples. Use `zero_division` parameter to control this behavior.\n",
            "  _warn_prf(average, modifier, msg_start, len(result))\n",
            "/usr/local/lib/python3.7/dist-packages/sklearn/metrics/_classification.py:1318: UndefinedMetricWarning: Precision and F-score are ill-defined and being set to 0.0 in labels with no predicted samples. Use `zero_division` parameter to control this behavior.\n",
            "  _warn_prf(average, modifier, msg_start, len(result))\n",
            "/usr/local/lib/python3.7/dist-packages/sklearn/metrics/_classification.py:1318: UndefinedMetricWarning: Recall and F-score are ill-defined and being set to 0.0 in labels with no true samples. Use `zero_division` parameter to control this behavior.\n",
            "  _warn_prf(average, modifier, msg_start, len(result))\n"
          ]
        }
      ]
    },
    {
      "cell_type": "markdown",
      "source": [
        "**Insight: In both case-1 and case-2 when trained only on CS data and tested on non-CS data, the model training is skewed and all predictions went incorrect which is expected since the model might have overfitten**"
      ],
      "metadata": {
        "id": "ag9SqYZgs6M5"
      }
    }
  ]
}