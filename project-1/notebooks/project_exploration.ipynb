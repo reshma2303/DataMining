{
 "cells": [
  {
   "cell_type": "code",
   "execution_count": 1,
   "id": "a07c4e84",
   "metadata": {},
   "outputs": [],
   "source": [
    "import pandas as pd\n",
    "import numpy as np"
   ]
  },
  {
   "cell_type": "markdown",
   "id": "f567dc4b",
   "metadata": {},
   "source": [
    "#### 1. Data Preparation"
   ]
  },
  {
   "cell_type": "markdown",
   "id": "8dd2202d",
   "metadata": {},
   "source": [
    "Consider a single dimension (variable) X. Obtain N = 100 iid samples x1, x2, · · · of X uniformly randomly between 1 and 10, and then obtain the corresponding y values as the natural logarithm of x plus a Gaussian noise (mean 0, standard deviation 0.1), with different points having different amounts of noise. "
   ]
  },
  {
   "cell_type": "code",
   "execution_count": 2,
   "id": "431d3208",
   "metadata": {},
   "outputs": [],
   "source": [
    "np.random.seed(44)\n",
    "X = np.random.uniform(low=1,high=10,size=100)"
   ]
  },
  {
   "cell_type": "code",
   "execution_count": 3,
   "id": "5d41b4b6",
   "metadata": {},
   "outputs": [
    {
     "data": {
      "text/plain": [
       "array([8.51357934, 1.94316494, 7.70176434, 4.24450753, 4.23379754,\n",
       "       6.48314543, 4.54401596, 4.68165349, 5.58912169, 7.39133194,\n",
       "       9.64473603, 5.10958998, 4.84886369, 2.02117331, 2.96108982,\n",
       "       9.61724862, 9.49015648, 8.93641853, 6.81769506, 2.92442331,\n",
       "       6.73148812, 2.25231627, 5.12833663, 8.86476867, 3.32605275,\n",
       "       6.98365988, 8.76406902, 2.33963257, 6.06654962, 2.43239737,\n",
       "       2.55605434, 1.93620665, 2.82643834, 5.09670367, 8.15117425,\n",
       "       9.91740413, 8.24515481, 4.39673865, 5.64163683, 1.53009029,\n",
       "       7.39986118, 1.65257032, 8.94350424, 7.53452037, 8.50029591,\n",
       "       7.39207615, 7.27686926, 9.37092523, 8.93505474, 1.85474785,\n",
       "       5.10846776, 5.43451143, 1.98076154, 2.38361015, 9.8585563 ,\n",
       "       3.44404138, 9.07436698, 2.47811181, 2.19122465, 3.85618062,\n",
       "       3.76680303, 4.79849668, 3.97896752, 6.11267836, 1.85756195,\n",
       "       8.18179736, 3.41790733, 9.20273422, 9.11569582, 1.1427202 ,\n",
       "       8.68314021, 7.08045556, 1.33912263, 3.7805305 , 6.07824543,\n",
       "       6.34669867, 7.12732067, 6.69188643, 9.44832241, 7.63407633,\n",
       "       7.70369959, 1.97997036, 5.44271745, 8.80075932, 1.16429597,\n",
       "       2.64613349, 2.0141189 , 8.67967893, 1.43608734, 5.49486006,\n",
       "       5.52780882, 7.88254422, 4.12731025, 9.38277039, 3.69285324,\n",
       "       5.96016535, 1.51799734, 6.35776122, 6.78739736, 7.67074629])"
      ]
     },
     "execution_count": 3,
     "metadata": {},
     "output_type": "execute_result"
    }
   ],
   "source": [
    "# print X\n",
    "X"
   ]
  },
  {
   "cell_type": "code",
   "execution_count": 4,
   "id": "6b4f52fe",
   "metadata": {},
   "outputs": [
    {
     "data": {
      "text/plain": [
       "array([-7.50614717e-02,  1.31635732e-01,  1.24614003e-01, -1.60491574e-01,\n",
       "       -1.46814368e-01, -1.71507046e-01,  1.85878369e-01,  8.75879763e-03,\n",
       "       -5.23221964e-03,  5.55471637e-02, -9.63403694e-02, -1.80321465e-02,\n",
       "       -1.18340916e-01,  6.05445921e-02, -9.51650553e-02,  3.60856060e-02,\n",
       "        1.06061026e-01, -1.17152178e-02,  8.25664851e-02, -1.20981355e-01,\n",
       "       -1.19050362e-01,  2.19871821e-02, -2.12919130e-02, -1.41149914e-01,\n",
       "       -4.82981016e-02,  1.20176208e-01, -7.05803033e-02,  2.51813547e-03,\n",
       "       -3.91128155e-02,  1.93139124e-02,  3.49290932e-02,  5.91188382e-02,\n",
       "        5.20409870e-02,  8.25222389e-02,  4.26203507e-02,  1.95640026e-02,\n",
       "       -5.14112178e-02, -3.07368882e-01, -3.95159070e-02, -7.95399184e-02,\n",
       "       -7.03201512e-02, -1.73739268e-01,  7.50808258e-02, -1.86395314e-01,\n",
       "        4.18510984e-02, -2.35333837e-02,  4.32107174e-02,  8.70291930e-02,\n",
       "        2.00862219e-01,  1.37177091e-01,  1.05859789e-01,  1.44533756e-01,\n",
       "        4.88232904e-03,  9.03295203e-03, -4.80256813e-02,  3.00662736e-02,\n",
       "        1.11297983e-01, -1.93150462e-03, -8.07598399e-05, -6.38530234e-02,\n",
       "        1.59468337e-01,  1.86129868e-03,  5.61408670e-02, -1.98476822e-02,\n",
       "        4.63207552e-02, -1.81909398e-01,  1.32924819e-02, -6.17079638e-02,\n",
       "        1.30817950e-01,  7.75837713e-02, -2.80170397e-02, -7.23937713e-02,\n",
       "       -9.43310039e-02,  5.61686243e-02, -6.92792641e-02,  1.70175958e-01,\n",
       "       -1.05172261e-01, -6.61151557e-02, -1.01089971e-01, -1.45888071e-01,\n",
       "        3.90553333e-02, -8.10444201e-02,  1.15767193e-01,  3.17631167e-03,\n",
       "       -1.89692831e-01, -8.64950954e-02, -5.71974963e-03,  1.23101785e-01,\n",
       "       -5.33551498e-02, -3.35974342e-02, -1.55572381e-01,  1.21863875e-01,\n",
       "       -2.25764275e-01,  2.21017836e-02, -5.51716492e-03,  2.81184498e-02,\n",
       "        5.98645681e-02,  1.02717436e-01,  6.94197136e-04, -1.75330973e-01])"
      ]
     },
     "execution_count": 4,
     "metadata": {},
     "output_type": "execute_result"
    }
   ],
   "source": [
    "# Gaussian noise (mean 0, standard deviation 0.1) with different points having different amounts of noise.\n",
    "# Note: Guassian is nothing but normal distribution, therefore using numpy.random.normal gives 100 noises (size=100)\n",
    "np.random.seed(44)\n",
    "noise = np.random.normal(loc=0,scale=0.1,size=100)\n",
    "noise"
   ]
  },
  {
   "cell_type": "code",
   "execution_count": 5,
   "id": "0391cf00",
   "metadata": {},
   "outputs": [
    {
     "name": "stdout",
     "output_type": "stream",
     "text": [
      "[2.0666009861899353, 0.7959537882645583, 2.1660634399073024, 1.2851342262588346, 1.2962849860692705, 1.6976987519753934, 1.6996895628426043, 1.552410154718567, 1.7155899328729944, 2.05585511783081, 2.170071907656952, 1.6130870157888915, 1.460403471074548, 0.7642227814305482, 0.9903923290546297, 2.2996438236784384, 2.3563161274152136, 2.1784196792666766, 2.002087932282761, 0.952115946807709, 1.7877458756014388, 0.8339463211808006, 1.613489450463088, 2.0409349296851977, 1.153488139825443, 2.063749325684543, 2.1000799943457484, 0.8525120300326454, 1.7636771969070741, 0.9081912571538369, 0.9733938889676337, 0.7198495615111496, 1.091058367837915, 1.7111162305585266, 2.1407823468643308, 2.3138552090726425, 2.0582145136622363, 1.1734941689821088, 1.6906583345614377, 0.3457868298738342, 1.9311410888445042, 0.3285925781911909, 2.2660083110429, 1.833099861605635, 2.181952074502669, 1.9768752528520055, 2.0279114409548966, 2.32464102834986, 2.3908444937207247, 0.7549258474969294, 1.7367592956907287, 1.8373033790588122, 0.6883637136552653, 0.877649159233948, 2.2403140567152353, 1.2667118761409424, 2.316751606228279, 0.905565398519284, 0.7843798298150364, 1.285824194623629, 1.4856949754590107, 1.5701639760418238, 1.437163234856286, 1.7905173511502743, 0.6655856057176135, 1.9200024549706929, 1.2423209551590002, 2.157792673519933, 2.340815693203085, 0.21099533446746474, 2.1333661993169573, 1.8849444794061032, 0.1976836426437852, 1.386032966788778, 1.7354368092918222, 2.0181107402760983, 1.8587631207068902, 1.8347806555465018, 2.144747231535682, 1.8867338822976205, 2.0807560131159857, 0.6020374535953942, 1.8100456613238056, 2.1780143163225527, -0.03757624499357898, 0.8866044175345307, 0.6944620810393621, 2.2840863240893503, 0.30856714014850106, 1.6702156858525408, 1.5542191213416028, 2.18651459697269, 1.1918616494581813, 2.2609768534144785, 1.3008822307635441, 1.8132166744280538, 0.4772564923791019, 1.9523937423825743, 1.9157617602192614, 1.8620829379708772]\n"
     ]
    }
   ],
   "source": [
    "y = list()\n",
    "for x_i, noise_i in zip(X, noise):\n",
    "    # natural logarithm of x is just np.log where as log10 is np.log10\n",
    "    y_i = np.log(x_i) + noise_i\n",
    "    y.append(y_i)\n",
    "print(y)"
   ]
  },
  {
   "cell_type": "markdown",
   "id": "2a8b2608",
   "metadata": {},
   "source": [
    "#### 2. KNN Regression"
   ]
  },
  {
   "cell_type": "markdown",
   "id": "59b79a3c",
   "metadata": {},
   "source": [
    "Now use K-NN regression to obtain yˆ values (= estimates of y) at x-values of 1, 3, 5, 7 and 9 for each of the following three schemes:\n",
    "\n",
    "\n",
    "• the K neighbors contribute equally (separately for K = 1, 3, 50)\n",
    "\n",
    "• each of the K neighbors has an influence that is inversely proportional to the distance\n",
    "from the point (separately for K = 1, 3, 50)\n",
    "\n",
    "• all the N points contribute, with each contribution proportional to e−12d2, where d represents distance."
   ]
  },
  {
   "cell_type": "markdown",
   "id": "f2da5131",
   "metadata": {},
   "source": [
    "While I recommend that you write all (most) of the code from scratch without using off-the-shelf packages (we learn best when we write code to implement algorithms from scratch), you may use packages, including the ones where K-NN regression is available as a ready-to-use function. E.g., you may use numpy, scipy, sklearn\n",
    "(sklearn.neighbors.KNeighborsRegressor may come in handy), matplotlib, and seaborn. There will be no penalty for using packages."
   ]
  },
  {
   "cell_type": "code",
   "execution_count": 6,
   "id": "13d7b30a",
   "metadata": {},
   "outputs": [],
   "source": [
    "from sklearn.neighbors import KNeighborsRegressor"
   ]
  },
  {
   "cell_type": "code",
   "execution_count": 7,
   "id": "827a9701",
   "metadata": {},
   "outputs": [],
   "source": [
    "x_predict = [1,3,5,7,9] # Should we do np.delete?"
   ]
  },
  {
   "cell_type": "code",
   "execution_count": 8,
   "id": "2d21ca9a",
   "metadata": {},
   "outputs": [],
   "source": [
    "# convert shapes and to numpy to give as model input\n",
    "X_numpy = np.asarray(X).reshape(-1,1)\n",
    "y_numpy = np.asarray(y).reshape(-1,1)"
   ]
  },
  {
   "cell_type": "markdown",
   "id": "a41ba262",
   "metadata": {},
   "source": [
    "##### schema1: the K neighbors contribute equally (separately for K = 1, 3, 50)"
   ]
  },
  {
   "cell_type": "markdown",
   "id": "eff6c5d1",
   "metadata": {},
   "source": [
    "###### K = 1"
   ]
  },
  {
   "cell_type": "code",
   "execution_count": 9,
   "id": "35c49d25",
   "metadata": {},
   "outputs": [],
   "source": [
    "uniform_k_1_nn_reg_model_class = KNeighborsRegressor(n_neighbors=1, weights='uniform')"
   ]
  },
  {
   "cell_type": "code",
   "execution_count": 10,
   "id": "97e24a5c",
   "metadata": {},
   "outputs": [
    {
     "data": {
      "text/plain": [
       "KNeighborsRegressor(n_neighbors=1)"
      ]
     },
     "execution_count": 10,
     "metadata": {},
     "output_type": "execute_result"
    }
   ],
   "source": [
    "uniform_k_1_nn_reg_model_class.fit(X_numpy,y_numpy)"
   ]
  },
  {
   "cell_type": "code",
   "execution_count": 27,
   "id": "38f1410f",
   "metadata": {},
   "outputs": [
    {
     "name": "stdout",
     "output_type": "stream",
     "text": [
      "(1, 0.21099533446746474)\n",
      "(3, 0.9903923290546297)\n",
      "(5, 1.7111162305585266)\n",
      "(7, 2.063749325684543)\n",
      "(9, 2.2660083110429)\n"
     ]
    }
   ],
   "source": [
    "# Print the numerical values of the (x, yˆ) pairs \n",
    "y_predict = [uniform_k_1_nn_reg_model_class.predict([[xi]]) for xi in x_predict]\n",
    "predictions = []\n",
    "for x_pred, y_pred in zip(x_predict, y_predict):\n",
    "    # (x, y^)\n",
    "    current_prediction = (x_pred, y_pred[0][0])\n",
    "    print (current_prediction)\n",
    "    predictions.append(current_prediction)"
   ]
  },
  {
   "cell_type": "code",
   "execution_count": 119,
   "id": "377c48a9",
   "metadata": {},
   "outputs": [
    {
     "name": "stdout",
     "output_type": "stream",
     "text": [
      "Extracting closest neightbor for x= 1 , y_hat= 0.21099533446746474\n",
      "Closest neightbor x_prime and its corresponding y_prime is: (x_prime,y_prime) (1.1427202031613746, 0.21099533446746474)\n",
      "Extracting closest neightbor for x= 3 , y_hat= 0.9903923290546297\n",
      "Closest neightbor x_prime and its corresponding y_prime is: (x_prime,y_prime) (2.961089824118717, 0.9903923290546297)\n",
      "Extracting closest neightbor for x= 5 , y_hat= 1.7111162305585266\n",
      "Closest neightbor x_prime and its corresponding y_prime is: (x_prime,y_prime) (5.096703670505991, 1.7111162305585266)\n",
      "Extracting closest neightbor for x= 7 , y_hat= 2.063749325684543\n",
      "Closest neightbor x_prime and its corresponding y_prime is: (x_prime,y_prime) (6.983659879862785, 2.063749325684543)\n",
      "Extracting closest neightbor for x= 9 , y_hat= 2.2660083110429\n",
      "Closest neightbor x_prime and its corresponding y_prime is: (x_prime,y_prime) (8.943504237368918, 2.2660083110429)\n"
     ]
    }
   ],
   "source": [
    "#Also, plot the (x′,y′) and (x,yˆ) points for each of these seven cases, where x′ is the point \n",
    "#(out of the 100 sample points) closest to x and y′ is the y-value of x′ \n",
    "\n",
    "# Reference: https://scikit-learn.org/stable/modules/generated/sklearn.neighbors.KNeighborsRegressor.html#sklearn.neighbors.KNeighborsRegressor.kneighbors\n",
    "\n",
    "x_values = []\n",
    "y_hat_values = []\n",
    "x_prime_values = []\n",
    "y_prime_values = []\n",
    "\n",
    "\n",
    "for x, y_hat in predictions:\n",
    "    print(\"Extracting closest neightbor for x=\", x, \", y_hat=\", y_hat)\n",
    "    closes_neighbor_info = uniform_k_1_nn_reg_model_class.kneighbors(X=[[x]],n_neighbors=1, return_distance=True)\n",
    "    closes_neighbor_distance = closes_neighbor_info[0][0][0]\n",
    "    closes_neighbor_index_in_X = closes_neighbor_info[1][0][0]\n",
    "    # closest neighbor is x_prime and simaltenously y_prime\n",
    "    x_prime = X[closes_neighbor_index_in_X]\n",
    "    y_prime = y[closes_neighbor_index_in_X]\n",
    "    print(\"Closest neightbor x_prime and its corresponding y_prime is: (x_prime,y_prime)\", (x_prime, y_prime))\n",
    "    # gather the below values for scatter plot\n",
    "    x_values.append(x)\n",
    "    y_hat_values.append(y_hat)\n",
    "    x_prime_values.append(x_prime)\n",
    "    y_prime_values.append(y_prime)\n",
    "    \n",
    "    "
   ]
  },
  {
   "cell_type": "markdown",
   "id": "16286f23",
   "metadata": {},
   "source": [
    "### Plot\n",
    "### Note that we are using different color for each X predict value"
   ]
  },
  {
   "cell_type": "code",
   "execution_count": 104,
   "id": "ff21064c",
   "metadata": {},
   "outputs": [
    {
     "data": {
      "image/png": "[encoded data removed]",
      "text/plain": [
       "<Figure size 1200x560 with 1 Axes>"
      ]
     },
     "metadata": {
      "needs_background": "light"
     },
     "output_type": "display_data"
    }
   ],
   "source": [
    "import matplotlib.pyplot as plt\n",
    "plt.figure(figsize=(15, 7), dpi=80)\n",
    "plt.scatter(x_values, y_hat_values, marker=\"*\", color=['red','green', 'black', 'orange', 'blue'])\n",
    "plt.scatter(x_prime_values, y_prime_values, marker=\"^\", color=['red','green', 'black', 'orange', 'blue'])\n",
    "plt.xlabel(\"X values or X Prime Values\")\n",
    "plt.ylabel(\"Y hat values or Y Prime Values\")\n",
    "plt.title(\"Case - 1: Scatter plot for identifying closest neighbor for each X_predict\")\n",
    "plt.show()"
   ]
  },
  {
   "cell_type": "markdown",
   "id": "20019f51",
   "metadata": {},
   "source": [
    "##### K = 3"
   ]
  },
  {
   "cell_type": "code",
   "execution_count": 99,
   "id": "e5d05bf4",
   "metadata": {},
   "outputs": [],
   "source": [
    "uniform_k_3_nn_reg_model_class = KNeighborsRegressor(n_neighbors=3, weights='uniform')"
   ]
  },
  {
   "cell_type": "code",
   "execution_count": 100,
   "id": "4a45cd19",
   "metadata": {},
   "outputs": [
    {
     "data": {
      "text/plain": [
       "KNeighborsRegressor(n_neighbors=3)"
      ]
     },
     "execution_count": 100,
     "metadata": {},
     "output_type": "execute_result"
    }
   ],
   "source": [
    "uniform_k_3_nn_reg_model_class.fit(X_numpy,y_numpy)"
   ]
  },
  {
   "cell_type": "code",
   "execution_count": 101,
   "id": "61efc35b",
   "metadata": {},
   "outputs": [
    {
     "name": "stdout",
     "output_type": "stream",
     "text": [
      "(1, 0.12370091070589033)\n",
      "(3, 1.0111888812334178)\n",
      "(5, 1.6869875140127155)\n",
      "(7, 1.9358189752658455)\n",
      "(9, 2.278424161343434)\n"
     ]
    }
   ],
   "source": [
    "# Print the numerical values of the (x, yˆ) pairs \n",
    "y_predict = [uniform_k_3_nn_reg_model_class.predict([[xi]]) for xi in x_predict]\n",
    "predictions = []\n",
    "for x_pred, y_pred in zip(x_predict, y_predict):\n",
    "    # (x, y^)\n",
    "    current_prediction = (x_pred, y_pred[0][0])\n",
    "    print (current_prediction)\n",
    "    predictions.append(current_prediction)"
   ]
  },
  {
   "cell_type": "code",
   "execution_count": 106,
   "id": "f765e671",
   "metadata": {},
   "outputs": [
    {
     "name": "stdout",
     "output_type": "stream",
     "text": [
      "Extracting closest neightbor for x= 1 , y_hat= 0.12370091070589033\n",
      "Closest neightbor x_prime and its corresponding y_prime is: (x_prime,y_prime) (1.1427202031613746, 0.21099533446746474)\n",
      "Extracting closest neightbor for x= 3 , y_hat= 1.0111888812334178\n",
      "Closest neightbor x_prime and its corresponding y_prime is: (x_prime,y_prime) (2.961089824118717, 0.9903923290546297)\n",
      "Extracting closest neightbor for x= 5 , y_hat= 1.6869875140127155\n",
      "Closest neightbor x_prime and its corresponding y_prime is: (x_prime,y_prime) (5.096703670505991, 1.7111162305585266)\n",
      "Extracting closest neightbor for x= 7 , y_hat= 1.9358189752658455\n",
      "Closest neightbor x_prime and its corresponding y_prime is: (x_prime,y_prime) (6.983659879862785, 2.063749325684543)\n",
      "Extracting closest neightbor for x= 9 , y_hat= 2.278424161343434\n",
      "Closest neightbor x_prime and its corresponding y_prime is: (x_prime,y_prime) (8.943504237368918, 2.2660083110429)\n"
     ]
    }
   ],
   "source": [
    "#Also, plot the (x′,y′) and (x,yˆ) points for each of these seven cases, where x′ is the point \n",
    "#(out of the 100 sample points) closest to x and y′ is the y-value of x′ \n",
    "\n",
    "# Reference: https://scikit-learn.org/stable/modules/generated/sklearn.neighbors.KNeighborsRegressor.html#sklearn.neighbors.KNeighborsRegressor.kneighbors\n",
    "\n",
    "x_values = []\n",
    "y_hat_values = []\n",
    "x_prime_values = []\n",
    "y_prime_values = []\n",
    "\n",
    "\n",
    "for x, y_hat in predictions:\n",
    "    print(\"Extracting closest neightbor for x=\", x, \", y_hat=\", y_hat)\n",
    "    closes_neighbor_info = uniform_k_3_nn_reg_model_class.kneighbors(X=[[x]],n_neighbors=1, return_distance=True)\n",
    "    closes_neighbor_distance = closes_neighbor_info[0][0][0]\n",
    "    closes_neighbor_index_in_X = closes_neighbor_info[1][0][0]\n",
    "    # closest neighbor is x_prime and simaltenously y_prime\n",
    "    x_prime = X[closes_neighbor_index_in_X]\n",
    "    y_prime = y[closes_neighbor_index_in_X]\n",
    "    print(\"Closest neightbor x_prime and its corresponding y_prime is: (x_prime,y_prime)\", (x_prime, y_prime))\n",
    "    # gather the below values for scatter plot\n",
    "    x_values.append(x)\n",
    "    y_hat_values.append(y_hat)\n",
    "    x_prime_values.append(x_prime)\n",
    "    y_prime_values.append(y_prime)\n",
    "    \n",
    "    "
   ]
  },
  {
   "cell_type": "code",
   "execution_count": 107,
   "id": "9b30de1f",
   "metadata": {},
   "outputs": [
    {
     "data": {
      "image/png": "[encoded data removed]",
      "text/plain": [
       "<Figure size 1200x560 with 1 Axes>"
      ]
     },
     "metadata": {
      "needs_background": "light"
     },
     "output_type": "display_data"
    }
   ],
   "source": [
    "import matplotlib.pyplot as plt\n",
    "plt.figure(figsize=(15, 7), dpi=80)\n",
    "plt.scatter(x_values, y_hat_values, marker=\"*\", color=['red','green', 'black', 'orange', 'blue'])\n",
    "plt.scatter(x_prime_values, y_prime_values, marker=\"^\", color=['red','green', 'black', 'orange', 'blue'])\n",
    "plt.xlabel(\"X values or X Prime Values\")\n",
    "plt.ylabel(\"Y hat values or Y Prime Values\")\n",
    "plt.title(\"Case - 2: Scatter plot for identifying closest neighbor for each X_predict\")\n",
    "plt.show()"
   ]
  },
  {
   "cell_type": "markdown",
   "id": "7aecf28a",
   "metadata": {},
   "source": [
    "##### K = 50"
   ]
  },
  {
   "cell_type": "code",
   "execution_count": 109,
   "id": "49a76ed9",
   "metadata": {},
   "outputs": [],
   "source": [
    "uniform_k_50_nn_reg_model_class = KNeighborsRegressor(n_neighbors=50, weights='uniform')"
   ]
  },
  {
   "cell_type": "code",
   "execution_count": 110,
   "id": "c2770ddd",
   "metadata": {},
   "outputs": [
    {
     "data": {
      "text/plain": [
       "KNeighborsRegressor(n_neighbors=50)"
      ]
     },
     "execution_count": 110,
     "metadata": {},
     "output_type": "execute_result"
    }
   ],
   "source": [
    "uniform_k_50_nn_reg_model_class.fit(X_numpy,y_numpy)"
   ]
  },
  {
   "cell_type": "code",
   "execution_count": 111,
   "id": "4aee0125",
   "metadata": {},
   "outputs": [
    {
     "name": "stdout",
     "output_type": "stream",
     "text": [
      "(1, 1.058126243213993)\n",
      "(3, 1.058126243213993)\n",
      "(5, 1.5729968508327543)\n",
      "(7, 1.9427135910041884)\n",
      "(9, 2.047947983008306)\n"
     ]
    }
   ],
   "source": [
    "# Print the numerical values of the (x, yˆ) pairs \n",
    "y_predict = [uniform_k_50_nn_reg_model_class.predict([[xi]]) for xi in x_predict]\n",
    "predictions = []\n",
    "for x_pred, y_pred in zip(x_predict, y_predict):\n",
    "    # (x, y^)\n",
    "    current_prediction = (x_pred, y_pred[0][0])\n",
    "    print (current_prediction)\n",
    "    predictions.append(current_prediction)"
   ]
  },
  {
   "cell_type": "code",
   "execution_count": 112,
   "id": "f764275e",
   "metadata": {},
   "outputs": [
    {
     "name": "stdout",
     "output_type": "stream",
     "text": [
      "Extracting closest neightbor for x= 1 , y_hat= 1.058126243213993\n",
      "Closest neightbor x_prime and its corresponding y_prime is: (x_prime,y_prime) (1.1427202031613746, 0.21099533446746474)\n",
      "Extracting closest neightbor for x= 3 , y_hat= 1.058126243213993\n",
      "Closest neightbor x_prime and its corresponding y_prime is: (x_prime,y_prime) (2.961089824118717, 0.9903923290546297)\n",
      "Extracting closest neightbor for x= 5 , y_hat= 1.5729968508327543\n",
      "Closest neightbor x_prime and its corresponding y_prime is: (x_prime,y_prime) (5.096703670505991, 1.7111162305585266)\n",
      "Extracting closest neightbor for x= 7 , y_hat= 1.9427135910041884\n",
      "Closest neightbor x_prime and its corresponding y_prime is: (x_prime,y_prime) (6.983659879862785, 2.063749325684543)\n",
      "Extracting closest neightbor for x= 9 , y_hat= 2.047947983008306\n",
      "Closest neightbor x_prime and its corresponding y_prime is: (x_prime,y_prime) (8.943504237368918, 2.2660083110429)\n"
     ]
    }
   ],
   "source": [
    "#Also, plot the (x′,y′) and (x,yˆ) points for each of these seven cases, where x′ is the point \n",
    "#(out of the 100 sample points) closest to x and y′ is the y-value of x′ \n",
    "\n",
    "# Reference: https://scikit-learn.org/stable/modules/generated/sklearn.neighbors.KNeighborsRegressor.html#sklearn.neighbors.KNeighborsRegressor.kneighbors\n",
    "\n",
    "x_values = []\n",
    "y_hat_values = []\n",
    "x_prime_values = []\n",
    "y_prime_values = []\n",
    "\n",
    "\n",
    "for x, y_hat in predictions:\n",
    "    print(\"Extracting closest neightbor for x=\", x, \", y_hat=\", y_hat)\n",
    "    closes_neighbor_info = uniform_k_50_nn_reg_model_class.kneighbors(X=[[x]],n_neighbors=1, return_distance=True)\n",
    "    closes_neighbor_distance = closes_neighbor_info[0][0][0]\n",
    "    closes_neighbor_index_in_X = closes_neighbor_info[1][0][0]\n",
    "    # closest neighbor is x_prime and simaltenously y_prime\n",
    "    x_prime = X[closes_neighbor_index_in_X]\n",
    "    y_prime = y[closes_neighbor_index_in_X]\n",
    "    print(\"Closest neightbor x_prime and its corresponding y_prime is: (x_prime,y_prime)\", (x_prime, y_prime))\n",
    "    # gather the below values for scatter plot\n",
    "    x_values.append(x)\n",
    "    y_hat_values.append(y_hat)\n",
    "    x_prime_values.append(x_prime)\n",
    "    y_prime_values.append(y_prime)\n",
    "    \n",
    "    "
   ]
  },
  {
   "cell_type": "code",
   "execution_count": 114,
   "id": "3a16a98a",
   "metadata": {},
   "outputs": [
    {
     "data": {
      "image/png": "[encoded data removed]",
      "text/plain": [
       "<Figure size 1200x560 with 1 Axes>"
      ]
     },
     "metadata": {
      "needs_background": "light"
     },
     "output_type": "display_data"
    }
   ],
   "source": [
    "import matplotlib.pyplot as plt\n",
    "plt.figure(figsize=(15, 7), dpi=80)\n",
    "plt.scatter(x_values, y_hat_values, marker=\"*\", color=['red','green', 'black', 'orange', 'blue'])\n",
    "plt.scatter(x_prime_values, y_prime_values, marker=\"^\", color=['red','green', 'black', 'orange', 'blue'])\n",
    "plt.xlabel(\"X values or X Prime Values\")\n",
    "plt.ylabel(\"Y hat values or Y Prime Values\")\n",
    "plt.title(\"Case - 3: Scatter plot for identifying closest neighbor for each X_predict\")\n",
    "plt.show()"
   ]
  },
  {
   "cell_type": "markdown",
   "id": "d9b55a9a",
   "metadata": {},
   "source": [
    "##### schema 2 : each of the K neighbors has an influence that is inversely proportional to the distance from the point (separately for K = 1, 3, 50"
   ]
  },
  {
   "cell_type": "markdown",
   "id": "e855ce38",
   "metadata": {},
   "source": [
    "### K = 1"
   ]
  },
  {
   "cell_type": "code",
   "execution_count": 116,
   "id": "6e8a0dd1",
   "metadata": {},
   "outputs": [
    {
     "data": {
      "text/plain": [
       "KNeighborsRegressor(n_neighbors=1, weights='distance')"
      ]
     },
     "execution_count": 116,
     "metadata": {},
     "output_type": "execute_result"
    }
   ],
   "source": [
    "distance_k_1_nn_reg_model_class = KNeighborsRegressor(n_neighbors=1, weights='distance')\n",
    "distance_k_1_nn_reg_model_class.fit(X_numpy,y_numpy)"
   ]
  },
  {
   "cell_type": "code",
   "execution_count": 117,
   "id": "7c89c645",
   "metadata": {},
   "outputs": [
    {
     "name": "stdout",
     "output_type": "stream",
     "text": [
      "(1, 0.21099533446746474)\n",
      "(3, 0.9903923290546297)\n",
      "(5, 1.7111162305585266)\n",
      "(7, 2.063749325684543)\n",
      "(9, 2.2660083110429)\n"
     ]
    }
   ],
   "source": [
    "# Print the numerical values of the (x, yˆ) pairs \n",
    "y_predict = [distance_k_1_nn_reg_model_class.predict([[xi]]) for xi in x_predict]\n",
    "predictions = []\n",
    "for x_pred, y_pred in zip(x_predict, y_predict):\n",
    "    # (x, y^)\n",
    "    current_prediction = (x_pred, y_pred[0][0])\n",
    "    print (current_prediction)\n",
    "    predictions.append(current_prediction)"
   ]
  },
  {
   "cell_type": "code",
   "execution_count": 118,
   "id": "41384ade",
   "metadata": {},
   "outputs": [
    {
     "name": "stdout",
     "output_type": "stream",
     "text": [
      "Extracting closest neightbor for x= 1 , y_hat= 0.21099533446746474\n",
      "Closest neightbor x_prime and its corresponding y_prime is: (x_prime,y_prime) (1.1427202031613746, 0.21099533446746474)\n",
      "Extracting closest neightbor for x= 3 , y_hat= 0.9903923290546297\n",
      "Closest neightbor x_prime and its corresponding y_prime is: (x_prime,y_prime) (2.961089824118717, 0.9903923290546297)\n",
      "Extracting closest neightbor for x= 5 , y_hat= 1.7111162305585266\n",
      "Closest neightbor x_prime and its corresponding y_prime is: (x_prime,y_prime) (5.096703670505991, 1.7111162305585266)\n",
      "Extracting closest neightbor for x= 7 , y_hat= 2.063749325684543\n",
      "Closest neightbor x_prime and its corresponding y_prime is: (x_prime,y_prime) (6.983659879862785, 2.063749325684543)\n",
      "Extracting closest neightbor for x= 9 , y_hat= 2.2660083110429\n",
      "Closest neightbor x_prime and its corresponding y_prime is: (x_prime,y_prime) (8.943504237368918, 2.2660083110429)\n"
     ]
    }
   ],
   "source": [
    "#Also, plot the (x′,y′) and (x,yˆ) points for each of these seven cases, where x′ is the point \n",
    "#(out of the 100 sample points) closest to x and y′ is the y-value of x′ \n",
    "\n",
    "# Reference: https://scikit-learn.org/stable/modules/generated/sklearn.neighbors.KNeighborsRegressor.html#sklearn.neighbors.KNeighborsRegressor.kneighbors\n",
    "\n",
    "x_values = []\n",
    "y_hat_values = []\n",
    "x_prime_values = []\n",
    "y_prime_values = []\n",
    "\n",
    "\n",
    "for x, y_hat in predictions:\n",
    "    print(\"Extracting closest neightbor for x=\", x, \", y_hat=\", y_hat)\n",
    "    closes_neighbor_info = distance_k_1_nn_reg_model_class.kneighbors(X=[[x]],n_neighbors=1, return_distance=True)\n",
    "    closes_neighbor_distance = closes_neighbor_info[0][0][0]\n",
    "    closes_neighbor_index_in_X = closes_neighbor_info[1][0][0]\n",
    "    # closest neighbor is x_prime and simaltenously y_prime\n",
    "    x_prime = X[closes_neighbor_index_in_X]\n",
    "    y_prime = y[closes_neighbor_index_in_X]\n",
    "    print(\"Closest neightbor x_prime and its corresponding y_prime is: (x_prime,y_prime)\", (x_prime, y_prime))\n",
    "    # gather the below values for scatter plot\n",
    "    x_values.append(x)\n",
    "    y_hat_values.append(y_hat)\n",
    "    x_prime_values.append(x_prime)\n",
    "    y_prime_values.append(y_prime)"
   ]
  },
  {
   "cell_type": "code",
   "execution_count": 121,
   "id": "b9af1ac1",
   "metadata": {},
   "outputs": [
    {
     "data": {
      "image/png": "[encoded data removed]",
      "text/plain": [
       "<Figure size 1200x560 with 1 Axes>"
      ]
     },
     "metadata": {
      "needs_background": "light"
     },
     "output_type": "display_data"
    }
   ],
   "source": [
    "import matplotlib.pyplot as plt\n",
    "plt.figure(figsize=(15, 7), dpi=80)\n",
    "plt.scatter(x_values, y_hat_values, marker=\"*\", color=['red','green', 'black', 'orange', 'blue'])\n",
    "plt.scatter(x_prime_values, y_prime_values, marker=\"^\", color=['red','green', 'black', 'orange', 'blue'])\n",
    "plt.xlabel(\"X values or X Prime Values\")\n",
    "plt.ylabel(\"Y hat values or Y Prime Values\")\n",
    "plt.title(\"Case - 4: Scatter plot for identifying closest neighbor for each X_predict\")\n",
    "plt.show()"
   ]
  },
  {
   "cell_type": "markdown",
   "id": "e2435ee3",
   "metadata": {},
   "source": [
    "### K = 3"
   ]
  },
  {
   "cell_type": "code",
   "execution_count": 128,
   "id": "baa41cb1",
   "metadata": {},
   "outputs": [
    {
     "data": {
      "text/plain": [
       "KNeighborsRegressor(n_neighbors=3, weights='distance')"
      ]
     },
     "execution_count": 128,
     "metadata": {},
     "output_type": "execute_result"
    }
   ],
   "source": [
    "distance_k_3_nn_reg_model_class = KNeighborsRegressor(n_neighbors=3, weights='distance')\n",
    "distance_k_3_nn_reg_model_class.fit(X_numpy,y_numpy)"
   ]
  },
  {
   "cell_type": "code",
   "execution_count": 129,
   "id": "6489f30e",
   "metadata": {},
   "outputs": [
    {
     "name": "stdout",
     "output_type": "stream",
     "text": [
      "(1, 0.11423709655068509)\n",
      "(3, 0.9920378514401798)\n",
      "(5, 1.6881741257329956)\n",
      "(7, 2.0167158396375586)\n",
      "(9, 2.277162115629105)\n"
     ]
    }
   ],
   "source": [
    "# Print the numerical values of the (x, yˆ) pairs \n",
    "y_predict = [distance_k_3_nn_reg_model_class.predict([[xi]]) for xi in x_predict]\n",
    "predictions = []\n",
    "for x_pred, y_pred in zip(x_predict, y_predict):\n",
    "    # (x, y^)\n",
    "    current_prediction = (x_pred, y_pred[0][0])\n",
    "    print (current_prediction)\n",
    "    predictions.append(current_prediction)"
   ]
  },
  {
   "cell_type": "code",
   "execution_count": 131,
   "id": "b577a4d6",
   "metadata": {},
   "outputs": [
    {
     "name": "stdout",
     "output_type": "stream",
     "text": [
      "Extracting closest neightbor for x= 1 , y_hat= 0.11423709655068509\n",
      "Closest neightbor x_prime and its corresponding y_prime is: (x_prime,y_prime) (1.1427202031613746, 0.21099533446746474)\n",
      "Extracting closest neightbor for x= 3 , y_hat= 0.9920378514401798\n",
      "Closest neightbor x_prime and its corresponding y_prime is: (x_prime,y_prime) (2.961089824118717, 0.9903923290546297)\n",
      "Extracting closest neightbor for x= 5 , y_hat= 1.6881741257329956\n",
      "Closest neightbor x_prime and its corresponding y_prime is: (x_prime,y_prime) (5.096703670505991, 1.7111162305585266)\n",
      "Extracting closest neightbor for x= 7 , y_hat= 2.0167158396375586\n",
      "Closest neightbor x_prime and its corresponding y_prime is: (x_prime,y_prime) (6.983659879862785, 2.063749325684543)\n",
      "Extracting closest neightbor for x= 9 , y_hat= 2.277162115629105\n",
      "Closest neightbor x_prime and its corresponding y_prime is: (x_prime,y_prime) (8.943504237368918, 2.2660083110429)\n"
     ]
    }
   ],
   "source": [
    "#Also, plot the (x′,y′) and (x,yˆ) points for each of these seven cases, where x′ is the point \n",
    "#(out of the 100 sample points) closest to x and y′ is the y-value of x′ \n",
    "\n",
    "# Reference: https://scikit-learn.org/stable/modules/generated/sklearn.neighbors.KNeighborsRegressor.html#sklearn.neighbors.KNeighborsRegressor.kneighbors\n",
    "\n",
    "x_values = []\n",
    "y_hat_values = []\n",
    "x_prime_values = []\n",
    "y_prime_values = []\n",
    "\n",
    "\n",
    "for x, y_hat in predictions:\n",
    "    print(\"Extracting closest neightbor for x=\", x, \", y_hat=\", y_hat)\n",
    "    closes_neighbor_info = distance_k_3_nn_reg_model_class.kneighbors(X=[[x]],n_neighbors=1, return_distance=True)\n",
    "    closes_neighbor_distance = closes_neighbor_info[0][0][0]\n",
    "    closes_neighbor_index_in_X = closes_neighbor_info[1][0][0]\n",
    "    # closest neighbor is x_prime and simaltenously y_prime\n",
    "    x_prime = X[closes_neighbor_index_in_X]\n",
    "    y_prime = y[closes_neighbor_index_in_X]\n",
    "    print(\"Closest neightbor x_prime and its corresponding y_prime is: (x_prime,y_prime)\", (x_prime, y_prime))\n",
    "    # gather the below values for scatter plot\n",
    "    x_values.append(x)\n",
    "    y_hat_values.append(y_hat)\n",
    "    x_prime_values.append(x_prime)\n",
    "    y_prime_values.append(y_prime)"
   ]
  },
  {
   "cell_type": "code",
   "execution_count": 132,
   "id": "5afb84d6",
   "metadata": {},
   "outputs": [
    {
     "data": {
      "image/png": "[encoded data removed]",
      "text/plain": [
       "<Figure size 1200x560 with 1 Axes>"
      ]
     },
     "metadata": {
      "needs_background": "light"
     },
     "output_type": "display_data"
    }
   ],
   "source": [
    "import matplotlib.pyplot as plt\n",
    "plt.figure(figsize=(15, 7), dpi=80)\n",
    "plt.scatter(x_values, y_hat_values, marker=\"*\", color=['red','green', 'black', 'orange', 'blue'])\n",
    "plt.scatter(x_prime_values, y_prime_values, marker=\"^\", color=['red','green', 'black', 'orange', 'blue'])\n",
    "plt.xlabel(\"X values or X Prime Values\")\n",
    "plt.ylabel(\"Y hat values or Y Prime Values\")\n",
    "plt.title(\"Case - 5: Scatter plot for identifying closest neighbor for each X_predict\")\n",
    "plt.show()"
   ]
  },
  {
   "cell_type": "markdown",
   "id": "13e59f53",
   "metadata": {},
   "source": [
    "### K = 50"
   ]
  },
  {
   "cell_type": "code",
   "execution_count": 135,
   "id": "693a5c8d",
   "metadata": {},
   "outputs": [
    {
     "data": {
      "text/plain": [
       "KNeighborsRegressor(n_neighbors=50, weights='distance')"
      ]
     },
     "execution_count": 135,
     "metadata": {},
     "output_type": "execute_result"
    }
   ],
   "source": [
    "distance_k_50_nn_reg_model_class = KNeighborsRegressor(n_neighbors=50, weights='distance')\n",
    "distance_k_50_nn_reg_model_class.fit(X_numpy,y_numpy)"
   ]
  },
  {
   "cell_type": "code",
   "execution_count": 136,
   "id": "585f0559",
   "metadata": {},
   "outputs": [
    {
     "name": "stdout",
     "output_type": "stream",
     "text": [
      "(1, 0.591368788075068)\n",
      "(3, 1.0119467059818688)\n",
      "(5, 1.6094655182608764)\n",
      "(7, 1.9808828795930198)\n",
      "(9, 2.2088085743426094)\n"
     ]
    }
   ],
   "source": [
    "# Print the numerical values of the (x, yˆ) pairs \n",
    "y_predict = [distance_k_50_nn_reg_model_class.predict([[xi]]) for xi in x_predict]\n",
    "predictions = []\n",
    "for x_pred, y_pred in zip(x_predict, y_predict):\n",
    "    # (x, y^)\n",
    "    current_prediction = (x_pred, y_pred[0][0])\n",
    "    print (current_prediction)\n",
    "    predictions.append(current_prediction)"
   ]
  },
  {
   "cell_type": "code",
   "execution_count": 137,
   "id": "9cd8dba3",
   "metadata": {},
   "outputs": [
    {
     "name": "stdout",
     "output_type": "stream",
     "text": [
      "Extracting closest neightbor for x= 1 , y_hat= 0.591368788075068\n",
      "Closest neightbor x_prime and its corresponding y_prime is: (x_prime,y_prime) (1.1427202031613746, 0.21099533446746474)\n",
      "Extracting closest neightbor for x= 3 , y_hat= 1.0119467059818688\n",
      "Closest neightbor x_prime and its corresponding y_prime is: (x_prime,y_prime) (2.961089824118717, 0.9903923290546297)\n",
      "Extracting closest neightbor for x= 5 , y_hat= 1.6094655182608764\n",
      "Closest neightbor x_prime and its corresponding y_prime is: (x_prime,y_prime) (5.096703670505991, 1.7111162305585266)\n",
      "Extracting closest neightbor for x= 7 , y_hat= 1.9808828795930198\n",
      "Closest neightbor x_prime and its corresponding y_prime is: (x_prime,y_prime) (6.983659879862785, 2.063749325684543)\n",
      "Extracting closest neightbor for x= 9 , y_hat= 2.2088085743426094\n",
      "Closest neightbor x_prime and its corresponding y_prime is: (x_prime,y_prime) (8.943504237368918, 2.2660083110429)\n"
     ]
    }
   ],
   "source": [
    "#Also, plot the (x′,y′) and (x,yˆ) points for each of these seven cases, where x′ is the point \n",
    "#(out of the 100 sample points) closest to x and y′ is the y-value of x′ \n",
    "\n",
    "# Reference: https://scikit-learn.org/stable/modules/generated/sklearn.neighbors.KNeighborsRegressor.html#sklearn.neighbors.KNeighborsRegressor.kneighbors\n",
    "\n",
    "x_values = []\n",
    "y_hat_values = []\n",
    "x_prime_values = []\n",
    "y_prime_values = []\n",
    "\n",
    "\n",
    "for x, y_hat in predictions:\n",
    "    print(\"Extracting closest neightbor for x=\", x, \", y_hat=\", y_hat)\n",
    "    closes_neighbor_info = distance_k_50_nn_reg_model_class.kneighbors(X=[[x]],n_neighbors=1, return_distance=True)\n",
    "    closes_neighbor_distance = closes_neighbor_info[0][0][0]\n",
    "    closes_neighbor_index_in_X = closes_neighbor_info[1][0][0]\n",
    "    # closest neighbor is x_prime and simaltenously y_prime\n",
    "    x_prime = X[closes_neighbor_index_in_X]\n",
    "    y_prime = y[closes_neighbor_index_in_X]\n",
    "    print(\"Closest neightbor x_prime and its corresponding y_prime is: (x_prime,y_prime)\", (x_prime, y_prime))\n",
    "    # gather the below values for scatter plot\n",
    "    x_values.append(x)\n",
    "    y_hat_values.append(y_hat)\n",
    "    x_prime_values.append(x_prime)\n",
    "    y_prime_values.append(y_prime)"
   ]
  },
  {
   "cell_type": "code",
   "execution_count": 139,
   "id": "cca14d7f",
   "metadata": {},
   "outputs": [
    {
     "data": {
      "image/png": "[encoded data removed]",
      "text/plain": [
       "<Figure size 1200x560 with 1 Axes>"
      ]
     },
     "metadata": {
      "needs_background": "light"
     },
     "output_type": "display_data"
    }
   ],
   "source": [
    "import matplotlib.pyplot as plt\n",
    "plt.figure(figsize=(15, 7), dpi=80)\n",
    "plt.scatter(x_values, y_hat_values, marker=\"*\", color=['red','green', 'black', 'orange', 'blue'])\n",
    "plt.scatter(x_prime_values, y_prime_values, marker=\"^\", color=['red','green', 'black', 'orange', 'blue'])\n",
    "plt.xlabel(\"X values or X Prime Values\")\n",
    "plt.ylabel(\"Y hat values or Y Prime Values\")\n",
    "plt.title(\"Case - 6: Scatter plot for identifying closest neighbor for each X_predict\")\n",
    "plt.show()"
   ]
  },
  {
   "cell_type": "markdown",
   "id": "70225ada",
   "metadata": {},
   "source": [
    "##### schema 3 : all the N points contribute, with each contribution proportional to e−12d2, where d represents distance."
   ]
  },
  {
   "cell_type": "code",
   "execution_count": 76,
   "id": "6ce7cea5",
   "metadata": {},
   "outputs": [],
   "source": [
    "##TODO"
   ]
  },
  {
   "cell_type": "code",
   "execution_count": null,
   "id": "7ad9c0d3",
   "metadata": {},
   "outputs": [],
   "source": []
  }
 ],
 "metadata": {
  "kernelspec": {
   "display_name": "Python 3",
   "language": "python",
   "name": "python3"
  },
  "language_info": {
   "codemirror_mode": {
    "name": "ipython",
    "version": 3
   },
   "file_extension": ".py",
   "mimetype": "text/x-python",
   "name": "python",
   "nbconvert_exporter": "python",
   "pygments_lexer": "ipython3",
   "version": "3.8.8"
  }
 },
 "nbformat": 4,
 "nbformat_minor": 5
}
