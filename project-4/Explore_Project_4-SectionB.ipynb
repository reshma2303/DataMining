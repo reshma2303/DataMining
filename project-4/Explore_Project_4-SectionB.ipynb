{
 "cells": [
  {
   "cell_type": "markdown",
   "id": "9a682a5e",
   "metadata": {},
   "source": [
    "#### Section - B"
   ]
  },
  {
   "cell_type": "markdown",
   "id": "a84fcc02",
   "metadata": {},
   "source": [
    "- In this project you will apply the AdaBoost boosting algorithm to implement an ensemble learning approach for solving a (binary) classification problem. \n",
    "- The (one- dimensional) training data set D is given in Table 4.12 on page 352 of the textbook. The base classifier is a simple, one-level decision tree (decision stump) (as explained on p. 303 of the textbook).\n",
    "- Determine the number of boosting rounds and show the result of each round (the probability distribution pi’s at each round, the records chosen at each round, the model (tree) obtained at each round, the ε and the α at each round), as well as the result obtained on D with the final ensemble classifier. \n",
    "- Note that the textbook uses the notation w (weight) for what we called p (probability) in the derivation we did in the lectures. (The textbook has quite a few typos!) Also, do not forget the stopping condition we discussed.\n",
    "- What is the result of running your ensemble classifier on the following test data? X = 1.0, 2.0, 3.0, 4.0, 5.0, 6.0, 7.0, 8.0, 9.0, 10.0\n",
    "\n",
    "\n",
    "Submit source code and your output (the round-wise results and the result on the test data) following the styles of Figures 4.46, 4.49, and 4.50 of the textbook."
   ]
  },
  {
   "cell_type": "code",
   "execution_count": 163,
   "id": "00642279",
   "metadata": {},
   "outputs": [],
   "source": [
    "import pandas as pd\n",
    "import numpy as np"
   ]
  },
  {
   "cell_type": "markdown",
   "id": "de49b5c6",
   "metadata": {},
   "source": [
    "#### Section - B : 1. Load datasets"
   ]
  },
  {
   "cell_type": "code",
   "execution_count": 164,
   "id": "3b7c2d1d",
   "metadata": {},
   "outputs": [
    {
     "data": {
      "text/html": [
       "<div>\n",
       "<style scoped>\n",
       "    .dataframe tbody tr th:only-of-type {\n",
       "        vertical-align: middle;\n",
       "    }\n",
       "\n",
       "    .dataframe tbody tr th {\n",
       "        vertical-align: top;\n",
       "    }\n",
       "\n",
       "    .dataframe thead th {\n",
       "        text-align: right;\n",
       "    }\n",
       "</style>\n",
       "<table border=\"1\" class=\"dataframe\">\n",
       "  <thead>\n",
       "    <tr style=\"text-align: right;\">\n",
       "      <th></th>\n",
       "      <th>x</th>\n",
       "      <th>y</th>\n",
       "    </tr>\n",
       "  </thead>\n",
       "  <tbody>\n",
       "    <tr>\n",
       "      <th>1</th>\n",
       "      <td>0.5</td>\n",
       "      <td>-</td>\n",
       "    </tr>\n",
       "    <tr>\n",
       "      <th>2</th>\n",
       "      <td>3.0</td>\n",
       "      <td>-</td>\n",
       "    </tr>\n",
       "    <tr>\n",
       "      <th>3</th>\n",
       "      <td>4.5</td>\n",
       "      <td>+</td>\n",
       "    </tr>\n",
       "    <tr>\n",
       "      <th>4</th>\n",
       "      <td>4.6</td>\n",
       "      <td>+</td>\n",
       "    </tr>\n",
       "    <tr>\n",
       "      <th>5</th>\n",
       "      <td>4.9</td>\n",
       "      <td>+</td>\n",
       "    </tr>\n",
       "    <tr>\n",
       "      <th>6</th>\n",
       "      <td>5.2</td>\n",
       "      <td>-</td>\n",
       "    </tr>\n",
       "    <tr>\n",
       "      <th>7</th>\n",
       "      <td>5.3</td>\n",
       "      <td>-</td>\n",
       "    </tr>\n",
       "    <tr>\n",
       "      <th>8</th>\n",
       "      <td>5.5</td>\n",
       "      <td>+</td>\n",
       "    </tr>\n",
       "    <tr>\n",
       "      <th>9</th>\n",
       "      <td>7.0</td>\n",
       "      <td>-</td>\n",
       "    </tr>\n",
       "    <tr>\n",
       "      <th>10</th>\n",
       "      <td>9.5</td>\n",
       "      <td>-</td>\n",
       "    </tr>\n",
       "  </tbody>\n",
       "</table>\n",
       "</div>"
      ],
      "text/plain": [
       "      x  y\n",
       "1   0.5  -\n",
       "2   3.0  -\n",
       "3   4.5  +\n",
       "4   4.6  +\n",
       "5   4.9  +\n",
       "6   5.2  -\n",
       "7   5.3  -\n",
       "8   5.5  +\n",
       "9   7.0  -\n",
       "10  9.5  -"
      ]
     },
     "execution_count": 164,
     "metadata": {},
     "output_type": "execute_result"
    }
   ],
   "source": [
    "training_dataset_df = pd.read_csv(\"1d_training_dataset.csv\")\n",
    "training_dataset_df = training_dataset_df.T\n",
    "training_dataset_df.reset_index(inplace=True)\n",
    "training_dataset_df.columns = [\"x\", \"y\"]\n",
    "training_dataset_df = training_dataset_df[1:]\n",
    "training_dataset_df"
   ]
  },
  {
   "cell_type": "code",
   "execution_count": 165,
   "id": "0cc08c7e",
   "metadata": {},
   "outputs": [
    {
     "data": {
      "text/plain": [
       "[1.0, 2.0, 3.0, 4.0, 5.0, 6.0, 7.0, 8.0, 9.0, 10.0]"
      ]
     },
     "execution_count": 165,
     "metadata": {},
     "output_type": "execute_result"
    }
   ],
   "source": [
    "X_test = [1.0, 2.0, 3.0, 4.0, 5.0, 6.0, 7.0, 8.0, 9.0, 10.0]\n",
    "X_test"
   ]
  },
  {
   "cell_type": "markdown",
   "id": "e3787956",
   "metadata": {},
   "source": [
    "##### Replace class labels \"y\" --- \"+\" and \"-\" with 1 and 0"
   ]
  },
  {
   "cell_type": "code",
   "execution_count": 166,
   "id": "535ac2b0",
   "metadata": {},
   "outputs": [
    {
     "data": {
      "text/html": [
       "<div>\n",
       "<style scoped>\n",
       "    .dataframe tbody tr th:only-of-type {\n",
       "        vertical-align: middle;\n",
       "    }\n",
       "\n",
       "    .dataframe tbody tr th {\n",
       "        vertical-align: top;\n",
       "    }\n",
       "\n",
       "    .dataframe thead th {\n",
       "        text-align: right;\n",
       "    }\n",
       "</style>\n",
       "<table border=\"1\" class=\"dataframe\">\n",
       "  <thead>\n",
       "    <tr style=\"text-align: right;\">\n",
       "      <th></th>\n",
       "      <th>x</th>\n",
       "      <th>y</th>\n",
       "    </tr>\n",
       "  </thead>\n",
       "  <tbody>\n",
       "    <tr>\n",
       "      <th>1</th>\n",
       "      <td>0.5</td>\n",
       "      <td>0</td>\n",
       "    </tr>\n",
       "    <tr>\n",
       "      <th>2</th>\n",
       "      <td>3.0</td>\n",
       "      <td>0</td>\n",
       "    </tr>\n",
       "    <tr>\n",
       "      <th>3</th>\n",
       "      <td>4.5</td>\n",
       "      <td>1</td>\n",
       "    </tr>\n",
       "    <tr>\n",
       "      <th>4</th>\n",
       "      <td>4.6</td>\n",
       "      <td>1</td>\n",
       "    </tr>\n",
       "    <tr>\n",
       "      <th>5</th>\n",
       "      <td>4.9</td>\n",
       "      <td>1</td>\n",
       "    </tr>\n",
       "    <tr>\n",
       "      <th>6</th>\n",
       "      <td>5.2</td>\n",
       "      <td>0</td>\n",
       "    </tr>\n",
       "    <tr>\n",
       "      <th>7</th>\n",
       "      <td>5.3</td>\n",
       "      <td>0</td>\n",
       "    </tr>\n",
       "    <tr>\n",
       "      <th>8</th>\n",
       "      <td>5.5</td>\n",
       "      <td>1</td>\n",
       "    </tr>\n",
       "    <tr>\n",
       "      <th>9</th>\n",
       "      <td>7.0</td>\n",
       "      <td>0</td>\n",
       "    </tr>\n",
       "    <tr>\n",
       "      <th>10</th>\n",
       "      <td>9.5</td>\n",
       "      <td>0</td>\n",
       "    </tr>\n",
       "  </tbody>\n",
       "</table>\n",
       "</div>"
      ],
      "text/plain": [
       "      x  y\n",
       "1   0.5  0\n",
       "2   3.0  0\n",
       "3   4.5  1\n",
       "4   4.6  1\n",
       "5   4.9  1\n",
       "6   5.2  0\n",
       "7   5.3  0\n",
       "8   5.5  1\n",
       "9   7.0  0\n",
       "10  9.5  0"
      ]
     },
     "execution_count": 166,
     "metadata": {},
     "output_type": "execute_result"
    }
   ],
   "source": [
    "training_dataset_df['y'] = training_dataset_df['y'].map({'+': 1, \"-\": 0})\n",
    "training_dataset_df"
   ]
  },
  {
   "cell_type": "code",
   "execution_count": 167,
   "id": "2513d960",
   "metadata": {},
   "outputs": [
    {
     "data": {
      "text/plain": [
       "x    object\n",
       "y     int64\n",
       "dtype: object"
      ]
     },
     "execution_count": 167,
     "metadata": {},
     "output_type": "execute_result"
    }
   ],
   "source": [
    "training_dataset_df.dtypes"
   ]
  },
  {
   "cell_type": "code",
   "execution_count": 168,
   "id": "b74ea56f",
   "metadata": {},
   "outputs": [
    {
     "data": {
      "text/html": [
       "<div>\n",
       "<style scoped>\n",
       "    .dataframe tbody tr th:only-of-type {\n",
       "        vertical-align: middle;\n",
       "    }\n",
       "\n",
       "    .dataframe tbody tr th {\n",
       "        vertical-align: top;\n",
       "    }\n",
       "\n",
       "    .dataframe thead th {\n",
       "        text-align: right;\n",
       "    }\n",
       "</style>\n",
       "<table border=\"1\" class=\"dataframe\">\n",
       "  <thead>\n",
       "    <tr style=\"text-align: right;\">\n",
       "      <th></th>\n",
       "      <th>x</th>\n",
       "      <th>y</th>\n",
       "    </tr>\n",
       "  </thead>\n",
       "  <tbody>\n",
       "    <tr>\n",
       "      <th>1</th>\n",
       "      <td>0.5</td>\n",
       "      <td>0</td>\n",
       "    </tr>\n",
       "    <tr>\n",
       "      <th>2</th>\n",
       "      <td>3.0</td>\n",
       "      <td>0</td>\n",
       "    </tr>\n",
       "    <tr>\n",
       "      <th>3</th>\n",
       "      <td>4.5</td>\n",
       "      <td>1</td>\n",
       "    </tr>\n",
       "    <tr>\n",
       "      <th>4</th>\n",
       "      <td>4.6</td>\n",
       "      <td>1</td>\n",
       "    </tr>\n",
       "    <tr>\n",
       "      <th>5</th>\n",
       "      <td>4.9</td>\n",
       "      <td>1</td>\n",
       "    </tr>\n",
       "    <tr>\n",
       "      <th>6</th>\n",
       "      <td>5.2</td>\n",
       "      <td>0</td>\n",
       "    </tr>\n",
       "    <tr>\n",
       "      <th>7</th>\n",
       "      <td>5.3</td>\n",
       "      <td>0</td>\n",
       "    </tr>\n",
       "    <tr>\n",
       "      <th>8</th>\n",
       "      <td>5.5</td>\n",
       "      <td>1</td>\n",
       "    </tr>\n",
       "    <tr>\n",
       "      <th>9</th>\n",
       "      <td>7.0</td>\n",
       "      <td>0</td>\n",
       "    </tr>\n",
       "    <tr>\n",
       "      <th>10</th>\n",
       "      <td>9.5</td>\n",
       "      <td>0</td>\n",
       "    </tr>\n",
       "  </tbody>\n",
       "</table>\n",
       "</div>"
      ],
      "text/plain": [
       "      x  y\n",
       "1   0.5  0\n",
       "2   3.0  0\n",
       "3   4.5  1\n",
       "4   4.6  1\n",
       "5   4.9  1\n",
       "6   5.2  0\n",
       "7   5.3  0\n",
       "8   5.5  1\n",
       "9   7.0  0\n",
       "10  9.5  0"
      ]
     },
     "execution_count": 168,
     "metadata": {},
     "output_type": "execute_result"
    }
   ],
   "source": [
    "training_dataset_df['x'] = training_dataset_df['x'].astype(float)\n",
    "training_dataset_df"
   ]
  },
  {
   "cell_type": "code",
   "execution_count": 169,
   "id": "f3d242e7",
   "metadata": {},
   "outputs": [
    {
     "data": {
      "text/plain": [
       "x    float64\n",
       "y      int64\n",
       "dtype: object"
      ]
     },
     "execution_count": 169,
     "metadata": {},
     "output_type": "execute_result"
    }
   ],
   "source": [
    "training_dataset_df.dtypes"
   ]
  },
  {
   "cell_type": "markdown",
   "id": "16da46f9",
   "metadata": {},
   "source": [
    "#### Section B - 2. Task"
   ]
  },
  {
   "cell_type": "markdown",
   "id": "2c6d7216",
   "metadata": {},
   "source": [
    "- apply the AdaBoost boosting algorithm\n",
    "- Use the base classifier is a simple, one-level decision tree (decision stump) (as explained on p. 303 of the textbook).\n",
    "- Determine the number of boosting rounds and show the result of each round (the probability distribution pi’s at each round, the records chosen at each round, the model (tree) obtained at each round, the ε and the α at each round), as well as the result obtained on D with the final ensemble classifier. \n",
    "- Note that the textbook uses the notation w (weight) for what we called p (probability) in the derivation we did in the lectures. (The textbook has quite a few typos!) Also, do not forget the stopping condition we discussed.\n",
    "- What is the result of running your ensemble classifier on the following test data? X = 1.0, 2.0, 3.0, 4.0, 5.0, 6.0, 7.0, 8.0, 9.0, 10.0\n",
    "\n",
    "\n",
    "Submit source code and your output (the round-wise results and the result on the test data) following the styles of Figures 4.46, 4.49, and 4.50 of the textbook."
   ]
  },
  {
   "cell_type": "markdown",
   "id": "d2d9d11f",
   "metadata": {},
   "source": [
    "**Algorithm from textbook:**\n",
    "\n",
    "Write it here\n",
    "    "
   ]
  },
  {
   "cell_type": "code",
   "execution_count": 170,
   "id": "3171b1b0",
   "metadata": {},
   "outputs": [],
   "source": [
    "from sklearn.tree import DecisionTreeClassifier"
   ]
  },
  {
   "cell_type": "code",
   "execution_count": 366,
   "id": "104f8a49",
   "metadata": {},
   "outputs": [],
   "source": [
    "def train_adaboost(XTRAIN, YTRAIN):\n",
    "    \n",
    "    SAMPLESIZE = len(XTRAIN)\n",
    "    # setting initial probabilities\n",
    "    samples_probabilities = np.repeat(1/SAMPLESIZE, SAMPLESIZE)\n",
    "    \n",
    "    selecround_models = list()\n",
    "    alphas = list()\n",
    "    #yhats = np.empty((SAMPLESIZE, NROUNDS))\n",
    "    \n",
    "    curr_round = 1\n",
    "    epsilion_threshold = 0.4\n",
    "    epsilon_t_current = 1.1 # set initial error to maximum\n",
    "    while epsilon_t_current > epsilion_threshold:\n",
    "        print(\"\\n\\nWorking on round: \", curr_round)\n",
    "\n",
    "        # a) Create a training dataset D(t) (of the same size n) by sampling (with replacement)\n",
    "        #from the distribution defined by p(t)\n",
    "        bootstrap_sample = np.random.choice(np.arange(len(XTRAIN)),\n",
    "                                               size=len(XTRAIN),\n",
    "                                               replace=True,\n",
    "                                           p=samples_probabilities)\n",
    "        \n",
    "        print(\"Records (Indexes) chosen in this round: \")\n",
    "        print(bootstrap_sample)\n",
    "        bootstrap_XTRAIN = XTRAIN[bootstrap_sample]\n",
    "        bootstrap_YTRAIN = YTRAIN[bootstrap_sample]\n",
    "        \n",
    "        # b) Create model M(t) using A on D(t) (e.g., if A is a decision tree induction \n",
    "        # algorithm, M(t) is a decision tree)\n",
    "        # max_depth =1 gives us decision stump\n",
    "        \n",
    "        base_classifier_t = DecisionTreeClassifier(max_depth=1)\n",
    "        base_classifier_t.fit(bootstrap_XTRAIN, bootstrap_YTRAIN,sample_weight=samples_probabilities)\n",
    "        \n",
    "        yhat_t = base_classifier_t.predict(XTRAIN)\n",
    "        print(yhat_t != YTRAIN.flatten())\n",
    "        # c) Calculate the error of M(t) on D (note: not on D(t))\n",
    "        epsilon_t = 0\n",
    "        for index in range(SAMPLESIZE):\n",
    "            y_i = YTRAIN[index][0]\n",
    "            yhat_t_i = yhat_t[index]\n",
    "            if y_i!= yhat_t_i:\n",
    "                # misclassification\n",
    "                epsilon_t += samples_probabilities[index]\n",
    "        print(\"epsilon_t: \", epsilon_t)\n",
    "        epsilon_t_current = epsilon_t\n",
    "        # d) Find model M(t)’s weight: α(t) = 1 ln 1−ε(t)\n",
    "        alpha_t = 0.5 * np.log((1-epsilon_t)/epsilon_t)\n",
    "        \n",
    "        print(\"alpha_t\", alpha_t)\n",
    "        \n",
    "        #(e) if ε(t) ≥ 0.5:\n",
    "        #• Re-start the current iteration by setting t = t − 1 and re-initializing each p(t)\n",
    "        #to 1/n for i = 1,2,...,n; • Go to Step (a)\n",
    "        \n",
    "        if epsilon_t > 0.5:\n",
    "            print(f\"Epsilon is greater than 0.5, hence resetting this round\")\n",
    "            # Do not consider this round completion\n",
    "            # re-initializing each p(t) to 1/n for i = 1,2,...,n\n",
    "            samples_probabilities = np.repeat(1/SAMPLESIZE, SAMPLESIZE)\n",
    "        else:\n",
    "            # consider this round completion\n",
    "            curr_round += 1\n",
    "            \n",
    "            # update the probabilities of the records in D:\n",
    "            # For i = 1,...,n and (xi,yi) ∈ D:\n",
    "            \n",
    "            new_sample_probabilities = []\n",
    "            for index in range(SAMPLESIZE):\n",
    "                y_i = YTRAIN[index][0]\n",
    "                yhat_t_i = yhat_t[index]\n",
    "                if y_i!= yhat_t_i:\n",
    "                    # misclassification\n",
    "                    new_probability_for_this_index = samples_probabilities[index]/(2*epsilon_t)\n",
    "                else:\n",
    "                    # correct classification\n",
    "                    new_probability_for_this_index = samples_probabilities[index]/(2*(1-epsilon_t))\n",
    "                new_sample_probabilities.append(new_probability_for_this_index)\n",
    "            print(\"new_sample_probabilities: \", new_sample_probabilities)\n",
    "            \n",
    "            # only append alphas and models here\n",
    "            alphas.append(alpha_t)\n",
    "            \n",
    "        \n",
    "        \n",
    "        \n",
    "        \n",
    "        #alpha_t = np.log((1- epsilon_t)/epsilon_t)\n",
    "        #samples_probabilities = np.array([p*(1-epsilon_t)/epsilon_t if yhat_t[i] != YTRAIN[i]\n",
    "                                    #else p for i, p in enumerate(samples_probabilities)])\n",
    "        \n",
    "        #alphas.append(alpha_t)\n",
    "        #round_models.append(base_classifier_t)\n",
    "        #yhats[:,t_round] = yhat_t \n",
    "\n",
    "    #yhat = np.sign(np.dot(yhats, alphas))\n",
    "    #3. Obtain the ensemble model M(x) = 􏰂Tt=1 α(t)M(t)(x) for any \n",
    "    # (training or test) record x. Output ensemble classification result as sign(M(x)).\n",
    "\n",
    "        \n",
    "        "
   ]
  },
  {
   "cell_type": "code",
   "execution_count": 367,
   "id": "3395f961",
   "metadata": {},
   "outputs": [],
   "source": [
    "XTRAIN_numpy = training_dataset_df['x'].to_numpy()\n",
    "YTRAIN_numpy = training_dataset_df['y'].to_numpy()"
   ]
  },
  {
   "cell_type": "code",
   "execution_count": 368,
   "id": "98c8741b",
   "metadata": {},
   "outputs": [
    {
     "data": {
      "text/plain": [
       "(10, 1)"
      ]
     },
     "execution_count": 368,
     "metadata": {},
     "output_type": "execute_result"
    }
   ],
   "source": [
    "XTRAIN_numpy = XTRAIN_numpy.reshape(-1,1)\n",
    "XTRAIN_numpy.shape"
   ]
  },
  {
   "cell_type": "code",
   "execution_count": 369,
   "id": "7887c19e",
   "metadata": {},
   "outputs": [
    {
     "data": {
      "text/plain": [
       "array([[0.5],\n",
       "       [3. ],\n",
       "       [4.5],\n",
       "       [4.6],\n",
       "       [4.9],\n",
       "       [5.2],\n",
       "       [5.3],\n",
       "       [5.5],\n",
       "       [7. ],\n",
       "       [9.5]])"
      ]
     },
     "execution_count": 369,
     "metadata": {},
     "output_type": "execute_result"
    }
   ],
   "source": [
    "XTRAIN_numpy"
   ]
  },
  {
   "cell_type": "code",
   "execution_count": 370,
   "id": "6f86e7b1",
   "metadata": {},
   "outputs": [
    {
     "data": {
      "text/plain": [
       "(10, 1)"
      ]
     },
     "execution_count": 370,
     "metadata": {},
     "output_type": "execute_result"
    }
   ],
   "source": [
    "YTRAIN_numpy = YTRAIN_numpy.reshape(-1,1)\n",
    "YTRAIN_numpy.shape"
   ]
  },
  {
   "cell_type": "code",
   "execution_count": 371,
   "id": "32e5906c",
   "metadata": {},
   "outputs": [
    {
     "data": {
      "text/plain": [
       "array([[0],\n",
       "       [0],\n",
       "       [1],\n",
       "       [1],\n",
       "       [1],\n",
       "       [0],\n",
       "       [0],\n",
       "       [1],\n",
       "       [0],\n",
       "       [0]])"
      ]
     },
     "execution_count": 371,
     "metadata": {},
     "output_type": "execute_result"
    }
   ],
   "source": [
    "YTRAIN_numpy"
   ]
  },
  {
   "cell_type": "markdown",
   "id": "d401dfd8",
   "metadata": {},
   "source": [
    "#### TRAINING"
   ]
  },
  {
   "cell_type": "code",
   "execution_count": 372,
   "id": "717241db",
   "metadata": {},
   "outputs": [
    {
     "name": "stdout",
     "output_type": "stream",
     "text": [
      "\n",
      "\n",
      "Working on round:  1\n",
      "Records (Indexes) chosen in this round: \n",
      "[7 8 5 2 9 2 7 2 5 9]\n",
      "[ True  True False False  True False False  True False False]\n",
      "epsilon_t:  0.4\n",
      "alpha_t 0.2027325540540821\n",
      "new_sample_probabilities:  [0.125, 0.125, 0.08333333333333334, 0.08333333333333334, 0.125, 0.08333333333333334, 0.08333333333333334, 0.125, 0.08333333333333334, 0.08333333333333334]\n"
     ]
    }
   ],
   "source": [
    "train_adaboost(XTRAIN_numpy, YTRAIN_numpy)"
   ]
  },
  {
   "cell_type": "code",
   "execution_count": null,
   "id": "25ac9f7d",
   "metadata": {},
   "outputs": [],
   "source": []
  },
  {
   "cell_type": "code",
   "execution_count": null,
   "id": "2371cadd",
   "metadata": {},
   "outputs": [],
   "source": []
  },
  {
   "cell_type": "code",
   "execution_count": null,
   "id": "52dcd799",
   "metadata": {},
   "outputs": [],
   "source": []
  }
 ],
 "metadata": {
  "kernelspec": {
   "display_name": "Python 3",
   "language": "python",
   "name": "python3"
  },
  "language_info": {
   "codemirror_mode": {
    "name": "ipython",
    "version": 3
   },
   "file_extension": ".py",
   "mimetype": "text/x-python",
   "name": "python",
   "nbconvert_exporter": "python",
   "pygments_lexer": "ipython3",
   "version": "3.8.8"
  }
 },
 "nbformat": 4,
 "nbformat_minor": 5
}
