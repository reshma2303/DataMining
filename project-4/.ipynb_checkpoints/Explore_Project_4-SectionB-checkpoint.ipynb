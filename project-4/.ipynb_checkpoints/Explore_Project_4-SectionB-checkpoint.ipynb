{
 "cells": [
  {
   "cell_type": "markdown",
   "id": "9a682a5e",
   "metadata": {},
   "source": [
    "#### Section - B"
   ]
  },
  {
   "cell_type": "markdown",
   "id": "a84fcc02",
   "metadata": {},
   "source": [
    "- In this project you will apply the AdaBoost boosting algorithm to implement an ensemble learning approach for solving a (binary) classification problem. \n",
    "- The (one- dimensional) training data set D is given in Table 4.12 on page 352 of the textbook. The base classifier is a simple, one-level decision tree (decision stump) (as explained on p. 303 of the textbook).\n",
    "- Determine the number of boosting rounds and show the result of each round (the probability distribution pi’s at each round, the records chosen at each round, the model (tree) obtained at each round, the ε and the α at each round), as well as the result obtained on D with the final ensemble classifier. \n",
    "- Note that the textbook uses the notation w (weight) for what we called p (probability) in the derivation we did in the lectures. (The textbook has quite a few typos!) Also, do not forget the stopping condition we discussed.\n",
    "- What is the result of running your ensemble classifier on the following test data? X = 1.0, 2.0, 3.0, 4.0, 5.0, 6.0, 7.0, 8.0, 9.0, 10.0\n",
    "\n",
    "\n",
    "Submit source code and your output (the round-wise results and the result on the test data) following the styles of Figures 4.46, 4.49, and 4.50 of the textbook."
   ]
  },
  {
   "cell_type": "code",
   "execution_count": 163,
   "id": "00642279",
   "metadata": {},
   "outputs": [],
   "source": [
    "import pandas as pd\n",
    "import numpy as np"
   ]
  },
  {
   "cell_type": "markdown",
   "id": "de49b5c6",
   "metadata": {},
   "source": [
    "#### Section - B : 1. Load datasets"
   ]
  },
  {
   "cell_type": "code",
   "execution_count": 774,
   "id": "3b7c2d1d",
   "metadata": {},
   "outputs": [
    {
     "data": {
      "text/html": [
       "<div>\n",
       "<style scoped>\n",
       "    .dataframe tbody tr th:only-of-type {\n",
       "        vertical-align: middle;\n",
       "    }\n",
       "\n",
       "    .dataframe tbody tr th {\n",
       "        vertical-align: top;\n",
       "    }\n",
       "\n",
       "    .dataframe thead th {\n",
       "        text-align: right;\n",
       "    }\n",
       "</style>\n",
       "<table border=\"1\" class=\"dataframe\">\n",
       "  <thead>\n",
       "    <tr style=\"text-align: right;\">\n",
       "      <th></th>\n",
       "      <th>x</th>\n",
       "      <th>y</th>\n",
       "    </tr>\n",
       "  </thead>\n",
       "  <tbody>\n",
       "    <tr>\n",
       "      <th>0</th>\n",
       "      <td>0.5</td>\n",
       "      <td>-</td>\n",
       "    </tr>\n",
       "    <tr>\n",
       "      <th>1</th>\n",
       "      <td>3.0</td>\n",
       "      <td>-</td>\n",
       "    </tr>\n",
       "    <tr>\n",
       "      <th>2</th>\n",
       "      <td>4.5</td>\n",
       "      <td>+</td>\n",
       "    </tr>\n",
       "    <tr>\n",
       "      <th>3</th>\n",
       "      <td>4.6</td>\n",
       "      <td>+</td>\n",
       "    </tr>\n",
       "    <tr>\n",
       "      <th>4</th>\n",
       "      <td>4.9</td>\n",
       "      <td>+</td>\n",
       "    </tr>\n",
       "    <tr>\n",
       "      <th>5</th>\n",
       "      <td>5.2</td>\n",
       "      <td>-</td>\n",
       "    </tr>\n",
       "    <tr>\n",
       "      <th>6</th>\n",
       "      <td>5.3</td>\n",
       "      <td>-</td>\n",
       "    </tr>\n",
       "    <tr>\n",
       "      <th>7</th>\n",
       "      <td>5.5</td>\n",
       "      <td>+</td>\n",
       "    </tr>\n",
       "    <tr>\n",
       "      <th>8</th>\n",
       "      <td>7.0</td>\n",
       "      <td>-</td>\n",
       "    </tr>\n",
       "    <tr>\n",
       "      <th>9</th>\n",
       "      <td>9.5</td>\n",
       "      <td>-</td>\n",
       "    </tr>\n",
       "  </tbody>\n",
       "</table>\n",
       "</div>"
      ],
      "text/plain": [
       "     x  y\n",
       "0  0.5  -\n",
       "1  3.0  -\n",
       "2  4.5  +\n",
       "3  4.6  +\n",
       "4  4.9  +\n",
       "5  5.2  -\n",
       "6  5.3  -\n",
       "7  5.5  +\n",
       "8  7.0  -\n",
       "9  9.5  -"
      ]
     },
     "execution_count": 774,
     "metadata": {},
     "output_type": "execute_result"
    }
   ],
   "source": [
    "training_dataset_df = pd.read_csv(\"1d_training_dataset.csv\")\n",
    "training_dataset_df = training_dataset_df.T\n",
    "training_dataset_df.reset_index(inplace=True)\n",
    "training_dataset_df.columns = [\"x\", \"y\"]\n",
    "training_dataset_df = training_dataset_df[1:]\n",
    "training_dataset_df.reset_index(inplace=True)\n",
    "training_dataset_df.drop(columns=['index'],inplace=True)\n",
    "training_dataset_df"
   ]
  },
  {
   "cell_type": "code",
   "execution_count": 775,
   "id": "0cc08c7e",
   "metadata": {},
   "outputs": [
    {
     "data": {
      "text/plain": [
       "[1.0, 2.0, 3.0, 4.0, 5.0, 6.0, 7.0, 8.0, 9.0, 10.0]"
      ]
     },
     "execution_count": 775,
     "metadata": {},
     "output_type": "execute_result"
    }
   ],
   "source": [
    "X_test = [1.0, 2.0, 3.0, 4.0, 5.0, 6.0, 7.0, 8.0, 9.0, 10.0]\n",
    "X_test"
   ]
  },
  {
   "cell_type": "markdown",
   "id": "e3787956",
   "metadata": {},
   "source": [
    "##### Replace class labels \"y\" --- \"+\" and \"-\" with 1 and 0"
   ]
  },
  {
   "cell_type": "code",
   "execution_count": 776,
   "id": "535ac2b0",
   "metadata": {},
   "outputs": [
    {
     "data": {
      "text/html": [
       "<div>\n",
       "<style scoped>\n",
       "    .dataframe tbody tr th:only-of-type {\n",
       "        vertical-align: middle;\n",
       "    }\n",
       "\n",
       "    .dataframe tbody tr th {\n",
       "        vertical-align: top;\n",
       "    }\n",
       "\n",
       "    .dataframe thead th {\n",
       "        text-align: right;\n",
       "    }\n",
       "</style>\n",
       "<table border=\"1\" class=\"dataframe\">\n",
       "  <thead>\n",
       "    <tr style=\"text-align: right;\">\n",
       "      <th></th>\n",
       "      <th>x</th>\n",
       "      <th>y</th>\n",
       "    </tr>\n",
       "  </thead>\n",
       "  <tbody>\n",
       "    <tr>\n",
       "      <th>0</th>\n",
       "      <td>0.5</td>\n",
       "      <td>0</td>\n",
       "    </tr>\n",
       "    <tr>\n",
       "      <th>1</th>\n",
       "      <td>3.0</td>\n",
       "      <td>0</td>\n",
       "    </tr>\n",
       "    <tr>\n",
       "      <th>2</th>\n",
       "      <td>4.5</td>\n",
       "      <td>1</td>\n",
       "    </tr>\n",
       "    <tr>\n",
       "      <th>3</th>\n",
       "      <td>4.6</td>\n",
       "      <td>1</td>\n",
       "    </tr>\n",
       "    <tr>\n",
       "      <th>4</th>\n",
       "      <td>4.9</td>\n",
       "      <td>1</td>\n",
       "    </tr>\n",
       "    <tr>\n",
       "      <th>5</th>\n",
       "      <td>5.2</td>\n",
       "      <td>0</td>\n",
       "    </tr>\n",
       "    <tr>\n",
       "      <th>6</th>\n",
       "      <td>5.3</td>\n",
       "      <td>0</td>\n",
       "    </tr>\n",
       "    <tr>\n",
       "      <th>7</th>\n",
       "      <td>5.5</td>\n",
       "      <td>1</td>\n",
       "    </tr>\n",
       "    <tr>\n",
       "      <th>8</th>\n",
       "      <td>7.0</td>\n",
       "      <td>0</td>\n",
       "    </tr>\n",
       "    <tr>\n",
       "      <th>9</th>\n",
       "      <td>9.5</td>\n",
       "      <td>0</td>\n",
       "    </tr>\n",
       "  </tbody>\n",
       "</table>\n",
       "</div>"
      ],
      "text/plain": [
       "     x  y\n",
       "0  0.5  0\n",
       "1  3.0  0\n",
       "2  4.5  1\n",
       "3  4.6  1\n",
       "4  4.9  1\n",
       "5  5.2  0\n",
       "6  5.3  0\n",
       "7  5.5  1\n",
       "8  7.0  0\n",
       "9  9.5  0"
      ]
     },
     "execution_count": 776,
     "metadata": {},
     "output_type": "execute_result"
    }
   ],
   "source": [
    "training_dataset_df['y'] = training_dataset_df['y'].map({'+': 1, \"-\": 0})\n",
    "training_dataset_df"
   ]
  },
  {
   "cell_type": "code",
   "execution_count": 777,
   "id": "1073f32c",
   "metadata": {},
   "outputs": [
    {
     "data": {
      "text/plain": [
       "x    object\n",
       "y     int64\n",
       "dtype: object"
      ]
     },
     "execution_count": 777,
     "metadata": {},
     "output_type": "execute_result"
    }
   ],
   "source": [
    "training_dataset_df.dtypes"
   ]
  },
  {
   "cell_type": "code",
   "execution_count": 778,
   "id": "72e7c60c",
   "metadata": {},
   "outputs": [
    {
     "data": {
      "text/html": [
       "<div>\n",
       "<style scoped>\n",
       "    .dataframe tbody tr th:only-of-type {\n",
       "        vertical-align: middle;\n",
       "    }\n",
       "\n",
       "    .dataframe tbody tr th {\n",
       "        vertical-align: top;\n",
       "    }\n",
       "\n",
       "    .dataframe thead th {\n",
       "        text-align: right;\n",
       "    }\n",
       "</style>\n",
       "<table border=\"1\" class=\"dataframe\">\n",
       "  <thead>\n",
       "    <tr style=\"text-align: right;\">\n",
       "      <th></th>\n",
       "      <th>x</th>\n",
       "      <th>y</th>\n",
       "    </tr>\n",
       "  </thead>\n",
       "  <tbody>\n",
       "    <tr>\n",
       "      <th>0</th>\n",
       "      <td>0.5</td>\n",
       "      <td>0</td>\n",
       "    </tr>\n",
       "    <tr>\n",
       "      <th>1</th>\n",
       "      <td>3.0</td>\n",
       "      <td>0</td>\n",
       "    </tr>\n",
       "    <tr>\n",
       "      <th>2</th>\n",
       "      <td>4.5</td>\n",
       "      <td>1</td>\n",
       "    </tr>\n",
       "    <tr>\n",
       "      <th>3</th>\n",
       "      <td>4.6</td>\n",
       "      <td>1</td>\n",
       "    </tr>\n",
       "    <tr>\n",
       "      <th>4</th>\n",
       "      <td>4.9</td>\n",
       "      <td>1</td>\n",
       "    </tr>\n",
       "    <tr>\n",
       "      <th>5</th>\n",
       "      <td>5.2</td>\n",
       "      <td>0</td>\n",
       "    </tr>\n",
       "    <tr>\n",
       "      <th>6</th>\n",
       "      <td>5.3</td>\n",
       "      <td>0</td>\n",
       "    </tr>\n",
       "    <tr>\n",
       "      <th>7</th>\n",
       "      <td>5.5</td>\n",
       "      <td>1</td>\n",
       "    </tr>\n",
       "    <tr>\n",
       "      <th>8</th>\n",
       "      <td>7.0</td>\n",
       "      <td>0</td>\n",
       "    </tr>\n",
       "    <tr>\n",
       "      <th>9</th>\n",
       "      <td>9.5</td>\n",
       "      <td>0</td>\n",
       "    </tr>\n",
       "  </tbody>\n",
       "</table>\n",
       "</div>"
      ],
      "text/plain": [
       "     x  y\n",
       "0  0.5  0\n",
       "1  3.0  0\n",
       "2  4.5  1\n",
       "3  4.6  1\n",
       "4  4.9  1\n",
       "5  5.2  0\n",
       "6  5.3  0\n",
       "7  5.5  1\n",
       "8  7.0  0\n",
       "9  9.5  0"
      ]
     },
     "execution_count": 778,
     "metadata": {},
     "output_type": "execute_result"
    }
   ],
   "source": [
    "training_dataset_df['x'] = training_dataset_df['x'].astype(float)\n",
    "training_dataset_df"
   ]
  },
  {
   "cell_type": "code",
   "execution_count": 779,
   "id": "89a720ba",
   "metadata": {},
   "outputs": [
    {
     "data": {
      "text/plain": [
       "x    float64\n",
       "y      int64\n",
       "dtype: object"
      ]
     },
     "execution_count": 779,
     "metadata": {},
     "output_type": "execute_result"
    }
   ],
   "source": [
    "training_dataset_df.dtypes"
   ]
  },
  {
   "cell_type": "markdown",
   "id": "16da46f9",
   "metadata": {},
   "source": [
    "#### Section B - 2. Task"
   ]
  },
  {
   "cell_type": "markdown",
   "id": "2c6d7216",
   "metadata": {},
   "source": [
    "- apply the AdaBoost boosting algorithm\n",
    "- Use the base classifier is a simple, one-level decision tree (decision stump) (as explained on p. 303 of the textbook).\n",
    "- Determine the number of boosting rounds and show the result of each round (the probability distribution pi’s at each round, the records chosen at each round, the model (tree) obtained at each round, the ε and the α at each round), as well as the result obtained on D with the final ensemble classifier. \n",
    "- Note that the textbook uses the notation w (weight) for what we called p (probability) in the derivation we did in the lectures. (The textbook has quite a few typos!) Also, do not forget the stopping condition we discussed.\n",
    "- What is the result of running your ensemble classifier on the following test data? X = 1.0, 2.0, 3.0, 4.0, 5.0, 6.0, 7.0, 8.0, 9.0, 10.0\n",
    "\n",
    "\n",
    "Submit source code and your output (the round-wise results and the result on the test data) following the styles of Figures 4.46, 4.49, and 4.50 of the textbook."
   ]
  },
  {
   "cell_type": "markdown",
   "id": "d2d9d11f",
   "metadata": {},
   "source": [
    "**Algorithm reference from textbook and professor notes:**\n",
    "\n",
    "\n",
    "    "
   ]
  },
  {
   "cell_type": "code",
   "execution_count": 780,
   "id": "3171b1b0",
   "metadata": {},
   "outputs": [],
   "source": [
    "from sklearn.tree import DecisionTreeClassifier"
   ]
  },
  {
   "cell_type": "code",
   "execution_count": 1160,
   "id": "104f8a49",
   "metadata": {},
   "outputs": [],
   "source": [
    "# 20, 90\n",
    "np.random.seed(seed=40)\n",
    "def train_adaboost(XTRAIN, YTRAIN):\n",
    "    \n",
    "    SAMPLESIZE = len(XTRAIN)\n",
    "    # setting initial probabilities\n",
    "    samples_probabilities = np.repeat(1/SAMPLESIZE, SAMPLESIZE)\n",
    "    \n",
    "    selected_round_models = list()\n",
    "    alphas = list()\n",
    "    #yhats = np.empty((SAMPLESIZE, NROUNDS))\n",
    "    \n",
    "    curr_round = 1\n",
    "    epsilion_threshold = 0.3\n",
    "    epsilon_t_current = 1.1 # set initial error to maximum\n",
    "    \n",
    "    columns = [\"Round\"]\n",
    "    for x_train in XTRAIN:\n",
    "        columns.append(f\"x={x_train[0]}\")\n",
    "    weights_df = pd.DataFrame(columns=columns)\n",
    "        \n",
    "    while epsilon_t_current > epsilion_threshold:\n",
    "        #print(\"\\n\\nWorking on round: \", curr_round)\n",
    "\n",
    "        # a) Create a training dataset D(t) (of the same size n) by sampling (with replacement)\n",
    "        #from the distribution defined by p(t)\n",
    "        bootstrap_sample = np.random.choice(np.arange(len(XTRAIN)),\n",
    "                                               size=len(XTRAIN),\n",
    "                                               replace=True,\n",
    "                                           p=samples_probabilities)\n",
    "        \n",
    "        bootstrap_XTRAIN = XTRAIN[bootstrap_sample]\n",
    "        bootstrap_YTRAIN = YTRAIN[bootstrap_sample]\n",
    "        \n",
    "        # b) Create model M(t) using A on D(t) (e.g., if A is a decision tree induction \n",
    "        # algorithm, M(t) is a decision tree)\n",
    "        # max_depth =1 gives us decision stump\n",
    "        \n",
    "        base_classifier_t = DecisionTreeClassifier(max_depth=1)\n",
    "        base_classifier_t.fit(bootstrap_XTRAIN, bootstrap_YTRAIN,sample_weight=samples_probabilities)\n",
    "        \n",
    "        yhat_t = base_classifier_t.predict(XTRAIN)\n",
    "        # c) Calculate the error of M(t) on D (note: not on D(t))\n",
    "        epsilon_t = 0\n",
    "        for index in range(SAMPLESIZE):\n",
    "            y_i = YTRAIN[index][0]\n",
    "            yhat_t_i = yhat_t[index]\n",
    "            if y_i!= yhat_t_i:\n",
    "                # misclassification\n",
    "                epsilon_t += samples_probabilities[index]\n",
    "        epsilon_t_current = epsilon_t\n",
    "        # d) Find model M(t)’s weight: α(t) = 1 ln 1−ε(t)\n",
    "        alpha_t = 0.5 * np.log((1-epsilon_t)/epsilon_t)\n",
    "        \n",
    "        \n",
    "        #(e) if ε(t) ≥ 0.5:\n",
    "        #• Re-start the current iteration by setting t = t − 1 and re-initializing each p(t)\n",
    "        #to 1/n for i = 1,2,...,n; • Go to Step (a)\n",
    "        \n",
    "        if epsilon_t > 0.5:\n",
    "            print(f\"Epsilon is greater than 0.5, hence resetting this round\")\n",
    "            # Do not consider this round completion\n",
    "            # re-initializing each p(t) to 1/n for i = 1,2,...,n\n",
    "            samples_probabilities = np.repeat(1/SAMPLESIZE, SAMPLESIZE)\n",
    "        else:\n",
    "            # consider this round completion\n",
    "            print(f\"\\nBoosting Round {curr_round}\")\n",
    "            \n",
    "            # update the probabilities of the records in D:\n",
    "            # For i = 1,...,n and (xi,yi) ∈ D:\n",
    "            print(f\"Training records chosen during boosting round {curr_round}. First row is the original index values from the training dataset\")\n",
    "            print(training_dataset_df.loc[bootstrap_sample].T)\n",
    "            \n",
    "            \n",
    "            weights_df.loc[curr_round-1, 'Round'] = curr_round\n",
    "            for idx, prob in enumerate(samples_probabilities):\n",
    "                weights_df.loc[curr_round-1, f\"{columns[idx+1]}\"] = round(prob,2)\n",
    "                \n",
    "            \n",
    "            curr_round += 1\n",
    "            \n",
    "            \n",
    "            new_sample_probabilities = []\n",
    "            for index in range(SAMPLESIZE):\n",
    "                y_i = YTRAIN[index][0]\n",
    "                yhat_t_i = yhat_t[index]\n",
    "                if y_i!= yhat_t_i:\n",
    "                    # misclassification\n",
    "                    new_probability_for_this_index = samples_probabilities[index]/(2*epsilon_t)\n",
    "                else:\n",
    "                    # correct classification\n",
    "                    new_probability_for_this_index = samples_probabilities[index]/(2*(1-epsilon_t))\n",
    "                new_sample_probabilities.append(new_probability_for_this_index)\n",
    "            # update with new probabilities\n",
    "            samples_probabilities = new_sample_probabilities\n",
    "            # only append alphas and models here\n",
    "            alphas.append(alpha_t)\n",
    "            selected_round_models.append(base_classifier_t)\n",
    "            \n",
    "    print(\"\\n**Weights (Probabilities) of training records**\\n\")\n",
    "    print(weights_df)\n",
    "        \n",
    "    return selected_round_models, alphas\n",
    "        \n",
    "def predict_adaboost(base_models, alphas, XTEST):\n",
    "    \n",
    "    yhats = np.zeros(len(XTEST))\n",
    "    \n",
    "    for index, this_model in enumerate(base_models):\n",
    "        yhat_this_model = this_model.predict(XTEST)\n",
    "        yhats += yhat_this_model* alphas[index]\n",
    "    print(\"Prediction yhats:\")\n",
    "    print(yhats)\n",
    "    return np.sign(yhats)"
   ]
  },
  {
   "cell_type": "code",
   "execution_count": 1161,
   "id": "3395f961",
   "metadata": {},
   "outputs": [],
   "source": [
    "XTRAIN_numpy = training_dataset_df['x'].to_numpy()\n",
    "YTRAIN_numpy = training_dataset_df['y'].to_numpy()"
   ]
  },
  {
   "cell_type": "code",
   "execution_count": 1162,
   "id": "53ea0d15",
   "metadata": {},
   "outputs": [
    {
     "data": {
      "text/plain": [
       "(10, 1)"
      ]
     },
     "execution_count": 1162,
     "metadata": {},
     "output_type": "execute_result"
    }
   ],
   "source": [
    "XTRAIN_numpy = XTRAIN_numpy.reshape(-1,1)\n",
    "XTRAIN_numpy.shape"
   ]
  },
  {
   "cell_type": "code",
   "execution_count": 1163,
   "id": "aeb5e84d",
   "metadata": {},
   "outputs": [
    {
     "data": {
      "text/plain": [
       "array([[0.5],\n",
       "       [3. ],\n",
       "       [4.5],\n",
       "       [4.6],\n",
       "       [4.9],\n",
       "       [5.2],\n",
       "       [5.3],\n",
       "       [5.5],\n",
       "       [7. ],\n",
       "       [9.5]])"
      ]
     },
     "execution_count": 1163,
     "metadata": {},
     "output_type": "execute_result"
    }
   ],
   "source": [
    "XTRAIN_numpy"
   ]
  },
  {
   "cell_type": "code",
   "execution_count": 1164,
   "id": "fc188bc8",
   "metadata": {},
   "outputs": [
    {
     "data": {
      "text/plain": [
       "(10, 1)"
      ]
     },
     "execution_count": 1164,
     "metadata": {},
     "output_type": "execute_result"
    }
   ],
   "source": [
    "YTRAIN_numpy = YTRAIN_numpy.reshape(-1,1)\n",
    "YTRAIN_numpy.shape"
   ]
  },
  {
   "cell_type": "code",
   "execution_count": 1165,
   "id": "79d9976a",
   "metadata": {},
   "outputs": [
    {
     "data": {
      "text/plain": [
       "array([[0],\n",
       "       [0],\n",
       "       [1],\n",
       "       [1],\n",
       "       [1],\n",
       "       [0],\n",
       "       [0],\n",
       "       [1],\n",
       "       [0],\n",
       "       [0]])"
      ]
     },
     "execution_count": 1165,
     "metadata": {},
     "output_type": "execute_result"
    }
   ],
   "source": [
    "YTRAIN_numpy"
   ]
  },
  {
   "cell_type": "markdown",
   "id": "00cf7208",
   "metadata": {},
   "source": [
    "#### ADABOOST TRAINING"
   ]
  },
  {
   "cell_type": "code",
   "execution_count": 1166,
   "id": "a1f7f87f",
   "metadata": {},
   "outputs": [
    {
     "name": "stdout",
     "output_type": "stream",
     "text": [
      "\n",
      "Boosting Round 1\n",
      "Training records chosen during boosting round 1. First row is the original index values from the training dataset\n",
      "     4    0    7    2    4    3    5    6    7    6\n",
      "x  4.9  0.5  5.5  4.5  4.9  4.6  5.2  5.3  5.5  5.3\n",
      "y  1.0  0.0  1.0  1.0  1.0  1.0  0.0  0.0  1.0  0.0\n",
      "\n",
      "Boosting Round 2\n",
      "Training records chosen during boosting round 2. First row is the original index values from the training dataset\n",
      "     4    7    3    1    1    2    9    8    7    3\n",
      "x  4.9  5.5  4.6  3.0  3.0  4.5  9.5  7.0  5.5  4.6\n",
      "y  1.0  1.0  1.0  0.0  0.0  1.0  0.0  0.0  1.0  1.0\n",
      "Epsilon is greater than 0.5, hence resetting this round\n",
      "\n",
      "Boosting Round 3\n",
      "Training records chosen during boosting round 3. First row is the original index values from the training dataset\n",
      "     7    9    6    8    9    0    5    2    7    0\n",
      "x  5.5  9.5  5.3  7.0  9.5  0.5  5.2  4.5  5.5  0.5\n",
      "y  1.0  0.0  0.0  0.0  0.0  0.0  0.0  1.0  1.0  0.0\n",
      "\n",
      "Boosting Round 4\n",
      "Training records chosen during boosting round 4. First row is the original index values from the training dataset\n",
      "     9    2    6    7    0    5    6    8    9    8\n",
      "x  9.5  4.5  5.3  5.5  0.5  5.2  5.3  7.0  9.5  7.0\n",
      "y  0.0  1.0  0.0  1.0  0.0  0.0  0.0  0.0  0.0  0.0\n",
      "\n",
      "Boosting Round 5\n",
      "Training records chosen during boosting round 5. First row is the original index values from the training dataset\n",
      "     2    1    8    5    4    2    7    5    2    0\n",
      "x  4.5  3.0  7.0  5.2  4.9  4.5  5.5  5.2  4.5  0.5\n",
      "y  1.0  0.0  0.0  0.0  1.0  1.0  1.0  0.0  1.0  0.0\n",
      "\n",
      "**Weights (Probabilities) of training records**\n",
      "\n",
      "  Round x=0.5 x=3.0 x=4.5 x=4.6 x=4.9 x=5.2 x=5.3 x=5.5 x=7.0 x=9.5\n",
      "0     1   0.1   0.1   0.1   0.1   0.1   0.1   0.1   0.1   0.1   0.1\n",
      "1     2  0.17  0.17  0.07  0.07  0.07  0.07  0.07  0.17  0.07  0.07\n",
      "2     3   0.1   0.1   0.1   0.1   0.1   0.1   0.1   0.1   0.1   0.1\n",
      "3     4  0.08  0.08  0.12  0.12  0.12  0.08  0.08  0.12  0.08  0.08\n",
      "4     5  0.08  0.08  0.12  0.12  0.12  0.08  0.08  0.12  0.08  0.08\n"
     ]
    }
   ],
   "source": [
    "selected_round_models, alphas = train_adaboost(XTRAIN_numpy, YTRAIN_numpy)"
   ]
  },
  {
   "cell_type": "markdown",
   "id": "683d262e",
   "metadata": {},
   "source": [
    "#### ADABOOST PREDICTIONS"
   ]
  },
  {
   "cell_type": "code",
   "execution_count": 1167,
   "id": "e7110a4f",
   "metadata": {},
   "outputs": [
    {
     "name": "stdout",
     "output_type": "stream",
     "text": [
      "Prediction yhats:\n",
      "[0.91495562 0.91495562 0.91495562 0.91495562 0.91495562 0.04765509\n",
      " 0.         0.         0.         0.        ]\n"
     ]
    }
   ],
   "source": [
    "y_predictions = predict_adaboost(selected_round_models, alphas, np.array(X_test).reshape(-1,1))"
   ]
  },
  {
   "cell_type": "code",
   "execution_count": 1168,
   "id": "21884fc1",
   "metadata": {},
   "outputs": [
    {
     "data": {
      "text/plain": [
       "array([1., 1., 1., 1., 1., 1., 0., 0., 0., 0.])"
      ]
     },
     "execution_count": 1168,
     "metadata": {},
     "output_type": "execute_result"
    }
   ],
   "source": [
    "y_predictions"
   ]
  },
  {
   "cell_type": "code",
   "execution_count": 1169,
   "id": "fa16be49",
   "metadata": {},
   "outputs": [
    {
     "data": {
      "text/plain": [
       "array(['+', '+', '+', '+', '+', '+', '-', '-', '-', '-'], dtype='<U1')"
      ]
     },
     "execution_count": 1169,
     "metadata": {},
     "output_type": "execute_result"
    }
   ],
   "source": [
    "# Replace predictions with actual class values\n",
    "np.where(y_predictions > 0, '+' , '-' )"
   ]
  }
 ],
 "metadata": {
  "kernelspec": {
   "display_name": "Python 3",
   "language": "python",
   "name": "python3"
  },
  "language_info": {
   "codemirror_mode": {
    "name": "ipython",
    "version": 3
   },
   "file_extension": ".py",
   "mimetype": "text/x-python",
   "name": "python",
   "nbconvert_exporter": "python",
   "pygments_lexer": "ipython3",
   "version": "3.8.8"
  }
 },
 "nbformat": 4,
 "nbformat_minor": 5
}
